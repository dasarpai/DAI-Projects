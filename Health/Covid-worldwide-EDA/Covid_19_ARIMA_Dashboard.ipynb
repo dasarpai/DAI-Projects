{
 "cells": [
  {
   "cell_type": "markdown",
   "metadata": {},
   "source": [
    "# Milestone 3 - Time Series Forecasting"
   ]
  },
  {
   "cell_type": "code",
   "execution_count": 3,
   "metadata": {},
   "outputs": [],
   "source": [
    "from __future__ import print_function\n",
    "from ipywidgets import interact, interactive, fixed, interact_manual\n",
    "from IPython.core.display import display, HTML\n",
    "import plotly.express as px\n",
    "import plotly.tools as tls\n",
    "import folium\n",
    "import plotly.graph_objects as go\n",
    "import ipywidgets as widgets\n",
    "import statsmodels.api as sm\n",
    "from statsmodels.tsa.stattools import adfuller, acf, pacf,arma_order_select_ic\n",
    "from statsmodels.graphics.tsaplots import plot_acf, plot_pacf\n",
    "from statsmodels.tsa.arima_model import ARIMA\n",
    "from statsmodels.tsa.statespace.sarimax import SARIMAX\n",
    "import datetime\n",
    "from dateutil.parser import parse as  date_parser\n",
    "import numpy as np\n",
    "import pandas as pd\n",
    "import itertools\n",
    "import seaborn as sns\n",
    "import matplotlib.pyplot as plt\n",
    "import threading\n",
    "import time\n",
    "import warnings\n",
    "warnings.simplefilter('ignore')\n",
    "%matplotlib inline"
   ]
  },
  {
   "cell_type": "markdown",
   "metadata": {},
   "source": [
    "#### Importing daily timeseries Global dataset\n",
    "  - Using pandas read_csv function to get dataset "
   ]
  },
  {
   "cell_type": "code",
   "execution_count": 4,
   "metadata": {},
   "outputs": [],
   "source": [
    "df = pd.read_csv (r'https://raw.githubusercontent.com/CSSEGISandData/COVID-19/master/csse_covid_19_data/csse_covid_19_time_series/time_series_covid19_confirmed_global.csv')"
   ]
  },
  {
   "cell_type": "markdown",
   "metadata": {},
   "source": [
    "#### Droping Unnecessary column from dataset\n",
    "  - Using df.drop to drop the columns"
   ]
  },
  {
   "cell_type": "code",
   "execution_count": 5,
   "metadata": {},
   "outputs": [],
   "source": [
    "df=df.drop(columns=['Province/State','Lat','Long'])"
   ]
  },
  {
   "cell_type": "markdown",
   "metadata": {},
   "source": [
    "#### Grouping the data by country\n",
    "  - Using df.groupby to group the cells by country and perform sum"
   ]
  },
  {
   "cell_type": "code",
   "execution_count": 6,
   "metadata": {},
   "outputs": [],
   "source": [
    "df=df.groupby(['Country/Region']).sum().copy()"
   ]
  },
  {
   "cell_type": "code",
   "execution_count": 7,
   "metadata": {},
   "outputs": [],
   "source": [
    "countries=list(df.index.values)\n",
    "countries.insert(0,'World')"
   ]
  },
  {
   "cell_type": "markdown",
   "metadata": {},
   "source": [
    "### Prediction Function \n",
    "  - Country is provided as Argument\n",
    "  - Train Test split is performed in the ratio 95:5 respectively\n",
    "  ###### ARIMA\n",
    "      - In arima function first the p,d,q are set from a range 0 to 8 \n",
    "      - Best value of pdq is chosen by iterating and performing the model and comparing the results\n",
    "      - The best value of pdq is supplied to the model\n",
    "      - plot_predict() is used to forecast the value of confirmed cases in the coming month\n",
    "      - Plot are shown using Plotly"
   ]
  },
  {
   "cell_type": "code",
   "execution_count": 8,
   "metadata": {},
   "outputs": [],
   "source": [
    "\n",
    "def prediction_plots(country):\n",
    "\n",
    "    def data(country):\n",
    "        try:\n",
    "            if(country=='World'):\n",
    "                data=df.sum(axis = 0, skipna = True)\n",
    "                data=pd.DataFrame(data)\n",
    "                data.columns=['World']\n",
    "            else:\n",
    "                data=df.loc[country]\n",
    "                data=pd.DataFrame(data)\n",
    "        except:\n",
    "            pass\n",
    "        return data\n",
    "\n",
    "    def mape(y1, y_pred): \n",
    "        y1, y_pred = np.array(y1), np.array(y_pred)\n",
    "        return np.mean(np.abs((y1 - y_pred) / y1)) * 100\n",
    "\n",
    "    def split(ts):\n",
    "        #splitting 95%/5% because of little amount of data\n",
    "        size = int(len(ts) * 0.95)\n",
    "        train= ts[:size]\n",
    "        test = ts[size:]\n",
    "        return(train,test)\n",
    "\n",
    "\n",
    "    #Arima modeling for ts\n",
    "    def arima(ts,test):\n",
    "        p=d=q=range(0,8)\n",
    "        a=99999\n",
    "        pdq=list(itertools.product(p,d,q))\n",
    "        \n",
    "        # PROGRESS BAR WIDGET\n",
    "        \n",
    "        progress = widgets.FloatProgress(value=0.0, min=0.0, max=1.0, description='Loading: ')\n",
    "        finished = False\n",
    "        \n",
    "        def work(progress):\n",
    "            total = len(pdq)\n",
    "            for i in range(total):\n",
    "                if finished != True:\n",
    "                    time.sleep(0.2)\n",
    "                    progress.value = float(i+1)/len(pdq)\n",
    "                else:\n",
    "                    progress.value = len(pdq)\n",
    "                    break\n",
    "\n",
    "        thread = threading.Thread(target=work, args=(progress,))\n",
    "        display(progress)\n",
    "        # Start the progress bar thread\n",
    "        thread.start()\n",
    "\n",
    "        # Determining the best parameters\n",
    "        for var in pdq:\n",
    "            \n",
    "            try:\n",
    "                \n",
    "                model = ARIMA(ts, order=var)\n",
    "                result = model.fit()\n",
    "                \n",
    "                if (result.aic<=a) :\n",
    "                    a=result.aic\n",
    "                    param=var\n",
    "                    \n",
    "            except:\n",
    "                continue\n",
    "                \n",
    "        model = ARIMA(ts, order=param)\n",
    "        result = model.fit()\n",
    "        finished = True\n",
    "\n",
    "        # Forecast CURVE\n",
    "        fig = result.plot_predict(start=int(len(ts) * 0.5), end=int(len(ts) * 1.2))\n",
    "        fig.set_size_inches(12, 6)\n",
    "        ax_list = fig.axes\n",
    "        pred = result.forecast(steps=len(test))[0]    \n",
    "#         for ax in ax_list:\n",
    "#             ax.get_legend().remove()\n",
    "#         plotly_fig= tls.mpl_to_plotly(fig)\n",
    "\n",
    "#         legend = go.layout.Legend(\n",
    "#             x=0.05,\n",
    "#             y=0.95\n",
    "#         )\n",
    "#         plotly_fig.update_layout(title=\"Forecast: COVID 19 cases of \" + country, xaxis_title='Date',\n",
    "#         yaxis_title='No. of Confirmed Cases',\n",
    "#         margin=dict(l=20, r=20, t=40, b=20),\n",
    "#         paper_bgcolor=\"lightgrey\",\n",
    "#         width = 800, showlegend=True)\n",
    "#         plotly_fig.show()\n",
    "        \n",
    "        # TEST VS PREDICTION Curve\n",
    "        \n",
    "        plotly_figs = go.Figure()\n",
    "        plotly_figs.add_trace(go.Scatter(x=test.index.values, y=test[country],\n",
    "                    mode='lines',\n",
    "                    name='real values'))\n",
    "        \n",
    "        plotly_figs.add_trace(go.Scatter(x=test.index.values, y=pred,\n",
    "                    mode='lines',\n",
    "                    name='predictions'))\n",
    "        \n",
    "        \n",
    "        plotly_figs.update_layout(title=\"Prediction : COVID 19 cases of \" + country, xaxis_title='Date',\n",
    "        yaxis_title='No. of Confirmed Cases',\n",
    "        margin=dict(l=20, r=20, t=40, b=20),\n",
    "        paper_bgcolor=\"lightgrey\",\n",
    "        width = 800, showlegend=True\n",
    "        )\n",
    "        \n",
    "        plotly_figs.show()\n",
    "\n",
    "    train,test=split(data(country))\n",
    "\n",
    "    arima(train,test)\n",
    "\n",
    "    "
   ]
  },
  {
   "cell_type": "markdown",
   "metadata": {},
   "source": [
    "#### Using Interactive Ipython widgets\n",
    "  - Ipython widgets are used to make the response of arima function responsive according to user input.\n",
    "  - Progress bar shows the progress of training process."
   ]
  },
  {
   "cell_type": "code",
   "execution_count": 9,
   "metadata": {},
   "outputs": [
    {
     "data": {
      "application/vnd.jupyter.widget-view+json": {
       "model_id": "21098d3c5711449eb1df2a6dc5bd16a7",
       "version_major": 2,
       "version_minor": 0
      },
      "text/plain": [
       "interactive(children=(Dropdown(description='country', options=('World', 'Afghanistan', 'Albania', 'Algeria', '…"
      ]
     },
     "metadata": {},
     "output_type": "display_data"
    },
    {
     "data": {
      "application/vnd.jupyter.widget-view+json": {
       "model_id": "554632eb7c16470381c78336e96eed6e",
       "version_major": 2,
       "version_minor": 0
      },
      "text/plain": [
       "VBox(children=(FigureWidget({\n",
       "    'data': [], 'layout': {'template': '...'}\n",
       "}),), layout=Layout(border='solid …"
      ]
     },
     "metadata": {},
     "output_type": "display_data"
    }
   ],
   "source": [
    "interact(prediction_plots, country=countries)\n",
    "fig = go.FigureWidget( layout=go.Layout() )\n",
    "ipywLayout = widgets.Layout(border='solid 2px green')\n",
    "ipywLayout.display='none' # uncomment this, run cell again - then the graph/figure disappears\n",
    "widgets.VBox([fig], layout=ipywLayout)"
   ]
  },
  {
   "cell_type": "code",
   "execution_count": null,
   "metadata": {},
   "outputs": [],
   "source": []
  }
 ],
 "metadata": {
  "kernelspec": {
   "display_name": "Python [conda env:env1]",
   "language": "python",
   "name": "conda-env-env1-py"
  },
  "language_info": {
   "codemirror_mode": {
    "name": "ipython",
    "version": 3
   },
   "file_extension": ".py",
   "mimetype": "text/x-python",
   "name": "python",
   "nbconvert_exporter": "python",
   "pygments_lexer": "ipython3",
   "version": "3.8.8"
  }
 },
 "nbformat": 4,
 "nbformat_minor": 2
}
