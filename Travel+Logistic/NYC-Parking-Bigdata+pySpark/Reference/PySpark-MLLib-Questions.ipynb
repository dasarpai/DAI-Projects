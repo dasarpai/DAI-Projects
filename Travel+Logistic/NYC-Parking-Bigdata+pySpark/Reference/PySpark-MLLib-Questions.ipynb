{
 "cells": [
  {
   "cell_type": "code",
   "execution_count": 156,
   "metadata": {},
   "outputs": [],
   "source": [
    "#https://towardsdatascience.com/building-a-linear-regression-with-pyspark-and-mllib-d065c3ba246a"
   ]
  },
  {
   "cell_type": "code",
   "execution_count": 1,
   "metadata": {},
   "outputs": [],
   "source": [
    "from pyspark.sql import SparkSession\n",
    "spark = SparkSession.builder.appName(\"ml\").getOrCreate()"
   ]
  },
  {
   "cell_type": "code",
   "execution_count": 2,
   "metadata": {},
   "outputs": [],
   "source": [
    "df = spark.read.csv(\"/common_folder/heart.csv\",header=True)"
   ]
  },
  {
   "cell_type": "code",
   "execution_count": 3,
   "metadata": {},
   "outputs": [
    {
     "name": "stdout",
     "output_type": "stream",
     "text": [
      "+---+---+---------+---+----------+---+-----------+--------------+---------------+-------------+--------+--------------------+----+-------------+----+\n",
      "|age|sex|pain type| BP|cholestrol|fbs|resting ecg|max heart rate|exercise angina|ST depression|ST slope|flouroscopy coloured|thal|heart disease|_c14|\n",
      "+---+---+---------+---+----------+---+-----------+--------------+---------------+-------------+--------+--------------------+----+-------------+----+\n",
      "| 70|  1|        4|130|       322|  0|          2|           109|              0|          2.4|       2|                   3|   3|            2|null|\n",
      "| 67|  0|        3|115|       564|  0|          2|           160|              0|          1.6|       2|                   0|   7|            1|null|\n",
      "| 57|  1|        2|124|       261|  0|          0|           141|              0|          0.3|       1|                   0|   7|            2|null|\n",
      "| 64|  1|        4|128|       263|  0|          0|           105|              1|          0.2|       2|                   1|   7|            1|null|\n",
      "| 74|  0|        2|120|       269|  0|          2|           121|              1|          0.2|       1|                   1|   3|            1|null|\n",
      "+---+---+---------+---+----------+---+-----------+--------------+---------------+-------------+--------+--------------------+----+-------------+----+\n",
      "only showing top 5 rows\n",
      "\n"
     ]
    }
   ],
   "source": [
    "df.show(5)"
   ]
  },
  {
   "cell_type": "code",
   "execution_count": 4,
   "metadata": {},
   "outputs": [],
   "source": [
    "from pyspark.sql.functions import min, max"
   ]
  },
  {
   "cell_type": "code",
   "execution_count": 5,
   "metadata": {},
   "outputs": [],
   "source": [
    "#6 Now, create a new DataFrame with only the 'age' column from the original DataFrame. Save it to a variable, say 'heart_age'."
   ]
  },
  {
   "cell_type": "code",
   "execution_count": 6,
   "metadata": {},
   "outputs": [],
   "source": [
    "df.createOrReplaceTempView(\"dfTable\")"
   ]
  },
  {
   "cell_type": "code",
   "execution_count": 13,
   "metadata": {},
   "outputs": [],
   "source": [
    "df2=spark.sql(\"SELECT age  FROM dfTable\")"
   ]
  },
  {
   "cell_type": "code",
   "execution_count": 26,
   "metadata": {},
   "outputs": [
    {
     "name": "stdout",
     "output_type": "stream",
     "text": [
      "+---+----+\n",
      "|age|age2|\n",
      "+---+----+\n",
      "| 70|  70|\n",
      "| 67|  67|\n",
      "| 57|  57|\n",
      "| 64|  64|\n",
      "| 74|  74|\n",
      "| 65|  65|\n",
      "| 56|  56|\n",
      "| 59|  59|\n",
      "| 60|  60|\n",
      "| 63|  63|\n",
      "| 59|  59|\n",
      "| 53|  53|\n",
      "| 44|  44|\n",
      "| 61|  61|\n",
      "| 57|  57|\n",
      "| 71|  71|\n",
      "| 46|  46|\n",
      "| 53|  53|\n",
      "| 64|  64|\n",
      "| 40|  40|\n",
      "+---+----+\n",
      "only showing top 20 rows\n",
      "\n"
     ]
    }
   ],
   "source": [
    "\n",
    "df3=df2.withColumn(\"age2\", df2[\"age\"].cast(\"Int\"))\n",
    "df3.show()"
   ]
  },
  {
   "cell_type": "code",
   "execution_count": 15,
   "metadata": {},
   "outputs": [],
   "source": [
    "#7 Now we need to bucket these age groups to four different buckets. \n",
    "#The range will be defined by [29, 40, 50, 60, 70, 80]. You need to use the following function\n",
    "#from pyspark.ml.feature import Bucketizer"
   ]
  },
  {
   "cell_type": "code",
   "execution_count": 18,
   "metadata": {},
   "outputs": [],
   "source": [
    "from pyspark.ml.feature import Bucketizer"
   ]
  },
  {
   "cell_type": "code",
   "execution_count": 50,
   "metadata": {},
   "outputs": [],
   "source": [
    "bucketizer = Bucketizer(splits=[29, 40, 50, 60, 70, 80], inputCol=\"age2\", outputCol=\"buckets\")\n",
    "bucketed = bucketizer.transform(df3)\n"
   ]
  },
  {
   "cell_type": "code",
   "execution_count": 72,
   "metadata": {},
   "outputs": [
    {
     "name": "stdout",
     "output_type": "stream",
     "text": [
      "+-------+-----+\n",
      "|buckets|count|\n",
      "+-------+-----+\n",
      "|    0.0|   12|\n",
      "|    1.0|   67|\n",
      "|    4.0|   10|\n",
      "|    3.0|   74|\n",
      "|    2.0|  107|\n",
      "+-------+-----+\n",
      "\n"
     ]
    }
   ],
   "source": [
    "#What is the count of observations for each bucket? To answer this, you need to use the group by and aggregate functions.\n",
    "\n",
    "#bucketed.crosstab(\"age2\",\"buckets\").show()\n",
    "bucketed.groupBy(\"buckets\").count().show()"
   ]
  },
  {
   "cell_type": "code",
   "execution_count": 62,
   "metadata": {},
   "outputs": [
    {
     "name": "stdout",
     "output_type": "stream",
     "text": [
      "Bucketizer output with 5 buckets\n",
      "+---+----+-------+\n",
      "|age|age2|buckets|\n",
      "+---+----+-------+\n",
      "| 70|  70|    4.0|\n",
      "| 67|  67|    3.0|\n",
      "| 57|  57|    2.0|\n",
      "| 64|  64|    3.0|\n",
      "| 74|  74|    4.0|\n",
      "| 65|  65|    3.0|\n",
      "| 56|  56|    2.0|\n",
      "| 59|  59|    2.0|\n",
      "| 60|  60|    3.0|\n",
      "| 63|  63|    3.0|\n",
      "| 59|  59|    2.0|\n",
      "| 53|  53|    2.0|\n",
      "| 44|  44|    1.0|\n",
      "| 61|  61|    3.0|\n",
      "| 57|  57|    2.0|\n",
      "| 71|  71|    4.0|\n",
      "| 46|  46|    1.0|\n",
      "| 53|  53|    2.0|\n",
      "| 64|  64|    3.0|\n",
      "| 40|  40|    1.0|\n",
      "+---+----+-------+\n",
      "only showing top 20 rows\n",
      "\n"
     ]
    }
   ],
   "source": [
    "print(\"Bucketizer output with %d buckets\" % (len(bucketizer.getSplits())-1))\n",
    "bucketed.show()"
   ]
  },
  {
   "cell_type": "code",
   "execution_count": 164,
   "metadata": {},
   "outputs": [
    {
     "data": {
      "text/plain": [
       "[Row(age='29', age2=29, buckets=0.0),\n",
       " Row(age='34', age2=34, buckets=0.0),\n",
       " Row(age='34', age2=34, buckets=0.0),\n",
       " Row(age='35', age2=35, buckets=0.0),\n",
       " Row(age='35', age2=35, buckets=0.0),\n",
       " Row(age='35', age2=35, buckets=0.0),\n",
       " Row(age='37', age2=37, buckets=0.0),\n",
       " Row(age='37', age2=37, buckets=0.0),\n",
       " Row(age='38', age2=38, buckets=0.0),\n",
       " Row(age='39', age2=39, buckets=0.0),\n",
       " Row(age='39', age2=39, buckets=0.0),\n",
       " Row(age='39', age2=39, buckets=0.0),\n",
       " Row(age='40', age2=40, buckets=1.0),\n",
       " Row(age='40', age2=40, buckets=1.0),\n",
       " Row(age='40', age2=40, buckets=1.0),\n",
       " Row(age='41', age2=41, buckets=1.0),\n",
       " Row(age='41', age2=41, buckets=1.0),\n",
       " Row(age='41', age2=41, buckets=1.0),\n",
       " Row(age='41', age2=41, buckets=1.0),\n",
       " Row(age='41', age2=41, buckets=1.0),\n",
       " Row(age='41', age2=41, buckets=1.0),\n",
       " Row(age='41', age2=41, buckets=1.0),\n",
       " Row(age='41', age2=41, buckets=1.0),\n",
       " Row(age='41', age2=41, buckets=1.0),\n",
       " Row(age='42', age2=42, buckets=1.0),\n",
       " Row(age='42', age2=42, buckets=1.0),\n",
       " Row(age='42', age2=42, buckets=1.0),\n",
       " Row(age='42', age2=42, buckets=1.0),\n",
       " Row(age='42', age2=42, buckets=1.0),\n",
       " Row(age='42', age2=42, buckets=1.0),\n",
       " Row(age='42', age2=42, buckets=1.0),\n",
       " Row(age='42', age2=42, buckets=1.0),\n",
       " Row(age='43', age2=43, buckets=1.0),\n",
       " Row(age='43', age2=43, buckets=1.0),\n",
       " Row(age='43', age2=43, buckets=1.0),\n",
       " Row(age='43', age2=43, buckets=1.0),\n",
       " Row(age='43', age2=43, buckets=1.0),\n",
       " Row(age='43', age2=43, buckets=1.0),\n",
       " Row(age='43', age2=43, buckets=1.0),\n",
       " Row(age='44', age2=44, buckets=1.0),\n",
       " Row(age='44', age2=44, buckets=1.0),\n",
       " Row(age='44', age2=44, buckets=1.0),\n",
       " Row(age='44', age2=44, buckets=1.0),\n",
       " Row(age='44', age2=44, buckets=1.0),\n",
       " Row(age='44', age2=44, buckets=1.0),\n",
       " Row(age='44', age2=44, buckets=1.0),\n",
       " Row(age='44', age2=44, buckets=1.0),\n",
       " Row(age='44', age2=44, buckets=1.0),\n",
       " Row(age='44', age2=44, buckets=1.0),\n",
       " Row(age='45', age2=45, buckets=1.0),\n",
       " Row(age='45', age2=45, buckets=1.0),\n",
       " Row(age='45', age2=45, buckets=1.0),\n",
       " Row(age='45', age2=45, buckets=1.0),\n",
       " Row(age='45', age2=45, buckets=1.0),\n",
       " Row(age='45', age2=45, buckets=1.0),\n",
       " Row(age='45', age2=45, buckets=1.0),\n",
       " Row(age='46', age2=46, buckets=1.0),\n",
       " Row(age='46', age2=46, buckets=1.0),\n",
       " Row(age='46', age2=46, buckets=1.0),\n",
       " Row(age='46', age2=46, buckets=1.0),\n",
       " Row(age='46', age2=46, buckets=1.0),\n",
       " Row(age='46', age2=46, buckets=1.0),\n",
       " Row(age='46', age2=46, buckets=1.0),\n",
       " Row(age='47', age2=47, buckets=1.0),\n",
       " Row(age='47', age2=47, buckets=1.0),\n",
       " Row(age='47', age2=47, buckets=1.0),\n",
       " Row(age='47', age2=47, buckets=1.0),\n",
       " Row(age='48', age2=48, buckets=1.0),\n",
       " Row(age='48', age2=48, buckets=1.0),\n",
       " Row(age='48', age2=48, buckets=1.0),\n",
       " Row(age='48', age2=48, buckets=1.0),\n",
       " Row(age='48', age2=48, buckets=1.0),\n",
       " Row(age='48', age2=48, buckets=1.0),\n",
       " Row(age='48', age2=48, buckets=1.0),\n",
       " Row(age='49', age2=49, buckets=1.0),\n",
       " Row(age='49', age2=49, buckets=1.0),\n",
       " Row(age='49', age2=49, buckets=1.0),\n",
       " Row(age='49', age2=49, buckets=1.0),\n",
       " Row(age='49', age2=49, buckets=1.0),\n",
       " Row(age='50', age2=50, buckets=2.0),\n",
       " Row(age='50', age2=50, buckets=2.0),\n",
       " Row(age='50', age2=50, buckets=2.0),\n",
       " Row(age='50', age2=50, buckets=2.0),\n",
       " Row(age='50', age2=50, buckets=2.0),\n",
       " Row(age='50', age2=50, buckets=2.0),\n",
       " Row(age='50', age2=50, buckets=2.0),\n",
       " Row(age='51', age2=51, buckets=2.0),\n",
       " Row(age='51', age2=51, buckets=2.0),\n",
       " Row(age='51', age2=51, buckets=2.0),\n",
       " Row(age='51', age2=51, buckets=2.0),\n",
       " Row(age='51', age2=51, buckets=2.0),\n",
       " Row(age='51', age2=51, buckets=2.0),\n",
       " Row(age='51', age2=51, buckets=2.0),\n",
       " Row(age='51', age2=51, buckets=2.0),\n",
       " Row(age='51', age2=51, buckets=2.0),\n",
       " Row(age='51', age2=51, buckets=2.0),\n",
       " Row(age='51', age2=51, buckets=2.0),\n",
       " Row(age='51', age2=51, buckets=2.0),\n",
       " Row(age='52', age2=52, buckets=2.0),\n",
       " Row(age='52', age2=52, buckets=2.0),\n",
       " Row(age='52', age2=52, buckets=2.0),\n",
       " Row(age='52', age2=52, buckets=2.0),\n",
       " Row(age='52', age2=52, buckets=2.0),\n",
       " Row(age='52', age2=52, buckets=2.0),\n",
       " Row(age='52', age2=52, buckets=2.0),\n",
       " Row(age='52', age2=52, buckets=2.0),\n",
       " Row(age='52', age2=52, buckets=2.0),\n",
       " Row(age='52', age2=52, buckets=2.0),\n",
       " Row(age='52', age2=52, buckets=2.0),\n",
       " Row(age='53', age2=53, buckets=2.0),\n",
       " Row(age='53', age2=53, buckets=2.0),\n",
       " Row(age='53', age2=53, buckets=2.0),\n",
       " Row(age='53', age2=53, buckets=2.0),\n",
       " Row(age='53', age2=53, buckets=2.0),\n",
       " Row(age='53', age2=53, buckets=2.0),\n",
       " Row(age='53', age2=53, buckets=2.0),\n",
       " Row(age='54', age2=54, buckets=2.0),\n",
       " Row(age='54', age2=54, buckets=2.0),\n",
       " Row(age='54', age2=54, buckets=2.0),\n",
       " Row(age='54', age2=54, buckets=2.0),\n",
       " Row(age='54', age2=54, buckets=2.0),\n",
       " Row(age='54', age2=54, buckets=2.0),\n",
       " Row(age='54', age2=54, buckets=2.0),\n",
       " Row(age='54', age2=54, buckets=2.0),\n",
       " Row(age='54', age2=54, buckets=2.0),\n",
       " Row(age='54', age2=54, buckets=2.0),\n",
       " Row(age='54', age2=54, buckets=2.0),\n",
       " Row(age='54', age2=54, buckets=2.0),\n",
       " Row(age='54', age2=54, buckets=2.0),\n",
       " Row(age='54', age2=54, buckets=2.0),\n",
       " Row(age='54', age2=54, buckets=2.0),\n",
       " Row(age='54', age2=54, buckets=2.0),\n",
       " Row(age='55', age2=55, buckets=2.0),\n",
       " Row(age='55', age2=55, buckets=2.0),\n",
       " Row(age='55', age2=55, buckets=2.0),\n",
       " Row(age='55', age2=55, buckets=2.0),\n",
       " Row(age='55', age2=55, buckets=2.0),\n",
       " Row(age='55', age2=55, buckets=2.0),\n",
       " Row(age='56', age2=56, buckets=2.0),\n",
       " Row(age='56', age2=56, buckets=2.0),\n",
       " Row(age='56', age2=56, buckets=2.0),\n",
       " Row(age='56', age2=56, buckets=2.0),\n",
       " Row(age='56', age2=56, buckets=2.0),\n",
       " Row(age='56', age2=56, buckets=2.0),\n",
       " Row(age='56', age2=56, buckets=2.0),\n",
       " Row(age='56', age2=56, buckets=2.0),\n",
       " Row(age='56', age2=56, buckets=2.0),\n",
       " Row(age='57', age2=57, buckets=2.0),\n",
       " Row(age='57', age2=57, buckets=2.0),\n",
       " Row(age='57', age2=57, buckets=2.0),\n",
       " Row(age='57', age2=57, buckets=2.0),\n",
       " Row(age='57', age2=57, buckets=2.0),\n",
       " Row(age='57', age2=57, buckets=2.0),\n",
       " Row(age='57', age2=57, buckets=2.0),\n",
       " Row(age='57', age2=57, buckets=2.0),\n",
       " Row(age='57', age2=57, buckets=2.0),\n",
       " Row(age='57', age2=57, buckets=2.0),\n",
       " Row(age='57', age2=57, buckets=2.0),\n",
       " Row(age='57', age2=57, buckets=2.0),\n",
       " Row(age='58', age2=58, buckets=2.0),\n",
       " Row(age='58', age2=58, buckets=2.0),\n",
       " Row(age='58', age2=58, buckets=2.0),\n",
       " Row(age='58', age2=58, buckets=2.0),\n",
       " Row(age='58', age2=58, buckets=2.0),\n",
       " Row(age='58', age2=58, buckets=2.0),\n",
       " Row(age='58', age2=58, buckets=2.0),\n",
       " Row(age='58', age2=58, buckets=2.0),\n",
       " Row(age='58', age2=58, buckets=2.0),\n",
       " Row(age='58', age2=58, buckets=2.0),\n",
       " Row(age='58', age2=58, buckets=2.0),\n",
       " Row(age='58', age2=58, buckets=2.0),\n",
       " Row(age='58', age2=58, buckets=2.0),\n",
       " Row(age='58', age2=58, buckets=2.0),\n",
       " Row(age='58', age2=58, buckets=2.0),\n",
       " Row(age='59', age2=59, buckets=2.0),\n",
       " Row(age='59', age2=59, buckets=2.0),\n",
       " Row(age='59', age2=59, buckets=2.0),\n",
       " Row(age='59', age2=59, buckets=2.0),\n",
       " Row(age='59', age2=59, buckets=2.0),\n",
       " Row(age='59', age2=59, buckets=2.0),\n",
       " Row(age='59', age2=59, buckets=2.0),\n",
       " Row(age='59', age2=59, buckets=2.0),\n",
       " Row(age='59', age2=59, buckets=2.0),\n",
       " Row(age='59', age2=59, buckets=2.0),\n",
       " Row(age='59', age2=59, buckets=2.0),\n",
       " Row(age='59', age2=59, buckets=2.0),\n",
       " Row(age='60', age2=60, buckets=3.0),\n",
       " Row(age='60', age2=60, buckets=3.0),\n",
       " Row(age='60', age2=60, buckets=3.0),\n",
       " Row(age='60', age2=60, buckets=3.0),\n",
       " Row(age='60', age2=60, buckets=3.0),\n",
       " Row(age='60', age2=60, buckets=3.0),\n",
       " Row(age='60', age2=60, buckets=3.0),\n",
       " Row(age='60', age2=60, buckets=3.0),\n",
       " Row(age='60', age2=60, buckets=3.0),\n",
       " Row(age='60', age2=60, buckets=3.0),\n",
       " Row(age='60', age2=60, buckets=3.0),\n",
       " Row(age='60', age2=60, buckets=3.0),\n",
       " Row(age='61', age2=61, buckets=3.0),\n",
       " Row(age='61', age2=61, buckets=3.0),\n",
       " Row(age='61', age2=61, buckets=3.0),\n",
       " Row(age='61', age2=61, buckets=3.0),\n",
       " Row(age='61', age2=61, buckets=3.0),\n",
       " Row(age='61', age2=61, buckets=3.0),\n",
       " Row(age='61', age2=61, buckets=3.0),\n",
       " Row(age='62', age2=62, buckets=3.0),\n",
       " Row(age='62', age2=62, buckets=3.0),\n",
       " Row(age='62', age2=62, buckets=3.0),\n",
       " Row(age='62', age2=62, buckets=3.0),\n",
       " Row(age='62', age2=62, buckets=3.0),\n",
       " Row(age='62', age2=62, buckets=3.0),\n",
       " Row(age='62', age2=62, buckets=3.0),\n",
       " Row(age='62', age2=62, buckets=3.0),\n",
       " Row(age='62', age2=62, buckets=3.0),\n",
       " Row(age='62', age2=62, buckets=3.0),\n",
       " Row(age='62', age2=62, buckets=3.0),\n",
       " Row(age='63', age2=63, buckets=3.0),\n",
       " Row(age='63', age2=63, buckets=3.0),\n",
       " Row(age='63', age2=63, buckets=3.0),\n",
       " Row(age='63', age2=63, buckets=3.0),\n",
       " Row(age='63', age2=63, buckets=3.0),\n",
       " Row(age='63', age2=63, buckets=3.0),\n",
       " Row(age='63', age2=63, buckets=3.0),\n",
       " Row(age='64', age2=64, buckets=3.0),\n",
       " Row(age='64', age2=64, buckets=3.0),\n",
       " Row(age='64', age2=64, buckets=3.0),\n",
       " Row(age='64', age2=64, buckets=3.0),\n",
       " Row(age='64', age2=64, buckets=3.0),\n",
       " Row(age='64', age2=64, buckets=3.0),\n",
       " Row(age='64', age2=64, buckets=3.0),\n",
       " Row(age='64', age2=64, buckets=3.0),\n",
       " Row(age='64', age2=64, buckets=3.0),\n",
       " Row(age='65', age2=65, buckets=3.0),\n",
       " Row(age='65', age2=65, buckets=3.0),\n",
       " Row(age='65', age2=65, buckets=3.0),\n",
       " Row(age='65', age2=65, buckets=3.0),\n",
       " Row(age='65', age2=65, buckets=3.0),\n",
       " Row(age='65', age2=65, buckets=3.0),\n",
       " Row(age='65', age2=65, buckets=3.0),\n",
       " Row(age='65', age2=65, buckets=3.0),\n",
       " Row(age='66', age2=66, buckets=3.0),\n",
       " Row(age='66', age2=66, buckets=3.0),\n",
       " Row(age='66', age2=66, buckets=3.0),\n",
       " Row(age='66', age2=66, buckets=3.0),\n",
       " Row(age='66', age2=66, buckets=3.0),\n",
       " Row(age='66', age2=66, buckets=3.0),\n",
       " Row(age='67', age2=67, buckets=3.0),\n",
       " Row(age='67', age2=67, buckets=3.0),\n",
       " Row(age='67', age2=67, buckets=3.0),\n",
       " Row(age='67', age2=67, buckets=3.0),\n",
       " Row(age='67', age2=67, buckets=3.0),\n",
       " Row(age='67', age2=67, buckets=3.0),\n",
       " Row(age='67', age2=67, buckets=3.0),\n",
       " Row(age='67', age2=67, buckets=3.0),\n",
       " Row(age='68', age2=68, buckets=3.0),\n",
       " Row(age='68', age2=68, buckets=3.0),\n",
       " Row(age='68', age2=68, buckets=3.0),\n",
       " Row(age='69', age2=69, buckets=3.0),\n",
       " Row(age='69', age2=69, buckets=3.0),\n",
       " Row(age='69', age2=69, buckets=3.0),\n",
       " Row(age='70', age2=70, buckets=4.0),\n",
       " Row(age='70', age2=70, buckets=4.0),\n",
       " Row(age='70', age2=70, buckets=4.0),\n",
       " Row(age='70', age2=70, buckets=4.0),\n",
       " Row(age='71', age2=71, buckets=4.0),\n",
       " Row(age='71', age2=71, buckets=4.0),\n",
       " Row(age='71', age2=71, buckets=4.0),\n",
       " Row(age='74', age2=74, buckets=4.0),\n",
       " Row(age='76', age2=76, buckets=4.0),\n",
       " Row(age='77', age2=77, buckets=4.0)]"
      ]
     },
     "execution_count": 164,
     "metadata": {},
     "output_type": "execute_result"
    }
   ],
   "source": [
    "bucketed.sort(bucketed.age2.asc()).collect()\n",
    "\n",
    "#df.sort(df.age.desc()).collect()"
   ]
  },
  {
   "cell_type": "code",
   "execution_count": null,
   "metadata": {},
   "outputs": [],
   "source": [
    "#9 We are now done with questions on feature transformation. \n",
    "#Let's now try to perform linear regression using the MLlib library."
   ]
  },
  {
   "cell_type": "code",
   "execution_count": 73,
   "metadata": {},
   "outputs": [],
   "source": [
    "#10 For this, we need to first load a new DataFrame, which is available at: \n",
    "#/common_folder/Advertising.csv\n",
    "df_heart = spark.read.csv(\"/common_folder/Advertising.csv\",header=True)"
   ]
  },
  {
   "cell_type": "code",
   "execution_count": 76,
   "metadata": {},
   "outputs": [
    {
     "name": "stdout",
     "output_type": "stream",
     "text": [
      "+-----+-----+---------+-----+\n",
      "|   TV|Radio|Newspaper|Sales|\n",
      "+-----+-----+---------+-----+\n",
      "|230.1| 37.8|     69.2| 22.1|\n",
      "| 44.5| 39.3|     45.1| 10.4|\n",
      "| 17.2| 45.9|     69.3|  9.3|\n",
      "|151.5| 41.3|     58.5| 18.5|\n",
      "|180.8| 10.8|     58.4| 12.9|\n",
      "|  8.7| 48.9|       75|  7.2|\n",
      "| 57.5| 32.8|     23.5| 11.8|\n",
      "|120.2| 19.6|     11.6| 13.2|\n",
      "|  8.6|  2.1|        1|  4.8|\n",
      "|199.8|  2.6|     21.2| 10.6|\n",
      "| 66.1|  5.8|     24.2|  8.6|\n",
      "|214.7|   24|        4| 17.4|\n",
      "| 23.8| 35.1|     65.9|  9.2|\n",
      "| 97.5|  7.6|      7.2|  9.7|\n",
      "|204.1| 32.9|       46|   19|\n",
      "|195.4| 47.7|     52.9| 22.4|\n",
      "| 67.8| 36.6|      114| 12.5|\n",
      "|281.4| 39.6|     55.8| 24.4|\n",
      "| 69.2| 20.5|     18.3| 11.3|\n",
      "|147.3| 23.9|     19.1| 14.6|\n",
      "+-----+-----+---------+-----+\n",
      "only showing top 20 rows\n",
      "\n"
     ]
    }
   ],
   "source": [
    "df_heart.show()\n",
    "y=df_heart.Sales"
   ]
  },
  {
   "cell_type": "code",
   "execution_count": 117,
   "metadata": {},
   "outputs": [
    {
     "data": {
      "text/plain": [
       "DataFrame[TV: string, Radio: string, Newspaper: string, Sales: string, TV2: int]"
      ]
     },
     "execution_count": 117,
     "metadata": {},
     "output_type": "execute_result"
    }
   ],
   "source": [
    "df_heart.cache()"
   ]
  },
  {
   "cell_type": "code",
   "execution_count": 85,
   "metadata": {},
   "outputs": [
    {
     "name": "stdout",
     "output_type": "stream",
     "text": [
      "root\n",
      " |-- TV: string (nullable = true)\n",
      " |-- Radio: string (nullable = true)\n",
      " |-- Newspaper: string (nullable = true)\n",
      " |-- Sales: string (nullable = true)\n",
      "\n"
     ]
    }
   ],
   "source": [
    "df_heart.printSchema()"
   ]
  },
  {
   "cell_type": "code",
   "execution_count": 86,
   "metadata": {},
   "outputs": [
    {
     "data": {
      "text/html": [
       "<div>\n",
       "<style scoped>\n",
       "    .dataframe tbody tr th:only-of-type {\n",
       "        vertical-align: middle;\n",
       "    }\n",
       "\n",
       "    .dataframe tbody tr th {\n",
       "        vertical-align: top;\n",
       "    }\n",
       "\n",
       "    .dataframe thead th {\n",
       "        text-align: right;\n",
       "    }\n",
       "</style>\n",
       "<table border=\"1\" class=\"dataframe\">\n",
       "  <thead>\n",
       "    <tr style=\"text-align: right;\">\n",
       "      <th></th>\n",
       "      <th>0</th>\n",
       "      <th>1</th>\n",
       "      <th>2</th>\n",
       "      <th>3</th>\n",
       "      <th>4</th>\n",
       "    </tr>\n",
       "  </thead>\n",
       "  <tbody>\n",
       "    <tr>\n",
       "      <th>summary</th>\n",
       "      <td>count</td>\n",
       "      <td>mean</td>\n",
       "      <td>stddev</td>\n",
       "      <td>min</td>\n",
       "      <td>max</td>\n",
       "    </tr>\n",
       "    <tr>\n",
       "      <th>TV</th>\n",
       "      <td>200</td>\n",
       "      <td>147.0425</td>\n",
       "      <td>85.85423631490805</td>\n",
       "      <td>0.7</td>\n",
       "      <td>97.5</td>\n",
       "    </tr>\n",
       "    <tr>\n",
       "      <th>Radio</th>\n",
       "      <td>200</td>\n",
       "      <td>23.264000000000024</td>\n",
       "      <td>14.846809176168728</td>\n",
       "      <td>0</td>\n",
       "      <td>9.9</td>\n",
       "    </tr>\n",
       "    <tr>\n",
       "      <th>Newspaper</th>\n",
       "      <td>200</td>\n",
       "      <td>30.553999999999995</td>\n",
       "      <td>21.77862083852283</td>\n",
       "      <td>0.3</td>\n",
       "      <td>9.5</td>\n",
       "    </tr>\n",
       "    <tr>\n",
       "      <th>Sales</th>\n",
       "      <td>200</td>\n",
       "      <td>14.022500000000003</td>\n",
       "      <td>5.217456565710477</td>\n",
       "      <td>1.6</td>\n",
       "      <td>9.9</td>\n",
       "    </tr>\n",
       "  </tbody>\n",
       "</table>\n",
       "</div>"
      ],
      "text/plain": [
       "               0                   1                   2    3     4\n",
       "summary    count                mean              stddev  min   max\n",
       "TV           200            147.0425   85.85423631490805  0.7  97.5\n",
       "Radio        200  23.264000000000024  14.846809176168728    0   9.9\n",
       "Newspaper    200  30.553999999999995   21.77862083852283  0.3   9.5\n",
       "Sales        200  14.022500000000003   5.217456565710477  1.6   9.9"
      ]
     },
     "execution_count": 86,
     "metadata": {},
     "output_type": "execute_result"
    }
   ],
   "source": [
    "df_heart.describe().toPandas().transpose()"
   ]
  },
  {
   "cell_type": "code",
   "execution_count": 132,
   "metadata": {},
   "outputs": [
    {
     "data": {
      "text/plain": [
       "[('TV', 'string'),\n",
       " ('Radio', 'string'),\n",
       " ('Newspaper', 'string'),\n",
       " ('Sales', 'string'),\n",
       " ('TV2', 'int')]"
      ]
     },
     "execution_count": 132,
     "metadata": {},
     "output_type": "execute_result"
    }
   ],
   "source": [
    "df_heart.dtypes"
   ]
  },
  {
   "cell_type": "code",
   "execution_count": 133,
   "metadata": {},
   "outputs": [
    {
     "data": {
      "text/plain": [
       "DataFrame[summary: string, TV2: string, Radio2: string, Newspaper2: string, Sales2: string]"
      ]
     },
     "execution_count": 133,
     "metadata": {},
     "output_type": "execute_result"
    }
   ],
   "source": [
    "#df_heart['TV'].cast(\"int\")\n",
    "df_heart2 = df_heart.withColumn(\"TV2\", df_heart[\"TV\"].cast(\"Int\"))\n",
    "df_heart2 = df_heart2.withColumn(\"Radio2\", df_heart[\"Radio\"].cast(\"Int\"))\n",
    "df_heart2 = df_heart2.withColumn(\"Newspaper2\", df_heart[\"Newspaper\"].cast(\"Int\"))\n",
    "df_heart2 = df_heart2.withColumn(\"Sales2\", df_heart[\"Sales\"].cast(\"Int\"))\n",
    "\n",
    "df_heart2=df_heart2.drop(\"TV\",\"Radio\",\"Newspaper\",\"Sales\")\n",
    "df_heart2.describe()\n",
    "#type(df_heart)"
   ]
  },
  {
   "cell_type": "code",
   "execution_count": 130,
   "metadata": {},
   "outputs": [],
   "source": []
  },
  {
   "cell_type": "code",
   "execution_count": 134,
   "metadata": {},
   "outputs": [
    {
     "data": {
      "text/plain": [
       "[('TV2', 'int'), ('Radio2', 'int'), ('Newspaper2', 'int'), ('Sales2', 'int')]"
      ]
     },
     "execution_count": 134,
     "metadata": {},
     "output_type": "execute_result"
    }
   ],
   "source": [
    "df_heart2.dtypes"
   ]
  },
  {
   "cell_type": "code",
   "execution_count": 135,
   "metadata": {},
   "outputs": [
    {
     "name": "stderr",
     "output_type": "stream",
     "text": [
      "/usr/local/anaconda/lib/python3.6/site-packages/ipykernel_launcher.py:4: FutureWarning: pandas.scatter_matrix is deprecated, use pandas.plotting.scatter_matrix instead\n",
      "  after removing the cwd from sys.path.\n"
     ]
    },
    {
     "data": {
      "image/png": "[encoded data removed]",
      "text/plain": [
       "<Figure size 720x720 with 16 Axes>"
      ]
     },
     "metadata": {},
     "output_type": "display_data"
    }
   ],
   "source": [
    "import pandas as pd\n",
    "numeric_features = [t[0] for t in df_heart2.dtypes if t[1] == 'int' or t[1] == 'double']\n",
    "sampled_data = df_heart2.select(numeric_features).sample(False, 0.8).toPandas()\n",
    "axs = pd.scatter_matrix(sampled_data, figsize=(10, 10))\n",
    "n = len(sampled_data.columns)\n",
    "for i in range(n):\n",
    "    v = axs[i, 0]\n",
    "    v.yaxis.label.set_rotation(0)\n",
    "    v.yaxis.label.set_ha('right')\n",
    "    v.set_yticks(())\n",
    "    h = axs[n-1, i]\n",
    "    h.xaxis.label.set_rotation(90)\n",
    "    h.set_xticks(())"
   ]
  },
  {
   "cell_type": "code",
   "execution_count": 137,
   "metadata": {},
   "outputs": [
    {
     "name": "stdout",
     "output_type": "stream",
     "text": [
      "Correlation to Sales for  TV2 0.7780435157962534\n",
      "Correlation to Sales for  Radio2 0.579960026196858\n",
      "Correlation to Sales for  Newspaper2 0.229428864426175\n",
      "Correlation to Sales for  Sales2 1.0\n"
     ]
    }
   ],
   "source": [
    "import six\n",
    "for i in df_heart2.columns:\n",
    "    if not( isinstance(df_heart2.select(i).take(1)[0][0], six.string_types)):\n",
    "        print( \"Correlation to Sales for \", i, df_heart2.stat.corr('Sales2',i))"
   ]
  },
  {
   "cell_type": "code",
   "execution_count": 140,
   "metadata": {},
   "outputs": [
    {
     "name": "stdout",
     "output_type": "stream",
     "text": [
      "+-----------------+------+\n",
      "|         features|Sales2|\n",
      "+-----------------+------+\n",
      "|[230.0,37.0,69.0]|    22|\n",
      "| [44.0,39.0,45.0]|    10|\n",
      "| [17.0,45.0,69.0]|     9|\n",
      "+-----------------+------+\n",
      "only showing top 3 rows\n",
      "\n"
     ]
    }
   ],
   "source": [
    "from pyspark.ml.feature import VectorAssembler\n",
    "vectorAssembler = VectorAssembler(inputCols = ['TV2', 'Radio2', 'Newspaper2'], outputCol = 'features')\n",
    "vdf_heart2 = vectorAssembler.transform(df_heart2)\n",
    "vdf_heart2 = vdf_heart2.select(['features', 'Sales2'])\n",
    "vdf_heart2.show(3)"
   ]
  },
  {
   "cell_type": "code",
   "execution_count": 141,
   "metadata": {},
   "outputs": [],
   "source": [
    "splits = vdf_heart2.randomSplit([0.7, 0.3])\n",
    "train_df = splits[0]\n",
    "test_df = splits[1]\n"
   ]
  },
  {
   "cell_type": "markdown",
   "metadata": {},
   "source": [
    "# Linear Regression"
   ]
  },
  {
   "cell_type": "code",
   "execution_count": 165,
   "metadata": {},
   "outputs": [
    {
     "name": "stdout",
     "output_type": "stream",
     "text": [
      "Coefficients: [0.04183567733762611,0.1742100780619715,0.0]\n",
      "Intercept: 3.5613106356324624\n"
     ]
    }
   ],
   "source": [
    "from pyspark.ml.regression import LinearRegression\n",
    "\n",
    "lr = LinearRegression(featuresCol = 'features', labelCol='Sales2', maxIter=10, regParam=0.3, elasticNetParam=0.8)\n",
    "lr_model = lr.fit(train_df)\n",
    "print(\"Coefficients: \" + str(lr_model.coefficients))\n",
    "print(\"Intercept: \" + str(lr_model.intercept))"
   ]
  },
  {
   "cell_type": "code",
   "execution_count": 143,
   "metadata": {},
   "outputs": [
    {
     "name": "stdout",
     "output_type": "stream",
     "text": [
      "RMSE: 1.678049\n",
      "r2: 0.896628\n"
     ]
    }
   ],
   "source": [
    "trainingSummary = lr_model.summary\n",
    "print(\"RMSE: %f\" % trainingSummary.rootMeanSquaredError)\n",
    "print(\"r2: %f\" % trainingSummary.r2)"
   ]
  },
  {
   "cell_type": "code",
   "execution_count": 144,
   "metadata": {},
   "outputs": [
    {
     "name": "stdout",
     "output_type": "stream",
     "text": [
      "+-------+------------------+\n",
      "|summary|            Sales2|\n",
      "+-------+------------------+\n",
      "|  count|               141|\n",
      "|   mean|13.553191489361701|\n",
      "| stddev| 5.237809700239886|\n",
      "|    min|                 5|\n",
      "|    max|                27|\n",
      "+-------+------------------+\n",
      "\n"
     ]
    }
   ],
   "source": [
    "train_df.describe().show()"
   ]
  },
  {
   "cell_type": "code",
   "execution_count": 145,
   "metadata": {},
   "outputs": [
    {
     "name": "stdout",
     "output_type": "stream",
     "text": [
      "+-----------------+------+---------------+\n",
      "|       prediction|Sales2|       features|\n",
      "+-----------------+------+---------------+\n",
      "|10.35550368004935|     1| [0.0,39.0,8.0]|\n",
      "|5.644964203664653|     3| [4.0,11.0,5.0]|\n",
      "|4.244416210457414|     4|  [8.0,2.0,1.0]|\n",
      "|8.599668162006703|     5| [8.0,27.0,2.0]|\n",
      "|4.105174441021601|     5|[13.0,0.0,25.0]|\n",
      "+-----------------+------+---------------+\n",
      "only showing top 5 rows\n",
      "\n",
      "R Squared (R2) on test data = 0.865217\n"
     ]
    }
   ],
   "source": [
    "lr_predictions = lr_model.transform(test_df)\n",
    "lr_predictions.select(\"prediction\",\"Sales2\",\"features\").show(5)\n",
    "from pyspark.ml.evaluation import RegressionEvaluator\n",
    "lr_evaluator = RegressionEvaluator(predictionCol=\"prediction\", \\\n",
    "                 labelCol=\"Sales2\",metricName=\"r2\")\n",
    "print(\"R Squared (R2) on test data = %g\" % lr_evaluator.evaluate(lr_predictions))"
   ]
  },
  {
   "cell_type": "code",
   "execution_count": 146,
   "metadata": {},
   "outputs": [
    {
     "name": "stdout",
     "output_type": "stream",
     "text": [
      "Root Mean Squared Error (RMSE) on test data = 1.94192\n"
     ]
    }
   ],
   "source": [
    "test_result = lr_model.evaluate(test_df)\n",
    "print(\"Root Mean Squared Error (RMSE) on test data = %g\" % test_result.rootMeanSquaredError)"
   ]
  },
  {
   "cell_type": "code",
   "execution_count": 147,
   "metadata": {},
   "outputs": [
    {
     "name": "stdout",
     "output_type": "stream",
     "text": [
      "numIterations: 10\n",
      "objectiveHistory: [0.5, 0.41341853220754565, 0.11140917198126914, 0.10996477378460404, 0.10996290728595813, 0.10996274794937709, 0.10996274721525504, 0.10996274720015967, 0.10996274719983745, 0.10996274719983123]\n",
      "+--------------------+\n",
      "|           residuals|\n",
      "+--------------------+\n",
      "| -3.8225812861177673|\n",
      "| -3.7320425627310474|\n",
      "|  -4.474143343350763|\n",
      "|  -5.258079801308103|\n",
      "|  -3.293065896577323|\n",
      "| -1.7183256119511743|\n",
      "| -3.7217148296992555|\n",
      "| -2.7182900386650513|\n",
      "| -1.1435497540389026|\n",
      "| -0.8403900662867887|\n",
      "|  0.4764865722451983|\n",
      "| -2.3979708224558003|\n",
      "|   1.134915998189661|\n",
      "|   2.093080320852035|\n",
      "|-0.03925850658618...|\n",
      "| -1.6873779861419198|\n",
      "|  1.3263033913518303|\n",
      "| -2.1194694969411145|\n",
      "| 0.11029320923835506|\n",
      "| 0.24266760996270165|\n",
      "+--------------------+\n",
      "only showing top 20 rows\n",
      "\n"
     ]
    }
   ],
   "source": [
    "print(\"numIterations: %d\" % trainingSummary.totalIterations)\n",
    "print(\"objectiveHistory: %s\" % str(trainingSummary.objectiveHistory))\n",
    "trainingSummary.residuals.show()"
   ]
  },
  {
   "cell_type": "code",
   "execution_count": 148,
   "metadata": {},
   "outputs": [
    {
     "name": "stdout",
     "output_type": "stream",
     "text": [
      "+------------------+------+-----------------+\n",
      "|        prediction|Sales2|         features|\n",
      "+------------------+------+-----------------+\n",
      "| 10.35550368004935|     1|   [0.0,39.0,8.0]|\n",
      "| 5.644964203664653|     3|   [4.0,11.0,5.0]|\n",
      "| 4.244416210457414|     4|    [8.0,2.0,1.0]|\n",
      "| 8.599668162006703|     5|   [8.0,27.0,2.0]|\n",
      "| 4.105174441021601|     5|  [13.0,0.0,25.0]|\n",
      "| 4.969357462619993|     5|  [17.0,4.0,31.0]|\n",
      "|12.111970663160825|     9| [17.0,45.0,69.0]|\n",
      "|  6.40487376445339|     6| [18.0,12.0,23.0]|\n",
      "|7.9727644670111335|     7| [18.0,21.0,50.0]|\n",
      "|10.620883946566865|     9| [23.0,35.0,65.0]|\n",
      "| 8.962454520622403|     8| [25.0,25.0,43.0]|\n",
      "|11.401395613490005|     9|  [25.0,39.0,9.0]|\n",
      "|12.335515252340713|    10|  [39.0,41.0,5.0]|\n",
      "| 9.715496712699673|     9| [43.0,25.0,20.0]|\n",
      "|12.635863827484386|    12|[67.0,36.0,114.0]|\n",
      "| 9.576886408332685|    10| [73.0,17.0,12.0]|\n",
      "|11.270284142903305|    11| [76.0,26.0,22.0]|\n",
      "|14.838157058817988|    14| [78.0,46.0,34.0]|\n",
      "|  8.85257662123893|    10|  [89.0,9.0,35.0]|\n",
      "|15.131638265250196|    16|[110.0,40.0,63.0]|\n",
      "+------------------+------+-----------------+\n",
      "only showing top 20 rows\n",
      "\n"
     ]
    }
   ],
   "source": [
    "predictions = lr_model.transform(test_df)\n",
    "predictions.select(\"prediction\",\"Sales2\",\"features\").show()"
   ]
  },
  {
   "cell_type": "markdown",
   "metadata": {},
   "source": [
    "## DecisionTree"
   ]
  },
  {
   "cell_type": "code",
   "execution_count": 150,
   "metadata": {},
   "outputs": [
    {
     "name": "stdout",
     "output_type": "stream",
     "text": [
      "Root Mean Squared Error (RMSE) on test data = 1.66814\n"
     ]
    }
   ],
   "source": [
    "from pyspark.ml.regression import DecisionTreeRegressor\n",
    "dt = DecisionTreeRegressor(featuresCol ='features', labelCol = 'Sales2')\n",
    "dt_model = dt.fit(train_df)\n",
    "dt_predictions = dt_model.transform(test_df)\n",
    "dt_evaluator = RegressionEvaluator(\n",
    "    labelCol=\"Sales2\", predictionCol=\"prediction\", metricName=\"rmse\")\n",
    "rmse = dt_evaluator.evaluate(dt_predictions)\n",
    "print(\"Root Mean Squared Error (RMSE) on test data = %g\" % rmse)"
   ]
  },
  {
   "cell_type": "code",
   "execution_count": 151,
   "metadata": {},
   "outputs": [
    {
     "data": {
      "text/plain": [
       "SparseVector(3, {0: 0.5743, 1: 0.4153, 2: 0.0104})"
      ]
     },
     "execution_count": 151,
     "metadata": {},
     "output_type": "execute_result"
    }
   ],
   "source": [
    "dt_model.featureImportances"
   ]
  },
  {
   "cell_type": "code",
   "execution_count": 153,
   "metadata": {},
   "outputs": [
    {
     "data": {
      "text/plain": [
       "[Row(TV2=230, Radio2=37, Newspaper2=69, Sales2=22)]"
      ]
     },
     "execution_count": 153,
     "metadata": {},
     "output_type": "execute_result"
    }
   ],
   "source": [
    "df_heart2.take(1)"
   ]
  },
  {
   "cell_type": "markdown",
   "metadata": {},
   "source": [
    "# Gradient Boost Method"
   ]
  },
  {
   "cell_type": "code",
   "execution_count": 154,
   "metadata": {},
   "outputs": [
    {
     "name": "stdout",
     "output_type": "stream",
     "text": [
      "+------------------+------+---------------+\n",
      "|        prediction|Sales2|       features|\n",
      "+------------------+------+---------------+\n",
      "|6.6488067854748545|     1| [0.0,39.0,8.0]|\n",
      "| 5.096081732338727|     3| [4.0,11.0,5.0]|\n",
      "| 5.016548345501165|     4|  [8.0,2.0,1.0]|\n",
      "| 4.997599057421966|     5| [8.0,27.0,2.0]|\n",
      "| 5.073444015629383|     5|[13.0,0.0,25.0]|\n",
      "+------------------+------+---------------+\n",
      "only showing top 5 rows\n",
      "\n"
     ]
    }
   ],
   "source": [
    "from pyspark.ml.regression import GBTRegressor\n",
    "gbt = GBTRegressor(featuresCol = 'features', labelCol = 'Sales2', maxIter=10)\n",
    "gbt_model = gbt.fit(train_df)\n",
    "gbt_predictions = gbt_model.transform(test_df)\n",
    "gbt_predictions.select('prediction', 'Sales2', 'features').show(5)"
   ]
  },
  {
   "cell_type": "code",
   "execution_count": 155,
   "metadata": {},
   "outputs": [
    {
     "name": "stdout",
     "output_type": "stream",
     "text": [
      "Root Mean Squared Error (RMSE) on test data = 1.68899\n"
     ]
    }
   ],
   "source": [
    "gbt_evaluator = RegressionEvaluator(\n",
    "    labelCol=\"Sales2\", predictionCol=\"prediction\", metricName=\"rmse\")\n",
    "rmse = gbt_evaluator.evaluate(gbt_predictions)\n",
    "print(\"Root Mean Squared Error (RMSE) on test data = %g\" % rmse)"
   ]
  },
  {
   "cell_type": "code",
   "execution_count": null,
   "metadata": {},
   "outputs": [],
   "source": []
  },
  {
   "cell_type": "code",
   "execution_count": null,
   "metadata": {},
   "outputs": [],
   "source": []
  },
  {
   "cell_type": "markdown",
   "metadata": {},
   "source": [
    "# Practice Question"
   ]
  },
  {
   "cell_type": "code",
   "execution_count": 167,
   "metadata": {},
   "outputs": [],
   "source": [
    "df_home = spark.read.json(\"/common_folder/amazon_reviews_graded/reviews_Home_and_Kitchen_5.json\")"
   ]
  },
  {
   "cell_type": "code",
   "execution_count": 169,
   "metadata": {},
   "outputs": [
    {
     "name": "stdout",
     "output_type": "stream",
     "text": [
      "+----------+--------+-------+--------------------+-----------+--------------+--------------------+--------------------+--------------+\n",
      "|      asin| helpful|overall|          reviewText| reviewTime|    reviewerID|        reviewerName|             summary|unixReviewTime|\n",
      "+----------+--------+-------+--------------------+-----------+--------------+--------------------+--------------------+--------------+\n",
      "|0615391206|  [0, 0]|    5.0|My daughter wante...|10 19, 2013| APYOBQE6M18AA|     Martin Schwartz|          Best Price|    1382140800|\n",
      "|0615391206|  [0, 0]|    5.0|I bought this zok...|06 18, 2014|A1JVQTAGHYOL7F|       Michelle Dinh|                zoku|    1403049600|\n",
      "|0615391206|[26, 27]|    4.0|There is no short...| 05 5, 2013|A3UPYGJKZ0XTU4|        mirasreviews|Excels at Sweet D...|    1367712000|\n",
      "|0615391206|[14, 18]|    5.0|This book is a mu...| 08 4, 2011|A2MHCTX43MIMDZ|M. Johnson \"Tea L...|     Creative Combos|    1312416000|\n",
      "|0615391206|  [0, 0]|    4.0|This cookbook is ...| 06 7, 2014| AHAI85T5C2DH3|            PugLover|A must own if you...|    1402099200|\n",
      "|0615391206|  [0, 0]|    5.0|If you have a Zok...| 06 7, 2014| AXA9EVY6IJIZ5|Robin Cline \"Sola...|             Love it|    1402099200|\n",
      "|0615391206|  [2, 3]|    5.0|This book is so b...| 07 2, 2012|A1SW2D234X11MS|savinggrace \"savi...|Beautifully illus...|    1341187200|\n",
      "|0615391206|[32, 39]|    2.0|I bought this whe...| 12 8, 2011|A1ZH5ULI4SBO48|        S. G. \"s.g.\"|Okay but you can ...|    1323302400|\n",
      "|0615391206|[13, 13]|    5.0|The Zoku accessor...|09 22, 2011|A1V13XAWO98C1J|         Stan \"Stan\"|If you have the Z...|    1316649600|\n",
      "|0615391206|  [0, 0]|    5.0|High quality book...| 06 1, 2014|A3842PXNQ1QRM9|        Stephen Brem|Satisfaction opinion|    1401580800|\n",
      "|0615391206|  [3, 3]|    4.0|The recipes in th...|12 26, 2012|A2BVT5QJSEEQI8|      Steven Griffis|I liked this book...|    1356480000|\n",
      "|0689027818|  [0, 0]|    5.0|This beautifully ...|07 27, 2009|A3R9X003XW0LNR|Deborah Verlen \"D...|A sweet book for ...|    1248652800|\n",
      "|0689027818|  [0, 0]|    5.0|I got this as a g...| 06 7, 2012| AMZSUGQIAOH5O|            jesssibs|Super cute niece ...|    1339027200|\n",
      "|0689027818|  [1, 2]|    5.0|This is the story...| 04 6, 2013|A14BTJRH9VNLJJ|     Kurt A. Johnson|My little one abs...|    1365206400|\n",
      "|0689027818|[16, 16]|    5.0|This book is abso...|02 21, 2003|A307YFSORUAXSQ|         NYCPickyMom|My Daughter's New...|    1045785600|\n",
      "|0689027818|  [1, 1]|    5.0|My daughter 1 yea...|04 22, 2004|A2WNXS3CNAQS01|         Sapere Aude|My daughter loves it|    1082592000|\n",
      "|0912696591|  [0, 0]|    5.0|For a novice cake...| 05 4, 2014|A13BMNAQ2K5LLN|AcuDoc \"What woul...|       Wilton Rocks!|    1399161600|\n",
      "|0912696591|  [1, 1]|    5.0|I should not have...| 06 7, 2013|A3LHQ0LXICBLY2|                  AE|I should not have...|    1370563200|\n",
      "|0912696591|  [0, 0]|    5.0|had no idea about...|05 27, 2012|A39RRTO760KGOY|     Ahmed Montasser|follow the instru...|    1338076800|\n",
      "|0912696591|  [0, 1]|    5.0|excellent book, s...|06 12, 2012| AZF13R8HNB59E|                  ak|                book|    1339459200|\n",
      "+----------+--------+-------+--------------------+-----------+--------------+--------------------+--------------------+--------------+\n",
      "only showing top 20 rows\n",
      "\n"
     ]
    }
   ],
   "source": [
    "df_home.show()"
   ]
  },
  {
   "cell_type": "code",
   "execution_count": 172,
   "metadata": {},
   "outputs": [],
   "source": [
    "df_home.createOrReplaceTempView(\"dfHome\") \n"
   ]
  },
  {
   "cell_type": "code",
   "execution_count": 181,
   "metadata": {},
   "outputs": [
    {
     "name": "stdout",
     "output_type": "stream",
     "text": [
      "+--------------------+\n",
      "|count(DISTINCT asin)|\n",
      "+--------------------+\n",
      "|               28237|\n",
      "+--------------------+\n",
      "\n"
     ]
    }
   ],
   "source": [
    "spark.sql(\"SELECT count( distinct asin) FROM dfHome\").show()"
   ]
  },
  {
   "cell_type": "code",
   "execution_count": 180,
   "metadata": {},
   "outputs": [
    {
     "name": "stdout",
     "output_type": "stream",
     "text": [
      "+-----------+\n",
      "|count(asin)|\n",
      "+-----------+\n",
      "|     551682|\n",
      "+-----------+\n",
      "\n"
     ]
    }
   ],
   "source": [
    "spark.sql(\"SELECT count(asin) FROM dfHome\").show()"
   ]
  },
  {
   "cell_type": "code",
   "execution_count": 182,
   "metadata": {},
   "outputs": [
    {
     "name": "stdout",
     "output_type": "stream",
     "text": [
      "+--------------------------+\n",
      "|count(DISTINCT reviewerID)|\n",
      "+--------------------------+\n",
      "|                     66519|\n",
      "+--------------------------+\n",
      "\n"
     ]
    }
   ],
   "source": [
    "spark.sql(\"SELECT count( distinct reviewerID) FROM dfHome\").show()"
   ]
  },
  {
   "cell_type": "code",
   "execution_count": 184,
   "metadata": {},
   "outputs": [],
   "source": [
    "review_length= spark.sql('SELECT helpful, overall, reviewText, reviewTime, summary, asin, LENGTH(reviewText) AS reviewLength FROM dfHome')"
   ]
  },
  {
   "cell_type": "code",
   "execution_count": 185,
   "metadata": {},
   "outputs": [
    {
     "name": "stdout",
     "output_type": "stream",
     "text": [
      "+--------+-------+--------------------+-----------+--------------------+----------+------------+\n",
      "| helpful|overall|          reviewText| reviewTime|             summary|      asin|reviewLength|\n",
      "+--------+-------+--------------------+-----------+--------------------+----------+------------+\n",
      "|  [0, 0]|    5.0|My daughter wante...|10 19, 2013|          Best Price|0615391206|         158|\n",
      "|  [0, 0]|    5.0|I bought this zok...|06 18, 2014|                zoku|0615391206|         125|\n",
      "|[26, 27]|    4.0|There is no short...| 05 5, 2013|Excels at Sweet D...|0615391206|        2353|\n",
      "|[14, 18]|    5.0|This book is a mu...| 08 4, 2011|     Creative Combos|0615391206|         334|\n",
      "|  [0, 0]|    4.0|This cookbook is ...| 06 7, 2014|A must own if you...|0615391206|         538|\n",
      "|  [0, 0]|    5.0|If you have a Zok...| 06 7, 2014|             Love it|0615391206|         196|\n",
      "|  [2, 3]|    5.0|This book is so b...| 07 2, 2012|Beautifully illus...|0615391206|         476|\n",
      "|[32, 39]|    2.0|I bought this whe...| 12 8, 2011|Okay but you can ...|0615391206|         413|\n",
      "|[13, 13]|    5.0|The Zoku accessor...|09 22, 2011|If you have the Z...|0615391206|         163|\n",
      "|  [0, 0]|    5.0|High quality book...| 06 1, 2014|Satisfaction opinion|0615391206|         144|\n",
      "|  [3, 3]|    4.0|The recipes in th...|12 26, 2012|I liked this book...|0615391206|         175|\n",
      "|  [0, 0]|    5.0|This beautifully ...|07 27, 2009|A sweet book for ...|0689027818|         342|\n",
      "|  [0, 0]|    5.0|I got this as a g...| 06 7, 2012|Super cute niece ...|0689027818|         138|\n",
      "|  [1, 2]|    5.0|This is the story...| 04 6, 2013|My little one abs...|0689027818|         557|\n",
      "|[16, 16]|    5.0|This book is abso...|02 21, 2003|My Daughter's New...|0689027818|         829|\n",
      "|  [1, 1]|    5.0|My daughter 1 yea...|04 22, 2004|My daughter loves it|0689027818|         508|\n",
      "|  [0, 0]|    5.0|For a novice cake...| 05 4, 2014|       Wilton Rocks!|0912696591|         433|\n",
      "|  [1, 1]|    5.0|I should not have...| 06 7, 2013|I should not have...|0912696591|         134|\n",
      "|  [0, 0]|    5.0|had no idea about...|05 27, 2012|follow the instru...|0912696591|         309|\n",
      "|  [0, 1]|    5.0|excellent book, s...|06 12, 2012|                book|0912696591|         148|\n",
      "+--------+-------+--------------------+-----------+--------------------+----------+------------+\n",
      "only showing top 20 rows\n",
      "\n"
     ]
    }
   ],
   "source": [
    "review_length.show()"
   ]
  },
  {
   "cell_type": "code",
   "execution_count": 195,
   "metadata": {},
   "outputs": [
    {
     "data": {
      "text/plain": [
       "0.9754901960784313"
      ]
     },
     "execution_count": 195,
     "metadata": {},
     "output_type": "execute_result"
    }
   ],
   "source": []
  },
  {
   "cell_type": "code",
   "execution_count": 187,
   "metadata": {},
   "outputs": [
    {
     "name": "stdout",
     "output_type": "stream",
     "text": [
      "+------------+-------+--------------------+-----------+--------------------+----------+------------+\n",
      "|     helpful|overall|          reviewText| reviewTime|             summary|      asin|reviewLength|\n",
      "+------------+-------+--------------------+-----------+--------------------+----------+------------+\n",
      "|      [0, 0]|    5.0|\"One chews coffee...|12 31, 2013|6 YEARS AND OVER ...|B00009ADDR|       30808|\n",
      "|      [4, 4]|    5.0|\"One chews coffee...|04 11, 2012|SIX YEARS WITH A ...|B005FCE72U|       30804|\n",
      "|      [0, 0]|    5.0|\"One chews coffee...|04 24, 2014|SIX YEARS WITH A ...|B004XGBLNC|       30802|\n",
      "|  [398, 408]|    5.0|I spent over a ye...| 10 4, 2012|My Research Paid ...|B001L7OIVI|       29087|\n",
      "|    [27, 29]|    4.0|OVERVIEW: As a lo...| 01 7, 2013|Face-off: Rancili...|B008TUWP24|       23118|\n",
      "|    [83, 89]|    5.0|Face-off: Rancili...| 01 7, 2013|Face-off: Rancili...|B007KAYU68|       22893|\n",
      "|  [139, 149]|    4.0|OVERVIEW: As a lo...| 01 7, 2013|Face-off: Rancili...|B008TV3S1K|       22848|\n",
      "|    [92, 95]|    3.0|Edited 5/6/13:  J...|07 25, 2012|Definite improvem...|B007VLUF24|       20217|\n",
      "|      [6, 7]|    5.0|Even though I was...|05 17, 2014|The iRobot Roomba...|B00IO9PBPS|       19696|\n",
      "|  [115, 122]|    5.0|If you're an avid...|02 11, 2012|The Good, The Bad...|B005QSI5I0|       19648|\n",
      "|  [103, 118]|    4.0|&#2951; Fuzzy Wuz...| 08 3, 2012|Good sturdy bed f...|B0063MX2HM|       18099|\n",
      "|    [14, 22]|    5.0|Fast healthy ener...|06 23, 2011|Save Time, Electr...|B0049URLT0|       18054|\n",
      "|     [7, 10]|    5.0|FEATURESExtremely...|06 11, 2011|Fast, Healthy, En...|B002YD99Y4|       18007|\n",
      "|     [6, 15]|    5.0|There are a few v...|07 29, 2011|            worth it|B000BBGV0G|       17605|\n",
      "|      [6, 6]|    3.0|In 2009 my friend...| 03 6, 2013|The top steam mop...|B002IB0WWA|       16778|\n",
      "|[4736, 4768]|    4.0|My wife and I dec...|09 16, 2007|Great but not per...|B000UUBCNO|       16770|\n",
      "|      [2, 5]|    5.0|I actually purcha...|06 23, 2011|Fast healthy ener...|B003DNRG7Q|       16699|\n",
      "|[6128, 6174]|    5.0|Note: I have upda...| 08 7, 2009|The top steam mop...|B001LYFBHG|       16302|\n",
      "|      [6, 8]|    4.0|&#2951; Fuzzy Wuz...|02 24, 2013|Good tea ball, bu...|B004X7DCSI|       16279|\n",
      "|    [18, 19]|    2.0|Note: I loved Eur...|03 27, 2013|Comparison of the...|B005Y00EGG|       15425|\n",
      "+------------+-------+--------------------+-----------+--------------------+----------+------------+\n",
      "only showing top 20 rows\n",
      "\n"
     ]
    }
   ],
   "source": [
    "review_length.sort( review_length.reviewLength.desc()).show()"
   ]
  },
  {
   "cell_type": "code",
   "execution_count": 196,
   "metadata": {},
   "outputs": [
    {
     "data": {
      "text/plain": [
       "0.9754901960784313"
      ]
     },
     "execution_count": 196,
     "metadata": {},
     "output_type": "execute_result"
    }
   ],
   "source": [
    " 398/ 408"
   ]
  },
  {
   "cell_type": "code",
   "execution_count": 199,
   "metadata": {},
   "outputs": [],
   "source": [
    "review_length2= spark.sql('SELECT helpful FROM dfHome order by helpful[1] desc')"
   ]
  },
  {
   "cell_type": "code",
   "execution_count": 201,
   "metadata": {},
   "outputs": [
    {
     "name": "stdout",
     "output_type": "stream",
     "text": [
      "+--------------+\n",
      "|       helpful|\n",
      "+--------------+\n",
      "|[52176, 52861]|\n",
      "|  [6128, 6174]|\n",
      "|  [5247, 5307]|\n",
      "|  [5081, 5126]|\n",
      "|  [5034, 5088]|\n",
      "|  [4736, 4768]|\n",
      "|  [3941, 4009]|\n",
      "|  [3716, 3787]|\n",
      "|  [2777, 2817]|\n",
      "|  [2618, 2714]|\n",
      "|  [2282, 2523]|\n",
      "|  [2247, 2330]|\n",
      "|  [2108, 2142]|\n",
      "|  [2029, 2066]|\n",
      "|  [1719, 1931]|\n",
      "|  [1896, 1914]|\n",
      "|  [1683, 1890]|\n",
      "|  [1862, 1875]|\n",
      "|  [1751, 1798]|\n",
      "|  [1642, 1699]|\n",
      "+--------------+\n",
      "only showing top 20 rows\n",
      "\n"
     ]
    }
   ],
   "source": [
    "review_length2.show()"
   ]
  },
  {
   "cell_type": "code",
   "execution_count": 193,
   "metadata": {},
   "outputs": [
    {
     "name": "stdout",
     "output_type": "stream",
     "text": [
      "+--------------+\n",
      "|       helpful|\n",
      "+--------------+\n",
      "|[52176, 52861]|\n",
      "|  [6128, 6174]|\n",
      "|  [5247, 5307]|\n",
      "|  [5081, 5126]|\n",
      "|  [5034, 5088]|\n",
      "|  [4736, 4768]|\n",
      "|  [3941, 4009]|\n",
      "|  [3716, 3787]|\n",
      "|  [2777, 2817]|\n",
      "|  [2618, 2714]|\n",
      "|  [2282, 2523]|\n",
      "|  [2247, 2330]|\n",
      "|  [2108, 2142]|\n",
      "|  [2029, 2066]|\n",
      "|  [1719, 1931]|\n",
      "|  [1896, 1914]|\n",
      "|  [1683, 1890]|\n",
      "|  [1862, 1875]|\n",
      "|  [1751, 1798]|\n",
      "|  [1642, 1699]|\n",
      "+--------------+\n",
      "only showing top 20 rows\n",
      "\n"
     ]
    }
   ],
   "source": []
  },
  {
   "cell_type": "code",
   "execution_count": null,
   "metadata": {},
   "outputs": [],
   "source": []
  }
 ],
 "metadata": {
  "kernelspec": {
   "display_name": "Python 3",
   "language": "python",
   "name": "python3"
  },
  "language_info": {
   "codemirror_mode": {
    "name": "ipython",
    "version": 3
   },
   "file_extension": ".py",
   "mimetype": "text/x-python",
   "name": "python",
   "nbconvert_exporter": "python",
   "pygments_lexer": "ipython3",
   "version": "3.7.1"
  }
 },
 "nbformat": 4,
 "nbformat_minor": 2
}
