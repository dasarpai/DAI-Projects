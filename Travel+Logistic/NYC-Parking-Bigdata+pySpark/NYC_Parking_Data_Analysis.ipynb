{
  "cells": [
    {
      "cell_type": "code",
      "source": [
        "!pip install pyspark"
      ],
      "metadata": {
        "id": "C6fxl8jSXo7n",
        "outputId": "3ad8a2f5-beac-47b4-8d37-036a0a1b7828",
        "colab": {
          "base_uri": "https://localhost:8080/"
        }
      },
      "execution_count": 1,
      "outputs": [
        {
          "output_type": "stream",
          "name": "stdout",
          "text": [
            "Requirement already satisfied: pyspark in /usr/local/lib/python3.10/dist-packages (3.5.3)\n",
            "Requirement already satisfied: py4j==0.10.9.7 in /usr/local/lib/python3.10/dist-packages (from pyspark) (0.10.9.7)\n"
          ]
        }
      ]
    },
    {
      "cell_type": "code",
      "source": [
        "#!/bin/bash\n",
        "!kaggle datasets download new-york-city/nyc-parking-tickets"
      ],
      "metadata": {
        "id": "aA6J_fBdXmd_",
        "outputId": "abfd6d1d-4e9d-488e-cf27-550c606da515",
        "colab": {
          "base_uri": "https://localhost:8080/"
        }
      },
      "execution_count": 2,
      "outputs": [
        {
          "output_type": "stream",
          "name": "stdout",
          "text": [
            "Dataset URL: https://www.kaggle.com/datasets/new-york-city/nyc-parking-tickets\n",
            "License(s): CC0-1.0\n",
            "Downloading nyc-parking-tickets.zip to /content\n",
            " 99% 2.01G/2.02G [00:34<00:00, 63.1MB/s]\n",
            "100% 2.02G/2.02G [00:34<00:00, 62.7MB/s]\n"
          ]
        }
      ]
    },
    {
      "cell_type": "code",
      "source": [
        "!unzip /content/nyc-parking-tickets.zip"
      ],
      "metadata": {
        "id": "8cMMc_dzX20l",
        "outputId": "13461774-5516-40e3-a1bc-6a52d25c1512",
        "colab": {
          "base_uri": "https://localhost:8080/"
        }
      },
      "execution_count": 3,
      "outputs": [
        {
          "output_type": "stream",
          "name": "stdout",
          "text": [
            "Archive:  /content/nyc-parking-tickets.zip\n",
            "  inflating: Parking_Violations_Issued_-_Fiscal_Year_2014__August_2013___June_2014_.csv  \n",
            "  inflating: Parking_Violations_Issued_-_Fiscal_Year_2015.csv  \n",
            "  inflating: Parking_Violations_Issued_-_Fiscal_Year_2016.csv  \n",
            "  inflating: Parking_Violations_Issued_-_Fiscal_Year_2017.csv  \n"
          ]
        }
      ]
    },
    {
      "cell_type": "code",
      "execution_count": 4,
      "metadata": {
        "id": "nrQD2Ey4XjYL"
      },
      "outputs": [],
      "source": [
        "from pyspark.sql import SparkSession\n",
        "spark = SparkSession.builder.appName(\"ml\").getOrCreate()"
      ]
    },
    {
      "cell_type": "code",
      "execution_count": null,
      "metadata": {
        "id": "iPrZqs5FXjYN"
      },
      "outputs": [],
      "source": [
        "#spark.stop()"
      ]
    },
    {
      "cell_type": "code",
      "source": [
        "df = spark.read.csv('/content/Parking_Violations_Issued_-_Fiscal_Year_2017.csv',header=True)\n",
        "\n",
        "df.createOrReplaceTempView(\"dfTable\")"
      ],
      "metadata": {
        "id": "1jim7m-CYJ5Z"
      },
      "execution_count": 5,
      "outputs": []
    },
    {
      "cell_type": "code",
      "source": [
        "df.show(5)"
      ],
      "metadata": {
        "id": "wspij-G0YVGD",
        "outputId": "518989a4-16a1-4d06-e0fa-20d80b5280ba",
        "colab": {
          "base_uri": "https://localhost:8080/"
        }
      },
      "execution_count": 6,
      "outputs": [
        {
          "output_type": "stream",
          "name": "stdout",
          "text": [
            "+--------------+--------+------------------+----------+----------+--------------+-----------------+------------+--------------+------------+------------+------------+-----------------------+------------------+------------------+---------------+-----------+--------------+------------+--------------+-------------------+----------------+---------------------------------+------------+--------------------+-------------------+-------------------+-----------+------------+--------------------+--------------------------+--------------------+------------------+-------------+---------------------+------------+------------+--------------+-------------------+---------------------+---------------------------------+-----------------+------------------------+\n",
            "|Summons Number|Plate ID|Registration State|Plate Type|Issue Date|Violation Code|Vehicle Body Type|Vehicle Make|Issuing Agency|Street Code1|Street Code2|Street Code3|Vehicle Expiration Date|Violation Location|Violation Precinct|Issuer Precinct|Issuer Code|Issuer Command|Issuer Squad|Violation Time|Time First Observed|Violation County|Violation In Front Of Or Opposite|House Number|         Street Name|Intersecting Street|Date First Observed|Law Section|Sub Division|Violation Legal Code|Days Parking In Effect    |From Hours In Effect|To Hours In Effect|Vehicle Color|Unregistered Vehicle?|Vehicle Year|Meter Number|Feet From Curb|Violation Post Code|Violation Description|No Standing or Stopping Violation|Hydrant Violation|Double Parking Violation|\n",
            "+--------------+--------+------------------+----------+----------+--------------+-----------------+------------+--------------+------------+------------+------------+-----------------------+------------------+------------------+---------------+-----------+--------------+------------+--------------+-------------------+----------------+---------------------------------+------------+--------------------+-------------------+-------------------+-----------+------------+--------------------+--------------------------+--------------------+------------------+-------------+---------------------+------------+------------+--------------+-------------------+---------------------+---------------------------------+-----------------+------------------------+\n",
            "|    5092469481| GZH7067|                NY|       PAS|07/10/2016|             7|             SUBN|       TOYOT|             V|           0|           0|           0|                      0|              NULL|                 0|              0|          0|          NULL|        NULL|         0143A|               NULL|              BX|                             NULL|        NULL|ALLERTON AVE (W/B) @|         BARNES AVE|                  0|       1111|           D|                   T|                      NULL|                NULL|              NULL|           GY|                 NULL|        2001|        NULL|             0|               NULL| FAILURE TO STOP A...|                             NULL|             NULL|                    NULL|\n",
            "|    5092451658| GZH7067|                NY|       PAS|07/08/2016|             7|             SUBN|       TOYOT|             V|           0|           0|           0|                      0|              NULL|                 0|              0|          0|          NULL|        NULL|         0400P|               NULL|              BX|                             NULL|        NULL|ALLERTON AVE (W/B) @|         BARNES AVE|                  0|       1111|           D|                   T|                      NULL|                NULL|              NULL|           GY|                 NULL|        2001|        NULL|             0|               NULL| FAILURE TO STOP A...|                             NULL|             NULL|                    NULL|\n",
            "|    4006265037| FZX9232|                NY|       PAS|08/23/2016|             5|             SUBN|        FORD|             V|           0|           0|           0|                      0|              NULL|                 0|              0|          0|          NULL|        NULL|         0233P|               NULL|              BX|                             NULL|        NULL|SB WEBSTER AVE @ E 1|            94TH ST|                  0|       1111|           C|                   T|                      NULL|                NULL|              NULL|           BK|                 NULL|        2004|        NULL|             0|               NULL|   BUS LANE VIOLATION|                             NULL|             NULL|                    NULL|\n",
            "|    8478629828| 66623ME|                NY|       COM|06/14/2017|            47|             REFG|       MITSU|             T|       10610|       34330|       34350|               20180630|              0014|                14|             14|     359594|          T102|           J|         1120A|               NULL|              NY|                                O|         330|             7th Ave|               NULL|                  0|        408|          l2|                NULL|                         Y|               0700A|             0700P|           WH|                 NULL|        2007|        NULL|             0|                 04| 47-Double PKG-Mid...|                             NULL|             NULL|                    NULL|\n",
            "|    7868300310| 37033JV|                NY|       COM|11/21/2016|            69|             DELV|       INTER|             T|       10510|       34310|       34330|               20170228|              0013|                13|             13|     364832|          T102|           M|         0555P|               NULL|              NY|                                F|         799|             6th Ave|               NULL|                  0|        408|          h1|                NULL|                         Y|               0700A|             0700P|        WHITE|                 NULL|        2007|        NULL|             0|               31 6| 69-Failure to Dis...|                             NULL|             NULL|                    NULL|\n",
            "+--------------+--------+------------------+----------+----------+--------------+-----------------+------------+--------------+------------+------------+------------+-----------------------+------------------+------------------+---------------+-----------+--------------+------------+--------------+-------------------+----------------+---------------------------------+------------+--------------------+-------------------+-------------------+-----------+------------+--------------------+--------------------------+--------------------+------------------+-------------+---------------------+------------+------------+--------------+-------------------+---------------------+---------------------------------+-----------------+------------------------+\n",
            "only showing top 5 rows\n",
            "\n"
          ]
        }
      ]
    },
    {
      "cell_type": "code",
      "execution_count": null,
      "metadata": {
        "id": "Sb4vJeavXjYO",
        "outputId": "6201d9b8-9e85-4f17-e39f-c6703bf4259b"
      },
      "outputs": [
        {
          "name": "stdout",
          "output_type": "stream",
          "text": [
            "+--------------+--------+------------------+----------+--------------+-----------------+------------+------------------+---------------+--------------+\n",
            "|Summons Number|Plate ID|Registration State|Issue Date|Violation Code|Vehicle Body Type|Vehicle Make|Violation Precinct|Issuer Precinct|Violation Time|\n",
            "+--------------+--------+------------------+----------+--------------+-----------------+------------+------------------+---------------+--------------+\n",
            "|    5092469481| GZH7067|                NY|2016-07-10|             7|             SUBN|       TOYOT|                 0|              0|         0143A|\n",
            "|    5092451658| GZH7067|                NY|2016-07-08|             7|             SUBN|       TOYOT|                 0|              0|         0400P|\n",
            "|    4006265037| FZX9232|                NY|2016-08-23|             5|             SUBN|        FORD|                 0|              0|         0233P|\n",
            "|    8478629828| 66623ME|                NY|2017-06-14|            47|             REFG|       MITSU|                14|             14|         1120A|\n",
            "|    7868300310| 37033JV|                NY|2016-11-21|            69|             DELV|       INTER|                13|             13|         0555P|\n",
            "+--------------+--------+------------------+----------+--------------+-----------------+------------+------------------+---------------+--------------+\n",
            "only showing top 5 rows\n",
            "\n"
          ]
        }
      ],
      "source": [
        "df.show(5)"
      ]
    },
    {
      "cell_type": "code",
      "execution_count": null,
      "metadata": {
        "id": "WpAy9O_iXjYO"
      },
      "outputs": [],
      "source": []
    },
    {
      "cell_type": "code",
      "execution_count": null,
      "metadata": {
        "id": "_kVoy4rfXjYO"
      },
      "outputs": [],
      "source": [
        "from pyspark.sql.functions import min, max"
      ]
    },
    {
      "cell_type": "markdown",
      "metadata": {
        "id": "2H4ETxY-XjYP"
      },
      "source": [
        "# Examine the data"
      ]
    },
    {
      "cell_type": "code",
      "execution_count": null,
      "metadata": {
        "id": "RZuEmNrzXjYQ"
      },
      "outputs": [],
      "source": [
        "df=spark.sql(\"SELECT *  FROM dfTable\")"
      ]
    },
    {
      "cell_type": "code",
      "execution_count": null,
      "metadata": {
        "id": "VpOd_5VFXjYQ",
        "outputId": "6926b462-3ee7-488e-fe9f-a2f828481a8e"
      },
      "outputs": [
        {
          "name": "stdout",
          "output_type": "stream",
          "text": [
            "10,803,028\n"
          ]
        }
      ],
      "source": [
        "#Find the total number of tickets\n",
        "print('{:,}'.format(  df.count()) )"
      ]
    },
    {
      "cell_type": "markdown",
      "metadata": {
        "id": "e05zcluaXjYQ"
      },
      "source": [
        "## 108+ million records in the file"
      ]
    },
    {
      "cell_type": "code",
      "execution_count": null,
      "metadata": {
        "id": "PLURIqhDXjYR",
        "outputId": "b24c7809-49bf-4bd7-d96e-d517e86c0602"
      },
      "outputs": [
        {
          "name": "stdout",
          "output_type": "stream",
          "text": [
            "+--------------+--------+------------------+----------+--------------+-----------------+------------+------------------+---------------+--------------+\n",
            "|Summons Number|Plate ID|Registration State|Issue Date|Violation Code|Vehicle Body Type|Vehicle Make|Violation Precinct|Issuer Precinct|Violation Time|\n",
            "+--------------+--------+------------------+----------+--------------+-----------------+------------+------------------+---------------+--------------+\n",
            "|    5092469481| GZH7067|                NY|2016-07-10|             7|             SUBN|       TOYOT|                 0|              0|         0143A|\n",
            "|    5092451658| GZH7067|                NY|2016-07-08|             7|             SUBN|       TOYOT|                 0|              0|         0400P|\n",
            "|    4006265037| FZX9232|                NY|2016-08-23|             5|             SUBN|        FORD|                 0|              0|         0233P|\n",
            "|    8478629828| 66623ME|                NY|2017-06-14|            47|             REFG|       MITSU|                14|             14|         1120A|\n",
            "+--------------+--------+------------------+----------+--------------+-----------------+------------+------------------+---------------+--------------+\n",
            "only showing top 4 rows\n",
            "\n"
          ]
        }
      ],
      "source": [
        "df.show(4)"
      ]
    },
    {
      "cell_type": "markdown",
      "metadata": {
        "id": "QWlY8d93XjYR"
      },
      "source": [
        "### Find the total number of tickets for the year."
      ]
    },
    {
      "cell_type": "code",
      "execution_count": null,
      "metadata": {
        "id": "ePWrrS5bXjYR"
      },
      "outputs": [],
      "source": [
        "df=spark.sql(\"SELECT *  FROM dfTable where year(`Issue Date`)=2017\")"
      ]
    },
    {
      "cell_type": "code",
      "execution_count": null,
      "metadata": {
        "id": "ju5lIlyLXjYR",
        "outputId": "06063f4c-2566-4023-d0a0-2ef75e24abea"
      },
      "outputs": [
        {
          "name": "stdout",
          "output_type": "stream",
          "text": [
            "+--------------+--------+------------------+----------+--------------+-----------------+------------+------------------+---------------+--------------+\n",
            "|Summons Number|Plate ID|Registration State|Issue Date|Violation Code|Vehicle Body Type|Vehicle Make|Violation Precinct|Issuer Precinct|Violation Time|\n",
            "+--------------+--------+------------------+----------+--------------+-----------------+------------+------------------+---------------+--------------+\n",
            "|    8478629828| 66623ME|                NY|2017-06-14|            47|             REFG|       MITSU|                14|             14|         1120A|\n",
            "|    5096917368| FZD8593|                NY|2017-06-13|             7|             SUBN|       ME/BE|                 0|              0|         0852P|\n",
            "|    1407740258| 2513JMG|                NY|2017-01-11|            78|             DELV|       FRUEH|               106|            106|         0015A|\n",
            "|    1413656420|T672371C|                NY|2017-02-04|            40|             TAXI|       TOYOT|                73|             73|         0525A|\n",
            "|    8480309064| 51771JW|                NY|2017-01-26|            64|              VAN|       INTER|                17|             17|         0256P|\n",
            "+--------------+--------+------------------+----------+--------------+-----------------+------------+------------------+---------------+--------------+\n",
            "only showing top 5 rows\n",
            "\n"
          ]
        }
      ],
      "source": [
        "df.show(5)"
      ]
    },
    {
      "cell_type": "code",
      "execution_count": null,
      "metadata": {
        "id": "ToIC2EZRXjYR",
        "outputId": "89e07447-591a-4cf1-ef52-20afebe781a6"
      },
      "outputs": [
        {
          "name": "stdout",
          "output_type": "stream",
          "text": [
            "5,431,918\n"
          ]
        }
      ],
      "source": [
        "#Find the total number of tickets for the year.\n",
        "print('{:,}'.format(  df.count()) )"
      ]
    },
    {
      "cell_type": "markdown",
      "metadata": {
        "id": "g--GOwSXXjYS"
      },
      "source": [
        "## 54 million records for Year 2017"
      ]
    },
    {
      "cell_type": "code",
      "execution_count": null,
      "metadata": {
        "id": "Er2_ydn8XjYS"
      },
      "outputs": [],
      "source": [
        "#Find out the number of unique states from where the cars that got parking tickets came.\n",
        "#(Hint: Use the column 'Registration State'.)"
      ]
    },
    {
      "cell_type": "code",
      "execution_count": null,
      "metadata": {
        "id": "u5qoaZNBXjYS",
        "outputId": "30d8eb80-be3f-4a2f-fa17-3bc3f3219e24"
      },
      "outputs": [
        {
          "name": "stdout",
          "output_type": "stream",
          "text": [
            "Unique States:  65\n"
          ]
        }
      ],
      "source": [
        "print( \"Unique States: \",df.select('Registration State').distinct().count() )"
      ]
    },
    {
      "cell_type": "code",
      "execution_count": null,
      "metadata": {
        "id": "YIuKvX3RXjYS",
        "outputId": "c44ad4a2-af09-4c1a-c4c3-96cf801def85"
      },
      "outputs": [
        {
          "name": "stdout",
          "output_type": "stream",
          "text": [
            "+------------------+-------+\n",
            "|Registration State|  count|\n",
            "+------------------+-------+\n",
            "|                NY|4273951|\n",
            "|                NJ| 475825|\n",
            "|                PA| 140286|\n",
            "|                CT|  70403|\n",
            "|                FL|  69468|\n",
            "|                IN|  45525|\n",
            "|                MA|  38941|\n",
            "|                VA|  34367|\n",
            "|                MD|  30213|\n",
            "|                NC|  27152|\n",
            "|                TX|  18827|\n",
            "|                IL|  18666|\n",
            "|                GA|  17537|\n",
            "|                99|  16055|\n",
            "|                AZ|  12379|\n",
            "|                OH|  12281|\n",
            "|                CA|  12153|\n",
            "|                ME|  10806|\n",
            "|                SC|  10395|\n",
            "|                MN|  10083|\n",
            "|                OK|   9088|\n",
            "|                TN|   8514|\n",
            "|                DE|   7905|\n",
            "|                MI|   7231|\n",
            "|                RI|   5814|\n",
            "|                NH|   4119|\n",
            "|                VT|   3683|\n",
            "|                AL|   3178|\n",
            "|                WA|   3052|\n",
            "|                OR|   2622|\n",
            "|                MO|   2483|\n",
            "|                ON|   2460|\n",
            "|                WI|   2127|\n",
            "|                QB|   1998|\n",
            "|                IA|   1938|\n",
            "|                DC|   1929|\n",
            "|                CO|   1841|\n",
            "|                KY|   1795|\n",
            "|                DP|   1794|\n",
            "|                LA|   1689|\n",
            "|                MS|   1582|\n",
            "|                WV|   1265|\n",
            "|                AR|    994|\n",
            "|                SD|    859|\n",
            "|                NM|    792|\n",
            "|                ID|    763|\n",
            "|                NV|    725|\n",
            "|                KS|    706|\n",
            "|                NE|    704|\n",
            "|                UT|    561|\n",
            "|                MT|    505|\n",
            "|                GV|    348|\n",
            "|                NS|    322|\n",
            "|                AK|    298|\n",
            "|                ND|    254|\n",
            "|                WY|    188|\n",
            "|                HI|    156|\n",
            "|                AB|     79|\n",
            "|                PE|     61|\n",
            "|                NB|     57|\n",
            "|                BC|     54|\n",
            "|                PR|     38|\n",
            "|                MB|     17|\n",
            "|                SK|      9|\n",
            "|                FO|      8|\n",
            "+------------------+-------+\n",
            "\n"
          ]
        }
      ],
      "source": [
        "#Check what are these 65 states. US has only 50 or 51 states!!! Also check the frequencies of their occurenace in our dataset\n",
        "df.groupBy('Registration State').count().sort('count',ascending=False).show(65)"
      ]
    },
    {
      "cell_type": "markdown",
      "metadata": {
        "id": "3eqekU-nXjYT"
      },
      "source": [
        "### These states do not exists in USA:  99, BC, DP, FO, GV, MB, MX, NB, NS, NT, ON, PE, PR, QB, SK, TN"
      ]
    },
    {
      "cell_type": "code",
      "execution_count": null,
      "metadata": {
        "id": "TgxTXVZjXjYT"
      },
      "outputs": [],
      "source": [
        "#As per the instuction replace 99 with Max freq states. NY is max freq. Remaining wrong state codes I am leaving alone without touching\n",
        "df = df.replace([\"99\"],[\"NY\"], 'Registration State')"
      ]
    },
    {
      "cell_type": "code",
      "execution_count": null,
      "metadata": {
        "id": "7KeR22FRXjYT"
      },
      "outputs": [],
      "source": []
    },
    {
      "cell_type": "markdown",
      "metadata": {
        "id": "0ewwmwyWXjYT"
      },
      "source": [
        "### Number Tickets to Non-American or Wrong state code Vehicles"
      ]
    },
    {
      "cell_type": "code",
      "execution_count": null,
      "metadata": {
        "id": "I4uucZwoXjYT"
      },
      "outputs": [],
      "source": [
        "df_temp=spark.sql(\"SELECT *  FROM dfTable where year(`Issue Date`)=2017 and `Registration State` in ('BC', 'DP', 'FO', 'GV', 'MB', 'MX', 'NB', 'NS', 'NT', 'ON', 'PE', 'PR', 'QB', 'SK', 'TN')\")"
      ]
    },
    {
      "cell_type": "code",
      "execution_count": null,
      "metadata": {
        "id": "oWPYI7uWXjYT",
        "outputId": "3df86487-2f26-44c1-f3d0-873c399928dd"
      },
      "outputs": [
        {
          "name": "stdout",
          "output_type": "stream",
          "text": [
            "15,680\n"
          ]
        }
      ],
      "source": [
        "print('{:,}'.format(  df_temp.count()) )"
      ]
    },
    {
      "cell_type": "code",
      "execution_count": null,
      "metadata": {
        "id": "UXFYh9EJXjYT",
        "outputId": "e69b74f2-20ab-4cc6-db4a-52f7c3fe56d8"
      },
      "outputs": [
        {
          "name": "stdout",
          "output_type": "stream",
          "text": [
            "Unique States:  64\n",
            "+------------------+-------+\n",
            "|Registration State|  count|\n",
            "+------------------+-------+\n",
            "|                NY|4290006|\n",
            "|                NJ| 475825|\n",
            "|                PA| 140286|\n",
            "|                CT|  70403|\n",
            "|                FL|  69468|\n",
            "|                IN|  45525|\n",
            "|                MA|  38941|\n",
            "|                VA|  34367|\n",
            "|                MD|  30213|\n",
            "|                NC|  27152|\n",
            "|                TX|  18827|\n",
            "|                IL|  18666|\n",
            "|                GA|  17537|\n",
            "|                AZ|  12379|\n",
            "|                OH|  12281|\n",
            "|                CA|  12153|\n",
            "|                ME|  10806|\n",
            "|                SC|  10395|\n",
            "|                MN|  10083|\n",
            "|                OK|   9088|\n",
            "+------------------+-------+\n",
            "only showing top 20 rows\n",
            "\n"
          ]
        }
      ],
      "source": [
        "#Check where replace happend or not. And how many states after replacement\n",
        "print( \"Unique States: \",df.select('Registration State').distinct().count() )\n",
        "\n",
        "df.groupBy('Registration State').count().sort('count',ascending=False).show()"
      ]
    },
    {
      "cell_type": "markdown",
      "metadata": {
        "id": "72FzMkQZXjYU"
      },
      "source": [
        "### Aprart from Local, most of the Vehicle getting tickets are from NJ, PA, FL!\n",
        "### What may be the reasons? Can we know how many total vechicles come from these states to NY and then take the ratio against these numbers. If ratio is abnormal for some state then there is something serious and need to be further researched."
      ]
    },
    {
      "cell_type": "code",
      "execution_count": null,
      "metadata": {
        "id": "0duFan--XjYU"
      },
      "outputs": [],
      "source": [
        "from pyspark.sql.functions import mean,col,split, col, regexp_extract, when, lit, month"
      ]
    },
    {
      "cell_type": "markdown",
      "metadata": {
        "id": "asrW4_MRXjYU"
      },
      "source": [
        "### Create a new field to identify local vs non-local vehicles"
      ]
    },
    {
      "cell_type": "code",
      "execution_count": null,
      "metadata": {
        "id": "4qMRum_ZXjYV"
      },
      "outputs": [],
      "source": [
        "df =  df.withColumn('Local',lit(1))\n",
        "df =  df.withColumn(\"Local\",when((df[\"Registration State\"] != \"NY\"), 0).otherwise(1))"
      ]
    },
    {
      "cell_type": "code",
      "execution_count": null,
      "metadata": {
        "id": "OcSrIPdoXjYV"
      },
      "outputs": [],
      "source": []
    },
    {
      "cell_type": "markdown",
      "metadata": {
        "id": "AdDfrNYQXjYV"
      },
      "source": [
        "# Aggregation tasks"
      ]
    },
    {
      "cell_type": "code",
      "execution_count": null,
      "metadata": {
        "id": "AGI59MAwXjYV"
      },
      "outputs": [],
      "source": [
        "#How often does each violation code occur? Display the frequency of the top five violation codes."
      ]
    },
    {
      "cell_type": "code",
      "execution_count": null,
      "metadata": {
        "id": "4gDvnAdsXjYV",
        "outputId": "d63ec209-816b-48f6-df6a-3d359fbf0d87"
      },
      "outputs": [
        {
          "name": "stdout",
          "output_type": "stream",
          "text": [
            "root\n",
            " |-- Summons Number: string (nullable = true)\n",
            " |-- Plate ID: string (nullable = true)\n",
            " |-- Registration State: string (nullable = true)\n",
            " |-- Issue Date: string (nullable = true)\n",
            " |-- Violation Code: string (nullable = true)\n",
            " |-- Vehicle Body Type: string (nullable = true)\n",
            " |-- Vehicle Make: string (nullable = true)\n",
            " |-- Violation Precinct: string (nullable = true)\n",
            " |-- Issuer Precinct: string (nullable = true)\n",
            " |-- Violation Time: string (nullable = true)\n",
            " |-- Local: integer (nullable = false)\n",
            "\n"
          ]
        }
      ],
      "source": [
        "df.printSchema()"
      ]
    },
    {
      "cell_type": "markdown",
      "metadata": {
        "id": "ErqlYoO8XjYW"
      },
      "source": [
        "### Identify Null Values in Any Field of the dataset"
      ]
    },
    {
      "cell_type": "code",
      "execution_count": null,
      "metadata": {
        "id": "ldE4WHi2XjYW",
        "outputId": "36e0dce2-e10b-483d-9e32-8f6cc55eaf20"
      },
      "outputs": [
        {
          "name": "stdout",
          "output_type": "stream",
          "text": [
            "Null Value Columns\n"
          ]
        },
        {
          "data": {
            "text/plain": [
              "[('Summons Number', 0),\n",
              " ('Plate ID', 252),\n",
              " ('Registration State', 0),\n",
              " ('Issue Date', 0),\n",
              " ('Violation Code', 0),\n",
              " ('Vehicle Body Type', 20201),\n",
              " ('Vehicle Make', 38509),\n",
              " ('Violation Precinct', 0),\n",
              " ('Issuer Precinct', 0),\n",
              " ('Violation Time', 16),\n",
              " ('Local', 0)]"
            ]
          },
          "execution_count": 23,
          "metadata": {},
          "output_type": "execute_result"
        }
      ],
      "source": [
        "def null_value_count(df):\n",
        "    null_columns_counts = []\n",
        "    numRows = df.count()\n",
        "    for k in df.columns:\n",
        "        #df.where(df[k].isNull()).count()\n",
        "        nullRows = df.where(df[k]==\"nan\").count()\n",
        "        temp = k,nullRows\n",
        "        null_columns_counts.append(temp)\n",
        "    return(null_columns_counts)\n",
        "\n",
        "null_columns_count_list = null_value_count(df)\n",
        "\n",
        "print(\"Null Value Columns\")\n",
        "null_columns_count_list"
      ]
    },
    {
      "cell_type": "code",
      "execution_count": null,
      "metadata": {
        "id": "YxSqr1-6XjYW"
      },
      "outputs": [],
      "source": [
        "#Drop complete record if any of the value is null in any of the column\n",
        "df= df.where( df[\"Plate ID\"]!=\"nan\")\n",
        "df= df.where( df[\"Vehicle Body Type\"]!=\"nan\")\n",
        "df= df.where( df[\"Vehicle Make\"]!=\"nan\")\n",
        "df= df.where( df[\"Violation Time\"]!=\"nan\")\n"
      ]
    },
    {
      "cell_type": "code",
      "execution_count": null,
      "metadata": {
        "id": "ZbEPrwh6XjYW",
        "outputId": "883b8c16-99f3-44cf-f2a7-058694ca13d2"
      },
      "outputs": [
        {
          "name": "stdout",
          "output_type": "stream",
          "text": [
            "Null Value Columns\n"
          ]
        },
        {
          "data": {
            "text/plain": [
              "[('Summons Number', 0),\n",
              " ('Plate ID', 0),\n",
              " ('Registration State', 0),\n",
              " ('Issue Date', 0),\n",
              " ('Violation Code', 0),\n",
              " ('Vehicle Body Type', 0),\n",
              " ('Vehicle Make', 0),\n",
              " ('Violation Precinct', 0),\n",
              " ('Issuer Precinct', 0),\n",
              " ('Violation Time', 0),\n",
              " ('Local', 0)]"
            ]
          },
          "execution_count": 25,
          "metadata": {},
          "output_type": "execute_result"
        }
      ],
      "source": [
        "#Rechck Null Values\n",
        "null_columns_count_list = null_value_count(df)\n",
        "\n",
        "print(\"Null Value Columns\")\n",
        "null_columns_count_list"
      ]
    },
    {
      "cell_type": "markdown",
      "metadata": {
        "id": "16y_-deUXjYW"
      },
      "source": [
        "### Check How Many Unique Variables in each Categorical Field"
      ]
    },
    {
      "cell_type": "code",
      "execution_count": null,
      "metadata": {
        "id": "lFN9ftkdXjYX",
        "outputId": "d79f5ac4-4b1f-4a7c-d203-101ac9d9f488"
      },
      "outputs": [
        {
          "name": "stdout",
          "output_type": "stream",
          "text": [
            "Unique Vehicles          : 1,963,358\n",
            "Unique Violation Code    : 100\n",
            "Unique Vehicle Body Type : 1,082\n",
            "Unique Vehicle Make      : 3,073\n",
            "Unique Violation Precinct: 167\n",
            "Unique Issuer Precinct   : 497\n"
          ]
        }
      ],
      "source": [
        "print(\"Unique Vehicles          : {:,}\".format(  df.select('Plate ID').distinct().count())   )\n",
        "print(\"Unique Violation Code    : {:,}\".format(  df.select('Violation Code').distinct().count())   )\n",
        "print(\"Unique Vehicle Body Type : {:,}\".format(  df.select('Vehicle Body Type').distinct().count())   )\n",
        "print(\"Unique Vehicle Make      : {:,}\".format(  df.select('Vehicle Make').distinct().count())   )\n",
        "print(\"Unique Violation Precinct: {:,}\".format(  df.select('Violation Precinct').distinct().count())   )\n",
        "print(\"Unique Issuer Precinct   : {:,}\".format(  df.select('Issuer Precinct').distinct().count())   )"
      ]
    },
    {
      "cell_type": "markdown",
      "metadata": {
        "id": "2dHgQjufXjYX"
      },
      "source": [
        "### Check any duplicate summon number"
      ]
    },
    {
      "cell_type": "code",
      "execution_count": null,
      "metadata": {
        "id": "voGyagwFXjYX",
        "outputId": "0cb2ddd2-99aa-43ef-8b56-5086278ae4fd"
      },
      "outputs": [
        {
          "name": "stdout",
          "output_type": "stream",
          "text": [
            "Unique Summons Number   : 5,378,917\n",
            "Number of Records       : 5,378,917\n"
          ]
        }
      ],
      "source": [
        "print(\"Unique Summons Number   : {:,}\".format(  df.select('Summons Number').distinct().count())   )\n",
        "print(\"Number of Records       : {:,}\".format(  df.select('Summons Number').count())   )"
      ]
    },
    {
      "cell_type": "markdown",
      "metadata": {
        "id": "DP0_AKMKXjYX"
      },
      "source": [
        "#### No duplicate Summon Number. So, this field can be considered primary key."
      ]
    },
    {
      "cell_type": "code",
      "execution_count": null,
      "metadata": {
        "id": "QtbWBhqQXjYX"
      },
      "outputs": [],
      "source": [
        "import seaborn as sns\n",
        "import matplotlib.pyplot as plt"
      ]
    },
    {
      "cell_type": "markdown",
      "metadata": {
        "id": "rd9oCK0mXjYX"
      },
      "source": [
        "### Vehicle Analysis"
      ]
    },
    {
      "cell_type": "code",
      "execution_count": null,
      "metadata": {
        "id": "x8JUG5XvXjYX"
      },
      "outputs": [],
      "source": []
    },
    {
      "cell_type": "code",
      "execution_count": null,
      "metadata": {
        "id": "5UpJXBegXjYY"
      },
      "outputs": [],
      "source": [
        "def bar_plot(df, X, title=\"\"):\n",
        "    plt.figure(figsize=(20,5))\n",
        "    ax1=sns.barplot(x=X, y='count', data=df)\n",
        "\n",
        "    plt.title(title)\n",
        "    plt.ylabel(\"Count\")\n",
        "    plt.xlabel(X)\n",
        "\n",
        "    sns.set_style(\"white\")\n",
        "\n",
        "    # Rotate the labels on x-axis\n",
        "    for item in ax1.get_xticklabels():\n",
        "        item.set_rotation(90)\n",
        "\n",
        "    plt.show()"
      ]
    },
    {
      "cell_type": "code",
      "execution_count": null,
      "metadata": {
        "id": "bLEWdU2dXjYY",
        "outputId": "bb182b55-cee4-41a4-cdb4-48f29877027e"
      },
      "outputs": [
        {
          "data": {
            "image/png": "[encoded data removed]",
            "text/plain": [
              "<Figure size 1440x360 with 1 Axes>"
            ]
          },
          "metadata": {},
          "output_type": "display_data"
        }
      ],
      "source": [
        "df2=df.select('Plate ID').groupBy('Plate ID').count().sort('count',ascending=False)\n",
        "df_plate =df2.toPandas()\n",
        "bar_plot(df_plate[:30],\"Plate ID\",\"Violations Frequeny for various Plates\")"
      ]
    },
    {
      "cell_type": "code",
      "execution_count": null,
      "metadata": {
        "id": "bwtAstbnXjYY",
        "outputId": "a94490a8-9f21-4205-8481-87d909b9421b"
      },
      "outputs": [
        {
          "data": {
            "text/plain": [
              "3378"
            ]
          },
          "execution_count": 31,
          "metadata": {},
          "output_type": "execute_result"
        }
      ],
      "source": [
        "#3378 Records with Blankplate. i.e. BlankPlate taxi got ticket 3378 times.\n",
        "df.where( df[\"Plate ID\"]==\"BLANKPLATE\").count()"
      ]
    },
    {
      "cell_type": "code",
      "execution_count": null,
      "metadata": {
        "id": "oszgoy-MXjYY",
        "outputId": "3d14b06f-31b7-4b8a-f4cb-5141b5c826b5"
      },
      "outputs": [
        {
          "data": {
            "image/png": "[encoded data removed]",
            "text/plain": [
              "<Figure size 1440x360 with 1 Axes>"
            ]
          },
          "metadata": {},
          "output_type": "display_data"
        }
      ],
      "source": [
        "df2=df.select('Registration State').groupBy('Registration State').count().sort('count',ascending=False)\n",
        "df_state =df2.toPandas()\n",
        "bar_plot(df_state,\"Registration State\",\"Violations Frequeny Statewise\")"
      ]
    },
    {
      "cell_type": "code",
      "execution_count": null,
      "metadata": {
        "id": "tHCSagFLXjYY",
        "outputId": "bc4c9ba3-0233-4475-fad6-0442c2aac34b"
      },
      "outputs": [
        {
          "data": {
            "text/html": [
              "<div>\n",
              "<style scoped>\n",
              "    .dataframe tbody tr th:only-of-type {\n",
              "        vertical-align: middle;\n",
              "    }\n",
              "\n",
              "    .dataframe tbody tr th {\n",
              "        vertical-align: top;\n",
              "    }\n",
              "\n",
              "    .dataframe thead th {\n",
              "        text-align: right;\n",
              "    }\n",
              "</style>\n",
              "<table border=\"1\" class=\"dataframe\">\n",
              "  <thead>\n",
              "    <tr style=\"text-align: right;\">\n",
              "      <th></th>\n",
              "      <th>Registration State</th>\n",
              "      <th>count</th>\n",
              "    </tr>\n",
              "  </thead>\n",
              "  <tbody>\n",
              "    <tr>\n",
              "      <th>0</th>\n",
              "      <td>NY</td>\n",
              "      <td>4256573</td>\n",
              "    </tr>\n",
              "    <tr>\n",
              "      <th>1</th>\n",
              "      <td>NJ</td>\n",
              "      <td>470390</td>\n",
              "    </tr>\n",
              "    <tr>\n",
              "      <th>2</th>\n",
              "      <td>PA</td>\n",
              "      <td>138323</td>\n",
              "    </tr>\n",
              "    <tr>\n",
              "      <th>3</th>\n",
              "      <td>CT</td>\n",
              "      <td>69624</td>\n",
              "    </tr>\n",
              "    <tr>\n",
              "      <th>4</th>\n",
              "      <td>FL</td>\n",
              "      <td>68626</td>\n",
              "    </tr>\n",
              "    <tr>\n",
              "      <th>5</th>\n",
              "      <td>IN</td>\n",
              "      <td>44860</td>\n",
              "    </tr>\n",
              "    <tr>\n",
              "      <th>6</th>\n",
              "      <td>MA</td>\n",
              "      <td>38253</td>\n",
              "    </tr>\n",
              "    <tr>\n",
              "      <th>7</th>\n",
              "      <td>VA</td>\n",
              "      <td>33961</td>\n",
              "    </tr>\n",
              "    <tr>\n",
              "      <th>8</th>\n",
              "      <td>MD</td>\n",
              "      <td>29956</td>\n",
              "    </tr>\n",
              "    <tr>\n",
              "      <th>9</th>\n",
              "      <td>NC</td>\n",
              "      <td>26820</td>\n",
              "    </tr>\n",
              "    <tr>\n",
              "      <th>10</th>\n",
              "      <td>TX</td>\n",
              "      <td>18585</td>\n",
              "    </tr>\n",
              "    <tr>\n",
              "      <th>11</th>\n",
              "      <td>IL</td>\n",
              "      <td>18182</td>\n",
              "    </tr>\n",
              "    <tr>\n",
              "      <th>12</th>\n",
              "      <td>GA</td>\n",
              "      <td>17346</td>\n",
              "    </tr>\n",
              "    <tr>\n",
              "      <th>13</th>\n",
              "      <td>AZ</td>\n",
              "      <td>12180</td>\n",
              "    </tr>\n",
              "    <tr>\n",
              "      <th>14</th>\n",
              "      <td>OH</td>\n",
              "      <td>12137</td>\n",
              "    </tr>\n",
              "    <tr>\n",
              "      <th>15</th>\n",
              "      <td>CA</td>\n",
              "      <td>11985</td>\n",
              "    </tr>\n",
              "    <tr>\n",
              "      <th>16</th>\n",
              "      <td>SC</td>\n",
              "      <td>10302</td>\n",
              "    </tr>\n",
              "    <tr>\n",
              "      <th>17</th>\n",
              "      <td>MN</td>\n",
              "      <td>9709</td>\n",
              "    </tr>\n",
              "    <tr>\n",
              "      <th>18</th>\n",
              "      <td>OK</td>\n",
              "      <td>8816</td>\n",
              "    </tr>\n",
              "    <tr>\n",
              "      <th>19</th>\n",
              "      <td>ME</td>\n",
              "      <td>8184</td>\n",
              "    </tr>\n",
              "    <tr>\n",
              "      <th>20</th>\n",
              "      <td>DE</td>\n",
              "      <td>7778</td>\n",
              "    </tr>\n",
              "    <tr>\n",
              "      <th>21</th>\n",
              "      <td>TN</td>\n",
              "      <td>7297</td>\n",
              "    </tr>\n",
              "    <tr>\n",
              "      <th>22</th>\n",
              "      <td>MI</td>\n",
              "      <td>7128</td>\n",
              "    </tr>\n",
              "    <tr>\n",
              "      <th>23</th>\n",
              "      <td>RI</td>\n",
              "      <td>5153</td>\n",
              "    </tr>\n",
              "    <tr>\n",
              "      <th>24</th>\n",
              "      <td>NH</td>\n",
              "      <td>4073</td>\n",
              "    </tr>\n",
              "    <tr>\n",
              "      <th>25</th>\n",
              "      <td>VT</td>\n",
              "      <td>3642</td>\n",
              "    </tr>\n",
              "    <tr>\n",
              "      <th>26</th>\n",
              "      <td>AL</td>\n",
              "      <td>3139</td>\n",
              "    </tr>\n",
              "    <tr>\n",
              "      <th>27</th>\n",
              "      <td>WA</td>\n",
              "      <td>2977</td>\n",
              "    </tr>\n",
              "    <tr>\n",
              "      <th>28</th>\n",
              "      <td>OR</td>\n",
              "      <td>2480</td>\n",
              "    </tr>\n",
              "    <tr>\n",
              "      <th>29</th>\n",
              "      <td>MO</td>\n",
              "      <td>2462</td>\n",
              "    </tr>\n",
              "  </tbody>\n",
              "</table>\n",
              "</div>"
            ],
            "text/plain": [
              "   Registration State    count\n",
              "0                  NY  4256573\n",
              "1                  NJ   470390\n",
              "2                  PA   138323\n",
              "3                  CT    69624\n",
              "4                  FL    68626\n",
              "5                  IN    44860\n",
              "6                  MA    38253\n",
              "7                  VA    33961\n",
              "8                  MD    29956\n",
              "9                  NC    26820\n",
              "10                 TX    18585\n",
              "11                 IL    18182\n",
              "12                 GA    17346\n",
              "13                 AZ    12180\n",
              "14                 OH    12137\n",
              "15                 CA    11985\n",
              "16                 SC    10302\n",
              "17                 MN     9709\n",
              "18                 OK     8816\n",
              "19                 ME     8184\n",
              "20                 DE     7778\n",
              "21                 TN     7297\n",
              "22                 MI     7128\n",
              "23                 RI     5153\n",
              "24                 NH     4073\n",
              "25                 VT     3642\n",
              "26                 AL     3139\n",
              "27                 WA     2977\n",
              "28                 OR     2480\n",
              "29                 MO     2462"
            ]
          },
          "execution_count": 33,
          "metadata": {},
          "output_type": "execute_result"
        }
      ],
      "source": [
        "df_state[:30]"
      ]
    },
    {
      "cell_type": "code",
      "execution_count": null,
      "metadata": {
        "id": "U1jq6APNXjYY"
      },
      "outputs": [],
      "source": [
        "from pyspark.sql.functions import date_trunc\n",
        "from pyspark.sql.functions import dayofmonth, month, dayofweek"
      ]
    },
    {
      "cell_type": "markdown",
      "metadata": {
        "id": "dcmfj2d5XjYY"
      },
      "source": [
        "## Monthly Ticket Issue\n",
        "### Almost no data is available from Jul to Dec Period. From the availalbe data most Tickets were issued in May followed by Mar. It looks there is some problem in data"
      ]
    },
    {
      "cell_type": "code",
      "execution_count": null,
      "metadata": {
        "id": "noP2pBh3XjYY",
        "outputId": "0290afba-1440-4de9-f588-3d6f80877adb"
      },
      "outputs": [
        {
          "data": {
            "image/png": "[encoded data removed]",
            "text/plain": [
              "<Figure size 1440x360 with 1 Axes>"
            ]
          },
          "metadata": {},
          "output_type": "display_data"
        }
      ],
      "source": [
        "df_month = df.select(month(df[\"Issue Date\"]).alias('month')).groupBy('month').count().sort('count',ascending=False).toPandas()\n",
        "bar_plot(df_month,\"month\",\"Violations Frequeny Monthwise\")"
      ]
    },
    {
      "cell_type": "code",
      "execution_count": null,
      "metadata": {
        "id": "3Jasak_qXjYY",
        "outputId": "955c4c41-c144-4c78-8774-264f81083001"
      },
      "outputs": [
        {
          "data": {
            "text/html": [
              "<div>\n",
              "<style scoped>\n",
              "    .dataframe tbody tr th:only-of-type {\n",
              "        vertical-align: middle;\n",
              "    }\n",
              "\n",
              "    .dataframe tbody tr th {\n",
              "        vertical-align: top;\n",
              "    }\n",
              "\n",
              "    .dataframe thead th {\n",
              "        text-align: right;\n",
              "    }\n",
              "</style>\n",
              "<table border=\"1\" class=\"dataframe\">\n",
              "  <thead>\n",
              "    <tr style=\"text-align: right;\">\n",
              "      <th></th>\n",
              "      <th>month</th>\n",
              "      <th>count</th>\n",
              "    </tr>\n",
              "  </thead>\n",
              "  <tbody>\n",
              "    <tr>\n",
              "      <th>0</th>\n",
              "      <td>5</td>\n",
              "      <td>1009673</td>\n",
              "    </tr>\n",
              "    <tr>\n",
              "      <th>1</th>\n",
              "      <td>3</td>\n",
              "      <td>954993</td>\n",
              "    </tr>\n",
              "    <tr>\n",
              "      <th>2</th>\n",
              "      <td>4</td>\n",
              "      <td>878829</td>\n",
              "    </tr>\n",
              "    <tr>\n",
              "      <th>3</th>\n",
              "      <td>1</td>\n",
              "      <td>868734</td>\n",
              "    </tr>\n",
              "  </tbody>\n",
              "</table>\n",
              "</div>"
            ],
            "text/plain": [
              "   month    count\n",
              "0      5  1009673\n",
              "1      3   954993\n",
              "2      4   878829\n",
              "3      1   868734"
            ]
          },
          "execution_count": 36,
          "metadata": {},
          "output_type": "execute_result"
        }
      ],
      "source": [
        "df_month[:4]"
      ]
    },
    {
      "cell_type": "markdown",
      "metadata": {
        "id": "FI57BrbMXjYY"
      },
      "source": [
        "## Day of Week Ticket Issue\n",
        "### On Monday there are least # of tickets issued followed by Sat. Friday and Wed are most ticket issued."
      ]
    },
    {
      "cell_type": "code",
      "execution_count": null,
      "metadata": {
        "id": "cizn8oQbXjYY",
        "outputId": "d386de51-fa6b-43b8-fcb8-8647f514f005"
      },
      "outputs": [
        {
          "data": {
            "image/png": "[encoded data removed]",
            "text/plain": [
              "<Figure size 1440x360 with 1 Axes>"
            ]
          },
          "metadata": {},
          "output_type": "display_data"
        }
      ],
      "source": [
        "df_dow   = df.select(dayofweek(df[\"Issue Date\"]).alias('dow')).groupBy('dow').count().sort('count',ascending=False).toPandas()\n",
        "bar_plot(df_dow,\"dow\", \"Violations Frequeny Day of Week Wise\")"
      ]
    },
    {
      "cell_type": "code",
      "execution_count": null,
      "metadata": {
        "id": "jUKC0useXjYY",
        "outputId": "34e56e14-f710-454f-e3cb-61694ced3ef5"
      },
      "outputs": [
        {
          "data": {
            "text/html": [
              "<div>\n",
              "<style scoped>\n",
              "    .dataframe tbody tr th:only-of-type {\n",
              "        vertical-align: middle;\n",
              "    }\n",
              "\n",
              "    .dataframe tbody tr th {\n",
              "        vertical-align: top;\n",
              "    }\n",
              "\n",
              "    .dataframe thead th {\n",
              "        text-align: right;\n",
              "    }\n",
              "</style>\n",
              "<table border=\"1\" class=\"dataframe\">\n",
              "  <thead>\n",
              "    <tr style=\"text-align: right;\">\n",
              "      <th></th>\n",
              "      <th>dow</th>\n",
              "      <th>count</th>\n",
              "    </tr>\n",
              "  </thead>\n",
              "  <tbody>\n",
              "    <tr>\n",
              "      <th>0</th>\n",
              "      <td>5</td>\n",
              "      <td>953004</td>\n",
              "    </tr>\n",
              "    <tr>\n",
              "      <th>1</th>\n",
              "      <td>3</td>\n",
              "      <td>951629</td>\n",
              "    </tr>\n",
              "    <tr>\n",
              "      <th>2</th>\n",
              "      <td>6</td>\n",
              "      <td>924332</td>\n",
              "    </tr>\n",
              "    <tr>\n",
              "      <th>3</th>\n",
              "      <td>4</td>\n",
              "      <td>919010</td>\n",
              "    </tr>\n",
              "    <tr>\n",
              "      <th>4</th>\n",
              "      <td>2</td>\n",
              "      <td>860602</td>\n",
              "    </tr>\n",
              "    <tr>\n",
              "      <th>5</th>\n",
              "      <td>7</td>\n",
              "      <td>555417</td>\n",
              "    </tr>\n",
              "    <tr>\n",
              "      <th>6</th>\n",
              "      <td>1</td>\n",
              "      <td>214923</td>\n",
              "    </tr>\n",
              "  </tbody>\n",
              "</table>\n",
              "</div>"
            ],
            "text/plain": [
              "   dow   count\n",
              "0    5  953004\n",
              "1    3  951629\n",
              "2    6  924332\n",
              "3    4  919010\n",
              "4    2  860602\n",
              "5    7  555417\n",
              "6    1  214923"
            ]
          },
          "execution_count": 38,
          "metadata": {},
          "output_type": "execute_result"
        }
      ],
      "source": [
        "df_dow[:7]"
      ]
    },
    {
      "cell_type": "markdown",
      "metadata": {
        "id": "InNAVgGlXjYZ"
      },
      "source": [
        "### Is there any trend of Local (New Yorker) vs Non-Local on Any Weekday\n",
        "#### Most of Tickets are for Local people. No significant difference on any day."
      ]
    },
    {
      "cell_type": "code",
      "execution_count": null,
      "metadata": {
        "id": "_0_i5QKmXjYZ",
        "outputId": "d74f65fc-52f4-49ed-c329-c20aee532e06"
      },
      "outputs": [
        {
          "data": {
            "image/png": "[encoded data removed]",
            "text/plain": [
              "<Figure size 960x480 with 1 Axes>"
            ]
          },
          "metadata": {},
          "output_type": "display_data"
        }
      ],
      "source": [
        "import numpy as np\n",
        "import matplotlib.pyplot as plt\n",
        "import matplotlib.patches as mpatches\n",
        "\n",
        "df_dow   = df.select(dayofweek(df[\"Issue Date\"]).alias('dow'), df[\"Local\"]).groupBy('dow',\"Local\").count().sort('count',ascending=False).toPandas()\n",
        "\n",
        "df_dow_local= df_dow[ df_dow.Local==1]\n",
        "df_dow_nlocal=df_dow[ df_dow.Local==0]\n",
        "\n",
        "plt.figure(num=None, figsize=(12, 6), dpi=80, facecolor='w', edgecolor='k') #size of the plot\n",
        "\n",
        "#labels=#['Mon','Tue','Wed','Thu','Fri','Sat','Sun']\n",
        "plt.bar(df_dow_local['dow'] , df_dow_local['count'], color = 'b', width = 0.5) # plotting the graph\n",
        "plt.bar(df_dow_nlocal['dow'], df_dow_nlocal['count'], color = 'g', width = 0.5)\n",
        "plt.xticks(df_dow_local['dow'],  rotation=45) #providing xticks to the graph\n",
        "\n",
        "blue_patch=mpatches.Patch(color='b',label='New York')\n",
        "green_patch=mpatches.Patch(color='g',label='Other Cities')\n",
        "plt.legend(handles=[blue_patch,green_patch]) #providing the labels\n",
        "plt.xlabel('Week Day',fontsize=16)\n",
        "plt.ylabel('Number of Tickets',fontsize=16)\n",
        "plt.show()"
      ]
    },
    {
      "cell_type": "markdown",
      "metadata": {
        "id": "ZmEc-H5sXjYZ"
      },
      "source": [
        "## Day of Month\n",
        "#### Most number of tickets are issued on 3 of every month, followed by 27, 20 & 6"
      ]
    },
    {
      "cell_type": "code",
      "execution_count": null,
      "metadata": {
        "id": "gFVSsYPHXjYZ",
        "outputId": "7b41b4db-3c15-44d7-cc7a-f20c369275ec"
      },
      "outputs": [
        {
          "data": {
            "image/png": "[encoded data removed]",
            "text/plain": [
              "<Figure size 1440x360 with 1 Axes>"
            ]
          },
          "metadata": {},
          "output_type": "display_data"
        }
      ],
      "source": [
        "df_dom   = df.select(dayofmonth(df[\"Issue Date\"]).alias('dom')).groupBy('dom').count().sort('count',ascending=False).toPandas()\n",
        "bar_plot(df_dom,\"dom\",\"Violations Frequeny Day of Month-wise\")"
      ]
    },
    {
      "cell_type": "code",
      "execution_count": null,
      "metadata": {
        "id": "rp2Gjc2mXjYZ",
        "outputId": "6559115c-9fd7-4236-d9e0-d813ed69f3d9"
      },
      "outputs": [
        {
          "data": {
            "text/html": [
              "<div>\n",
              "<style scoped>\n",
              "    .dataframe tbody tr th:only-of-type {\n",
              "        vertical-align: middle;\n",
              "    }\n",
              "\n",
              "    .dataframe tbody tr th {\n",
              "        vertical-align: top;\n",
              "    }\n",
              "\n",
              "    .dataframe thead th {\n",
              "        text-align: right;\n",
              "    }\n",
              "</style>\n",
              "<table border=\"1\" class=\"dataframe\">\n",
              "  <thead>\n",
              "    <tr style=\"text-align: right;\">\n",
              "      <th></th>\n",
              "      <th>dom</th>\n",
              "      <th>count</th>\n",
              "    </tr>\n",
              "  </thead>\n",
              "  <tbody>\n",
              "    <tr>\n",
              "      <th>0</th>\n",
              "      <td>3</td>\n",
              "      <td>223350</td>\n",
              "    </tr>\n",
              "    <tr>\n",
              "      <th>1</th>\n",
              "      <td>27</td>\n",
              "      <td>214675</td>\n",
              "    </tr>\n",
              "    <tr>\n",
              "      <th>2</th>\n",
              "      <td>20</td>\n",
              "      <td>214494</td>\n",
              "    </tr>\n",
              "    <tr>\n",
              "      <th>3</th>\n",
              "      <td>6</td>\n",
              "      <td>209473</td>\n",
              "    </tr>\n",
              "  </tbody>\n",
              "</table>\n",
              "</div>"
            ],
            "text/plain": [
              "   dom   count\n",
              "0    3  223350\n",
              "1   27  214675\n",
              "2   20  214494\n",
              "3    6  209473"
            ]
          },
          "execution_count": 41,
          "metadata": {},
          "output_type": "execute_result"
        }
      ],
      "source": [
        "df_dom[:4]"
      ]
    },
    {
      "cell_type": "markdown",
      "metadata": {
        "id": "ngk1L_qCXjYZ"
      },
      "source": [
        "### 1  How often does each violation code occur? Display the frequency of the top five violation codes.\n",
        "#### Most of the violoation happend for code 21, followed by 36."
      ]
    },
    {
      "cell_type": "code",
      "execution_count": null,
      "metadata": {
        "id": "MgNnWEmEXjYZ",
        "outputId": "57e88eb3-4945-417e-b698-123d1b96754f"
      },
      "outputs": [
        {
          "data": {
            "image/png": "[encoded data removed]",
            "text/plain": [
              "<Figure size 1440x360 with 1 Axes>"
            ]
          },
          "metadata": {},
          "output_type": "display_data"
        }
      ],
      "source": [
        "df2=df.select('Violation Code').groupBy('Violation Code').count().sort('count',ascending=False)\n",
        "df_violation =df2.toPandas()\n",
        "bar_plot(df_violation,\"Violation Code\", \"Violations Frequeny Violation Code-wise\")"
      ]
    },
    {
      "cell_type": "code",
      "execution_count": null,
      "metadata": {
        "id": "eohXfdi7XjYZ",
        "outputId": "0908fe2d-2cb0-4299-aa8b-eaf93d43bcdd"
      },
      "outputs": [
        {
          "name": "stdout",
          "output_type": "stream",
          "text": [
            "100\n"
          ]
        },
        {
          "data": {
            "text/html": [
              "<div>\n",
              "<style scoped>\n",
              "    .dataframe tbody tr th:only-of-type {\n",
              "        vertical-align: middle;\n",
              "    }\n",
              "\n",
              "    .dataframe tbody tr th {\n",
              "        vertical-align: top;\n",
              "    }\n",
              "\n",
              "    .dataframe thead th {\n",
              "        text-align: right;\n",
              "    }\n",
              "</style>\n",
              "<table border=\"1\" class=\"dataframe\">\n",
              "  <thead>\n",
              "    <tr style=\"text-align: right;\">\n",
              "      <th></th>\n",
              "      <th>Violation Code</th>\n",
              "      <th>count</th>\n",
              "    </tr>\n",
              "  </thead>\n",
              "  <tbody>\n",
              "    <tr>\n",
              "      <th>0</th>\n",
              "      <td>21</td>\n",
              "      <td>759775</td>\n",
              "    </tr>\n",
              "    <tr>\n",
              "      <th>1</th>\n",
              "      <td>36</td>\n",
              "      <td>661827</td>\n",
              "    </tr>\n",
              "    <tr>\n",
              "      <th>2</th>\n",
              "      <td>38</td>\n",
              "      <td>540128</td>\n",
              "    </tr>\n",
              "    <tr>\n",
              "      <th>3</th>\n",
              "      <td>14</td>\n",
              "      <td>472242</td>\n",
              "    </tr>\n",
              "    <tr>\n",
              "      <th>4</th>\n",
              "      <td>20</td>\n",
              "      <td>317639</td>\n",
              "    </tr>\n",
              "  </tbody>\n",
              "</table>\n",
              "</div>"
            ],
            "text/plain": [
              "  Violation Code   count\n",
              "0             21  759775\n",
              "1             36  661827\n",
              "2             38  540128\n",
              "3             14  472242\n",
              "4             20  317639"
            ]
          },
          "execution_count": 43,
          "metadata": {},
          "output_type": "execute_result"
        }
      ],
      "source": [
        "print(len(df_violation))\n",
        "df_violation[:5]"
      ]
    },
    {
      "cell_type": "code",
      "execution_count": null,
      "metadata": {
        "id": "SIXEAtukXjYZ"
      },
      "outputs": [],
      "source": [
        "#df_violation.to_csv(\"violation.csv\")"
      ]
    },
    {
      "cell_type": "markdown",
      "metadata": {
        "id": "uDVslrciXjYZ"
      },
      "source": [
        "### 2 How often does each 'vehicle body type' get a parking ticket?  (Hint: Find the top 5 for both.)\n",
        "### Most of the vechicle getting tickets have SUBN body type, followed by 4 DSD type"
      ]
    },
    {
      "cell_type": "code",
      "execution_count": null,
      "metadata": {
        "id": "6QvKVxgtXjYZ",
        "outputId": "f5e43ead-c351-49c6-b97e-7b7556f564ff"
      },
      "outputs": [
        {
          "data": {
            "image/png": "[encoded data removed]",
            "text/plain": [
              "<Figure size 1440x360 with 1 Axes>"
            ]
          },
          "metadata": {},
          "output_type": "display_data"
        }
      ],
      "source": [
        "df2=df.select('Vehicle Body Type').groupBy('Vehicle Body Type').count().sort('count',ascending=False)\n",
        "df_vb =df2.toPandas()\n",
        "bar_plot(df_vb[:30],\"Vehicle Body Type\",\"Violations Frequeny Vechicle Body Type-wise\")"
      ]
    },
    {
      "cell_type": "code",
      "execution_count": null,
      "metadata": {
        "id": "xG8Je6juXjYZ",
        "outputId": "5b9a6650-e1b8-4d03-cec5-e0345a4d3fc9"
      },
      "outputs": [
        {
          "name": "stdout",
          "output_type": "stream",
          "text": [
            "1082\n"
          ]
        },
        {
          "data": {
            "text/html": [
              "<div>\n",
              "<style scoped>\n",
              "    .dataframe tbody tr th:only-of-type {\n",
              "        vertical-align: middle;\n",
              "    }\n",
              "\n",
              "    .dataframe tbody tr th {\n",
              "        vertical-align: top;\n",
              "    }\n",
              "\n",
              "    .dataframe thead th {\n",
              "        text-align: right;\n",
              "    }\n",
              "</style>\n",
              "<table border=\"1\" class=\"dataframe\">\n",
              "  <thead>\n",
              "    <tr style=\"text-align: right;\">\n",
              "      <th></th>\n",
              "      <th>Vehicle Body Type</th>\n",
              "      <th>count</th>\n",
              "    </tr>\n",
              "  </thead>\n",
              "  <tbody>\n",
              "    <tr>\n",
              "      <th>0</th>\n",
              "      <td>SUBN</td>\n",
              "      <td>1880731</td>\n",
              "    </tr>\n",
              "    <tr>\n",
              "      <th>1</th>\n",
              "      <td>4DSD</td>\n",
              "      <td>1546935</td>\n",
              "    </tr>\n",
              "    <tr>\n",
              "      <th>2</th>\n",
              "      <td>VAN</td>\n",
              "      <td>718880</td>\n",
              "    </tr>\n",
              "    <tr>\n",
              "      <th>3</th>\n",
              "      <td>DELV</td>\n",
              "      <td>351872</td>\n",
              "    </tr>\n",
              "    <tr>\n",
              "      <th>4</th>\n",
              "      <td>SDN</td>\n",
              "      <td>190318</td>\n",
              "    </tr>\n",
              "  </tbody>\n",
              "</table>\n",
              "</div>"
            ],
            "text/plain": [
              "  Vehicle Body Type    count\n",
              "0              SUBN  1880731\n",
              "1              4DSD  1546935\n",
              "2               VAN   718880\n",
              "3              DELV   351872\n",
              "4               SDN   190318"
            ]
          },
          "execution_count": 46,
          "metadata": {},
          "output_type": "execute_result"
        }
      ],
      "source": [
        "print( len(df_vb))\n",
        "df_vb[:5]"
      ]
    },
    {
      "cell_type": "markdown",
      "metadata": {
        "id": "M91Bh_nfXjYZ"
      },
      "source": [
        "### 2 How often does each 'vehicle make' get a parking ticket?  (Hint: Find the top 5)\n",
        "### Ford Vechicle get ticket most frequently followed by Toyota and Honda! Is it because most of the Vehicle driving in the City of Ford? Or there is something wrong with Ford Vehicle? Or something wrong with Ford Drivers and their attitude?"
      ]
    },
    {
      "cell_type": "code",
      "execution_count": null,
      "metadata": {
        "id": "HmdowKKfXjYZ",
        "outputId": "204705e9-fdf7-47f1-de4b-e2e0f163b40e"
      },
      "outputs": [
        {
          "data": {
            "image/png": "[encoded data removed]",
            "text/plain": [
              "<Figure size 1440x360 with 1 Axes>"
            ]
          },
          "metadata": {},
          "output_type": "display_data"
        }
      ],
      "source": [
        "df2=df.select('Vehicle Make').groupBy('Vehicle Make').count().sort('count',ascending=False)\n",
        "df_vm =df2.toPandas()\n",
        "bar_plot(df_vm[:30],\"Vehicle Make\", \"Violations Frequeny Vechicle Make-wise\")"
      ]
    },
    {
      "cell_type": "code",
      "execution_count": null,
      "metadata": {
        "id": "bMgrRlDKXjYZ",
        "outputId": "1c6b1a7d-a455-4fdc-ed25-7efe31360ede"
      },
      "outputs": [
        {
          "name": "stdout",
          "output_type": "stream",
          "text": [
            "3073\n"
          ]
        },
        {
          "data": {
            "text/html": [
              "<div>\n",
              "<style scoped>\n",
              "    .dataframe tbody tr th:only-of-type {\n",
              "        vertical-align: middle;\n",
              "    }\n",
              "\n",
              "    .dataframe tbody tr th {\n",
              "        vertical-align: top;\n",
              "    }\n",
              "\n",
              "    .dataframe thead th {\n",
              "        text-align: right;\n",
              "    }\n",
              "</style>\n",
              "<table border=\"1\" class=\"dataframe\">\n",
              "  <thead>\n",
              "    <tr style=\"text-align: right;\">\n",
              "      <th></th>\n",
              "      <th>Vehicle Make</th>\n",
              "      <th>count</th>\n",
              "    </tr>\n",
              "  </thead>\n",
              "  <tbody>\n",
              "    <tr>\n",
              "      <th>0</th>\n",
              "      <td>FORD</td>\n",
              "      <td>635353</td>\n",
              "    </tr>\n",
              "    <tr>\n",
              "      <th>1</th>\n",
              "      <td>TOYOT</td>\n",
              "      <td>604078</td>\n",
              "    </tr>\n",
              "    <tr>\n",
              "      <th>2</th>\n",
              "      <td>HONDA</td>\n",
              "      <td>537604</td>\n",
              "    </tr>\n",
              "    <tr>\n",
              "      <th>3</th>\n",
              "      <td>NISSA</td>\n",
              "      <td>460923</td>\n",
              "    </tr>\n",
              "    <tr>\n",
              "      <th>4</th>\n",
              "      <td>CHEVR</td>\n",
              "      <td>355270</td>\n",
              "    </tr>\n",
              "  </tbody>\n",
              "</table>\n",
              "</div>"
            ],
            "text/plain": [
              "  Vehicle Make   count\n",
              "0         FORD  635353\n",
              "1        TOYOT  604078\n",
              "2        HONDA  537604\n",
              "3        NISSA  460923\n",
              "4        CHEVR  355270"
            ]
          },
          "execution_count": 48,
          "metadata": {},
          "output_type": "execute_result"
        }
      ],
      "source": [
        "print (len(df_vm))\n",
        "df_vm[:5]"
      ]
    },
    {
      "cell_type": "markdown",
      "metadata": {
        "id": "azAj9qdCXjYa"
      },
      "source": [
        "### 3. A precinct is a police station that has a certain zone of the city under its command. Find the (5 highest) frequencies of tickets for each of the following:\n",
        "\n",
        "### 3.1 'Violation Precinct' (This is the precinct of the zone where the violation occurred). Using this, can you draw any insights for parking violations in any specific areas of the city?"
      ]
    },
    {
      "cell_type": "code",
      "execution_count": null,
      "metadata": {
        "id": "e3LmCGe3XjYa",
        "outputId": "c68ff36a-e787-4fab-d79e-75e42cefcbcd"
      },
      "outputs": [
        {
          "data": {
            "image/png": "[encoded data removed]",
            "text/plain": [
              "<Figure size 1440x360 with 1 Axes>"
            ]
          },
          "metadata": {},
          "output_type": "display_data"
        }
      ],
      "source": [
        "df2=df.select('Violation Precinct').groupBy('Violation Precinct').count().sort('count',ascending=False)\n",
        "df_vp =df2.toPandas()\n",
        "bar_plot(df_vp[:30],\"Violation Precinct\", \"Violations Frequeny Violation Precint-wise\")"
      ]
    },
    {
      "cell_type": "markdown",
      "metadata": {
        "id": "oYchdB12XjYa"
      },
      "source": [
        "#### Here, you would have noticed that the dataframe has the 'Violating Precinct' or 'Issuing Precinct' as '0'. These are erroneous entries. Hence, you need to provide the records for five correct precincts. (Hint: Print the top six entries after sorting.)"
      ]
    },
    {
      "cell_type": "code",
      "execution_count": null,
      "metadata": {
        "id": "9haHejuPXjYa",
        "outputId": "675ba8a3-be46-436f-c3b0-13eb9232aa2a"
      },
      "outputs": [
        {
          "name": "stdout",
          "output_type": "stream",
          "text": [
            "167\n"
          ]
        },
        {
          "data": {
            "text/html": [
              "<div>\n",
              "<style scoped>\n",
              "    .dataframe tbody tr th:only-of-type {\n",
              "        vertical-align: middle;\n",
              "    }\n",
              "\n",
              "    .dataframe tbody tr th {\n",
              "        vertical-align: top;\n",
              "    }\n",
              "\n",
              "    .dataframe thead th {\n",
              "        text-align: right;\n",
              "    }\n",
              "</style>\n",
              "<table border=\"1\" class=\"dataframe\">\n",
              "  <thead>\n",
              "    <tr style=\"text-align: right;\">\n",
              "      <th></th>\n",
              "      <th>Violation Precinct</th>\n",
              "      <th>count</th>\n",
              "    </tr>\n",
              "  </thead>\n",
              "  <tbody>\n",
              "    <tr>\n",
              "      <th>0</th>\n",
              "      <td>0</td>\n",
              "      <td>923350</td>\n",
              "    </tr>\n",
              "    <tr>\n",
              "      <th>1</th>\n",
              "      <td>19</td>\n",
              "      <td>272134</td>\n",
              "    </tr>\n",
              "    <tr>\n",
              "      <th>2</th>\n",
              "      <td>14</td>\n",
              "      <td>200657</td>\n",
              "    </tr>\n",
              "    <tr>\n",
              "      <th>3</th>\n",
              "      <td>1</td>\n",
              "      <td>172094</td>\n",
              "    </tr>\n",
              "    <tr>\n",
              "      <th>4</th>\n",
              "      <td>18</td>\n",
              "      <td>165992</td>\n",
              "    </tr>\n",
              "    <tr>\n",
              "      <th>5</th>\n",
              "      <td>114</td>\n",
              "      <td>146764</td>\n",
              "    </tr>\n",
              "    <tr>\n",
              "      <th>6</th>\n",
              "      <td>13</td>\n",
              "      <td>124086</td>\n",
              "    </tr>\n",
              "  </tbody>\n",
              "</table>\n",
              "</div>"
            ],
            "text/plain": [
              "  Violation Precinct   count\n",
              "0                  0  923350\n",
              "1                 19  272134\n",
              "2                 14  200657\n",
              "3                  1  172094\n",
              "4                 18  165992\n",
              "5                114  146764\n",
              "6                 13  124086"
            ]
          },
          "execution_count": 50,
          "metadata": {},
          "output_type": "execute_result"
        }
      ],
      "source": [
        "print(len(df_vp))\n",
        "df_vp.loc[:6]"
      ]
    },
    {
      "cell_type": "markdown",
      "metadata": {
        "id": "sEI9ex7uXjYa"
      },
      "source": [
        "#### It looks there is serious parking problem or too much congetion in Area 19, 14, 1, 18, 114, 13. It may be possible that people donot care for law and rich enough to pay fine :)"
      ]
    },
    {
      "cell_type": "code",
      "execution_count": null,
      "metadata": {
        "id": "dSuiLjnNXjYa",
        "outputId": "2209ece6-ca95-475b-81df-7dd76f62b587"
      },
      "outputs": [
        {
          "name": "stdout",
          "output_type": "stream",
          "text": [
            "5378917\n"
          ]
        },
        {
          "data": {
            "text/plain": [
              "0     17.166095\n",
              "1     22.225366\n",
              "2     25.955801\n",
              "3     29.155218\n",
              "4     32.241193\n",
              "5     34.969697\n",
              "6     37.276593\n",
              "7     39.195437\n",
              "8     41.097437\n",
              "9     42.877033\n",
              "10    44.498028\n",
              "11    46.105842\n",
              "12    47.677888\n",
              "13    49.191984\n",
              "14    50.695874\n",
              "15    52.183125\n",
              "16    53.659928\n",
              "17    55.064765\n",
              "18    56.426080\n",
              "19    57.758207\n",
              "20    59.075479\n",
              "21    60.327553\n",
              "22    61.575536\n",
              "23    62.822981\n",
              "24    64.054716\n",
              "25    65.278828\n",
              "26    66.476207\n",
              "27    67.635548\n",
              "28    68.744712\n",
              "29    69.817233\n",
              "30    70.887132\n",
              "Name: count, dtype: float64"
            ]
          },
          "execution_count": 51,
          "metadata": {},
          "output_type": "execute_result"
        }
      ],
      "source": [
        "print(df_vp['count'].sum())\n",
        "(100*df_vp['count'].cumsum()/df_vp['count'].sum()).loc[:30]"
      ]
    },
    {
      "cell_type": "markdown",
      "metadata": {
        "id": "IcEiAscJXjYa"
      },
      "source": [
        "#### Most of violations are happening in zone 19.\n",
        "#### 52% of violotation are happening in 29 areas (i.e. 16% of areas are source 52% of violation)"
      ]
    },
    {
      "cell_type": "code",
      "execution_count": null,
      "metadata": {
        "id": "ZK_9OOPRXjYa"
      },
      "outputs": [],
      "source": []
    },
    {
      "cell_type": "markdown",
      "metadata": {
        "id": "vajsphNtXjYa"
      },
      "source": [
        "### 3.2 'Issuer Precinct' (This is the precinct that issued the ticket.)"
      ]
    },
    {
      "cell_type": "code",
      "execution_count": null,
      "metadata": {
        "id": "ynxwVvarXjYa",
        "outputId": "c6495563-96bc-4ae5-dd17-26b4c7ae5c86"
      },
      "outputs": [
        {
          "data": {
            "image/png": "[encoded data removed]",
            "text/plain": [
              "<Figure size 1440x360 with 1 Axes>"
            ]
          },
          "metadata": {},
          "output_type": "display_data"
        }
      ],
      "source": [
        "df2=df.select('Issuer Precinct').groupBy('Issuer Precinct').count().sort('count',ascending=False)\n",
        "df_ip =df2.toPandas()\n",
        "bar_plot(df_ip[:30],\"Issuer Precinct\",\"Violations Frequeny Issuer Precinct-wise\")"
      ]
    },
    {
      "cell_type": "markdown",
      "metadata": {
        "id": "1U9zNA-gXjYa"
      },
      "source": [
        "#### Here, you would have noticed that the dataframe has the 'Violating Precinct' or 'Issuing Precinct' as '0'. These are erroneous entries. Hence, you need to provide the records for five correct precincts. (Hint: Print the top six entries after sorting.)"
      ]
    },
    {
      "cell_type": "code",
      "execution_count": null,
      "metadata": {
        "id": "gjne5Z4SXjYa",
        "outputId": "30a913ac-20e4-4dc9-afd7-d5d57c330369"
      },
      "outputs": [
        {
          "name": "stdout",
          "output_type": "stream",
          "text": [
            "497\n"
          ]
        },
        {
          "data": {
            "text/html": [
              "<div>\n",
              "<style scoped>\n",
              "    .dataframe tbody tr th:only-of-type {\n",
              "        vertical-align: middle;\n",
              "    }\n",
              "\n",
              "    .dataframe tbody tr th {\n",
              "        vertical-align: top;\n",
              "    }\n",
              "\n",
              "    .dataframe thead th {\n",
              "        text-align: right;\n",
              "    }\n",
              "</style>\n",
              "<table border=\"1\" class=\"dataframe\">\n",
              "  <thead>\n",
              "    <tr style=\"text-align: right;\">\n",
              "      <th></th>\n",
              "      <th>Issuer Precinct</th>\n",
              "      <th>count</th>\n",
              "    </tr>\n",
              "  </thead>\n",
              "  <tbody>\n",
              "    <tr>\n",
              "      <th>0</th>\n",
              "      <td>0</td>\n",
              "      <td>1063307</td>\n",
              "    </tr>\n",
              "    <tr>\n",
              "      <th>1</th>\n",
              "      <td>19</td>\n",
              "      <td>264944</td>\n",
              "    </tr>\n",
              "    <tr>\n",
              "      <th>2</th>\n",
              "      <td>14</td>\n",
              "      <td>198002</td>\n",
              "    </tr>\n",
              "    <tr>\n",
              "      <th>3</th>\n",
              "      <td>1</td>\n",
              "      <td>166825</td>\n",
              "    </tr>\n",
              "    <tr>\n",
              "      <th>4</th>\n",
              "      <td>18</td>\n",
              "      <td>160341</td>\n",
              "    </tr>\n",
              "    <tr>\n",
              "      <th>5</th>\n",
              "      <td>114</td>\n",
              "      <td>143511</td>\n",
              "    </tr>\n",
              "  </tbody>\n",
              "</table>\n",
              "</div>"
            ],
            "text/plain": [
              "  Issuer Precinct    count\n",
              "0               0  1063307\n",
              "1              19   264944\n",
              "2              14   198002\n",
              "3               1   166825\n",
              "4              18   160341\n",
              "5             114   143511"
            ]
          },
          "execution_count": 53,
          "metadata": {},
          "output_type": "execute_result"
        }
      ],
      "source": [
        "print(len(df_ip))\n",
        "df_ip[0:6]"
      ]
    },
    {
      "cell_type": "code",
      "execution_count": null,
      "metadata": {
        "id": "EMFKJXbRXjYa",
        "outputId": "1f332ede-a2f4-4ba4-920b-814d8c09922c"
      },
      "outputs": [
        {
          "name": "stdout",
          "output_type": "stream",
          "text": [
            "5378917\n"
          ]
        },
        {
          "data": {
            "text/plain": [
              "0     19.768050\n",
              "1     24.693651\n",
              "2     28.374727\n",
              "3     31.476187\n",
              "4     34.457104\n",
              "5     37.125131\n",
              "6     39.387724\n",
              "7     41.328654\n",
              "8     43.187262\n",
              "9     44.891546\n",
              "10    46.472106\n",
              "11    48.010557\n",
              "12    49.514744\n",
              "13    51.003222\n",
              "14    52.471827\n",
              "15    53.905442\n",
              "16    55.325542\n",
              "17    56.659807\n",
              "18    57.942352\n",
              "19    59.217943\n",
              "20    60.471020\n",
              "21    61.699223\n",
              "22    62.927221\n",
              "23    64.144697\n",
              "24    65.360183\n",
              "25    66.562470\n",
              "26    67.731106\n",
              "27    68.863267\n",
              "28    69.922217\n",
              "29    70.968022\n",
              "30    72.010797\n",
              "Name: count, dtype: float64"
            ]
          },
          "execution_count": 54,
          "metadata": {},
          "output_type": "execute_result"
        }
      ],
      "source": [
        "print(df_ip['count'].sum())\n",
        "(100*df_ip['count'].cumsum()/df_ip['count'].sum()).loc[:30]"
      ]
    },
    {
      "cell_type": "markdown",
      "metadata": {
        "id": "SqD70MXWXjYa"
      },
      "source": [
        "#### Most of Tickets are issued by zone 19 (this is error code)\n",
        "#### 52% of violotation are happening in 29 areas (i.e. 5.7% of issuer prcinct are source 52% of violation) [Here I have ignored error code 0]"
      ]
    },
    {
      "cell_type": "code",
      "execution_count": null,
      "metadata": {
        "id": "NoGwD62gXjYa"
      },
      "outputs": [],
      "source": []
    },
    {
      "cell_type": "markdown",
      "metadata": {
        "id": "rgE0GsFWXjYa"
      },
      "source": [
        "### 4 Find the violation code frequencies for three precincts that have issued the most number of tickets. Do these precinct zones have an exceptionally high frequency of certain violation codes? Are these codes common across precincts?"
      ]
    },
    {
      "cell_type": "code",
      "execution_count": null,
      "metadata": {
        "id": "ffYrxVUuXjYa",
        "outputId": "9ac7325c-8b8d-4741-c8f1-75d6588b3a0b"
      },
      "outputs": [
        {
          "data": {
            "text/html": [
              "<div>\n",
              "<style scoped>\n",
              "    .dataframe tbody tr th:only-of-type {\n",
              "        vertical-align: middle;\n",
              "    }\n",
              "\n",
              "    .dataframe tbody tr th {\n",
              "        vertical-align: top;\n",
              "    }\n",
              "\n",
              "    .dataframe thead th {\n",
              "        text-align: right;\n",
              "    }\n",
              "</style>\n",
              "<table border=\"1\" class=\"dataframe\">\n",
              "  <thead>\n",
              "    <tr style=\"text-align: right;\">\n",
              "      <th></th>\n",
              "      <th>Issuer Precinct</th>\n",
              "      <th>count</th>\n",
              "    </tr>\n",
              "  </thead>\n",
              "  <tbody>\n",
              "    <tr>\n",
              "      <th>0</th>\n",
              "      <td>0</td>\n",
              "      <td>1063307</td>\n",
              "    </tr>\n",
              "    <tr>\n",
              "      <th>1</th>\n",
              "      <td>19</td>\n",
              "      <td>264944</td>\n",
              "    </tr>\n",
              "    <tr>\n",
              "      <th>2</th>\n",
              "      <td>14</td>\n",
              "      <td>198002</td>\n",
              "    </tr>\n",
              "    <tr>\n",
              "      <th>3</th>\n",
              "      <td>1</td>\n",
              "      <td>166825</td>\n",
              "    </tr>\n",
              "  </tbody>\n",
              "</table>\n",
              "</div>"
            ],
            "text/plain": [
              "  Issuer Precinct    count\n",
              "0               0  1063307\n",
              "1              19   264944\n",
              "2              14   198002\n",
              "3               1   166825"
            ]
          },
          "execution_count": 55,
          "metadata": {},
          "output_type": "execute_result"
        }
      ],
      "source": [
        "#Top 3 Precincts where violations are most\n",
        "df_ip[:4]"
      ]
    },
    {
      "cell_type": "markdown",
      "metadata": {
        "id": "jrhs1jseXjYa"
      },
      "source": [
        "### Top 3 Pricinct which issued higest numbers of the tickets are 19, 14, 1"
      ]
    },
    {
      "cell_type": "code",
      "execution_count": null,
      "metadata": {
        "id": "GjJ0BjMxXjYb"
      },
      "outputs": [],
      "source": [
        "df2=spark.sql(\"select `Issuer Precinct`, `Violation Code` from dfTable where `Issuer Precinct` in (19,14,1)\")\n",
        "\n",
        "df_issuer_violation=(df2.select(\"Issuer Precinct\", \"Violation Code\").groupBy(\"Issuer Precinct\",\"Violation Code\")\\\n",
        "                                .count().sort('count', ascending=False)).toPandas()\n",
        "\n"
      ]
    },
    {
      "cell_type": "markdown",
      "metadata": {
        "id": "idV6HhSvXjYb"
      },
      "source": [
        "#### In Pricinct 19 Most Violoation is against Violation Code 46"
      ]
    },
    {
      "cell_type": "code",
      "execution_count": null,
      "metadata": {
        "id": "Pe_elNB3XjYb",
        "outputId": "2aef3f79-f169-424b-a3a8-74fc6c5d1551"
      },
      "outputs": [
        {
          "data": {
            "text/html": [
              "<div>\n",
              "<style scoped>\n",
              "    .dataframe tbody tr th:only-of-type {\n",
              "        vertical-align: middle;\n",
              "    }\n",
              "\n",
              "    .dataframe tbody tr th {\n",
              "        vertical-align: top;\n",
              "    }\n",
              "\n",
              "    .dataframe thead th {\n",
              "        text-align: right;\n",
              "    }\n",
              "</style>\n",
              "<table border=\"1\" class=\"dataframe\">\n",
              "  <thead>\n",
              "    <tr style=\"text-align: right;\">\n",
              "      <th></th>\n",
              "      <th>Issuer Precinct</th>\n",
              "      <th>Violation Code</th>\n",
              "      <th>count</th>\n",
              "    </tr>\n",
              "  </thead>\n",
              "  <tbody>\n",
              "    <tr>\n",
              "      <th>0</th>\n",
              "      <td>19</td>\n",
              "      <td>46</td>\n",
              "      <td>86390</td>\n",
              "    </tr>\n",
              "    <tr>\n",
              "      <th>3</th>\n",
              "      <td>19</td>\n",
              "      <td>37</td>\n",
              "      <td>72437</td>\n",
              "    </tr>\n",
              "    <tr>\n",
              "      <th>4</th>\n",
              "      <td>19</td>\n",
              "      <td>38</td>\n",
              "      <td>72344</td>\n",
              "    </tr>\n",
              "  </tbody>\n",
              "</table>\n",
              "</div>"
            ],
            "text/plain": [
              "  Issuer Precinct Violation Code  count\n",
              "0              19             46  86390\n",
              "3              19             37  72437\n",
              "4              19             38  72344"
            ]
          },
          "execution_count": 57,
          "metadata": {},
          "output_type": "execute_result"
        }
      ],
      "source": [
        "#46 => \tStanding or parking on the roadway side of a vehicle stopped, standing or parked at the curb; in other words\n",
        "# also known as \"double parking\". However, a person may stand a Commercial Vehicle alongside a vehicle parked at the\n",
        "# curb at such locations and during such hours that stopping, standing and parking is allowed when quickly making pickups,\n",
        "# deliveries or service calls. This is allowed if there is no parking space or marked loading zone on either\n",
        "# side of the street within 100 feet. \"Double parking\" any type of vehicle is not allowed in Midtown Manhattan\n",
        "# (the area from 14th Street to 60th Street, between First Avenue and Eighth Avenue inclusive). Midtown double\n",
        "# parking is not allowed between 7:00am – 7:00pm daily except Sundays. (Read Code 47)\n",
        "\n",
        "df_issuer_violation.loc[df_issuer_violation['Issuer Precinct']=='19'].head(3)"
      ]
    },
    {
      "cell_type": "markdown",
      "metadata": {
        "id": "qJOm3h76XjYb"
      },
      "source": [
        "#### In Princinct 14 Most Violation is against Violation Code 14"
      ]
    },
    {
      "cell_type": "code",
      "execution_count": null,
      "metadata": {
        "id": "LX9EaSxGXjYb",
        "outputId": "9667fb3b-cd8c-48da-97a9-73f93f40feaa"
      },
      "outputs": [
        {
          "data": {
            "text/html": [
              "<div>\n",
              "<style scoped>\n",
              "    .dataframe tbody tr th:only-of-type {\n",
              "        vertical-align: middle;\n",
              "    }\n",
              "\n",
              "    .dataframe tbody tr th {\n",
              "        vertical-align: top;\n",
              "    }\n",
              "\n",
              "    .dataframe thead th {\n",
              "        text-align: right;\n",
              "    }\n",
              "</style>\n",
              "<table border=\"1\" class=\"dataframe\">\n",
              "  <thead>\n",
              "    <tr style=\"text-align: right;\">\n",
              "      <th></th>\n",
              "      <th>Issuer Precinct</th>\n",
              "      <th>Violation Code</th>\n",
              "      <th>count</th>\n",
              "    </tr>\n",
              "  </thead>\n",
              "  <tbody>\n",
              "    <tr>\n",
              "      <th>1</th>\n",
              "      <td>14</td>\n",
              "      <td>14</td>\n",
              "      <td>73837</td>\n",
              "    </tr>\n",
              "    <tr>\n",
              "      <th>5</th>\n",
              "      <td>14</td>\n",
              "      <td>69</td>\n",
              "      <td>58026</td>\n",
              "    </tr>\n",
              "    <tr>\n",
              "      <th>8</th>\n",
              "      <td>14</td>\n",
              "      <td>31</td>\n",
              "      <td>39857</td>\n",
              "    </tr>\n",
              "  </tbody>\n",
              "</table>\n",
              "</div>"
            ],
            "text/plain": [
              "  Issuer Precinct Violation Code  count\n",
              "1              14             14  73837\n",
              "5              14             69  58026\n",
              "8              14             31  39857"
            ]
          },
          "execution_count": 58,
          "metadata": {},
          "output_type": "execute_result"
        }
      ],
      "source": [
        "#14=> (Standing or parking where standing is not allowed by sign, street marking or; traffic control device.)\n",
        "df_issuer_violation.loc[df_issuer_violation['Issuer Precinct']=='14'].head(3)"
      ]
    },
    {
      "cell_type": "markdown",
      "metadata": {
        "id": "PZ8NcpT0XjYb"
      },
      "source": [
        "#### In Princinct 14 also Most Violation is against Violation Code 14"
      ]
    },
    {
      "cell_type": "code",
      "execution_count": null,
      "metadata": {
        "id": "xPKuSI0LXjYb",
        "outputId": "fb6ef247-3298-4b5e-c27e-d33d1b88a2a3"
      },
      "outputs": [
        {
          "data": {
            "text/html": [
              "<div>\n",
              "<style scoped>\n",
              "    .dataframe tbody tr th:only-of-type {\n",
              "        vertical-align: middle;\n",
              "    }\n",
              "\n",
              "    .dataframe tbody tr th {\n",
              "        vertical-align: top;\n",
              "    }\n",
              "\n",
              "    .dataframe thead th {\n",
              "        text-align: right;\n",
              "    }\n",
              "</style>\n",
              "<table border=\"1\" class=\"dataframe\">\n",
              "  <thead>\n",
              "    <tr style=\"text-align: right;\">\n",
              "      <th></th>\n",
              "      <th>Issuer Precinct</th>\n",
              "      <th>Violation Code</th>\n",
              "      <th>count</th>\n",
              "    </tr>\n",
              "  </thead>\n",
              "  <tbody>\n",
              "    <tr>\n",
              "      <th>2</th>\n",
              "      <td>1</td>\n",
              "      <td>14</td>\n",
              "      <td>73522</td>\n",
              "    </tr>\n",
              "    <tr>\n",
              "      <th>9</th>\n",
              "      <td>1</td>\n",
              "      <td>16</td>\n",
              "      <td>38937</td>\n",
              "    </tr>\n",
              "    <tr>\n",
              "      <th>12</th>\n",
              "      <td>1</td>\n",
              "      <td>20</td>\n",
              "      <td>27841</td>\n",
              "    </tr>\n",
              "  </tbody>\n",
              "</table>\n",
              "</div>"
            ],
            "text/plain": [
              "   Issuer Precinct Violation Code  count\n",
              "2                1             14  73522\n",
              "9                1             16  38937\n",
              "12               1             20  27841"
            ]
          },
          "execution_count": 59,
          "metadata": {},
          "output_type": "execute_result"
        }
      ],
      "source": [
        "#In Princinct 1 Most Violoation is against Violation Code 14\n",
        "df_issuer_violation.loc[df_issuer_violation['Issuer Precinct']=='1'].head(3)"
      ]
    },
    {
      "cell_type": "markdown",
      "metadata": {
        "id": "wpjRIpLgXjYb"
      },
      "source": [
        "### 5 Find out the properties of parking violations across different times of the day"
      ]
    },
    {
      "cell_type": "markdown",
      "metadata": {
        "id": "yoNFIf7vXjYb"
      },
      "source": [
        "#### 5.1 Find a way to deal with missing values, if any.\n",
        "##### (Hint: Check for the null values using 'isNull' under the SQL. Also, to remove the null values, check the 'drop na' command in the API documentation.)"
      ]
    },
    {
      "cell_type": "code",
      "execution_count": null,
      "metadata": {
        "id": "KZ4WFbCOXjYb",
        "outputId": "b3b8cc21-0125-4e27-a0c3-8977b84041e7"
      },
      "outputs": [
        {
          "data": {
            "image/png": "[encoded data removed]",
            "text/plain": [
              "<Figure size 1440x360 with 1 Axes>"
            ]
          },
          "metadata": {},
          "output_type": "display_data"
        }
      ],
      "source": [
        "df2=df.select('Violation Time').groupBy('Violation Time').count().sort('count',ascending=False)\n",
        "df_vt =df2.toPandas()\n",
        "\n",
        "bar_plot(df_vt[:30],\"Violation Time\",\"Violations Frequeny Timewise\")"
      ]
    },
    {
      "cell_type": "code",
      "execution_count": null,
      "metadata": {
        "id": "C2fzZlAOXjYb"
      },
      "outputs": [],
      "source": [
        "# This time is cryptic and does not make any sense at first glance"
      ]
    },
    {
      "cell_type": "code",
      "execution_count": null,
      "metadata": {
        "id": "t67SMaIUXjYb"
      },
      "outputs": [],
      "source": [
        "#remove those time records which has <= 10 counts. Those are wrong time entries\n",
        "df_vt = df_vt[ df_vt['count']>10 ]"
      ]
    },
    {
      "cell_type": "markdown",
      "metadata": {
        "id": "YOawe6NdXjYb"
      },
      "source": [
        "#### 5.2 The Violation Time field is specified in a strange format. Find a way to make this a time attribute that you can use to divide into groups."
      ]
    },
    {
      "cell_type": "code",
      "execution_count": null,
      "metadata": {
        "id": "t0doZJceXjYb"
      },
      "outputs": [],
      "source": [
        "# Gives time in 24 hours format\n",
        "def getDate(x):\n",
        "\n",
        "    if x[-1::]==\"A\" and int(x[:4:])>=1200 and int(x[:4:])<=1259 : #Mid night 1200 and ownards to till 12:59 remove hours.\n",
        "        return \"00:\" + x[2:4]\n",
        "\n",
        "    if x[-1::]==\"P\" and int(x[:4:])>=0 and int(x[:4:])<=59 : #if 12PM and onwards till 1259 pm first 2 digits 12 not 00\n",
        "        return \"12:\" + x[2:4]\n",
        "\n",
        "    if x[-1::]==\"P\" and int(x[:4:])>=100 and int(x[:4:])<=1159 : #if 1PM and onwards till 1159 pm add 12 hours\n",
        "        return str(int(x[:2:])+12) + \":\" + x[2:4]\n",
        "    else:\n",
        "        return x[:2] +\":\"+x[2:4]\n"
      ]
    },
    {
      "cell_type": "code",
      "execution_count": null,
      "metadata": {
        "id": "TqrexLVwXjYc"
      },
      "outputs": [],
      "source": [
        "df_vt['Time'] = df_vt['Violation Time'].apply(getDate)\n",
        "df_vt['Hours'] = df_vt['Time'].str[:2].astype(int)\n"
      ]
    },
    {
      "cell_type": "code",
      "execution_count": null,
      "metadata": {
        "id": "TOMx0SzdXjYc",
        "outputId": "37a70fd7-0ae6-403a-e002-94c6ddafd639"
      },
      "outputs": [
        {
          "data": {
            "text/html": [
              "<div>\n",
              "<style scoped>\n",
              "    .dataframe tbody tr th:only-of-type {\n",
              "        vertical-align: middle;\n",
              "    }\n",
              "\n",
              "    .dataframe tbody tr th {\n",
              "        vertical-align: top;\n",
              "    }\n",
              "\n",
              "    .dataframe thead th {\n",
              "        text-align: right;\n",
              "    }\n",
              "</style>\n",
              "<table border=\"1\" class=\"dataframe\">\n",
              "  <thead>\n",
              "    <tr style=\"text-align: right;\">\n",
              "      <th></th>\n",
              "      <th>Violation Time</th>\n",
              "      <th>count</th>\n",
              "      <th>Time</th>\n",
              "      <th>Hours</th>\n",
              "    </tr>\n",
              "  </thead>\n",
              "  <tbody>\n",
              "    <tr>\n",
              "      <th>0</th>\n",
              "      <td>0836A</td>\n",
              "      <td>14397</td>\n",
              "      <td>08:36</td>\n",
              "      <td>8</td>\n",
              "    </tr>\n",
              "    <tr>\n",
              "      <th>1</th>\n",
              "      <td>1136A</td>\n",
              "      <td>13717</td>\n",
              "      <td>11:36</td>\n",
              "      <td>11</td>\n",
              "    </tr>\n",
              "    <tr>\n",
              "      <th>2</th>\n",
              "      <td>1140A</td>\n",
              "      <td>13348</td>\n",
              "      <td>11:40</td>\n",
              "      <td>11</td>\n",
              "    </tr>\n",
              "    <tr>\n",
              "      <th>3</th>\n",
              "      <td>0936A</td>\n",
              "      <td>13025</td>\n",
              "      <td>09:36</td>\n",
              "      <td>9</td>\n",
              "    </tr>\n",
              "    <tr>\n",
              "      <th>4</th>\n",
              "      <td>0940A</td>\n",
              "      <td>12565</td>\n",
              "      <td>09:40</td>\n",
              "      <td>9</td>\n",
              "    </tr>\n",
              "  </tbody>\n",
              "</table>\n",
              "</div>"
            ],
            "text/plain": [
              "  Violation Time  count   Time  Hours\n",
              "0          0836A  14397  08:36      8\n",
              "1          1136A  13717  11:36     11\n",
              "2          1140A  13348  11:40     11\n",
              "3          0936A  13025  09:36      9\n",
              "4          0940A  12565  09:40      9"
            ]
          },
          "execution_count": 65,
          "metadata": {},
          "output_type": "execute_result"
        }
      ],
      "source": [
        "df_vt.head()"
      ]
    },
    {
      "cell_type": "code",
      "execution_count": null,
      "metadata": {
        "id": "QpnvjtW8XjYc"
      },
      "outputs": [],
      "source": [
        "df_vt1 = df_vt.groupby(\"Hours\").sum().reset_index()"
      ]
    },
    {
      "cell_type": "code",
      "execution_count": null,
      "metadata": {
        "id": "1WgWcicSXjYc",
        "outputId": "8811fa31-1337-44b5-dc69-1606dc6ea091"
      },
      "outputs": [
        {
          "data": {
            "image/png": "[encoded data removed]",
            "text/plain": [
              "<Figure size 1440x360 with 1 Axes>"
            ]
          },
          "metadata": {},
          "output_type": "display_data"
        }
      ],
      "source": [
        "bar_plot(df_vt1,\"Hours\",\"Violations Frequeny at different Hours\")"
      ]
    },
    {
      "cell_type": "markdown",
      "metadata": {
        "id": "ZgwZJP89XjYc"
      },
      "source": [
        "#### 5.3 Divide 24 hours into six equal discrete bins of time. Choose the intervals as you see fit. For each of these groups, find the three most commonly occurring violations.\n",
        "##### (Hint: Use the CASE-WHEN in SQL view to segregate into bins. To find the most commonly occurring violations, you can use an approach similar to the one mentioned in the hint for question 4.)"
      ]
    },
    {
      "cell_type": "code",
      "execution_count": null,
      "metadata": {
        "id": "FwVunWxrXjYc"
      },
      "outputs": [],
      "source": [
        "#Equal interval of 4 hours doesn't make sense. Hence I created following bins\n",
        "#Mid night 12 to 5am => 1\n",
        "#5 am onwards to 7am => 2\n",
        "#7 am onwards to 1pm => 3\n",
        "#1 pm onwards to 4pm => 4\n",
        "#4 pm to 6 pm        => 5\n",
        "#6 pm to midnight    => 6"
      ]
    },
    {
      "cell_type": "code",
      "execution_count": null,
      "metadata": {
        "id": "T0JcNn3CXjYc",
        "outputId": "4d76bd2a-8eb5-468d-b3b6-4d94fedbecca"
      },
      "outputs": [
        {
          "name": "stdout",
          "output_type": "stream",
          "text": [
            "+-----+------+------+\n",
            "|Hours| count|Bucket|\n",
            "+-----+------+------+\n",
            "|    0| 44210|   0.0|\n",
            "|    1| 44342|   0.0|\n",
            "|    2| 39057|   0.0|\n",
            "|    3| 31494|   0.0|\n",
            "|    4| 13951|   0.0|\n",
            "|    5| 42640|   1.0|\n",
            "|    6|120766|   1.0|\n",
            "|    7|267608|   2.0|\n",
            "|    8|499111|   2.0|\n",
            "|    9|590339|   2.0|\n",
            "|   10|484462|   2.0|\n",
            "|   11|569564|   2.0|\n",
            "|   12|506574|   2.0|\n",
            "|   13|546400|   3.0|\n",
            "|   14|463413|   3.0|\n",
            "|   15|312335|   3.0|\n",
            "|   16|292873|   4.0|\n",
            "|   17|208649|   4.0|\n",
            "|   18|102682|   5.0|\n",
            "|   19| 25193|   5.0|\n",
            "+-----+------+------+\n",
            "only showing top 20 rows\n",
            "\n"
          ]
        }
      ],
      "source": [
        "from pyspark.ml.feature import Bucketizer\n",
        "bucketBorders = [-1,5,7,13,16,18,23]\n",
        "bucketer = Bucketizer().setSplits(bucketBorders).setInputCol(\"Hours\").setOutputCol('Bucket')\n",
        "bucketer.transform(  spark.createDataFrame(df_vt1 )   ).show()\n",
        "\n",
        "\n",
        "#import pandas as pd\n",
        "#df_vt1['TimeBin'] = pd.cut(df_vt1.Hours,[-1,5,7,13,16,18,23],labels=[1,2,3,4,5,6])\n",
        "#df_vt1"
      ]
    },
    {
      "cell_type": "code",
      "execution_count": null,
      "metadata": {
        "id": "8TUlm2efXjYc"
      },
      "outputs": [],
      "source": []
    },
    {
      "cell_type": "markdown",
      "metadata": {
        "id": "7y8-4hMJXjYc"
      },
      "source": [
        "### 6.a  First, divide the year into a certain number of seasons (Hint: Use Issue Date to segregate into seasons.)"
      ]
    },
    {
      "cell_type": "code",
      "execution_count": null,
      "metadata": {
        "id": "uVcdqxOkXjYc"
      },
      "outputs": [],
      "source": [
        "#Spring begins with the Vernal Equinox, Thursday, March 19, 2017, 11:50 p.m.\n",
        "#Summer begins with the Summer Solstice, Saturday, June 20, 2017, 5:44 p.m.\n",
        "#Autumn begins with the Autumnal Equinox, Tuesday, September 22, 2017, 9:31 a.m.\n",
        "#Winter begins with the Winter Solstice, Monday, December 21, 2018, 5:02 a.m.\n",
        "\n",
        "#To keep it simple\n",
        "#Winter (1) =1,2,3\n",
        "#Spring (2) =4,5,6\n",
        "#Summer (3) =7,8,9\n",
        "#Autumn (4) =9,10,11"
      ]
    },
    {
      "cell_type": "code",
      "execution_count": null,
      "metadata": {
        "id": "U90CuxoTXjYc"
      },
      "outputs": [],
      "source": [
        "#Create a new fieled Month\n",
        "df2 = df.withColumn('Month', month(df[\"Issue Date\"]))\n",
        "#Create a new field Season\n",
        "df2 = df2.withColumn('Season',lit(1))\n",
        "df2 = df2.withColumn(\"Season\",when((df2[\"Month\"] >= 1) & (df2[\"Month\"]<=3),  1).otherwise(df2[\"Season\"]))\n",
        "df2 = df2.withColumn(\"Season\",when((df2[\"Month\"] >= 4) & (df2[\"Month\"]<=6),  2).otherwise(df2[\"Season\"]))\n",
        "df2 = df2.withColumn(\"Season\",when((df2[\"Month\"] >= 7) & (df2[\"Month\"]<=9),  3).otherwise(df2[\"Season\"]))\n",
        "df2 = df2.withColumn(\"Season\",when((df2[\"Month\"] >=10) & (df2[\"Month\"]<=12), 4).otherwise(df2[\"Season\"]))"
      ]
    },
    {
      "cell_type": "code",
      "execution_count": null,
      "metadata": {
        "id": "eQ_uzsZEXjYc",
        "outputId": "b66ac6f8-439a-4673-ae64-01436ed49f2f"
      },
      "outputs": [
        {
          "data": {
            "text/html": [
              "<div>\n",
              "<style scoped>\n",
              "    .dataframe tbody tr th:only-of-type {\n",
              "        vertical-align: middle;\n",
              "    }\n",
              "\n",
              "    .dataframe tbody tr th {\n",
              "        vertical-align: top;\n",
              "    }\n",
              "\n",
              "    .dataframe thead th {\n",
              "        text-align: right;\n",
              "    }\n",
              "</style>\n",
              "<table border=\"1\" class=\"dataframe\">\n",
              "  <thead>\n",
              "    <tr style=\"text-align: right;\">\n",
              "      <th></th>\n",
              "      <th>Season</th>\n",
              "      <th>count</th>\n",
              "    </tr>\n",
              "  </thead>\n",
              "  <tbody>\n",
              "    <tr>\n",
              "      <th>0</th>\n",
              "      <td>2</td>\n",
              "      <td>2734745</td>\n",
              "    </tr>\n",
              "    <tr>\n",
              "      <th>1</th>\n",
              "      <td>1</td>\n",
              "      <td>2642335</td>\n",
              "    </tr>\n",
              "    <tr>\n",
              "      <th>2</th>\n",
              "      <td>3</td>\n",
              "      <td>955</td>\n",
              "    </tr>\n",
              "    <tr>\n",
              "      <th>3</th>\n",
              "      <td>4</td>\n",
              "      <td>882</td>\n",
              "    </tr>\n",
              "  </tbody>\n",
              "</table>\n",
              "</div>"
            ],
            "text/plain": [
              "   Season    count\n",
              "0       2  2734745\n",
              "1       1  2642335\n",
              "2       3      955\n",
              "3       4      882"
            ]
          },
          "execution_count": 72,
          "metadata": {},
          "output_type": "execute_result"
        }
      ],
      "source": [
        "df_season= (df2.select('Season').groupBy('Season').count().sort('count',ascending=False)).toPandas()\n",
        "df_season"
      ]
    },
    {
      "cell_type": "code",
      "execution_count": null,
      "metadata": {
        "id": "TCqNbn3qXjYc",
        "outputId": "788f5202-6c43-4f19-f7ea-7d58fba7c731"
      },
      "outputs": [
        {
          "data": {
            "text/html": [
              "<div>\n",
              "<style scoped>\n",
              "    .dataframe tbody tr th:only-of-type {\n",
              "        vertical-align: middle;\n",
              "    }\n",
              "\n",
              "    .dataframe tbody tr th {\n",
              "        vertical-align: top;\n",
              "    }\n",
              "\n",
              "    .dataframe thead th {\n",
              "        text-align: right;\n",
              "    }\n",
              "</style>\n",
              "<table border=\"1\" class=\"dataframe\">\n",
              "  <thead>\n",
              "    <tr style=\"text-align: right;\">\n",
              "      <th></th>\n",
              "      <th>Season</th>\n",
              "      <th>Violation Code</th>\n",
              "      <th>count</th>\n",
              "    </tr>\n",
              "  </thead>\n",
              "  <tbody>\n",
              "    <tr>\n",
              "      <th>0</th>\n",
              "      <td>2</td>\n",
              "      <td>21</td>\n",
              "      <td>389958</td>\n",
              "    </tr>\n",
              "    <tr>\n",
              "      <th>1</th>\n",
              "      <td>1</td>\n",
              "      <td>21</td>\n",
              "      <td>369509</td>\n",
              "    </tr>\n",
              "    <tr>\n",
              "      <th>2</th>\n",
              "      <td>1</td>\n",
              "      <td>36</td>\n",
              "      <td>347755</td>\n",
              "    </tr>\n",
              "    <tr>\n",
              "      <th>3</th>\n",
              "      <td>2</td>\n",
              "      <td>36</td>\n",
              "      <td>314072</td>\n",
              "    </tr>\n",
              "    <tr>\n",
              "      <th>4</th>\n",
              "      <td>1</td>\n",
              "      <td>38</td>\n",
              "      <td>286188</td>\n",
              "    </tr>\n",
              "    <tr>\n",
              "      <th>5</th>\n",
              "      <td>2</td>\n",
              "      <td>38</td>\n",
              "      <td>253926</td>\n",
              "    </tr>\n",
              "    <tr>\n",
              "      <th>6</th>\n",
              "      <td>2</td>\n",
              "      <td>14</td>\n",
              "      <td>248934</td>\n",
              "    </tr>\n",
              "    <tr>\n",
              "      <th>7</th>\n",
              "      <td>1</td>\n",
              "      <td>14</td>\n",
              "      <td>223147</td>\n",
              "    </tr>\n",
              "    <tr>\n",
              "      <th>8</th>\n",
              "      <td>2</td>\n",
              "      <td>20</td>\n",
              "      <td>169509</td>\n",
              "    </tr>\n",
              "    <tr>\n",
              "      <th>9</th>\n",
              "      <td>2</td>\n",
              "      <td>46</td>\n",
              "      <td>152784</td>\n",
              "    </tr>\n",
              "    <tr>\n",
              "      <th>10</th>\n",
              "      <td>1</td>\n",
              "      <td>37</td>\n",
              "      <td>151677</td>\n",
              "    </tr>\n",
              "    <tr>\n",
              "      <th>11</th>\n",
              "      <td>1</td>\n",
              "      <td>46</td>\n",
              "      <td>148515</td>\n",
              "    </tr>\n",
              "    <tr>\n",
              "      <th>12</th>\n",
              "      <td>1</td>\n",
              "      <td>20</td>\n",
              "      <td>148012</td>\n",
              "    </tr>\n",
              "    <tr>\n",
              "      <th>13</th>\n",
              "      <td>2</td>\n",
              "      <td>71</td>\n",
              "      <td>141548</td>\n",
              "    </tr>\n",
              "    <tr>\n",
              "      <th>14</th>\n",
              "      <td>2</td>\n",
              "      <td>40</td>\n",
              "      <td>141547</td>\n",
              "    </tr>\n",
              "    <tr>\n",
              "      <th>15</th>\n",
              "      <td>2</td>\n",
              "      <td>37</td>\n",
              "      <td>141046</td>\n",
              "    </tr>\n",
              "    <tr>\n",
              "      <th>16</th>\n",
              "      <td>1</td>\n",
              "      <td>40</td>\n",
              "      <td>133217</td>\n",
              "    </tr>\n",
              "    <tr>\n",
              "      <th>17</th>\n",
              "      <td>1</td>\n",
              "      <td>71</td>\n",
              "      <td>121079</td>\n",
              "    </tr>\n",
              "    <tr>\n",
              "      <th>18</th>\n",
              "      <td>2</td>\n",
              "      <td>7</td>\n",
              "      <td>115607</td>\n",
              "    </tr>\n",
              "    <tr>\n",
              "      <th>19</th>\n",
              "      <td>1</td>\n",
              "      <td>7</td>\n",
              "      <td>94158</td>\n",
              "    </tr>\n",
              "    <tr>\n",
              "      <th>20</th>\n",
              "      <td>2</td>\n",
              "      <td>70</td>\n",
              "      <td>78824</td>\n",
              "    </tr>\n",
              "    <tr>\n",
              "      <th>21</th>\n",
              "      <td>2</td>\n",
              "      <td>19</td>\n",
              "      <td>75256</td>\n",
              "    </tr>\n",
              "    <tr>\n",
              "      <th>22</th>\n",
              "      <td>1</td>\n",
              "      <td>19</td>\n",
              "      <td>71417</td>\n",
              "    </tr>\n",
              "    <tr>\n",
              "      <th>23</th>\n",
              "      <td>1</td>\n",
              "      <td>70</td>\n",
              "      <td>65358</td>\n",
              "    </tr>\n",
              "    <tr>\n",
              "      <th>24</th>\n",
              "      <td>2</td>\n",
              "      <td>69</td>\n",
              "      <td>51286</td>\n",
              "    </tr>\n",
              "    <tr>\n",
              "      <th>25</th>\n",
              "      <td>1</td>\n",
              "      <td>69</td>\n",
              "      <td>44607</td>\n",
              "    </tr>\n",
              "    <tr>\n",
              "      <th>26</th>\n",
              "      <td>2</td>\n",
              "      <td>31</td>\n",
              "      <td>41227</td>\n",
              "    </tr>\n",
              "    <tr>\n",
              "      <th>27</th>\n",
              "      <td>1</td>\n",
              "      <td>31</td>\n",
              "      <td>39188</td>\n",
              "    </tr>\n",
              "    <tr>\n",
              "      <th>28</th>\n",
              "      <td>1</td>\n",
              "      <td>16</td>\n",
              "      <td>38262</td>\n",
              "    </tr>\n",
              "    <tr>\n",
              "      <th>29</th>\n",
              "      <td>2</td>\n",
              "      <td>16</td>\n",
              "      <td>36341</td>\n",
              "    </tr>\n",
              "    <tr>\n",
              "      <th>...</th>\n",
              "      <td>...</td>\n",
              "      <td>...</td>\n",
              "      <td>...</td>\n",
              "    </tr>\n",
              "    <tr>\n",
              "      <th>250</th>\n",
              "      <td>1</td>\n",
              "      <td>28</td>\n",
              "      <td>2</td>\n",
              "    </tr>\n",
              "    <tr>\n",
              "      <th>251</th>\n",
              "      <td>3</td>\n",
              "      <td>6</td>\n",
              "      <td>2</td>\n",
              "    </tr>\n",
              "    <tr>\n",
              "      <th>252</th>\n",
              "      <td>1</td>\n",
              "      <td>44</td>\n",
              "      <td>2</td>\n",
              "    </tr>\n",
              "    <tr>\n",
              "      <th>253</th>\n",
              "      <td>4</td>\n",
              "      <td>61</td>\n",
              "      <td>2</td>\n",
              "    </tr>\n",
              "    <tr>\n",
              "      <th>254</th>\n",
              "      <td>1</td>\n",
              "      <td>58</td>\n",
              "      <td>2</td>\n",
              "    </tr>\n",
              "    <tr>\n",
              "      <th>255</th>\n",
              "      <td>3</td>\n",
              "      <td>10</td>\n",
              "      <td>2</td>\n",
              "    </tr>\n",
              "    <tr>\n",
              "      <th>256</th>\n",
              "      <td>3</td>\n",
              "      <td>79</td>\n",
              "      <td>2</td>\n",
              "    </tr>\n",
              "    <tr>\n",
              "      <th>257</th>\n",
              "      <td>4</td>\n",
              "      <td>64</td>\n",
              "      <td>2</td>\n",
              "    </tr>\n",
              "    <tr>\n",
              "      <th>258</th>\n",
              "      <td>3</td>\n",
              "      <td>99</td>\n",
              "      <td>2</td>\n",
              "    </tr>\n",
              "    <tr>\n",
              "      <th>259</th>\n",
              "      <td>2</td>\n",
              "      <td>87</td>\n",
              "      <td>1</td>\n",
              "    </tr>\n",
              "    <tr>\n",
              "      <th>260</th>\n",
              "      <td>3</td>\n",
              "      <td>91</td>\n",
              "      <td>1</td>\n",
              "    </tr>\n",
              "    <tr>\n",
              "      <th>261</th>\n",
              "      <td>3</td>\n",
              "      <td>47</td>\n",
              "      <td>1</td>\n",
              "    </tr>\n",
              "    <tr>\n",
              "      <th>262</th>\n",
              "      <td>3</td>\n",
              "      <td>16</td>\n",
              "      <td>1</td>\n",
              "    </tr>\n",
              "    <tr>\n",
              "      <th>263</th>\n",
              "      <td>3</td>\n",
              "      <td>37</td>\n",
              "      <td>1</td>\n",
              "    </tr>\n",
              "    <tr>\n",
              "      <th>264</th>\n",
              "      <td>3</td>\n",
              "      <td>75</td>\n",
              "      <td>1</td>\n",
              "    </tr>\n",
              "    <tr>\n",
              "      <th>265</th>\n",
              "      <td>4</td>\n",
              "      <td>52</td>\n",
              "      <td>1</td>\n",
              "    </tr>\n",
              "    <tr>\n",
              "      <th>266</th>\n",
              "      <td>2</td>\n",
              "      <td>93</td>\n",
              "      <td>1</td>\n",
              "    </tr>\n",
              "    <tr>\n",
              "      <th>267</th>\n",
              "      <td>3</td>\n",
              "      <td>77</td>\n",
              "      <td>1</td>\n",
              "    </tr>\n",
              "    <tr>\n",
              "      <th>268</th>\n",
              "      <td>4</td>\n",
              "      <td>66</td>\n",
              "      <td>1</td>\n",
              "    </tr>\n",
              "    <tr>\n",
              "      <th>269</th>\n",
              "      <td>4</td>\n",
              "      <td>83</td>\n",
              "      <td>1</td>\n",
              "    </tr>\n",
              "    <tr>\n",
              "      <th>270</th>\n",
              "      <td>3</td>\n",
              "      <td>31</td>\n",
              "      <td>1</td>\n",
              "    </tr>\n",
              "    <tr>\n",
              "      <th>271</th>\n",
              "      <td>3</td>\n",
              "      <td>63</td>\n",
              "      <td>1</td>\n",
              "    </tr>\n",
              "    <tr>\n",
              "      <th>272</th>\n",
              "      <td>2</td>\n",
              "      <td>44</td>\n",
              "      <td>1</td>\n",
              "    </tr>\n",
              "    <tr>\n",
              "      <th>273</th>\n",
              "      <td>4</td>\n",
              "      <td>9</td>\n",
              "      <td>1</td>\n",
              "    </tr>\n",
              "    <tr>\n",
              "      <th>274</th>\n",
              "      <td>3</td>\n",
              "      <td>68</td>\n",
              "      <td>1</td>\n",
              "    </tr>\n",
              "    <tr>\n",
              "      <th>275</th>\n",
              "      <td>4</td>\n",
              "      <td>60</td>\n",
              "      <td>1</td>\n",
              "    </tr>\n",
              "    <tr>\n",
              "      <th>276</th>\n",
              "      <td>3</td>\n",
              "      <td>85</td>\n",
              "      <td>1</td>\n",
              "    </tr>\n",
              "    <tr>\n",
              "      <th>277</th>\n",
              "      <td>3</td>\n",
              "      <td>90</td>\n",
              "      <td>1</td>\n",
              "    </tr>\n",
              "    <tr>\n",
              "      <th>278</th>\n",
              "      <td>4</td>\n",
              "      <td>63</td>\n",
              "      <td>1</td>\n",
              "    </tr>\n",
              "    <tr>\n",
              "      <th>279</th>\n",
              "      <td>3</td>\n",
              "      <td>66</td>\n",
              "      <td>1</td>\n",
              "    </tr>\n",
              "  </tbody>\n",
              "</table>\n",
              "<p>280 rows × 3 columns</p>\n",
              "</div>"
            ],
            "text/plain": [
              "     Season Violation Code   count\n",
              "0         2             21  389958\n",
              "1         1             21  369509\n",
              "2         1             36  347755\n",
              "3         2             36  314072\n",
              "4         1             38  286188\n",
              "5         2             38  253926\n",
              "6         2             14  248934\n",
              "7         1             14  223147\n",
              "8         2             20  169509\n",
              "9         2             46  152784\n",
              "10        1             37  151677\n",
              "11        1             46  148515\n",
              "12        1             20  148012\n",
              "13        2             71  141548\n",
              "14        2             40  141547\n",
              "15        2             37  141046\n",
              "16        1             40  133217\n",
              "17        1             71  121079\n",
              "18        2              7  115607\n",
              "19        1              7   94158\n",
              "20        2             70   78824\n",
              "21        2             19   75256\n",
              "22        1             19   71417\n",
              "23        1             70   65358\n",
              "24        2             69   51286\n",
              "25        1             69   44607\n",
              "26        2             31   41227\n",
              "27        1             31   39188\n",
              "28        1             16   38262\n",
              "29        2             16   36341\n",
              "..      ...            ...     ...\n",
              "250       1             28       2\n",
              "251       3              6       2\n",
              "252       1             44       2\n",
              "253       4             61       2\n",
              "254       1             58       2\n",
              "255       3             10       2\n",
              "256       3             79       2\n",
              "257       4             64       2\n",
              "258       3             99       2\n",
              "259       2             87       1\n",
              "260       3             91       1\n",
              "261       3             47       1\n",
              "262       3             16       1\n",
              "263       3             37       1\n",
              "264       3             75       1\n",
              "265       4             52       1\n",
              "266       2             93       1\n",
              "267       3             77       1\n",
              "268       4             66       1\n",
              "269       4             83       1\n",
              "270       3             31       1\n",
              "271       3             63       1\n",
              "272       2             44       1\n",
              "273       4              9       1\n",
              "274       3             68       1\n",
              "275       4             60       1\n",
              "276       3             85       1\n",
              "277       3             90       1\n",
              "278       4             63       1\n",
              "279       3             66       1\n",
              "\n",
              "[280 rows x 3 columns]"
            ]
          },
          "execution_count": 73,
          "metadata": {},
          "output_type": "execute_result"
        }
      ],
      "source": [
        "df_season_violation= (df2.select('Season','Violation Code').groupBy('Season','Violation Code').count().sort('count',ascending=False)).toPandas()\n",
        "df_season_violation"
      ]
    },
    {
      "cell_type": "markdown",
      "metadata": {
        "id": "NIhFwUXaXjYc"
      },
      "source": [
        "### 6.b  Find the three most common violations for each of these seasons."
      ]
    },
    {
      "cell_type": "markdown",
      "metadata": {
        "id": "zXqp56llXjYc"
      },
      "source": [
        "## There are different kind of violations in different seasons"
      ]
    },
    {
      "cell_type": "code",
      "execution_count": null,
      "metadata": {
        "id": "pTzSo3geXjYd",
        "outputId": "ce2660db-f0b7-4e5c-8f52-6eb208a4c5a7"
      },
      "outputs": [
        {
          "data": {
            "image/png": "[encoded data removed]",
            "text/plain": [
              "<Figure size 1440x360 with 1 Axes>"
            ]
          },
          "metadata": {},
          "output_type": "display_data"
        }
      ],
      "source": [
        "df_temp = df_season_violation[ df_season_violation.Season==1].sort_values([\"Season\",\"count\"],ascending=False)[:3]\n",
        "bar_plot(df_temp,\"Violation Code\",\"Top 3 Violation code of Winter Season\")"
      ]
    },
    {
      "cell_type": "code",
      "execution_count": null,
      "metadata": {
        "id": "XzeuoLjiXjYd",
        "outputId": "be16652d-7708-483d-c9a3-4e57ce13aadf"
      },
      "outputs": [
        {
          "data": {
            "image/png": "[encoded data removed]",
            "text/plain": [
              "<Figure size 1440x360 with 1 Axes>"
            ]
          },
          "metadata": {},
          "output_type": "display_data"
        }
      ],
      "source": [
        "df_temp = df_season_violation[ df_season_violation.Season==2].sort_values([\"Season\",\"count\"],ascending=False).head(3)\n",
        "bar_plot(df_temp,\"Violation Code\",\"Top 3 Violation code of Spring Season\")"
      ]
    },
    {
      "cell_type": "code",
      "execution_count": null,
      "metadata": {
        "id": "6_-hCKd6XjYd",
        "outputId": "b2e265eb-24be-4161-feac-e518ef50be66"
      },
      "outputs": [
        {
          "data": {
            "image/png": "[encoded data removed]",
            "text/plain": [
              "<Figure size 1440x360 with 1 Axes>"
            ]
          },
          "metadata": {},
          "output_type": "display_data"
        }
      ],
      "source": [
        "df_temp=df_season_violation[ df_season_violation.Season==3].sort_values([\"Season\",\"count\"],ascending=False).head(3)\n",
        "bar_plot(df_temp,\"Violation Code\",\"Top 3 Violation code of Summer Season\")"
      ]
    },
    {
      "cell_type": "code",
      "execution_count": null,
      "metadata": {
        "id": "WqeDGpIwXjYd",
        "outputId": "2b60fa38-b970-42a3-9aa6-6b2a7d5d9780"
      },
      "outputs": [
        {
          "data": {
            "image/png": "[encoded data removed]",
            "text/plain": [
              "<Figure size 1440x360 with 1 Axes>"
            ]
          },
          "metadata": {},
          "output_type": "display_data"
        }
      ],
      "source": [
        "df_temp=df_season_violation[ df_season_violation.Season==4].sort_values([\"Season\",\"count\"],ascending=False).head(3)\n",
        "bar_plot(df_temp,\"Violation Code\",\"Top 3 Violation code of Autumn Season\")"
      ]
    },
    {
      "cell_type": "code",
      "execution_count": null,
      "metadata": {
        "id": "KOEkt68cXjYd"
      },
      "outputs": [],
      "source": []
    },
    {
      "cell_type": "markdown",
      "metadata": {
        "id": "7qKy6aqOXjYd"
      },
      "source": [
        "### 7 The fines collected from all the instances of parking violation constitute a source of revenue for the NYC Police Department. Let’s take an example of estimating this for the three most commonly occurring codes:"
      ]
    },
    {
      "cell_type": "code",
      "execution_count": null,
      "metadata": {
        "id": "byI6hdKgXjYd"
      },
      "outputs": [],
      "source": [
        "import warnings\n",
        "warnings.filterwarnings('ignore')"
      ]
    },
    {
      "cell_type": "code",
      "execution_count": null,
      "metadata": {
        "id": "qELLwVMvXjYd",
        "outputId": "96aad942-b325-4f7f-8663-fa53063d4408"
      },
      "outputs": [
        {
          "data": {
            "text/html": [
              "<div>\n",
              "<style scoped>\n",
              "    .dataframe tbody tr th:only-of-type {\n",
              "        vertical-align: middle;\n",
              "    }\n",
              "\n",
              "    .dataframe tbody tr th {\n",
              "        vertical-align: top;\n",
              "    }\n",
              "\n",
              "    .dataframe thead th {\n",
              "        text-align: right;\n",
              "    }\n",
              "</style>\n",
              "<table border=\"1\" class=\"dataframe\">\n",
              "  <thead>\n",
              "    <tr style=\"text-align: right;\">\n",
              "      <th></th>\n",
              "      <th>Violation Code</th>\n",
              "      <th>count</th>\n",
              "    </tr>\n",
              "  </thead>\n",
              "  <tbody>\n",
              "    <tr>\n",
              "      <th>0</th>\n",
              "      <td>21</td>\n",
              "      <td>759775</td>\n",
              "    </tr>\n",
              "    <tr>\n",
              "      <th>1</th>\n",
              "      <td>36</td>\n",
              "      <td>661827</td>\n",
              "    </tr>\n",
              "    <tr>\n",
              "      <th>2</th>\n",
              "      <td>38</td>\n",
              "      <td>540128</td>\n",
              "    </tr>\n",
              "  </tbody>\n",
              "</table>\n",
              "</div>"
            ],
            "text/plain": [
              "  Violation Code   count\n",
              "0             21  759775\n",
              "1             36  661827\n",
              "2             38  540128"
            ]
          },
          "execution_count": 79,
          "metadata": {},
          "output_type": "execute_result"
        }
      ],
      "source": [
        "#Top Three violation code\n",
        "df_fine =df_violation[:3]\n",
        "df_fine"
      ]
    },
    {
      "cell_type": "code",
      "execution_count": null,
      "metadata": {
        "id": "oo4qhukpXjYd"
      },
      "outputs": [],
      "source": [
        "#Average Fine for these codes is (from the given link)\n",
        "#21 => $55\n",
        "#36 => $50\n",
        "#38 => $50"
      ]
    },
    {
      "cell_type": "code",
      "execution_count": null,
      "metadata": {
        "id": "t3wbIopIXjYd"
      },
      "outputs": [],
      "source": [
        "df_fine.loc[:,'Fine_Rate'] = [55,50,50]\n",
        "df_fine[\"Total_Fine\"] = df_fine[\"count\"] * df_fine[\"Fine_Rate\"]"
      ]
    },
    {
      "cell_type": "code",
      "execution_count": null,
      "metadata": {
        "id": "QMxtrPvZXjYd",
        "outputId": "b1b48e0c-6cca-4f01-a923-16e695d3c7a0"
      },
      "outputs": [
        {
          "data": {
            "text/html": [
              "<div>\n",
              "<style scoped>\n",
              "    .dataframe tbody tr th:only-of-type {\n",
              "        vertical-align: middle;\n",
              "    }\n",
              "\n",
              "    .dataframe tbody tr th {\n",
              "        vertical-align: top;\n",
              "    }\n",
              "\n",
              "    .dataframe thead th {\n",
              "        text-align: right;\n",
              "    }\n",
              "</style>\n",
              "<table border=\"1\" class=\"dataframe\">\n",
              "  <thead>\n",
              "    <tr style=\"text-align: right;\">\n",
              "      <th></th>\n",
              "      <th>Violation Code</th>\n",
              "      <th>count</th>\n",
              "      <th>Fine_Rate</th>\n",
              "      <th>Total_Fine</th>\n",
              "    </tr>\n",
              "  </thead>\n",
              "  <tbody>\n",
              "    <tr>\n",
              "      <th>0</th>\n",
              "      <td>21</td>\n",
              "      <td>759775</td>\n",
              "      <td>55</td>\n",
              "      <td>41787625</td>\n",
              "    </tr>\n",
              "    <tr>\n",
              "      <th>1</th>\n",
              "      <td>36</td>\n",
              "      <td>661827</td>\n",
              "      <td>50</td>\n",
              "      <td>33091350</td>\n",
              "    </tr>\n",
              "    <tr>\n",
              "      <th>2</th>\n",
              "      <td>38</td>\n",
              "      <td>540128</td>\n",
              "      <td>50</td>\n",
              "      <td>27006400</td>\n",
              "    </tr>\n",
              "  </tbody>\n",
              "</table>\n",
              "</div>"
            ],
            "text/plain": [
              "  Violation Code   count  Fine_Rate  Total_Fine\n",
              "0             21  759775         55    41787625\n",
              "1             36  661827         50    33091350\n",
              "2             38  540128         50    27006400"
            ]
          },
          "execution_count": 82,
          "metadata": {},
          "output_type": "execute_result"
        }
      ],
      "source": [
        "df_fine"
      ]
    },
    {
      "cell_type": "code",
      "execution_count": null,
      "metadata": {
        "scrolled": true,
        "id": "Oybr_XvmXjYd",
        "outputId": "28839551-6e96-4ad1-ffde-ce8cd3fff9e2"
      },
      "outputs": [
        {
          "name": "stdout",
          "output_type": "stream",
          "text": [
            "Total Fine Collected from top 3 violations\n",
            "101,885,375\n"
          ]
        }
      ],
      "source": [
        "print(\"Total Fine Collected from top 3 violations\")\n",
        "print('{:,}'.format(  df_fine.Total_Fine.sum() ) )"
      ]
    },
    {
      "cell_type": "code",
      "execution_count": null,
      "metadata": {
        "id": "JJGq6MNtXjYd",
        "outputId": "3f4ddba2-ae4d-498e-d179-46938694c42e"
      },
      "outputs": [
        {
          "data": {
            "text/plain": [
              "0.364707244971432"
            ]
          },
          "execution_count": 84,
          "metadata": {},
          "output_type": "execute_result"
        }
      ],
      "source": [
        "df_fine['count'].sum() / df_violation['count'].sum()"
      ]
    },
    {
      "cell_type": "markdown",
      "metadata": {
        "id": "NstMik7pXjYd"
      },
      "source": [
        "#### Top 3 fine code applied to 36% (almost 1/3) of the tickets"
      ]
    },
    {
      "cell_type": "code",
      "execution_count": null,
      "metadata": {
        "id": "SwRwG_RwXjYd"
      },
      "outputs": [],
      "source": []
    }
  ],
  "metadata": {
    "kernelspec": {
      "display_name": "PySpark",
      "language": "python",
      "name": "pyspark"
    },
    "language_info": {
      "codemirror_mode": {
        "name": "ipython",
        "version": 3
      },
      "file_extension": ".py",
      "mimetype": "text/x-python",
      "name": "python",
      "nbconvert_exporter": "python",
      "pygments_lexer": "ipython3",
      "version": "3.6.5"
    },
    "colab": {
      "provenance": []
    }
  },
  "nbformat": 4,
  "nbformat_minor": 0
}