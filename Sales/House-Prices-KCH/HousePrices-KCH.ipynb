{
 "cells": [
  {
   "cell_type": "markdown",
   "metadata": {},
   "source": [
    "# Inspiration\n",
    "\n",
    "https://towardsdatascience.com/regression-using-sklearn-on-kc-housing-dataset-1ac80ca3d6d4"
   ]
  },
  {
   "cell_type": "code",
   "execution_count": 1,
   "metadata": {},
   "outputs": [],
   "source": [
    "import warnings\n",
    "warnings.filterwarnings('ignore')"
   ]
  },
  {
   "cell_type": "markdown",
   "metadata": {},
   "source": [
    "# Load Required Libraries"
   ]
  },
  {
   "cell_type": "code",
   "execution_count": 2,
   "metadata": {},
   "outputs": [],
   "source": [
    "#importing numpy and pandas, seaborn\n",
    "\n",
    "import numpy as np #linear algebra\n",
    "import pandas as pd #datapreprocessing, CSV file I/O\n",
    "import seaborn as sns #for plotting graphs\n",
    "import matplotlib.pyplot as plt"
   ]
  },
  {
   "cell_type": "code",
   "execution_count": 5,
   "metadata": {},
   "outputs": [],
   "source": [
    "file = r'D:\\github\\1-Projects\\Projects-ML\\Infra-ML19-HousePrices-KCH\\kc_house_data.csv'"
   ]
  },
  {
   "cell_type": "markdown",
   "metadata": {},
   "source": [
    "# Analyse Data of Given Train & Test File"
   ]
  },
  {
   "cell_type": "code",
   "execution_count": 6,
   "metadata": {},
   "outputs": [],
   "source": [
    "df = pd.read_csv(file)"
   ]
  },
  {
   "cell_type": "code",
   "execution_count": 7,
   "metadata": {},
   "outputs": [
    {
     "data": {
      "text/plain": [
       "(21613, 21)"
      ]
     },
     "execution_count": 7,
     "metadata": {},
     "output_type": "execute_result"
    }
   ],
   "source": [
    "df.shape"
   ]
  },
  {
   "cell_type": "code",
   "execution_count": 8,
   "metadata": {},
   "outputs": [
    {
     "data": {
      "text/html": [
       "<div>\n",
       "<style scoped>\n",
       "    .dataframe tbody tr th:only-of-type {\n",
       "        vertical-align: middle;\n",
       "    }\n",
       "\n",
       "    .dataframe tbody tr th {\n",
       "        vertical-align: top;\n",
       "    }\n",
       "\n",
       "    .dataframe thead th {\n",
       "        text-align: right;\n",
       "    }\n",
       "</style>\n",
       "<table border=\"1\" class=\"dataframe\">\n",
       "  <thead>\n",
       "    <tr style=\"text-align: right;\">\n",
       "      <th></th>\n",
       "      <th>id</th>\n",
       "      <th>date</th>\n",
       "      <th>price</th>\n",
       "      <th>bedrooms</th>\n",
       "      <th>bathrooms</th>\n",
       "      <th>sqft_living</th>\n",
       "      <th>sqft_lot</th>\n",
       "      <th>floors</th>\n",
       "      <th>waterfront</th>\n",
       "      <th>view</th>\n",
       "      <th>...</th>\n",
       "      <th>grade</th>\n",
       "      <th>sqft_above</th>\n",
       "      <th>sqft_basement</th>\n",
       "      <th>yr_built</th>\n",
       "      <th>yr_renovated</th>\n",
       "      <th>zipcode</th>\n",
       "      <th>lat</th>\n",
       "      <th>long</th>\n",
       "      <th>sqft_living15</th>\n",
       "      <th>sqft_lot15</th>\n",
       "    </tr>\n",
       "  </thead>\n",
       "  <tbody>\n",
       "    <tr>\n",
       "      <th>0</th>\n",
       "      <td>7129300520</td>\n",
       "      <td>20141013T000000</td>\n",
       "      <td>221900.0</td>\n",
       "      <td>3</td>\n",
       "      <td>1.00</td>\n",
       "      <td>1180</td>\n",
       "      <td>5650</td>\n",
       "      <td>1.0</td>\n",
       "      <td>0</td>\n",
       "      <td>0</td>\n",
       "      <td>...</td>\n",
       "      <td>7</td>\n",
       "      <td>1180.0</td>\n",
       "      <td>0</td>\n",
       "      <td>1955</td>\n",
       "      <td>0</td>\n",
       "      <td>98178</td>\n",
       "      <td>47.5112</td>\n",
       "      <td>-122.257</td>\n",
       "      <td>1340</td>\n",
       "      <td>5650</td>\n",
       "    </tr>\n",
       "    <tr>\n",
       "      <th>1</th>\n",
       "      <td>6414100192</td>\n",
       "      <td>20141209T000000</td>\n",
       "      <td>538000.0</td>\n",
       "      <td>3</td>\n",
       "      <td>2.25</td>\n",
       "      <td>2570</td>\n",
       "      <td>7242</td>\n",
       "      <td>2.0</td>\n",
       "      <td>0</td>\n",
       "      <td>0</td>\n",
       "      <td>...</td>\n",
       "      <td>7</td>\n",
       "      <td>2170.0</td>\n",
       "      <td>400</td>\n",
       "      <td>1951</td>\n",
       "      <td>1991</td>\n",
       "      <td>98125</td>\n",
       "      <td>47.7210</td>\n",
       "      <td>-122.319</td>\n",
       "      <td>1690</td>\n",
       "      <td>7639</td>\n",
       "    </tr>\n",
       "    <tr>\n",
       "      <th>2</th>\n",
       "      <td>5631500400</td>\n",
       "      <td>20150225T000000</td>\n",
       "      <td>180000.0</td>\n",
       "      <td>2</td>\n",
       "      <td>1.00</td>\n",
       "      <td>770</td>\n",
       "      <td>10000</td>\n",
       "      <td>1.0</td>\n",
       "      <td>0</td>\n",
       "      <td>0</td>\n",
       "      <td>...</td>\n",
       "      <td>6</td>\n",
       "      <td>770.0</td>\n",
       "      <td>0</td>\n",
       "      <td>1933</td>\n",
       "      <td>0</td>\n",
       "      <td>98028</td>\n",
       "      <td>47.7379</td>\n",
       "      <td>-122.233</td>\n",
       "      <td>2720</td>\n",
       "      <td>8062</td>\n",
       "    </tr>\n",
       "    <tr>\n",
       "      <th>3</th>\n",
       "      <td>2487200875</td>\n",
       "      <td>20141209T000000</td>\n",
       "      <td>604000.0</td>\n",
       "      <td>4</td>\n",
       "      <td>3.00</td>\n",
       "      <td>1960</td>\n",
       "      <td>5000</td>\n",
       "      <td>1.0</td>\n",
       "      <td>0</td>\n",
       "      <td>0</td>\n",
       "      <td>...</td>\n",
       "      <td>7</td>\n",
       "      <td>1050.0</td>\n",
       "      <td>910</td>\n",
       "      <td>1965</td>\n",
       "      <td>0</td>\n",
       "      <td>98136</td>\n",
       "      <td>47.5208</td>\n",
       "      <td>-122.393</td>\n",
       "      <td>1360</td>\n",
       "      <td>5000</td>\n",
       "    </tr>\n",
       "    <tr>\n",
       "      <th>4</th>\n",
       "      <td>1954400510</td>\n",
       "      <td>20150218T000000</td>\n",
       "      <td>510000.0</td>\n",
       "      <td>3</td>\n",
       "      <td>2.00</td>\n",
       "      <td>1680</td>\n",
       "      <td>8080</td>\n",
       "      <td>1.0</td>\n",
       "      <td>0</td>\n",
       "      <td>0</td>\n",
       "      <td>...</td>\n",
       "      <td>8</td>\n",
       "      <td>1680.0</td>\n",
       "      <td>0</td>\n",
       "      <td>1987</td>\n",
       "      <td>0</td>\n",
       "      <td>98074</td>\n",
       "      <td>47.6168</td>\n",
       "      <td>-122.045</td>\n",
       "      <td>1800</td>\n",
       "      <td>7503</td>\n",
       "    </tr>\n",
       "  </tbody>\n",
       "</table>\n",
       "<p>5 rows × 21 columns</p>\n",
       "</div>"
      ],
      "text/plain": [
       "           id             date     price  bedrooms  bathrooms  sqft_living  \\\n",
       "0  7129300520  20141013T000000  221900.0         3       1.00         1180   \n",
       "1  6414100192  20141209T000000  538000.0         3       2.25         2570   \n",
       "2  5631500400  20150225T000000  180000.0         2       1.00          770   \n",
       "3  2487200875  20141209T000000  604000.0         4       3.00         1960   \n",
       "4  1954400510  20150218T000000  510000.0         3       2.00         1680   \n",
       "\n",
       "   sqft_lot  floors  waterfront  view  ...  grade  sqft_above  sqft_basement  \\\n",
       "0      5650     1.0           0     0  ...      7      1180.0              0   \n",
       "1      7242     2.0           0     0  ...      7      2170.0            400   \n",
       "2     10000     1.0           0     0  ...      6       770.0              0   \n",
       "3      5000     1.0           0     0  ...      7      1050.0            910   \n",
       "4      8080     1.0           0     0  ...      8      1680.0              0   \n",
       "\n",
       "   yr_built  yr_renovated  zipcode      lat     long  sqft_living15  \\\n",
       "0      1955             0    98178  47.5112 -122.257           1340   \n",
       "1      1951          1991    98125  47.7210 -122.319           1690   \n",
       "2      1933             0    98028  47.7379 -122.233           2720   \n",
       "3      1965             0    98136  47.5208 -122.393           1360   \n",
       "4      1987             0    98074  47.6168 -122.045           1800   \n",
       "\n",
       "   sqft_lot15  \n",
       "0        5650  \n",
       "1        7639  \n",
       "2        8062  \n",
       "3        5000  \n",
       "4        7503  \n",
       "\n",
       "[5 rows x 21 columns]"
      ]
     },
     "execution_count": 8,
     "metadata": {},
     "output_type": "execute_result"
    }
   ],
   "source": [
    "df.head()"
   ]
  },
  {
   "cell_type": "code",
   "execution_count": 9,
   "metadata": {},
   "outputs": [
    {
     "name": "stdout",
     "output_type": "stream",
     "text": [
      "<class 'pandas.core.frame.DataFrame'>\n",
      "RangeIndex: 21613 entries, 0 to 21612\n",
      "Data columns (total 21 columns):\n",
      " #   Column         Non-Null Count  Dtype  \n",
      "---  ------         --------------  -----  \n",
      " 0   id             21613 non-null  int64  \n",
      " 1   date           21613 non-null  object \n",
      " 2   price          21613 non-null  float64\n",
      " 3   bedrooms       21613 non-null  int64  \n",
      " 4   bathrooms      21613 non-null  float64\n",
      " 5   sqft_living    21613 non-null  int64  \n",
      " 6   sqft_lot       21613 non-null  int64  \n",
      " 7   floors         21613 non-null  float64\n",
      " 8   waterfront     21613 non-null  int64  \n",
      " 9   view           21613 non-null  int64  \n",
      " 10  condition      21613 non-null  int64  \n",
      " 11  grade          21613 non-null  int64  \n",
      " 12  sqft_above     21611 non-null  float64\n",
      " 13  sqft_basement  21613 non-null  int64  \n",
      " 14  yr_built       21613 non-null  int64  \n",
      " 15  yr_renovated   21613 non-null  int64  \n",
      " 16  zipcode        21613 non-null  int64  \n",
      " 17  lat            21613 non-null  float64\n",
      " 18  long           21613 non-null  float64\n",
      " 19  sqft_living15  21613 non-null  int64  \n",
      " 20  sqft_lot15     21613 non-null  int64  \n",
      "dtypes: float64(6), int64(14), object(1)\n",
      "memory usage: 3.5+ MB\n"
     ]
    }
   ],
   "source": [
    "df.info()"
   ]
  },
  {
   "cell_type": "code",
   "execution_count": 30,
   "metadata": {},
   "outputs": [
    {
     "data": {
      "text/plain": [
       "id               0\n",
       "date             0\n",
       "price            0\n",
       "bedrooms         0\n",
       "bathrooms        0\n",
       "sqft_living      0\n",
       "sqft_lot         0\n",
       "floors           0\n",
       "waterfront       0\n",
       "view             0\n",
       "condition        0\n",
       "grade            0\n",
       "sqft_above       2\n",
       "sqft_basement    0\n",
       "yr_built         0\n",
       "yr_renovated     0\n",
       "zipcode          0\n",
       "lat              0\n",
       "long             0\n",
       "sqft_living15    0\n",
       "sqft_lot15       0\n",
       "dtype: int64"
      ]
     },
     "execution_count": 30,
     "metadata": {},
     "output_type": "execute_result"
    }
   ],
   "source": [
    "df.isnull().sum()"
   ]
  },
  {
   "cell_type": "code",
   "execution_count": 10,
   "metadata": {},
   "outputs": [
    {
     "data": {
      "text/plain": [
       "3     9824\n",
       "4     6882\n",
       "2     2760\n",
       "5     1601\n",
       "6      272\n",
       "1      199\n",
       "7       38\n",
       "0       13\n",
       "8       13\n",
       "9        6\n",
       "10       3\n",
       "11       1\n",
       "33       1\n",
       "Name: bedrooms, dtype: int64"
      ]
     },
     "execution_count": 10,
     "metadata": {},
     "output_type": "execute_result"
    }
   ],
   "source": [
    "df['bedrooms'].value_counts()"
   ]
  },
  {
   "cell_type": "code",
   "execution_count": 11,
   "metadata": {},
   "outputs": [
    {
     "data": {
      "text/plain": [
       "7     8981\n",
       "8     6068\n",
       "9     2615\n",
       "6     2038\n",
       "10    1134\n",
       "11     399\n",
       "5      242\n",
       "12      90\n",
       "4       29\n",
       "13      13\n",
       "3        3\n",
       "1        1\n",
       "Name: grade, dtype: int64"
      ]
     },
     "execution_count": 11,
     "metadata": {},
     "output_type": "execute_result"
    }
   ],
   "source": [
    "df['grade'].value_counts()"
   ]
  },
  {
   "cell_type": "code",
   "execution_count": 12,
   "metadata": {},
   "outputs": [
    {
     "data": {
      "text/plain": [
       "3    14031\n",
       "4     5679\n",
       "5     1701\n",
       "2      172\n",
       "1       30\n",
       "Name: condition, dtype: int64"
      ]
     },
     "execution_count": 12,
     "metadata": {},
     "output_type": "execute_result"
    }
   ],
   "source": [
    "df['condition'].value_counts()"
   ]
  },
  {
   "cell_type": "code",
   "execution_count": 123,
   "metadata": {},
   "outputs": [
    {
     "data": {
      "image/png": "[encoded data removed]",
      "text/plain": [
       "<Figure size 640x480 with 1 Axes>"
      ]
     },
     "metadata": {},
     "output_type": "display_data"
    }
   ],
   "source": [
    "sns.countplot(df, x=df['bedrooms'])\n",
    "plt.show()"
   ]
  },
  {
   "cell_type": "code",
   "execution_count": 18,
   "metadata": {},
   "outputs": [
    {
     "name": "stderr",
     "output_type": "stream",
     "text": [
      "No artists with labels found to put in legend.  Note that artists whose label start with an underscore are ignored when legend() is called with no argument.\n"
     ]
    },
    {
     "data": {
      "text/plain": [
       "<Axes: title={'center': 'house prices by sqft_above'}, xlabel='sqft_above', ylabel='price'>"
      ]
     },
     "execution_count": 18,
     "metadata": {},
     "output_type": "execute_result"
    },
    {
     "data": {
      "image/png": "[encoded data removed]",
      "text/plain": [
       "<Figure size 1500x1000 with 1 Axes>"
      ]
     },
     "metadata": {},
     "output_type": "display_data"
    }
   ],
   "source": [
    "fig,axes=plt.subplots(nrows=1,ncols=1,figsize=(15,10))\n",
    "plt.title(\"house prices by sqft_above\")\n",
    "plt.xlabel('sqft_above')\n",
    "plt.ylabel('house prices')\n",
    "plt.legend()\n",
    "sns.barplot(x='sqft_above',y='price',data=df)"
   ]
  },
  {
   "cell_type": "code",
   "execution_count": 45,
   "metadata": {},
   "outputs": [
    {
     "data": {
      "image/png": "[encoded data removed]",
      "text/plain": [
       "<Figure size 432x288 with 1 Axes>"
      ]
     },
     "metadata": {
      "needs_background": "light"
     },
     "output_type": "display_data"
    }
   ],
   "source": [
    "sns.histplot(df['sqft_above'],bins=10)\n",
    "plt.show()"
   ]
  },
  {
   "cell_type": "code",
   "execution_count": 46,
   "metadata": {},
   "outputs": [
    {
     "data": {
      "image/png": "[encoded data removed]",
      "text/plain": [
       "<Figure size 432x288 with 1 Axes>"
      ]
     },
     "metadata": {
      "needs_background": "light"
     },
     "output_type": "display_data"
    }
   ],
   "source": [
    "sns.histplot(df['sqft_living'],bins=10)\n",
    "plt.show()"
   ]
  },
  {
   "cell_type": "code",
   "execution_count": 49,
   "metadata": {},
   "outputs": [
    {
     "name": "stderr",
     "output_type": "stream",
     "text": [
      "D:\\Users\\admin\\anaconda3\\lib\\site-packages\\seaborn\\distributions.py:2557: FutureWarning: `distplot` is a deprecated function and will be removed in a future version. Please adapt your code to use either `displot` (a figure-level function with similar flexibility) or `histplot` (an axes-level function for histograms).\n",
      "  warnings.warn(msg, FutureWarning)\n"
     ]
    },
    {
     "data": {
      "image/png": "[encoded data removed]",
      "text/plain": [
       "<Figure size 360x360 with 1 Axes>"
      ]
     },
     "metadata": {
      "needs_background": "light"
     },
     "output_type": "display_data"
    }
   ],
   "source": [
    "fig,axes=plt.subplots(nrows=1,ncols=1,figsize=(5,5))\n",
    "sns.distplot(df['sqft_living'],hist=True,kde=True,rug=False,label='sqft_living',norm_hist=True)\n",
    "plt.show()"
   ]
  },
  {
   "cell_type": "code",
   "execution_count": 50,
   "metadata": {},
   "outputs": [
    {
     "name": "stdout",
     "output_type": "stream",
     "text": [
      "Mean 2079.9\n",
      "Median 1910.0\n",
      "Mode 1300\n"
     ]
    }
   ],
   "source": [
    "print('Mean',round(df['sqft_living'].mean(),2))\n",
    "print('Median',df['sqft_living'].median())\n",
    "print('Mode',df['sqft_living'].mode()[0])"
   ]
  },
  {
   "cell_type": "code",
   "execution_count": 51,
   "metadata": {},
   "outputs": [
    {
     "data": {
      "text/plain": [
       "138"
      ]
     },
     "execution_count": 51,
     "metadata": {},
     "output_type": "execute_result"
    }
   ],
   "source": [
    "len(df[df['sqft_living']==1300])"
   ]
  },
  {
   "cell_type": "code",
   "execution_count": 52,
   "metadata": {},
   "outputs": [
    {
     "data": {
      "image/png": "[encoded data removed]",
      "text/plain": [
       "<Figure size 1080x720 with 2 Axes>"
      ]
     },
     "metadata": {
      "needs_background": "light"
     },
     "output_type": "display_data"
    }
   ],
   "source": [
    "def correlation_heatmap(df1):\n",
    "    _,ax=plt.subplots(figsize=(15,10))\n",
    "    colormap=sns.diverging_palette(220,10,as_cmap=True)\n",
    "    sns.heatmap(df.corr(),annot=True,cmap=colormap)\n",
    "    \n",
    "correlation_heatmap(df)"
   ]
  },
  {
   "cell_type": "code",
   "execution_count": null,
   "metadata": {},
   "outputs": [],
   "source": []
  },
  {
   "cell_type": "code",
   "execution_count": 53,
   "metadata": {},
   "outputs": [],
   "source": [
    "from sklearn.model_selection import train_test_split\n",
    "from sklearn import linear_model\n",
    "from sklearn.neighbors import KNeighborsRegressor\n",
    "from sklearn.preprocessing import PolynomialFeatures\n",
    "from sklearn import metrics\n",
    "from mpl_toolkits.mplot3d import Axes3D\n",
    "%matplotlib inline"
   ]
  },
  {
   "cell_type": "code",
   "execution_count": 54,
   "metadata": {},
   "outputs": [
    {
     "name": "stdout",
     "output_type": "stream",
     "text": [
      "linear model\n",
      "Sqaured mean error 254289.15\n",
      "R squared training 0.492\n",
      "R sqaured testing 0.496\n",
      "intercept [-47235.8113029]\n",
      "coefficient [[282.2468152]]\n"
     ]
    }
   ],
   "source": [
    "train_data,test_data=train_test_split(df,train_size=0.8,random_state=3)\n",
    "reg=linear_model.LinearRegression()\n",
    "x_train=np.array(train_data['sqft_living']).reshape(-1,1)\n",
    "y_train=np.array(train_data['price']).reshape(-1,1)\n",
    "reg.fit(x_train,y_train)\n",
    "\n",
    "x_test=np.array(test_data['sqft_living']).reshape(-1,1)\n",
    "y_test=np.array(test_data['price']).reshape(-1,1)\n",
    "pred=reg.predict(x_test)\n",
    "print('linear model')\n",
    "mean_squared_error=metrics.mean_squared_error(y_test,pred)\n",
    "print('Sqaured mean error', round(np.sqrt(mean_squared_error),2))\n",
    "print('R squared training',round(reg.score(x_train,y_train),3))\n",
    "print('R sqaured testing',round(reg.score(x_test,y_test),3) )\n",
    "print('intercept',reg.intercept_)\n",
    "print('coefficient',reg.coef_)"
   ]
  },
  {
   "cell_type": "code",
   "execution_count": 55,
   "metadata": {},
   "outputs": [
    {
     "data": {
      "image/png": "[encoded data removed]",
      "text/plain": [
       "<Figure size 864x720 with 1 Axes>"
      ]
     },
     "metadata": {
      "needs_background": "light"
     },
     "output_type": "display_data"
    }
   ],
   "source": [
    "_, ax = plt.subplots(figsize= (12, 10))\n",
    "plt.scatter(x_test, y_test, color= 'darkgreen', label = 'data')\n",
    "plt.plot(x_test, reg.predict(x_test), color='red', label= ' Predicted Regression line')\n",
    "plt.xlabel('Living Space (sqft)')\n",
    "plt.ylabel('price')\n",
    "plt.legend()\n",
    "plt.gca().spines['right'].set_visible(False)\n",
    "plt.gca().spines['right'].set_visible(False)"
   ]
  },
  {
   "cell_type": "code",
   "execution_count": 56,
   "metadata": {},
   "outputs": [
    {
     "name": "stdout",
     "output_type": "stream",
     "text": [
      "linear model\n",
      "squared mean error 263387.61\n",
      "R squared training 0.442\n",
      "R squared testing 0.46\n",
      "intercept [-1061459.62144307]\n",
      "coeeficient [[209225.48270385]]\n"
     ]
    }
   ],
   "source": [
    "train_data,test_data=train_test_split(df,train_size=0.8,random_state=3)\n",
    "reg=linear_model.LinearRegression()\n",
    "x_train=np.array(train_data['grade']).reshape(-1,1)\n",
    "y_train=np.array(train_data['price']).reshape(-1,1)\n",
    "reg.fit(x_train,y_train)\n",
    "\n",
    "x_test=np.array(test_data['grade']).reshape(-1,1)\n",
    "y_test=np.array(test_data['price']).reshape(-1,1)\n",
    "pred=reg.predict(x_test)\n",
    "print('linear model')\n",
    "mean_squared_error=metrics.mean_squared_error(y_test,pred)\n",
    "print('squared mean error',round(np.sqrt(mean_squared_error),2))\n",
    "print('R squared training',round(reg.score(x_train,y_train),3))\n",
    "print('R squared testing',round(reg.score(x_test,y_test),3))\n",
    "print('intercept',reg.intercept_)\n",
    "print('coeeficient',reg.coef_)"
   ]
  },
  {
   "cell_type": "code",
   "execution_count": 58,
   "metadata": {},
   "outputs": [
    {
     "data": {
      "text/plain": [
       "<matplotlib.axes._subplots.AxesSubplot at 0x2abcafa6730>"
      ]
     },
     "execution_count": 58,
     "metadata": {},
     "output_type": "execute_result"
    },
    {
     "data": {
      "image/png": "[encoded data removed]",
      "text/plain": [
       "<Figure size 1080x720 with 3 Axes>"
      ]
     },
     "metadata": {
      "needs_background": "light"
     },
     "output_type": "display_data"
    }
   ],
   "source": [
    "fig,ax=plt.subplots(3,1,figsize=(15,10))\n",
    "sns.boxplot(x=train_data['grade'],y=train_data['price'],ax=ax[0])\n",
    "sns.boxplot(x=train_data['bedrooms'],y=train_data['price'],ax=ax[1])\n",
    "sns.boxplot(x=train_data['bathrooms'],y=train_data['price'],ax=ax[2])"
   ]
  },
  {
   "cell_type": "code",
   "execution_count": 62,
   "metadata": {},
   "outputs": [],
   "source": [
    "train_data, test_data = train_test_split(df, test_size=.30, train_size=.70, random_state=40)"
   ]
  },
  {
   "cell_type": "code",
   "execution_count": 69,
   "metadata": {},
   "outputs": [
    {
     "data": {
      "text/html": [
       "<div>\n",
       "<style scoped>\n",
       "    .dataframe tbody tr th:only-of-type {\n",
       "        vertical-align: middle;\n",
       "    }\n",
       "\n",
       "    .dataframe tbody tr th {\n",
       "        vertical-align: top;\n",
       "    }\n",
       "\n",
       "    .dataframe thead th {\n",
       "        text-align: right;\n",
       "    }\n",
       "</style>\n",
       "<table border=\"1\" class=\"dataframe\">\n",
       "  <thead>\n",
       "    <tr style=\"text-align: right;\">\n",
       "      <th></th>\n",
       "      <th>bedrooms</th>\n",
       "      <th>grade</th>\n",
       "      <th>sqft_living</th>\n",
       "      <th>sqft_above</th>\n",
       "    </tr>\n",
       "  </thead>\n",
       "  <tbody>\n",
       "    <tr>\n",
       "      <th>13355</th>\n",
       "      <td>4</td>\n",
       "      <td>7</td>\n",
       "      <td>2130</td>\n",
       "      <td>1430.0</td>\n",
       "    </tr>\n",
       "    <tr>\n",
       "      <th>11095</th>\n",
       "      <td>3</td>\n",
       "      <td>8</td>\n",
       "      <td>1990</td>\n",
       "      <td>1990.0</td>\n",
       "    </tr>\n",
       "    <tr>\n",
       "      <th>13406</th>\n",
       "      <td>4</td>\n",
       "      <td>7</td>\n",
       "      <td>1880</td>\n",
       "      <td>1880.0</td>\n",
       "    </tr>\n",
       "    <tr>\n",
       "      <th>3257</th>\n",
       "      <td>4</td>\n",
       "      <td>9</td>\n",
       "      <td>2930</td>\n",
       "      <td>2130.0</td>\n",
       "    </tr>\n",
       "    <tr>\n",
       "      <th>15850</th>\n",
       "      <td>4</td>\n",
       "      <td>7</td>\n",
       "      <td>1340</td>\n",
       "      <td>1340.0</td>\n",
       "    </tr>\n",
       "    <tr>\n",
       "      <th>...</th>\n",
       "      <td>...</td>\n",
       "      <td>...</td>\n",
       "      <td>...</td>\n",
       "      <td>...</td>\n",
       "    </tr>\n",
       "    <tr>\n",
       "      <th>11532</th>\n",
       "      <td>5</td>\n",
       "      <td>9</td>\n",
       "      <td>2930</td>\n",
       "      <td>1520.0</td>\n",
       "    </tr>\n",
       "    <tr>\n",
       "      <th>16065</th>\n",
       "      <td>4</td>\n",
       "      <td>8</td>\n",
       "      <td>2460</td>\n",
       "      <td>2460.0</td>\n",
       "    </tr>\n",
       "    <tr>\n",
       "      <th>14501</th>\n",
       "      <td>3</td>\n",
       "      <td>5</td>\n",
       "      <td>1150</td>\n",
       "      <td>1150.0</td>\n",
       "    </tr>\n",
       "    <tr>\n",
       "      <th>14555</th>\n",
       "      <td>3</td>\n",
       "      <td>7</td>\n",
       "      <td>2460</td>\n",
       "      <td>1230.0</td>\n",
       "    </tr>\n",
       "    <tr>\n",
       "      <th>11590</th>\n",
       "      <td>3</td>\n",
       "      <td>6</td>\n",
       "      <td>1250</td>\n",
       "      <td>1250.0</td>\n",
       "    </tr>\n",
       "  </tbody>\n",
       "</table>\n",
       "<p>15129 rows × 4 columns</p>\n",
       "</div>"
      ],
      "text/plain": [
       "       bedrooms  grade  sqft_living  sqft_above\n",
       "13355         4      7         2130      1430.0\n",
       "11095         3      8         1990      1990.0\n",
       "13406         4      7         1880      1880.0\n",
       "3257          4      9         2930      2130.0\n",
       "15850         4      7         1340      1340.0\n",
       "...         ...    ...          ...         ...\n",
       "11532         5      9         2930      1520.0\n",
       "16065         4      8         2460      2460.0\n",
       "14501         3      5         1150      1150.0\n",
       "14555         3      7         2460      1230.0\n",
       "11590         3      6         1250      1250.0\n",
       "\n",
       "[15129 rows x 4 columns]"
      ]
     },
     "execution_count": 69,
     "metadata": {},
     "output_type": "execute_result"
    }
   ],
   "source": [
    "train_data[features1]"
   ]
  },
  {
   "cell_type": "code",
   "execution_count": null,
   "metadata": {},
   "outputs": [],
   "source": []
  },
  {
   "cell_type": "code",
   "execution_count": 63,
   "metadata": {},
   "outputs": [
    {
     "ename": "ValueError",
     "evalue": "Input contains NaN, infinity or a value too large for dtype('float64').",
     "output_type": "error",
     "traceback": [
      "\u001b[1;31m---------------------------------------------------------------------------\u001b[0m",
      "\u001b[1;31mValueError\u001b[0m                                Traceback (most recent call last)",
      "\u001b[1;32m<ipython-input-63-c37a3b5ae15d>\u001b[0m in \u001b[0;36m<module>\u001b[1;34m\u001b[0m\n\u001b[0;32m      2\u001b[0m \u001b[0mreg\u001b[0m\u001b[1;33m=\u001b[0m\u001b[0mlinear_model\u001b[0m\u001b[1;33m.\u001b[0m\u001b[0mLinearRegression\u001b[0m\u001b[1;33m(\u001b[0m\u001b[1;33m)\u001b[0m\u001b[1;33m\u001b[0m\u001b[1;33m\u001b[0m\u001b[0m\n\u001b[0;32m      3\u001b[0m \u001b[1;33m\u001b[0m\u001b[0m\n\u001b[1;32m----> 4\u001b[1;33m \u001b[0mreg\u001b[0m\u001b[1;33m.\u001b[0m\u001b[0mfit\u001b[0m\u001b[1;33m(\u001b[0m\u001b[0mtrain_data\u001b[0m\u001b[1;33m[\u001b[0m\u001b[0mfeatures1\u001b[0m\u001b[1;33m]\u001b[0m\u001b[1;33m,\u001b[0m\u001b[0mtrain_data\u001b[0m\u001b[1;33m[\u001b[0m\u001b[1;34m'price'\u001b[0m\u001b[1;33m]\u001b[0m\u001b[1;33m)\u001b[0m\u001b[1;33m\u001b[0m\u001b[1;33m\u001b[0m\u001b[0m\n\u001b[0m\u001b[0;32m      5\u001b[0m \u001b[0mpred\u001b[0m\u001b[1;33m=\u001b[0m\u001b[0mreg\u001b[0m\u001b[1;33m.\u001b[0m\u001b[0mpredict\u001b[0m\u001b[1;33m(\u001b[0m\u001b[0mtest_data\u001b[0m\u001b[1;33m[\u001b[0m\u001b[0mfeatures1\u001b[0m\u001b[1;33m]\u001b[0m\u001b[1;33m)\u001b[0m\u001b[1;33m\u001b[0m\u001b[1;33m\u001b[0m\u001b[0m\n\u001b[0;32m      6\u001b[0m \u001b[0mprint\u001b[0m\u001b[1;33m(\u001b[0m\u001b[1;34m'complex_model 1'\u001b[0m\u001b[1;33m)\u001b[0m\u001b[1;33m\u001b[0m\u001b[1;33m\u001b[0m\u001b[0m\n",
      "\u001b[1;32mD:\\Users\\admin\\anaconda3\\lib\\site-packages\\sklearn\\linear_model\\_base.py\u001b[0m in \u001b[0;36mfit\u001b[1;34m(self, X, y, sample_weight)\u001b[0m\n\u001b[0;32m    503\u001b[0m \u001b[1;33m\u001b[0m\u001b[0m\n\u001b[0;32m    504\u001b[0m         \u001b[0mn_jobs_\u001b[0m \u001b[1;33m=\u001b[0m \u001b[0mself\u001b[0m\u001b[1;33m.\u001b[0m\u001b[0mn_jobs\u001b[0m\u001b[1;33m\u001b[0m\u001b[1;33m\u001b[0m\u001b[0m\n\u001b[1;32m--> 505\u001b[1;33m         X, y = self._validate_data(X, y, accept_sparse=['csr', 'csc', 'coo'],\n\u001b[0m\u001b[0;32m    506\u001b[0m                                    y_numeric=True, multi_output=True)\n\u001b[0;32m    507\u001b[0m \u001b[1;33m\u001b[0m\u001b[0m\n",
      "\u001b[1;32mD:\\Users\\admin\\anaconda3\\lib\\site-packages\\sklearn\\base.py\u001b[0m in \u001b[0;36m_validate_data\u001b[1;34m(self, X, y, reset, validate_separately, **check_params)\u001b[0m\n\u001b[0;32m    430\u001b[0m                 \u001b[0my\u001b[0m \u001b[1;33m=\u001b[0m \u001b[0mcheck_array\u001b[0m\u001b[1;33m(\u001b[0m\u001b[0my\u001b[0m\u001b[1;33m,\u001b[0m \u001b[1;33m**\u001b[0m\u001b[0mcheck_y_params\u001b[0m\u001b[1;33m)\u001b[0m\u001b[1;33m\u001b[0m\u001b[1;33m\u001b[0m\u001b[0m\n\u001b[0;32m    431\u001b[0m             \u001b[1;32melse\u001b[0m\u001b[1;33m:\u001b[0m\u001b[1;33m\u001b[0m\u001b[1;33m\u001b[0m\u001b[0m\n\u001b[1;32m--> 432\u001b[1;33m                 \u001b[0mX\u001b[0m\u001b[1;33m,\u001b[0m \u001b[0my\u001b[0m \u001b[1;33m=\u001b[0m \u001b[0mcheck_X_y\u001b[0m\u001b[1;33m(\u001b[0m\u001b[0mX\u001b[0m\u001b[1;33m,\u001b[0m \u001b[0my\u001b[0m\u001b[1;33m,\u001b[0m \u001b[1;33m**\u001b[0m\u001b[0mcheck_params\u001b[0m\u001b[1;33m)\u001b[0m\u001b[1;33m\u001b[0m\u001b[1;33m\u001b[0m\u001b[0m\n\u001b[0m\u001b[0;32m    433\u001b[0m             \u001b[0mout\u001b[0m \u001b[1;33m=\u001b[0m \u001b[0mX\u001b[0m\u001b[1;33m,\u001b[0m \u001b[0my\u001b[0m\u001b[1;33m\u001b[0m\u001b[1;33m\u001b[0m\u001b[0m\n\u001b[0;32m    434\u001b[0m \u001b[1;33m\u001b[0m\u001b[0m\n",
      "\u001b[1;32mD:\\Users\\admin\\anaconda3\\lib\\site-packages\\sklearn\\utils\\validation.py\u001b[0m in \u001b[0;36minner_f\u001b[1;34m(*args, **kwargs)\u001b[0m\n\u001b[0;32m     71\u001b[0m                           FutureWarning)\n\u001b[0;32m     72\u001b[0m         \u001b[0mkwargs\u001b[0m\u001b[1;33m.\u001b[0m\u001b[0mupdate\u001b[0m\u001b[1;33m(\u001b[0m\u001b[1;33m{\u001b[0m\u001b[0mk\u001b[0m\u001b[1;33m:\u001b[0m \u001b[0marg\u001b[0m \u001b[1;32mfor\u001b[0m \u001b[0mk\u001b[0m\u001b[1;33m,\u001b[0m \u001b[0marg\u001b[0m \u001b[1;32min\u001b[0m \u001b[0mzip\u001b[0m\u001b[1;33m(\u001b[0m\u001b[0msig\u001b[0m\u001b[1;33m.\u001b[0m\u001b[0mparameters\u001b[0m\u001b[1;33m,\u001b[0m \u001b[0margs\u001b[0m\u001b[1;33m)\u001b[0m\u001b[1;33m}\u001b[0m\u001b[1;33m)\u001b[0m\u001b[1;33m\u001b[0m\u001b[1;33m\u001b[0m\u001b[0m\n\u001b[1;32m---> 73\u001b[1;33m         \u001b[1;32mreturn\u001b[0m \u001b[0mf\u001b[0m\u001b[1;33m(\u001b[0m\u001b[1;33m**\u001b[0m\u001b[0mkwargs\u001b[0m\u001b[1;33m)\u001b[0m\u001b[1;33m\u001b[0m\u001b[1;33m\u001b[0m\u001b[0m\n\u001b[0m\u001b[0;32m     74\u001b[0m     \u001b[1;32mreturn\u001b[0m \u001b[0minner_f\u001b[0m\u001b[1;33m\u001b[0m\u001b[1;33m\u001b[0m\u001b[0m\n\u001b[0;32m     75\u001b[0m \u001b[1;33m\u001b[0m\u001b[0m\n",
      "\u001b[1;32mD:\\Users\\admin\\anaconda3\\lib\\site-packages\\sklearn\\utils\\validation.py\u001b[0m in \u001b[0;36mcheck_X_y\u001b[1;34m(X, y, accept_sparse, accept_large_sparse, dtype, order, copy, force_all_finite, ensure_2d, allow_nd, multi_output, ensure_min_samples, ensure_min_features, y_numeric, estimator)\u001b[0m\n\u001b[0;32m    794\u001b[0m         \u001b[1;32mraise\u001b[0m \u001b[0mValueError\u001b[0m\u001b[1;33m(\u001b[0m\u001b[1;34m\"y cannot be None\"\u001b[0m\u001b[1;33m)\u001b[0m\u001b[1;33m\u001b[0m\u001b[1;33m\u001b[0m\u001b[0m\n\u001b[0;32m    795\u001b[0m \u001b[1;33m\u001b[0m\u001b[0m\n\u001b[1;32m--> 796\u001b[1;33m     X = check_array(X, accept_sparse=accept_sparse,\n\u001b[0m\u001b[0;32m    797\u001b[0m                     \u001b[0maccept_large_sparse\u001b[0m\u001b[1;33m=\u001b[0m\u001b[0maccept_large_sparse\u001b[0m\u001b[1;33m,\u001b[0m\u001b[1;33m\u001b[0m\u001b[1;33m\u001b[0m\u001b[0m\n\u001b[0;32m    798\u001b[0m                     \u001b[0mdtype\u001b[0m\u001b[1;33m=\u001b[0m\u001b[0mdtype\u001b[0m\u001b[1;33m,\u001b[0m \u001b[0morder\u001b[0m\u001b[1;33m=\u001b[0m\u001b[0morder\u001b[0m\u001b[1;33m,\u001b[0m \u001b[0mcopy\u001b[0m\u001b[1;33m=\u001b[0m\u001b[0mcopy\u001b[0m\u001b[1;33m,\u001b[0m\u001b[1;33m\u001b[0m\u001b[1;33m\u001b[0m\u001b[0m\n",
      "\u001b[1;32mD:\\Users\\admin\\anaconda3\\lib\\site-packages\\sklearn\\utils\\validation.py\u001b[0m in \u001b[0;36minner_f\u001b[1;34m(*args, **kwargs)\u001b[0m\n\u001b[0;32m     71\u001b[0m                           FutureWarning)\n\u001b[0;32m     72\u001b[0m         \u001b[0mkwargs\u001b[0m\u001b[1;33m.\u001b[0m\u001b[0mupdate\u001b[0m\u001b[1;33m(\u001b[0m\u001b[1;33m{\u001b[0m\u001b[0mk\u001b[0m\u001b[1;33m:\u001b[0m \u001b[0marg\u001b[0m \u001b[1;32mfor\u001b[0m \u001b[0mk\u001b[0m\u001b[1;33m,\u001b[0m \u001b[0marg\u001b[0m \u001b[1;32min\u001b[0m \u001b[0mzip\u001b[0m\u001b[1;33m(\u001b[0m\u001b[0msig\u001b[0m\u001b[1;33m.\u001b[0m\u001b[0mparameters\u001b[0m\u001b[1;33m,\u001b[0m \u001b[0margs\u001b[0m\u001b[1;33m)\u001b[0m\u001b[1;33m}\u001b[0m\u001b[1;33m)\u001b[0m\u001b[1;33m\u001b[0m\u001b[1;33m\u001b[0m\u001b[0m\n\u001b[1;32m---> 73\u001b[1;33m         \u001b[1;32mreturn\u001b[0m \u001b[0mf\u001b[0m\u001b[1;33m(\u001b[0m\u001b[1;33m**\u001b[0m\u001b[0mkwargs\u001b[0m\u001b[1;33m)\u001b[0m\u001b[1;33m\u001b[0m\u001b[1;33m\u001b[0m\u001b[0m\n\u001b[0m\u001b[0;32m     74\u001b[0m     \u001b[1;32mreturn\u001b[0m \u001b[0minner_f\u001b[0m\u001b[1;33m\u001b[0m\u001b[1;33m\u001b[0m\u001b[0m\n\u001b[0;32m     75\u001b[0m \u001b[1;33m\u001b[0m\u001b[0m\n",
      "\u001b[1;32mD:\\Users\\admin\\anaconda3\\lib\\site-packages\\sklearn\\utils\\validation.py\u001b[0m in \u001b[0;36mcheck_array\u001b[1;34m(array, accept_sparse, accept_large_sparse, dtype, order, copy, force_all_finite, ensure_2d, allow_nd, ensure_min_samples, ensure_min_features, estimator)\u001b[0m\n\u001b[0;32m    643\u001b[0m \u001b[1;33m\u001b[0m\u001b[0m\n\u001b[0;32m    644\u001b[0m         \u001b[1;32mif\u001b[0m \u001b[0mforce_all_finite\u001b[0m\u001b[1;33m:\u001b[0m\u001b[1;33m\u001b[0m\u001b[1;33m\u001b[0m\u001b[0m\n\u001b[1;32m--> 645\u001b[1;33m             _assert_all_finite(array,\n\u001b[0m\u001b[0;32m    646\u001b[0m                                allow_nan=force_all_finite == 'allow-nan')\n\u001b[0;32m    647\u001b[0m \u001b[1;33m\u001b[0m\u001b[0m\n",
      "\u001b[1;32mD:\\Users\\admin\\anaconda3\\lib\\site-packages\\sklearn\\utils\\validation.py\u001b[0m in \u001b[0;36m_assert_all_finite\u001b[1;34m(X, allow_nan, msg_dtype)\u001b[0m\n\u001b[0;32m     95\u001b[0m                 not allow_nan and not np.isfinite(X).all()):\n\u001b[0;32m     96\u001b[0m             \u001b[0mtype_err\u001b[0m \u001b[1;33m=\u001b[0m \u001b[1;34m'infinity'\u001b[0m \u001b[1;32mif\u001b[0m \u001b[0mallow_nan\u001b[0m \u001b[1;32melse\u001b[0m \u001b[1;34m'NaN, infinity'\u001b[0m\u001b[1;33m\u001b[0m\u001b[1;33m\u001b[0m\u001b[0m\n\u001b[1;32m---> 97\u001b[1;33m             raise ValueError(\n\u001b[0m\u001b[0;32m     98\u001b[0m                     \u001b[0mmsg_err\u001b[0m\u001b[1;33m.\u001b[0m\u001b[0mformat\u001b[0m\u001b[1;33m\u001b[0m\u001b[1;33m\u001b[0m\u001b[0m\n\u001b[0;32m     99\u001b[0m                     (type_err,\n",
      "\u001b[1;31mValueError\u001b[0m: Input contains NaN, infinity or a value too large for dtype('float64')."
     ]
    }
   ],
   "source": [
    "features1=['bedrooms','grade','sqft_living','sqft_above']\n",
    "reg=linear_model.LinearRegression()\n",
    "\n",
    "reg.fit(train_data[features1],train_data['price'])\n",
    "pred=reg.predict(test_data[features1])\n",
    "print('complex_model 1')\n",
    "mean_squared_error=metrics.mean_squared_error(y_test,pred)\n",
    "print('mean squared error(MSE)', round(np.sqrt(mean_squared_error),2))\n",
    "print('R squared training',round(reg.score(train_data[features1],train_data['price']),3))\n",
    "print('R squared training', round(reg.score(test_data[features1],test_data['price']),3))\n",
    "print('Intercept: ', reg.intercept_)\n",
    "print('Coefficient:', reg.coef_)"
   ]
  },
  {
   "cell_type": "code",
   "execution_count": null,
   "metadata": {},
   "outputs": [],
   "source": []
  },
  {
   "cell_type": "code",
   "execution_count": 23,
   "metadata": {},
   "outputs": [],
   "source": [
    "y = df['price']\n",
    "X = df.drop(columns=['price'], axis=1)"
   ]
  },
  {
   "cell_type": "markdown",
   "metadata": {},
   "source": [
    "## Prepare Data for Modelling"
   ]
  },
  {
   "cell_type": "code",
   "execution_count": 24,
   "metadata": {},
   "outputs": [
    {
     "data": {
      "text/plain": [
       "(21613, 20)"
      ]
     },
     "execution_count": 24,
     "metadata": {},
     "output_type": "execute_result"
    }
   ],
   "source": [
    "X.shape"
   ]
  },
  {
   "cell_type": "markdown",
   "metadata": {},
   "source": [
    "# Train Test Split"
   ]
  },
  {
   "cell_type": "code",
   "execution_count": 25,
   "metadata": {},
   "outputs": [],
   "source": [
    "X_train1, X_test1, y_train1, y_test1= train_test_split(X, y, test_size=.30, train_size=.70, random_state=40)"
   ]
  },
  {
   "cell_type": "code",
   "execution_count": 26,
   "metadata": {},
   "outputs": [
    {
     "name": "stdout",
     "output_type": "stream",
     "text": [
      "(6484, 20)\n",
      "(15129, 20)\n",
      "(6484,)\n",
      "(15129,)\n"
     ]
    }
   ],
   "source": [
    "print (X_test1.shape)\n",
    "print (X_train1.shape)\n",
    "print (y_test1.shape)\n",
    "print (y_train1.shape)"
   ]
  },
  {
   "cell_type": "code",
   "execution_count": 136,
   "metadata": {},
   "outputs": [],
   "source": [
    "cols=X_train1.columns"
   ]
  },
  {
   "cell_type": "code",
   "execution_count": 50,
   "metadata": {},
   "outputs": [],
   "source": [
    "def vif():\n",
    "    X = X_train1[cols]\n",
    "    vif = pd.DataFrame()\n",
    "    vif['Feature']= X.columns\n",
    "    vif['vif'] = [variance_inflation_factor(X.values,i) for i in range( X.shape[1]) ]\n",
    "    vif['vif'] = round(vif['vif'],2)\n",
    "    vif= vif.sort_values(\"vif\",ascending=False)\n",
    "    print (vif)"
   ]
  },
  {
   "cell_type": "code",
   "execution_count": 51,
   "metadata": {},
   "outputs": [],
   "source": [
    "def print_train_score():\n",
    "    print (\"R2 Score               :\", round( metrics.r2_score       (y_true= y_train1,y_pred= y_train_result['Pred_Final']) ,3))\n",
    "    print (\"Recall/Senstivity Score:\", round( metrics.recall_score   (y_true= y_train1,y_pred= y_train_result['Pred_Final']) ,3))\n",
    "    print (\"Precision Score        :\", round( metrics.precision_score(y_true= y_train1,y_pred= y_train_result['Pred_Final']) ,3))\n",
    "    print (\"Accuracy Score         :\", round( metrics.accuracy_score (y_true= y_train1,y_pred= y_train_result['Pred_Final']) ,3))\n",
    "    print (\"F1 Score               :\", round( metrics.f1_score       (y_true= y_train1,y_pred= y_train_result['Pred_Final']) ,3))        "
   ]
  },
  {
   "cell_type": "code",
   "execution_count": 52,
   "metadata": {},
   "outputs": [],
   "source": [
    "def print_test_score():\n",
    "    print (\"R2 Score               :\", round( metrics.r2_score       (y_true= y_test1,y_pred= y_test_result['Pred_Final'])       ,3))\n",
    "    print (\"Recall/Senstivity Score:\", round( metrics.recall_score   (y_true= y_test1,y_pred= y_test_result['Pred_Final'])   ,3))\n",
    "    print (\"Precision Score        :\", round( metrics.precision_score(y_true= y_test1,y_pred= y_test_result['Pred_Final']),3))\n",
    "    print (\"Accuracy Score         :\", round( metrics.accuracy_score (y_true= y_test1,y_pred= y_test_result['Pred_Final']) ,3))\n",
    "    print (\"F1 Score               :\", round( metrics.f1_score       (y_true= y_test1,y_pred= y_test_result['Pred_Final'])       ,3))\n",
    "           "
   ]
  },
  {
   "cell_type": "markdown",
   "metadata": {},
   "source": [
    "#### Scale Numberic Variables"
   ]
  },
  {
   "cell_type": "code",
   "execution_count": 137,
   "metadata": {},
   "outputs": [
    {
     "data": {
      "text/html": [
       "<div>\n",
       "<style scoped>\n",
       "    .dataframe tbody tr th:only-of-type {\n",
       "        vertical-align: middle;\n",
       "    }\n",
       "\n",
       "    .dataframe tbody tr th {\n",
       "        vertical-align: top;\n",
       "    }\n",
       "\n",
       "    .dataframe thead th {\n",
       "        text-align: right;\n",
       "    }\n",
       "</style>\n",
       "<table border=\"1\" class=\"dataframe\">\n",
       "  <thead>\n",
       "    <tr style=\"text-align: right;\">\n",
       "      <th></th>\n",
       "      <th>MSSubClass</th>\n",
       "      <th>LotArea</th>\n",
       "      <th>OverallQual</th>\n",
       "      <th>OverallCond</th>\n",
       "      <th>YearBuilt</th>\n",
       "      <th>YearRemodAdd</th>\n",
       "      <th>BsmtFinSF1</th>\n",
       "      <th>BsmtFinSF2</th>\n",
       "      <th>BsmtUnfSF</th>\n",
       "      <th>TotalBsmtSF</th>\n",
       "      <th>...</th>\n",
       "      <th>GarageArea</th>\n",
       "      <th>WoodDeckSF</th>\n",
       "      <th>OpenPorchSF</th>\n",
       "      <th>EnclosedPorch</th>\n",
       "      <th>3SsnPorch</th>\n",
       "      <th>ScreenPorch</th>\n",
       "      <th>PoolArea</th>\n",
       "      <th>MiscVal</th>\n",
       "      <th>MoSold</th>\n",
       "      <th>YrSold</th>\n",
       "    </tr>\n",
       "  </thead>\n",
       "  <tbody>\n",
       "    <tr>\n",
       "      <th>498</th>\n",
       "      <td>20</td>\n",
       "      <td>7800</td>\n",
       "      <td>5</td>\n",
       "      <td>7</td>\n",
       "      <td>1967</td>\n",
       "      <td>2004</td>\n",
       "      <td>450</td>\n",
       "      <td>0</td>\n",
       "      <td>414</td>\n",
       "      <td>864</td>\n",
       "      <td>...</td>\n",
       "      <td>288</td>\n",
       "      <td>64</td>\n",
       "      <td>0</td>\n",
       "      <td>0</td>\n",
       "      <td>0</td>\n",
       "      <td>0</td>\n",
       "      <td>0</td>\n",
       "      <td>0</td>\n",
       "      <td>6</td>\n",
       "      <td>2009</td>\n",
       "    </tr>\n",
       "    <tr>\n",
       "      <th>8</th>\n",
       "      <td>50</td>\n",
       "      <td>6120</td>\n",
       "      <td>7</td>\n",
       "      <td>5</td>\n",
       "      <td>1931</td>\n",
       "      <td>1950</td>\n",
       "      <td>0</td>\n",
       "      <td>0</td>\n",
       "      <td>952</td>\n",
       "      <td>952</td>\n",
       "      <td>...</td>\n",
       "      <td>468</td>\n",
       "      <td>90</td>\n",
       "      <td>0</td>\n",
       "      <td>205</td>\n",
       "      <td>0</td>\n",
       "      <td>0</td>\n",
       "      <td>0</td>\n",
       "      <td>0</td>\n",
       "      <td>4</td>\n",
       "      <td>2008</td>\n",
       "    </tr>\n",
       "    <tr>\n",
       "      <th>309</th>\n",
       "      <td>20</td>\n",
       "      <td>12378</td>\n",
       "      <td>9</td>\n",
       "      <td>5</td>\n",
       "      <td>2003</td>\n",
       "      <td>2004</td>\n",
       "      <td>1274</td>\n",
       "      <td>0</td>\n",
       "      <td>622</td>\n",
       "      <td>1896</td>\n",
       "      <td>...</td>\n",
       "      <td>708</td>\n",
       "      <td>208</td>\n",
       "      <td>175</td>\n",
       "      <td>0</td>\n",
       "      <td>0</td>\n",
       "      <td>0</td>\n",
       "      <td>0</td>\n",
       "      <td>0</td>\n",
       "      <td>11</td>\n",
       "      <td>2006</td>\n",
       "    </tr>\n",
       "    <tr>\n",
       "      <th>957</th>\n",
       "      <td>20</td>\n",
       "      <td>7420</td>\n",
       "      <td>5</td>\n",
       "      <td>5</td>\n",
       "      <td>1962</td>\n",
       "      <td>1962</td>\n",
       "      <td>417</td>\n",
       "      <td>0</td>\n",
       "      <td>640</td>\n",
       "      <td>1057</td>\n",
       "      <td>...</td>\n",
       "      <td>576</td>\n",
       "      <td>0</td>\n",
       "      <td>0</td>\n",
       "      <td>0</td>\n",
       "      <td>0</td>\n",
       "      <td>0</td>\n",
       "      <td>0</td>\n",
       "      <td>0</td>\n",
       "      <td>4</td>\n",
       "      <td>2007</td>\n",
       "    </tr>\n",
       "    <tr>\n",
       "      <th>1022</th>\n",
       "      <td>50</td>\n",
       "      <td>9439</td>\n",
       "      <td>5</td>\n",
       "      <td>5</td>\n",
       "      <td>1930</td>\n",
       "      <td>1950</td>\n",
       "      <td>324</td>\n",
       "      <td>0</td>\n",
       "      <td>588</td>\n",
       "      <td>912</td>\n",
       "      <td>...</td>\n",
       "      <td>160</td>\n",
       "      <td>0</td>\n",
       "      <td>0</td>\n",
       "      <td>192</td>\n",
       "      <td>0</td>\n",
       "      <td>0</td>\n",
       "      <td>0</td>\n",
       "      <td>0</td>\n",
       "      <td>3</td>\n",
       "      <td>2007</td>\n",
       "    </tr>\n",
       "  </tbody>\n",
       "</table>\n",
       "<p>5 rows × 33 columns</p>\n",
       "</div>"
      ],
      "text/plain": [
       "      MSSubClass  LotArea  OverallQual  OverallCond  YearBuilt  YearRemodAdd  \\\n",
       "498           20     7800            5            7       1967          2004   \n",
       "8             50     6120            7            5       1931          1950   \n",
       "309           20    12378            9            5       2003          2004   \n",
       "957           20     7420            5            5       1962          1962   \n",
       "1022          50     9439            5            5       1930          1950   \n",
       "\n",
       "      BsmtFinSF1  BsmtFinSF2  BsmtUnfSF  TotalBsmtSF   ...    GarageArea  \\\n",
       "498          450           0        414          864   ...           288   \n",
       "8              0           0        952          952   ...           468   \n",
       "309         1274           0        622         1896   ...           708   \n",
       "957          417           0        640         1057   ...           576   \n",
       "1022         324           0        588          912   ...           160   \n",
       "\n",
       "      WoodDeckSF  OpenPorchSF  EnclosedPorch  3SsnPorch  ScreenPorch  \\\n",
       "498           64            0              0          0            0   \n",
       "8             90            0            205          0            0   \n",
       "309          208          175              0          0            0   \n",
       "957            0            0              0          0            0   \n",
       "1022           0            0            192          0            0   \n",
       "\n",
       "      PoolArea  MiscVal  MoSold  YrSold  \n",
       "498          0        0       6    2009  \n",
       "8            0        0       4    2008  \n",
       "309          0        0      11    2006  \n",
       "957          0        0       4    2007  \n",
       "1022         0        0       3    2007  \n",
       "\n",
       "[5 rows x 33 columns]"
      ]
     },
     "execution_count": 137,
     "metadata": {},
     "output_type": "execute_result"
    }
   ],
   "source": [
    "X_train1[col_num].head()"
   ]
  },
  {
   "cell_type": "code",
   "execution_count": 138,
   "metadata": {},
   "outputs": [
    {
     "name": "stderr",
     "output_type": "stream",
     "text": [
      "C:\\Users\\admin\\Anaconda3\\lib\\site-packages\\sklearn\\preprocessing\\data.py:625: DataConversionWarning: Data with input dtype int64 were all converted to float64 by StandardScaler.\n",
      "  return self.partial_fit(X, y)\n",
      "C:\\Users\\admin\\Anaconda3\\lib\\site-packages\\sklearn\\base.py:462: DataConversionWarning: Data with input dtype int64 were all converted to float64 by StandardScaler.\n",
      "  return self.fit(X, **fit_params).transform(X)\n"
     ]
    }
   ],
   "source": [
    "scaler = StandardScaler()\n",
    "X_train1[col_num] = scaler.fit_transform(X_train1[col_num])"
   ]
  },
  {
   "cell_type": "code",
   "execution_count": 139,
   "metadata": {},
   "outputs": [
    {
     "data": {
      "text/html": [
       "<div>\n",
       "<style scoped>\n",
       "    .dataframe tbody tr th:only-of-type {\n",
       "        vertical-align: middle;\n",
       "    }\n",
       "\n",
       "    .dataframe tbody tr th {\n",
       "        vertical-align: top;\n",
       "    }\n",
       "\n",
       "    .dataframe thead th {\n",
       "        text-align: right;\n",
       "    }\n",
       "</style>\n",
       "<table border=\"1\" class=\"dataframe\">\n",
       "  <thead>\n",
       "    <tr style=\"text-align: right;\">\n",
       "      <th></th>\n",
       "      <th>MSSubClass</th>\n",
       "      <th>LotArea</th>\n",
       "      <th>OverallQual</th>\n",
       "      <th>OverallCond</th>\n",
       "      <th>YearBuilt</th>\n",
       "      <th>YearRemodAdd</th>\n",
       "      <th>BsmtFinSF1</th>\n",
       "      <th>BsmtFinSF2</th>\n",
       "      <th>BsmtUnfSF</th>\n",
       "      <th>TotalBsmtSF</th>\n",
       "      <th>...</th>\n",
       "      <th>SaleType_5</th>\n",
       "      <th>SaleType_6</th>\n",
       "      <th>SaleType_7</th>\n",
       "      <th>SaleType_8</th>\n",
       "      <th>SaleCondition_0</th>\n",
       "      <th>SaleCondition_1</th>\n",
       "      <th>SaleCondition_2</th>\n",
       "      <th>SaleCondition_3</th>\n",
       "      <th>SaleCondition_4</th>\n",
       "      <th>SaleCondition_5</th>\n",
       "    </tr>\n",
       "  </thead>\n",
       "  <tbody>\n",
       "    <tr>\n",
       "      <th>498</th>\n",
       "      <td>-0.859581</td>\n",
       "      <td>-0.265679</td>\n",
       "      <td>-0.789512</td>\n",
       "      <td>1.304317</td>\n",
       "      <td>-0.147289</td>\n",
       "      <td>0.911495</td>\n",
       "      <td>0.010232</td>\n",
       "      <td>-0.287371</td>\n",
       "      <td>-0.346950</td>\n",
       "      <td>-0.436782</td>\n",
       "      <td>...</td>\n",
       "      <td>0</td>\n",
       "      <td>0</td>\n",
       "      <td>0</td>\n",
       "      <td>1</td>\n",
       "      <td>0</td>\n",
       "      <td>0</td>\n",
       "      <td>0</td>\n",
       "      <td>0</td>\n",
       "      <td>1</td>\n",
       "      <td>0</td>\n",
       "    </tr>\n",
       "    <tr>\n",
       "      <th>8</th>\n",
       "      <td>-0.157943</td>\n",
       "      <td>-0.410988</td>\n",
       "      <td>0.642267</td>\n",
       "      <td>-0.494073</td>\n",
       "      <td>-1.337648</td>\n",
       "      <td>-1.694248</td>\n",
       "      <td>-0.953737</td>\n",
       "      <td>-0.287371</td>\n",
       "      <td>0.861916</td>\n",
       "      <td>-0.242389</td>\n",
       "      <td>...</td>\n",
       "      <td>0</td>\n",
       "      <td>0</td>\n",
       "      <td>0</td>\n",
       "      <td>1</td>\n",
       "      <td>1</td>\n",
       "      <td>0</td>\n",
       "      <td>0</td>\n",
       "      <td>0</td>\n",
       "      <td>0</td>\n",
       "      <td>0</td>\n",
       "    </tr>\n",
       "    <tr>\n",
       "      <th>309</th>\n",
       "      <td>-0.859581</td>\n",
       "      <td>0.130287</td>\n",
       "      <td>2.074047</td>\n",
       "      <td>-0.494073</td>\n",
       "      <td>1.043070</td>\n",
       "      <td>0.911495</td>\n",
       "      <td>1.775367</td>\n",
       "      <td>-0.287371</td>\n",
       "      <td>0.120418</td>\n",
       "      <td>1.842914</td>\n",
       "      <td>...</td>\n",
       "      <td>0</td>\n",
       "      <td>0</td>\n",
       "      <td>0</td>\n",
       "      <td>1</td>\n",
       "      <td>0</td>\n",
       "      <td>0</td>\n",
       "      <td>0</td>\n",
       "      <td>0</td>\n",
       "      <td>1</td>\n",
       "      <td>0</td>\n",
       "    </tr>\n",
       "    <tr>\n",
       "      <th>957</th>\n",
       "      <td>-0.859581</td>\n",
       "      <td>-0.298547</td>\n",
       "      <td>-0.789512</td>\n",
       "      <td>-0.494073</td>\n",
       "      <td>-0.312617</td>\n",
       "      <td>-1.115194</td>\n",
       "      <td>-0.060459</td>\n",
       "      <td>-0.287371</td>\n",
       "      <td>0.160864</td>\n",
       "      <td>-0.010444</td>\n",
       "      <td>...</td>\n",
       "      <td>0</td>\n",
       "      <td>0</td>\n",
       "      <td>0</td>\n",
       "      <td>1</td>\n",
       "      <td>0</td>\n",
       "      <td>0</td>\n",
       "      <td>0</td>\n",
       "      <td>0</td>\n",
       "      <td>1</td>\n",
       "      <td>0</td>\n",
       "    </tr>\n",
       "    <tr>\n",
       "      <th>1022</th>\n",
       "      <td>-0.157943</td>\n",
       "      <td>-0.123917</td>\n",
       "      <td>-0.789512</td>\n",
       "      <td>-0.494073</td>\n",
       "      <td>-1.370713</td>\n",
       "      <td>-1.694248</td>\n",
       "      <td>-0.259679</td>\n",
       "      <td>-0.287371</td>\n",
       "      <td>0.044022</td>\n",
       "      <td>-0.330750</td>\n",
       "      <td>...</td>\n",
       "      <td>0</td>\n",
       "      <td>0</td>\n",
       "      <td>0</td>\n",
       "      <td>1</td>\n",
       "      <td>0</td>\n",
       "      <td>0</td>\n",
       "      <td>0</td>\n",
       "      <td>0</td>\n",
       "      <td>1</td>\n",
       "      <td>0</td>\n",
       "    </tr>\n",
       "  </tbody>\n",
       "</table>\n",
       "<p>5 rows × 215 columns</p>\n",
       "</div>"
      ],
      "text/plain": [
       "      MSSubClass   LotArea  OverallQual  OverallCond  YearBuilt  YearRemodAdd  \\\n",
       "498    -0.859581 -0.265679    -0.789512     1.304317  -0.147289      0.911495   \n",
       "8      -0.157943 -0.410988     0.642267    -0.494073  -1.337648     -1.694248   \n",
       "309    -0.859581  0.130287     2.074047    -0.494073   1.043070      0.911495   \n",
       "957    -0.859581 -0.298547    -0.789512    -0.494073  -0.312617     -1.115194   \n",
       "1022   -0.157943 -0.123917    -0.789512    -0.494073  -1.370713     -1.694248   \n",
       "\n",
       "      BsmtFinSF1  BsmtFinSF2  BsmtUnfSF  TotalBsmtSF       ...         \\\n",
       "498     0.010232   -0.287371  -0.346950    -0.436782       ...          \n",
       "8      -0.953737   -0.287371   0.861916    -0.242389       ...          \n",
       "309     1.775367   -0.287371   0.120418     1.842914       ...          \n",
       "957    -0.060459   -0.287371   0.160864    -0.010444       ...          \n",
       "1022   -0.259679   -0.287371   0.044022    -0.330750       ...          \n",
       "\n",
       "      SaleType_5  SaleType_6  SaleType_7  SaleType_8  SaleCondition_0  \\\n",
       "498            0           0           0           1                0   \n",
       "8              0           0           0           1                1   \n",
       "309            0           0           0           1                0   \n",
       "957            0           0           0           1                0   \n",
       "1022           0           0           0           1                0   \n",
       "\n",
       "      SaleCondition_1  SaleCondition_2  SaleCondition_3  SaleCondition_4  \\\n",
       "498                 0                0                0                1   \n",
       "8                   0                0                0                0   \n",
       "309                 0                0                0                1   \n",
       "957                 0                0                0                1   \n",
       "1022                0                0                0                1   \n",
       "\n",
       "      SaleCondition_5  \n",
       "498                 0  \n",
       "8                   0  \n",
       "309                 0  \n",
       "957                 0  \n",
       "1022                0  \n",
       "\n",
       "[5 rows x 215 columns]"
      ]
     },
     "execution_count": 139,
     "metadata": {},
     "output_type": "execute_result"
    }
   ],
   "source": [
    "X_train1.head()"
   ]
  },
  {
   "cell_type": "code",
   "execution_count": null,
   "metadata": {},
   "outputs": [],
   "source": [
    "X_train1[col_num].describe()"
   ]
  },
  {
   "cell_type": "markdown",
   "metadata": {},
   "source": [
    "### Model with RFE"
   ]
  },
  {
   "cell_type": "code",
   "execution_count": null,
   "metadata": {},
   "outputs": [],
   "source": []
  },
  {
   "cell_type": "code",
   "execution_count": 140,
   "metadata": {},
   "outputs": [],
   "source": [
    "#from sklearn.feature_selection import RFE\n",
    "from sklearn.decomposition import PCA\n",
    "from sklearn.linear_model import LinearRegression\n",
    "\n",
    "# Importing statsmodels for creating model\n",
    "import statsmodels.api as sm\n",
    "\n",
    "# Import variance_inflation_factor To calculate the VIFs for the new model\n",
    "from statsmodels.stats.outliers_influence import variance_inflation_factor\n",
    "\n",
    "# Import r2_score to get r square score\n",
    "from sklearn.metrics import r2_score"
   ]
  },
  {
   "cell_type": "code",
   "execution_count": 141,
   "metadata": {},
   "outputs": [
    {
     "data": {
      "text/html": [
       "<div>\n",
       "<style scoped>\n",
       "    .dataframe tbody tr th:only-of-type {\n",
       "        vertical-align: middle;\n",
       "    }\n",
       "\n",
       "    .dataframe tbody tr th {\n",
       "        vertical-align: top;\n",
       "    }\n",
       "\n",
       "    .dataframe thead th {\n",
       "        text-align: right;\n",
       "    }\n",
       "</style>\n",
       "<table border=\"1\" class=\"dataframe\">\n",
       "  <thead>\n",
       "    <tr style=\"text-align: right;\">\n",
       "      <th></th>\n",
       "      <th>MSSubClass</th>\n",
       "      <th>LotArea</th>\n",
       "      <th>OverallQual</th>\n",
       "      <th>OverallCond</th>\n",
       "      <th>YearBuilt</th>\n",
       "      <th>YearRemodAdd</th>\n",
       "      <th>BsmtFinSF1</th>\n",
       "      <th>BsmtFinSF2</th>\n",
       "      <th>BsmtUnfSF</th>\n",
       "      <th>TotalBsmtSF</th>\n",
       "      <th>...</th>\n",
       "      <th>SaleType_5</th>\n",
       "      <th>SaleType_6</th>\n",
       "      <th>SaleType_7</th>\n",
       "      <th>SaleType_8</th>\n",
       "      <th>SaleCondition_0</th>\n",
       "      <th>SaleCondition_1</th>\n",
       "      <th>SaleCondition_2</th>\n",
       "      <th>SaleCondition_3</th>\n",
       "      <th>SaleCondition_4</th>\n",
       "      <th>SaleCondition_5</th>\n",
       "    </tr>\n",
       "  </thead>\n",
       "  <tbody>\n",
       "    <tr>\n",
       "      <th>498</th>\n",
       "      <td>-2.312420</td>\n",
       "      <td>-1.109258</td>\n",
       "      <td>-0.948781</td>\n",
       "      <td>0.222739</td>\n",
       "      <td>-1.040932</td>\n",
       "      <td>-0.456205</td>\n",
       "      <td>-1.195863</td>\n",
       "      <td>0.567963</td>\n",
       "      <td>0.327209</td>\n",
       "      <td>0.456808</td>\n",
       "      <td>...</td>\n",
       "      <td>6.383303e-16</td>\n",
       "      <td>-1.133087e-15</td>\n",
       "      <td>4.787726e-16</td>\n",
       "      <td>2.769867e-16</td>\n",
       "      <td>-5.495240e-16</td>\n",
       "      <td>2.689513e-16</td>\n",
       "      <td>-7.620942e-16</td>\n",
       "      <td>6.674768e-16</td>\n",
       "      <td>-4.615549e-16</td>\n",
       "      <td>-1.361153e-16</td>\n",
       "    </tr>\n",
       "    <tr>\n",
       "      <th>8</th>\n",
       "      <td>-0.727828</td>\n",
       "      <td>2.601629</td>\n",
       "      <td>1.569629</td>\n",
       "      <td>2.284827</td>\n",
       "      <td>2.629698</td>\n",
       "      <td>1.104598</td>\n",
       "      <td>-0.737493</td>\n",
       "      <td>-0.108445</td>\n",
       "      <td>0.562517</td>\n",
       "      <td>0.179089</td>\n",
       "      <td>...</td>\n",
       "      <td>-3.144483e-16</td>\n",
       "      <td>7.505831e-17</td>\n",
       "      <td>-1.158200e-16</td>\n",
       "      <td>3.811008e-16</td>\n",
       "      <td>-1.660957e-16</td>\n",
       "      <td>8.545041e-16</td>\n",
       "      <td>2.117707e-16</td>\n",
       "      <td>6.936466e-17</td>\n",
       "      <td>-1.469020e-16</td>\n",
       "      <td>3.073071e-16</td>\n",
       "    </tr>\n",
       "    <tr>\n",
       "      <th>309</th>\n",
       "      <td>5.409197</td>\n",
       "      <td>-2.406157</td>\n",
       "      <td>1.146931</td>\n",
       "      <td>0.311031</td>\n",
       "      <td>-0.329787</td>\n",
       "      <td>1.035097</td>\n",
       "      <td>1.470681</td>\n",
       "      <td>0.485647</td>\n",
       "      <td>-0.093249</td>\n",
       "      <td>-0.241735</td>\n",
       "      <td>...</td>\n",
       "      <td>-1.734141e-16</td>\n",
       "      <td>2.774758e-16</td>\n",
       "      <td>-2.614829e-16</td>\n",
       "      <td>1.646605e-16</td>\n",
       "      <td>-6.477714e-16</td>\n",
       "      <td>2.116161e-16</td>\n",
       "      <td>7.066386e-18</td>\n",
       "      <td>-5.777670e-16</td>\n",
       "      <td>-8.498946e-17</td>\n",
       "      <td>-9.381241e-17</td>\n",
       "    </tr>\n",
       "    <tr>\n",
       "      <th>957</th>\n",
       "      <td>-2.029119</td>\n",
       "      <td>-0.910545</td>\n",
       "      <td>0.189269</td>\n",
       "      <td>1.333800</td>\n",
       "      <td>0.262356</td>\n",
       "      <td>-0.575199</td>\n",
       "      <td>0.728811</td>\n",
       "      <td>-0.794187</td>\n",
       "      <td>0.666770</td>\n",
       "      <td>-0.540413</td>\n",
       "      <td>...</td>\n",
       "      <td>-1.918277e-16</td>\n",
       "      <td>1.930336e-15</td>\n",
       "      <td>-3.222869e-16</td>\n",
       "      <td>-1.145025e-16</td>\n",
       "      <td>-2.455420e-16</td>\n",
       "      <td>4.848683e-16</td>\n",
       "      <td>2.653519e-17</td>\n",
       "      <td>3.867427e-16</td>\n",
       "      <td>5.132475e-16</td>\n",
       "      <td>6.415377e-16</td>\n",
       "    </tr>\n",
       "    <tr>\n",
       "      <th>1022</th>\n",
       "      <td>-3.778044</td>\n",
       "      <td>0.655464</td>\n",
       "      <td>0.785200</td>\n",
       "      <td>0.964057</td>\n",
       "      <td>0.382329</td>\n",
       "      <td>1.619964</td>\n",
       "      <td>-0.658078</td>\n",
       "      <td>-0.926874</td>\n",
       "      <td>0.510271</td>\n",
       "      <td>-1.011652</td>\n",
       "      <td>...</td>\n",
       "      <td>-3.539243e-16</td>\n",
       "      <td>4.468352e-17</td>\n",
       "      <td>-1.782322e-16</td>\n",
       "      <td>2.479206e-16</td>\n",
       "      <td>-1.531478e-16</td>\n",
       "      <td>-2.209082e-16</td>\n",
       "      <td>9.381809e-17</td>\n",
       "      <td>1.356213e-16</td>\n",
       "      <td>8.120550e-16</td>\n",
       "      <td>-6.002360e-16</td>\n",
       "    </tr>\n",
       "  </tbody>\n",
       "</table>\n",
       "<p>5 rows × 215 columns</p>\n",
       "</div>"
      ],
      "text/plain": [
       "      MSSubClass   LotArea  OverallQual  OverallCond  YearBuilt  YearRemodAdd  \\\n",
       "498    -2.312420 -1.109258    -0.948781     0.222739  -1.040932     -0.456205   \n",
       "8      -0.727828  2.601629     1.569629     2.284827   2.629698      1.104598   \n",
       "309     5.409197 -2.406157     1.146931     0.311031  -0.329787      1.035097   \n",
       "957    -2.029119 -0.910545     0.189269     1.333800   0.262356     -0.575199   \n",
       "1022   -3.778044  0.655464     0.785200     0.964057   0.382329      1.619964   \n",
       "\n",
       "      BsmtFinSF1  BsmtFinSF2  BsmtUnfSF  TotalBsmtSF       ...         \\\n",
       "498    -1.195863    0.567963   0.327209     0.456808       ...          \n",
       "8      -0.737493   -0.108445   0.562517     0.179089       ...          \n",
       "309     1.470681    0.485647  -0.093249    -0.241735       ...          \n",
       "957     0.728811   -0.794187   0.666770    -0.540413       ...          \n",
       "1022   -0.658078   -0.926874   0.510271    -1.011652       ...          \n",
       "\n",
       "        SaleType_5    SaleType_6    SaleType_7    SaleType_8  SaleCondition_0  \\\n",
       "498   6.383303e-16 -1.133087e-15  4.787726e-16  2.769867e-16    -5.495240e-16   \n",
       "8    -3.144483e-16  7.505831e-17 -1.158200e-16  3.811008e-16    -1.660957e-16   \n",
       "309  -1.734141e-16  2.774758e-16 -2.614829e-16  1.646605e-16    -6.477714e-16   \n",
       "957  -1.918277e-16  1.930336e-15 -3.222869e-16 -1.145025e-16    -2.455420e-16   \n",
       "1022 -3.539243e-16  4.468352e-17 -1.782322e-16  2.479206e-16    -1.531478e-16   \n",
       "\n",
       "      SaleCondition_1  SaleCondition_2  SaleCondition_3  SaleCondition_4  \\\n",
       "498      2.689513e-16    -7.620942e-16     6.674768e-16    -4.615549e-16   \n",
       "8        8.545041e-16     2.117707e-16     6.936466e-17    -1.469020e-16   \n",
       "309      2.116161e-16     7.066386e-18    -5.777670e-16    -8.498946e-17   \n",
       "957      4.848683e-16     2.653519e-17     3.867427e-16     5.132475e-16   \n",
       "1022    -2.209082e-16     9.381809e-17     1.356213e-16     8.120550e-16   \n",
       "\n",
       "      SaleCondition_5  \n",
       "498     -1.361153e-16  \n",
       "8        3.073071e-16  \n",
       "309     -9.381241e-17  \n",
       "957      6.415377e-16  \n",
       "1022    -6.002360e-16  \n",
       "\n",
       "[5 rows x 215 columns]"
      ]
     },
     "execution_count": 141,
     "metadata": {},
     "output_type": "execute_result"
    }
   ],
   "source": [
    "#Create model using PCA (Principle Component Analysis)\n",
    "col_all= X_train1.columns\n",
    "pca    = PCA(svd_solver=\"randomized\",random_state=100)\n",
    "\n",
    "#Converting normal data to PCA data. Note output is numpy array.\n",
    "pca_train = pca.fit_transform(X_train1)\n",
    "\n",
    "#creating dataframe of above PCA data\n",
    "pca_train = pd.DataFrame(pca_train, columns=col_all, index=X_train1.index)\n",
    "pca_train.head()"
   ]
  },
  {
   "cell_type": "code",
   "execution_count": 130,
   "metadata": {},
   "outputs": [
    {
     "name": "stderr",
     "output_type": "stream",
     "text": [
      "C:\\Users\\admin\\Anaconda3\\lib\\site-packages\\ipykernel_launcher.py:1: DataConversionWarning: Data with input dtype int64 were all converted to float64 by StandardScaler.\n",
      "  \"\"\"Entry point for launching an IPython kernel.\n"
     ]
    }
   ],
   "source": []
  },
  {
   "cell_type": "code",
   "execution_count": 78,
   "metadata": {},
   "outputs": [],
   "source": [
    "#np.cumsum(pca.explained_variance_ratio_)"
   ]
  },
  {
   "cell_type": "code",
   "execution_count": 142,
   "metadata": {},
   "outputs": [
    {
     "data": {
      "image/png": "[encoded data removed]",
      "text/plain": [
       "<Figure size 432x288 with 1 Axes>"
      ]
     },
     "metadata": {
      "needs_background": "light"
     },
     "output_type": "display_data"
    }
   ],
   "source": [
    "#Making the screeplot - plotting the cumulative variance against the original number of components\n",
    "fig = plt.figure(figsize = (6,4))\n",
    "plt.plot(np.cumsum(pca.explained_variance_ratio_))\n",
    "plt.xlabel('number of components')\n",
    "plt.ylabel('cumulative explained variance')\n",
    "plt.show()\n"
   ]
  },
  {
   "cell_type": "code",
   "execution_count": 148,
   "metadata": {},
   "outputs": [],
   "source": [
    "pca_train1= pca_train.iloc[::,:60:]"
   ]
  },
  {
   "cell_type": "code",
   "execution_count": 143,
   "metadata": {},
   "outputs": [],
   "source": [
    "def buildModel(X_data, y_data, number_of_rfe_features, predict=False, train=True, rsquare_train=False):\n",
    "\n",
    "    if train:\n",
    "        #Initiate LinearRegression Model Object\n",
    "        lm = LinearRegression()\n",
    "\n",
    "        #Fit Model on Train Data\n",
    "        lm.fit(X_data, y_data)\n",
    "\n",
    "        #Identify top n features from the dataframe\n",
    "        rfe = RFE(lm, number_of_rfe_features)             \n",
    "        rfe = rfe.fit(X_data, y_data)\n",
    "\n",
    "        #Name of those top n features\n",
    "        col = X_data.columns[rfe.support_]\n",
    "\n",
    "        # Creating X_train dataframe with RFE selected variables\n",
    "        X_train_rfe = X_data[col]\n",
    "\n",
    "        # Adding a constant variable, because statsmodel.ols \n",
    "        #does not have intercept by default and line go through 0,0\n",
    "        X_train_rfe = sm.add_constant(X_train_rfe)\n",
    "        \n",
    "        # Running the linear model\n",
    "        lm = sm.OLS(y_data,X_train_rfe).fit()\n",
    "        \n",
    "        if rsquare_train:\n",
    "            return r2_score(y_data,lm.predict(X_train_rfe))\n",
    "\n",
    "    if predict:\n",
    "        fig = plt.figure(figsize=(15,5))\n",
    "        \n",
    "        # Plot heading \n",
    "        fig.suptitle('Error Terms', fontsize = 20)  \n",
    "        plt.subplot(1,2,1)\n",
    "        #predict the price\n",
    "        y_train_predict = lm.predict(X_train_rfe)\n",
    "        \n",
    "        # Plot the histogram of the error terms\n",
    "        sns.distplot((y_data - y_train_predict), bins = 20)\n",
    "        \n",
    "        # X-label\n",
    "        plt.xlabel('Errors', fontsize = 18)\n",
    "        \n",
    "        # Plot the scattered of the error terms\n",
    "        plt.subplot(1,2,2)\n",
    "        sns.scatterplot(y=(y_data - y_train_predict), x=y_train_predict)\n",
    "        # X-label\n",
    "        plt.ylabel('Errors', fontsize = 18)\n",
    "        plt.xlabel(\"y prediction\", fontsize = 18)\n",
    "        return lm\n",
    "        \n",
    "    else:\n",
    "        #Let's see the summary of our linear model\n",
    "        print(lm.summary())\n",
    "        return col, lm"
   ]
  },
  {
   "cell_type": "code",
   "execution_count": 144,
   "metadata": {},
   "outputs": [],
   "source": [
    "#To avoid these steps again and again. To keep my notebook clean I am putting this in function\n",
    "#It will give me VIG for X_train_new (this dataframe will keep chaning from one iteration of model to other)\n",
    "def getVIF(df):\n",
    "    vif = pd.DataFrame()\n",
    "    X = df\n",
    "    vif['Features'] = X.columns\n",
    "    vif['VIF'] = [variance_inflation_factor(X.values, i) for i in range(X.shape[1])]\n",
    "    vif['VIF'] = round(vif['VIF'], 2)\n",
    "    vif = vif.sort_values(by = \"VIF\", ascending = False)\n",
    "    print (vif)\n",
    "    return vif"
   ]
  },
  {
   "cell_type": "code",
   "execution_count": 145,
   "metadata": {},
   "outputs": [],
   "source": [
    "#During model building This function helps in identifying column which should be dropped based on VIF or p-value\n",
    "\n",
    "#If pvalue_based is True then it will give name of feature which has highest p value\n",
    "#else it will give name of feature which has higest VIF\n",
    "\n",
    "def getfeatureName_toDrop(pvalue_based):\n",
    "    if pvalue_based:\n",
    "        nm=list(lm.pvalues.sort_values(ascending=False).head(1).index)[0]\n",
    "        if nm==\"const\":\n",
    "            nm=list(lm.pvalues.sort_values(ascending=False).head(2).index)[1]\n",
    "        return nm\n",
    "    else:\n",
    "        return list(vif.Features.head(1))[0]"
   ]
  },
  {
   "cell_type": "code",
   "execution_count": 186,
   "metadata": {},
   "outputs": [
    {
     "name": "stdout",
     "output_type": "stream",
     "text": [
      "(1021, 47)\n",
      "(1021,)\n"
     ]
    }
   ],
   "source": [
    "print(pca_train1.shape)\n",
    "print (y_train1.shape)"
   ]
  },
  {
   "cell_type": "code",
   "execution_count": 187,
   "metadata": {},
   "outputs": [
    {
     "name": "stdout",
     "output_type": "stream",
     "text": [
      "                            OLS Regression Results                            \n",
      "==============================================================================\n",
      "Dep. Variable:              SalePrice   R-squared:                       0.822\n",
      "Model:                            OLS   Adj. R-squared:                  0.817\n",
      "Method:                 Least Squares   F-statistic:                     152.4\n",
      "Date:                Mon, 09 Sep 2019   Prob (F-statistic):               0.00\n",
      "Time:                        22:52:17   Log-Likelihood:                -12124.\n",
      "No. Observations:                1021   AIC:                         2.431e+04\n",
      "Df Residuals:                     990   BIC:                         2.446e+04\n",
      "Df Model:                          30                                         \n",
      "Covariance Type:            nonrobust                                         \n",
      "==================================================================================\n",
      "                     coef    std err          t      P>|t|      [0.025      0.975]\n",
      "----------------------------------------------------------------------------------\n",
      "const           1.812e+05   1104.439    164.047      0.000    1.79e+05    1.83e+05\n",
      "MSSubClass      2.609e+04    408.158     63.932      0.000    2.53e+04    2.69e+04\n",
      "OverallQual     4120.9133    673.751      6.116      0.000    2798.769    5443.057\n",
      "OverallCond    -2794.4506    755.578     -3.698      0.000   -4277.170   -1311.732\n",
      "YearBuilt      -6003.3296    875.039     -6.861      0.000   -7720.474   -4286.186\n",
      "YearRemodAdd    3334.5942    985.723      3.383      0.001    1400.248    5268.940\n",
      "BsmtFinSF1     -2790.8062   1012.164     -2.757      0.006   -4777.039    -804.574\n",
      "TotalBsmtSF     3338.6414   1065.003      3.135      0.002    1248.719    5428.564\n",
      "1stFlrSF       -4928.5898   1093.131     -4.509      0.000   -7073.710   -2783.470\n",
      "2ndFlrSF        3231.8564   1098.219      2.943      0.003    1076.753    5386.960\n",
      "BsmtFullBath   -3763.7373   1142.456     -3.294      0.001   -6005.651   -1521.824\n",
      "HalfBath       -2539.5483   1210.041     -2.099      0.036   -4914.089    -165.008\n",
      "KitchenAbvGr   -3395.8178   1257.266     -2.701      0.007   -5863.031    -928.605\n",
      "Fireplaces      5320.7763   1433.871      3.711      0.000    2507.000    8134.553\n",
      "GarageArea     -7332.7841   1535.753     -4.775      0.000   -1.03e+04   -4319.078\n",
      "WoodDeckSF     -9385.8328   1712.345     -5.481      0.000   -1.27e+04   -6025.590\n",
      "3SsnPorch      -1.673e+04   1932.915     -8.658      0.000   -2.05e+04   -1.29e+04\n",
      "PoolArea        7200.7679   2069.268      3.480      0.001    3140.113    1.13e+04\n",
      "MiscVal         6925.7478   2100.172      3.298      0.001    2804.449     1.1e+04\n",
      "MSZoning_2      9077.3834   2408.358      3.769      0.000    4351.311    1.38e+04\n",
      "Street_0        5128.4616   2544.421      2.016      0.044     135.385    1.01e+04\n",
      "LotShape_3      6982.8364   2995.341      2.331      0.020    1104.889    1.29e+04\n",
      "LandContour_1  -5863.6874   3057.422     -1.918      0.055   -1.19e+04     136.085\n",
      "LandContour_2   1.275e+04   3124.601      4.081      0.000    6619.155    1.89e+04\n",
      "Utilities_1     2.021e+04   3530.153      5.726      0.000    1.33e+04    2.71e+04\n",
      "LotConfig_0     1.623e+04   3629.195      4.473      0.000    9112.295    2.34e+04\n",
      "LotConfig_3    -1.164e+04   3828.068     -3.040      0.002   -1.91e+04   -4123.777\n",
      "LotConfig_4     7866.0664   3904.660      2.015      0.044     203.706    1.55e+04\n",
      "LandSlope_0     1.067e+04   3970.863      2.688      0.007    2879.483    1.85e+04\n",
      "LandSlope_2    -1.862e+04   4125.514     -4.513      0.000   -2.67e+04   -1.05e+04\n",
      "Neighborhood_1  8531.4166   4373.217      1.951      0.051     -50.424    1.71e+04\n",
      "==============================================================================\n",
      "Omnibus:                      416.396   Durbin-Watson:                   1.990\n",
      "Prob(Omnibus):                  0.000   Jarque-Bera (JB):            44119.884\n",
      "Skew:                          -0.869   Prob(JB):                         0.00\n",
      "Kurtosis:                      35.157   Cond. No.                         10.7\n",
      "==============================================================================\n",
      "\n",
      "Warnings:\n",
      "[1] Standard Errors assume that the covariance matrix of the errors is correctly specified.\n"
     ]
    }
   ],
   "source": [
    "n=30\n",
    "col,lm=buildModel(pca_train1, y_train1, number_of_rfe_features=n,predict=False,train=True,rsquare_train=False)"
   ]
  },
  {
   "cell_type": "code",
   "execution_count": 155,
   "metadata": {},
   "outputs": [
    {
     "data": {
      "text/plain": [
       "'LandSlope_1'"
      ]
     },
     "execution_count": 155,
     "metadata": {},
     "output_type": "execute_result"
    }
   ],
   "source": [
    "getfeatureName_toDrop(True)"
   ]
  },
  {
   "cell_type": "code",
   "execution_count": 156,
   "metadata": {},
   "outputs": [
    {
     "name": "stdout",
     "output_type": "stream",
     "text": [
      "Dropping Feature:LandSlope_1\n",
      "                            OLS Regression Results                            \n",
      "==============================================================================\n",
      "Dep. Variable:              SalePrice   R-squared:                       0.818\n",
      "Model:                            OLS   Adj. R-squared:                  0.812\n",
      "Method:                 Least Squares   F-statistic:                     148.0\n",
      "Date:                Mon, 09 Sep 2019   Prob (F-statistic):               0.00\n",
      "Time:                        22:42:29   Log-Likelihood:                -12136.\n",
      "No. Observations:                1021   AIC:                         2.433e+04\n",
      "Df Residuals:                     990   BIC:                         2.449e+04\n",
      "Df Model:                          30                                         \n",
      "Covariance Type:            nonrobust                                         \n",
      "==================================================================================\n",
      "                     coef    std err          t      P>|t|      [0.025      0.975]\n",
      "----------------------------------------------------------------------------------\n",
      "const           1.812e+05   1117.639    162.109      0.000    1.79e+05    1.83e+05\n",
      "MSSubClass      2.609e+04    413.036     63.176      0.000    2.53e+04    2.69e+04\n",
      "OverallQual     4120.9133    681.804      6.044      0.000    2782.967    5458.860\n",
      "YearBuilt      -6003.3296    885.498     -6.780      0.000   -7740.997   -4265.662\n",
      "YearRemodAdd    3334.5942    997.504      3.343      0.001    1377.128    5292.060\n",
      "TotalBsmtSF     3338.6414   1077.732      3.098      0.002    1223.739    5453.543\n",
      "1stFlrSF       -4928.5898   1106.196     -4.455      0.000   -7099.349   -2757.831\n",
      "BsmtFullBath   -3763.7373   1156.111     -3.256      0.001   -6032.447   -1495.028\n",
      "KitchenAbvGr   -3395.8178   1272.293     -2.669      0.008   -5892.520    -899.116\n",
      "Fireplaces      5320.7763   1451.009      3.667      0.000    2473.369    8168.184\n",
      "GarageArea     -7332.7841   1554.109     -4.718      0.000   -1.04e+04   -4283.058\n",
      "WoodDeckSF     -9385.8328   1732.811     -5.417      0.000   -1.28e+04   -5985.428\n",
      "3SsnPorch      -1.673e+04   1956.017     -8.555      0.000   -2.06e+04   -1.29e+04\n",
      "PoolArea        7200.7679   2094.000      3.439      0.001    3091.579    1.13e+04\n",
      "MiscVal         6925.7478   2125.273      3.259      0.001    2755.190    1.11e+04\n",
      "YrSold          3386.3044   2233.779      1.516      0.130    -997.181    7769.790\n",
      "MSZoning_2      9077.3834   2437.143      3.725      0.000    4294.823    1.39e+04\n",
      "Street_0        5128.4616   2574.832      1.992      0.047      75.706    1.02e+04\n",
      "Street_1        3425.9176   2689.291      1.274      0.203   -1851.448    8703.283\n",
      "LotShape_3      6982.8364   3031.143      2.304      0.021    1034.634    1.29e+04\n",
      "LandContour_0  -5350.1561   3072.935     -1.741      0.082   -1.14e+04     680.059\n",
      "LandContour_1  -5863.6874   3093.965     -1.895      0.058   -1.19e+04     207.796\n",
      "LandContour_2   1.275e+04   3161.947      4.033      0.000    6545.868     1.9e+04\n",
      "Utilities_0     6047.8498   3309.695      1.827      0.068    -446.974    1.25e+04\n",
      "Utilities_1     2.021e+04   3572.347      5.658      0.000    1.32e+04    2.72e+04\n",
      "LotConfig_0     1.623e+04   3672.572      4.420      0.000    9027.173    2.34e+04\n",
      "LotConfig_3    -1.164e+04   3873.822     -3.004      0.003   -1.92e+04   -4033.991\n",
      "LotConfig_4     7866.0664   3951.329      1.991      0.047     112.124    1.56e+04\n",
      "LandSlope_0     1.067e+04   4018.324      2.656      0.008    2786.348    1.86e+04\n",
      "LandSlope_2    -1.862e+04   4174.823     -4.460      0.000   -2.68e+04   -1.04e+04\n",
      "Neighborhood_1  8531.4166   4425.487      1.928      0.054    -152.996    1.72e+04\n",
      "==============================================================================\n",
      "Omnibus:                      469.474   Durbin-Watson:                   2.001\n",
      "Prob(Omnibus):                  0.000   Jarque-Bera (JB):            49500.172\n",
      "Skew:                          -1.123   Prob(JB):                         0.00\n",
      "Kurtosis:                      37.037   Cond. No.                         10.7\n",
      "==============================================================================\n",
      "\n",
      "Warnings:\n",
      "[1] Standard Errors assume that the covariance matrix of the errors is correctly specified.\n"
     ]
    }
   ],
   "source": [
    "dropFeature = getfeatureName_toDrop(True)\n",
    "print (\"Dropping Feature:\" +dropFeature)\n",
    "pca_train1.drop(columns=dropFeature, inplace=True, axis=0)\n",
    "col,lm=buildModel(pca_train1, y_train1, number_of_rfe_features=n,predict=False,train=True,rsquare_train=False)"
   ]
  },
  {
   "cell_type": "code",
   "execution_count": 157,
   "metadata": {},
   "outputs": [
    {
     "name": "stdout",
     "output_type": "stream",
     "text": [
      "Dropping Feature:Street_1\n",
      "                            OLS Regression Results                            \n",
      "==============================================================================\n",
      "Dep. Variable:              SalePrice   R-squared:                       0.818\n",
      "Model:                            OLS   Adj. R-squared:                  0.812\n",
      "Method:                 Least Squares   F-statistic:                     148.1\n",
      "Date:                Mon, 09 Sep 2019   Prob (F-statistic):               0.00\n",
      "Time:                        22:42:30   Log-Likelihood:                -12136.\n",
      "No. Observations:                1021   AIC:                         2.433e+04\n",
      "Df Residuals:                     990   BIC:                         2.449e+04\n",
      "Df Model:                          30                                         \n",
      "Covariance Type:            nonrobust                                         \n",
      "==================================================================================\n",
      "                     coef    std err          t      P>|t|      [0.025      0.975]\n",
      "----------------------------------------------------------------------------------\n",
      "const           1.812e+05   1117.408    162.143      0.000    1.79e+05    1.83e+05\n",
      "MSSubClass      2.609e+04    412.951     63.190      0.000    2.53e+04    2.69e+04\n",
      "OverallQual     4120.9133    681.663      6.045      0.000    2783.244    5458.583\n",
      "YearBuilt      -6003.3296    885.314     -6.781      0.000   -7740.637   -4266.022\n",
      "YearRemodAdd    3334.5942    997.298      3.344      0.001    1377.534    5291.655\n",
      "TotalBsmtSF     3338.6414   1077.509      3.098      0.002    1224.177    5453.105\n",
      "1stFlrSF       -4928.5898   1105.967     -4.456      0.000   -7098.899   -2758.280\n",
      "BsmtFullBath   -3763.7373   1155.872     -3.256      0.001   -6031.977   -1495.498\n",
      "KitchenAbvGr   -3395.8178   1272.030     -2.670      0.008   -5892.002    -899.633\n",
      "Fireplaces      5320.7763   1450.709      3.668      0.000    2473.959    8167.594\n",
      "GarageArea     -7332.7841   1553.787     -4.719      0.000   -1.04e+04   -4283.689\n",
      "WoodDeckSF     -9385.8328   1732.452     -5.418      0.000   -1.28e+04   -5986.132\n",
      "3SsnPorch      -1.673e+04   1955.612     -8.557      0.000   -2.06e+04   -1.29e+04\n",
      "PoolArea        7200.7679   2093.567      3.439      0.001    3092.430    1.13e+04\n",
      "MiscVal         6925.7478   2124.833      3.259      0.001    2756.054    1.11e+04\n",
      "YrSold          3386.3044   2233.316      1.516      0.130    -996.273    7768.882\n",
      "MSZoning_0     -3266.8258   2290.725     -1.426      0.154   -7762.061    1228.409\n",
      "MSZoning_2      9077.3834   2436.638      3.725      0.000    4295.814    1.39e+04\n",
      "Street_0        5128.4616   2574.299      1.992      0.047      76.753    1.02e+04\n",
      "LotShape_3      6982.8364   3030.515      2.304      0.021    1035.866    1.29e+04\n",
      "LandContour_0  -5350.1561   3072.299     -1.741      0.082   -1.14e+04     678.810\n",
      "LandContour_1  -5863.6874   3093.324     -1.896      0.058   -1.19e+04     206.538\n",
      "LandContour_2   1.275e+04   3161.292      4.033      0.000    6547.153     1.9e+04\n",
      "Utilities_0     6047.8498   3309.010      1.828      0.068    -445.629    1.25e+04\n",
      "Utilities_1     2.021e+04   3571.607      5.659      0.000    1.32e+04    2.72e+04\n",
      "LotConfig_0     1.623e+04   3671.812      4.421      0.000    9028.666    2.34e+04\n",
      "LotConfig_3    -1.164e+04   3873.020     -3.004      0.003   -1.92e+04   -4035.566\n",
      "LotConfig_4     7866.0664   3950.511      1.991      0.047     113.730    1.56e+04\n",
      "LandSlope_0     1.067e+04   4017.492      2.656      0.008    2787.982    1.86e+04\n",
      "LandSlope_2    -1.862e+04   4173.958     -4.461      0.000   -2.68e+04   -1.04e+04\n",
      "Neighborhood_1  8531.4166   4424.570      1.928      0.054    -151.197    1.72e+04\n",
      "==============================================================================\n",
      "Omnibus:                      457.863   Durbin-Watson:                   2.012\n",
      "Prob(Omnibus):                  0.000   Jarque-Bera (JB):            48309.237\n",
      "Skew:                          -1.068   Prob(JB):                         0.00\n",
      "Kurtosis:                      36.630   Cond. No.                         10.7\n",
      "==============================================================================\n",
      "\n",
      "Warnings:\n",
      "[1] Standard Errors assume that the covariance matrix of the errors is correctly specified.\n"
     ]
    }
   ],
   "source": [
    "dropFeature = getfeatureName_toDrop(True)\n",
    "print (\"Dropping Feature:\" +dropFeature)\n",
    "pca_train1.drop(columns=dropFeature, inplace=True, axis=0)\n",
    "col,lm=buildModel(pca_train1, y_train1, number_of_rfe_features=n,predict=False,train=True,rsquare_train=False)"
   ]
  },
  {
   "cell_type": "code",
   "execution_count": 158,
   "metadata": {},
   "outputs": [
    {
     "name": "stdout",
     "output_type": "stream",
     "text": [
      "Dropping Feature:MSZoning_0\n",
      "                            OLS Regression Results                            \n",
      "==============================================================================\n",
      "Dep. Variable:              SalePrice   R-squared:                       0.819\n",
      "Model:                            OLS   Adj. R-squared:                  0.813\n",
      "Method:                 Least Squares   F-statistic:                     149.3\n",
      "Date:                Mon, 09 Sep 2019   Prob (F-statistic):               0.00\n",
      "Time:                        22:42:31   Log-Likelihood:                -12133.\n",
      "No. Observations:                1021   AIC:                         2.433e+04\n",
      "Df Residuals:                     990   BIC:                         2.448e+04\n",
      "Df Model:                          30                                         \n",
      "Covariance Type:            nonrobust                                         \n",
      "==================================================================================\n",
      "                     coef    std err          t      P>|t|      [0.025      0.975]\n",
      "----------------------------------------------------------------------------------\n",
      "const           1.812e+05   1113.775    162.672      0.000    1.79e+05    1.83e+05\n",
      "MSSubClass      2.609e+04    411.608     63.396      0.000    2.53e+04    2.69e+04\n",
      "OverallQual     4120.9133    679.446      6.065      0.000    2787.593    5454.234\n",
      "YearBuilt      -6003.3296    882.436     -6.803      0.000   -7734.989   -4271.670\n",
      "YearRemodAdd    3334.5942    994.056      3.355      0.001    1383.896    5285.292\n",
      "TotalBsmtSF     3338.6414   1074.006      3.109      0.002    1231.052    5446.231\n",
      "1stFlrSF       -4928.5898   1102.372     -4.471      0.000   -7091.844   -2765.336\n",
      "2ndFlrSF        3231.8564   1107.502      2.918      0.004    1058.535    5405.178\n",
      "BsmtFullBath   -3763.7373   1152.114     -3.267      0.001   -6024.603   -1502.872\n",
      "KitchenAbvGr   -3395.8178   1267.895     -2.678      0.008   -5883.887    -907.748\n",
      "Fireplaces      5320.7763   1445.993      3.680      0.000    2483.214    8158.339\n",
      "GarageArea     -7332.7841   1548.736     -4.735      0.000   -1.04e+04   -4293.602\n",
      "WoodDeckSF     -9385.8328   1726.820     -5.435      0.000   -1.28e+04   -5997.184\n",
      "3SsnPorch      -1.673e+04   1949.255     -8.585      0.000   -2.06e+04   -1.29e+04\n",
      "PoolArea        7200.7679   2086.760      3.451      0.001    3105.786    1.13e+04\n",
      "MiscVal         6925.7478   2117.925      3.270      0.001    2769.609    1.11e+04\n",
      "YrSold          3386.3044   2226.056      1.521      0.129    -982.025    7754.634\n",
      "MSZoning_2      9077.3834   2428.717      3.738      0.000    4311.359    1.38e+04\n",
      "Street_0        5128.4616   2565.930      1.999      0.046      93.176    1.02e+04\n",
      "LotShape_3      6982.8364   3020.662      2.312      0.021    1055.200    1.29e+04\n",
      "LandContour_0  -5350.1561   3062.311     -1.747      0.081   -1.14e+04     659.209\n",
      "LandContour_1  -5863.6874   3083.268     -1.902      0.057   -1.19e+04     186.804\n",
      "LandContour_2   1.275e+04   3151.015      4.047      0.000    6567.321    1.89e+04\n",
      "Utilities_0     6047.8498   3298.252      1.834      0.067    -424.519    1.25e+04\n",
      "Utilities_1     2.021e+04   3559.995      5.678      0.000    1.32e+04    2.72e+04\n",
      "LotConfig_0     1.623e+04   3659.874      4.436      0.000    9052.091    2.34e+04\n",
      "LotConfig_3    -1.164e+04   3860.429     -3.014      0.003   -1.92e+04   -4060.274\n",
      "LotConfig_4     7866.0664   3937.668      1.998      0.046     138.933    1.56e+04\n",
      "LandSlope_0     1.067e+04   4004.431      2.665      0.008    2813.612    1.85e+04\n",
      "LandSlope_2    -1.862e+04   4160.389     -4.476      0.000   -2.68e+04   -1.05e+04\n",
      "Neighborhood_1  8531.4166   4410.186      1.934      0.053    -122.970    1.72e+04\n",
      "==============================================================================\n",
      "Omnibus:                      427.178   Durbin-Watson:                   1.992\n",
      "Prob(Omnibus):                  0.000   Jarque-Bera (JB):            42323.364\n",
      "Skew:                          -0.940   Prob(JB):                         0.00\n",
      "Kurtosis:                      34.485   Cond. No.                         10.7\n",
      "==============================================================================\n",
      "\n",
      "Warnings:\n",
      "[1] Standard Errors assume that the covariance matrix of the errors is correctly specified.\n"
     ]
    }
   ],
   "source": [
    "dropFeature = getfeatureName_toDrop(True)\n",
    "print (\"Dropping Feature:\" +dropFeature)\n",
    "pca_train1.drop(columns=dropFeature, inplace=True, axis=0)\n",
    "col,lm=buildModel(pca_train1, y_train1, number_of_rfe_features=n,predict=False,train=True,rsquare_train=False)"
   ]
  },
  {
   "cell_type": "code",
   "execution_count": 159,
   "metadata": {},
   "outputs": [
    {
     "name": "stdout",
     "output_type": "stream",
     "text": [
      "Dropping Feature:YrSold\n",
      "                            OLS Regression Results                            \n",
      "==============================================================================\n",
      "Dep. Variable:              SalePrice   R-squared:                       0.819\n",
      "Model:                            OLS   Adj. R-squared:                  0.813\n",
      "Method:                 Least Squares   F-statistic:                     149.0\n",
      "Date:                Mon, 09 Sep 2019   Prob (F-statistic):               0.00\n",
      "Time:                        22:42:32   Log-Likelihood:                -12134.\n",
      "No. Observations:                1021   AIC:                         2.433e+04\n",
      "Df Residuals:                     990   BIC:                         2.448e+04\n",
      "Df Model:                          30                                         \n",
      "Covariance Type:            nonrobust                                         \n",
      "==================================================================================\n",
      "                     coef    std err          t      P>|t|      [0.025      0.975]\n",
      "----------------------------------------------------------------------------------\n",
      "const           1.812e+05   1114.562    162.557      0.000    1.79e+05    1.83e+05\n",
      "MSSubClass      2.609e+04    411.899     63.351      0.000    2.53e+04    2.69e+04\n",
      "OverallQual     4120.9133    679.927      6.061      0.000    2786.650    5455.176\n",
      "YearBuilt      -6003.3296    883.060     -6.798      0.000   -7736.214   -4270.446\n",
      "YearRemodAdd    3334.5942    994.758      3.352      0.001    1382.517    5286.671\n",
      "TotalBsmtSF     3338.6414   1074.765      3.106      0.002    1229.562    5447.721\n",
      "1stFlrSF       -4928.5898   1103.151     -4.468      0.000   -7093.373   -2763.807\n",
      "2ndFlrSF        3231.8564   1108.285      2.916      0.004    1056.998    5406.714\n",
      "BsmtFullBath   -3763.7373   1152.928     -3.265      0.001   -6026.201   -1501.274\n",
      "KitchenAbvGr   -3395.8178   1268.791     -2.676      0.008   -5885.646    -905.990\n",
      "Fireplaces      5320.7763   1447.015      3.677      0.000    2481.208    8160.345\n",
      "GarageArea     -7332.7841   1549.831     -4.731      0.000   -1.04e+04   -4291.454\n",
      "WoodDeckSF     -9385.8328   1728.041     -5.431      0.000   -1.28e+04   -5994.789\n",
      "3SsnPorch      -1.673e+04   1950.632     -8.579      0.000   -2.06e+04   -1.29e+04\n",
      "PoolArea        7200.7679   2088.235      3.448      0.001    3102.892    1.13e+04\n",
      "MiscVal         6925.7478   2119.422      3.268      0.001    2766.672    1.11e+04\n",
      "MSZoning_2      9077.3834   2430.434      3.735      0.000    4307.990    1.38e+04\n",
      "Street_0        5128.4616   2567.744      1.997      0.046      89.616    1.02e+04\n",
      "LotShape_3      6982.8364   3022.798      2.310      0.021    1051.010    1.29e+04\n",
      "LandContour_0  -5350.1561   3064.475     -1.746      0.081   -1.14e+04     663.457\n",
      "LandContour_1  -5863.6874   3085.448     -1.900      0.058   -1.19e+04     191.081\n",
      "LandContour_2   1.275e+04   3153.243      4.044      0.000    6562.950    1.89e+04\n",
      "LandContour_3   3127.5065   3273.703      0.955      0.340   -3296.687    9551.700\n",
      "Utilities_0     6047.8498   3300.584      1.832      0.067    -429.094    1.25e+04\n",
      "Utilities_1     2.021e+04   3562.512      5.674      0.000    1.32e+04    2.72e+04\n",
      "LotConfig_0     1.623e+04   3662.462      4.433      0.000    9047.014    2.34e+04\n",
      "LotConfig_3    -1.164e+04   3863.158     -3.012      0.003   -1.92e+04   -4054.919\n",
      "LotConfig_4     7866.0664   3940.451      1.996      0.046     133.471    1.56e+04\n",
      "LandSlope_0     1.067e+04   4007.262      2.663      0.008    2808.057    1.85e+04\n",
      "LandSlope_2    -1.862e+04   4163.330     -4.472      0.000   -2.68e+04   -1.05e+04\n",
      "Neighborhood_1  8531.4166   4413.304      1.933      0.054    -129.088    1.72e+04\n",
      "==============================================================================\n",
      "Omnibus:                      422.708   Durbin-Watson:                   1.997\n",
      "Prob(Omnibus):                  0.000   Jarque-Bera (JB):            40223.229\n",
      "Skew:                          -0.931   Prob(JB):                         0.00\n",
      "Kurtosis:                      33.693   Cond. No.                         10.7\n",
      "==============================================================================\n",
      "\n",
      "Warnings:\n",
      "[1] Standard Errors assume that the covariance matrix of the errors is correctly specified.\n"
     ]
    }
   ],
   "source": [
    "dropFeature = getfeatureName_toDrop(True)\n",
    "print (\"Dropping Feature:\" +dropFeature)\n",
    "pca_train1.drop(columns=dropFeature, inplace=True, axis=0)\n",
    "col,lm=buildModel(pca_train1, y_train1, number_of_rfe_features=n,predict=False,train=True,rsquare_train=False)"
   ]
  },
  {
   "cell_type": "code",
   "execution_count": 160,
   "metadata": {},
   "outputs": [
    {
     "name": "stdout",
     "output_type": "stream",
     "text": [
      "Dropping Feature:LandContour_3\n",
      "                            OLS Regression Results                            \n",
      "==============================================================================\n",
      "Dep. Variable:              SalePrice   R-squared:                       0.819\n",
      "Model:                            OLS   Adj. R-squared:                  0.813\n",
      "Method:                 Least Squares   F-statistic:                     149.1\n",
      "Date:                Mon, 09 Sep 2019   Prob (F-statistic):               0.00\n",
      "Time:                        22:42:33   Log-Likelihood:                -12133.\n",
      "No. Observations:                1021   AIC:                         2.433e+04\n",
      "Df Residuals:                     990   BIC:                         2.448e+04\n",
      "Df Model:                          30                                         \n",
      "Covariance Type:            nonrobust                                         \n",
      "==================================================================================\n",
      "                     coef    std err          t      P>|t|      [0.025      0.975]\n",
      "----------------------------------------------------------------------------------\n",
      "const           1.812e+05   1114.468    162.571      0.000    1.79e+05    1.83e+05\n",
      "MSSubClass      2.609e+04    411.864     63.356      0.000    2.53e+04    2.69e+04\n",
      "OverallQual     4120.9133    679.869      6.061      0.000    2786.763    5455.063\n",
      "YearBuilt      -6003.3296    882.985     -6.799      0.000   -7736.066   -4270.593\n",
      "YearRemodAdd    3334.5942    994.674      3.352      0.001    1382.683    5286.506\n",
      "TotalBsmtSF     3338.6414   1074.674      3.107      0.002    1229.741    5447.542\n",
      "1stFlrSF       -4928.5898   1103.057     -4.468      0.000   -7093.189   -2763.991\n",
      "2ndFlrSF        3231.8564   1108.191      2.916      0.004    1057.183    5406.530\n",
      "BsmtFullBath   -3763.7373   1152.830     -3.265      0.001   -6026.009   -1501.466\n",
      "KitchenAbvGr   -3395.8178   1268.683     -2.677      0.008   -5885.435    -906.201\n",
      "Fireplaces      5320.7763   1446.892      3.677      0.000    2481.449    8160.104\n",
      "GarageArea     -7332.7841   1549.699     -4.732      0.000   -1.04e+04   -4291.712\n",
      "WoodDeckSF     -9385.8328   1727.894     -5.432      0.000   -1.28e+04   -5995.077\n",
      "3SsnPorch      -1.673e+04   1950.467     -8.580      0.000   -2.06e+04   -1.29e+04\n",
      "PoolArea        7200.7679   2088.058      3.449      0.001    3103.239    1.13e+04\n",
      "MiscVal         6925.7478   2119.243      3.268      0.001    2767.024    1.11e+04\n",
      "MSZoning_2      9077.3834   2430.227      3.735      0.000    4308.395    1.38e+04\n",
      "Street_0        5128.4616   2567.526      1.997      0.046      90.044    1.02e+04\n",
      "LotShape_1      3015.7067   2900.695      1.040      0.299   -2676.510    8707.924\n",
      "LotShape_3      6982.8364   3022.541      2.310      0.021    1051.513    1.29e+04\n",
      "LandContour_0  -5350.1561   3064.215     -1.746      0.081   -1.14e+04     662.947\n",
      "LandContour_1  -5863.6874   3085.186     -1.901      0.058   -1.19e+04     190.567\n",
      "LandContour_2   1.275e+04   3152.975      4.044      0.000    6563.475    1.89e+04\n",
      "Utilities_0     6047.8498   3300.304      1.833      0.067    -428.544    1.25e+04\n",
      "Utilities_1     2.021e+04   3562.209      5.674      0.000    1.32e+04    2.72e+04\n",
      "LotConfig_0     1.623e+04   3662.151      4.433      0.000    9047.624    2.34e+04\n",
      "LotConfig_3    -1.164e+04   3862.830     -3.012      0.003   -1.92e+04   -4055.562\n",
      "LotConfig_4     7866.0664   3940.117      1.996      0.046     134.127    1.56e+04\n",
      "LandSlope_0     1.067e+04   4006.922      2.663      0.008    2808.724    1.85e+04\n",
      "LandSlope_2    -1.862e+04   4162.977     -4.473      0.000   -2.68e+04   -1.05e+04\n",
      "Neighborhood_1  8531.4166   4412.929      1.933      0.053    -128.353    1.72e+04\n",
      "==============================================================================\n",
      "Omnibus:                      430.648   Durbin-Watson:                   1.989\n",
      "Prob(Omnibus):                  0.000   Jarque-Bera (JB):            42133.479\n",
      "Skew:                          -0.961   Prob(JB):                         0.00\n",
      "Kurtosis:                      34.412   Cond. No.                         10.7\n",
      "==============================================================================\n",
      "\n",
      "Warnings:\n",
      "[1] Standard Errors assume that the covariance matrix of the errors is correctly specified.\n"
     ]
    }
   ],
   "source": [
    "dropFeature = getfeatureName_toDrop(True)\n",
    "print (\"Dropping Feature:\" +dropFeature)\n",
    "pca_train1.drop(columns=dropFeature, inplace=True, axis=0)\n",
    "col,lm=buildModel(pca_train1, y_train1, number_of_rfe_features=n,predict=False,train=True,rsquare_train=False)"
   ]
  },
  {
   "cell_type": "code",
   "execution_count": 161,
   "metadata": {},
   "outputs": [
    {
     "name": "stdout",
     "output_type": "stream",
     "text": [
      "Dropping Feature:LotShape_1\n",
      "                            OLS Regression Results                            \n",
      "==============================================================================\n",
      "Dep. Variable:              SalePrice   R-squared:                       0.819\n",
      "Model:                            OLS   Adj. R-squared:                  0.813\n",
      "Method:                 Least Squares   F-statistic:                     149.1\n",
      "Date:                Mon, 09 Sep 2019   Prob (F-statistic):               0.00\n",
      "Time:                        22:42:34   Log-Likelihood:                -12133.\n",
      "No. Observations:                1021   AIC:                         2.433e+04\n",
      "Df Residuals:                     990   BIC:                         2.448e+04\n",
      "Df Model:                          30                                         \n",
      "Covariance Type:            nonrobust                                         \n",
      "==================================================================================\n",
      "                     coef    std err          t      P>|t|      [0.025      0.975]\n",
      "----------------------------------------------------------------------------------\n",
      "const           1.812e+05   1114.266    162.600      0.000    1.79e+05    1.83e+05\n",
      "MSSubClass      2.609e+04    411.789     63.368      0.000    2.53e+04    2.69e+04\n",
      "OverallQual     4120.9133    679.746      6.062      0.000    2787.005    5454.821\n",
      "YearBuilt      -6003.3296    882.825     -6.800      0.000   -7735.752   -4270.907\n",
      "YearRemodAdd    3334.5942    994.494      3.353      0.001    1383.037    5286.152\n",
      "TotalBsmtSF     3338.6414   1074.479      3.107      0.002    1230.123    5447.160\n",
      "1stFlrSF       -4928.5898   1102.857     -4.469      0.000   -7092.797   -2764.383\n",
      "2ndFlrSF        3231.8564   1107.990      2.917      0.004    1057.577    5406.135\n",
      "BsmtFullBath   -3763.7373   1152.621     -3.265      0.001   -6025.599   -1501.876\n",
      "KitchenAbvGr   -3395.8178   1268.453     -2.677      0.008   -5884.983    -906.652\n",
      "Fireplaces      5320.7763   1446.630      3.678      0.000    2481.964    8159.589\n",
      "GarageArea     -7332.7841   1549.418     -4.733      0.000   -1.04e+04   -4292.263\n",
      "WoodDeckSF     -9385.8328   1727.581     -5.433      0.000   -1.28e+04   -5995.692\n",
      "3SsnPorch      -1.673e+04   1950.113     -8.581      0.000   -2.06e+04   -1.29e+04\n",
      "PoolArea        7200.7679   2087.680      3.449      0.001    3103.982    1.13e+04\n",
      "MiscVal         6925.7478   2118.858      3.269      0.001    2767.778    1.11e+04\n",
      "MSZoning_2      9077.3834   2429.787      3.736      0.000    4309.259    1.38e+04\n",
      "MSZoning_4     -3007.9938   2506.373     -1.200      0.230   -7926.407    1910.419\n",
      "Street_0        5128.4616   2567.060      1.998      0.046      90.957    1.02e+04\n",
      "LotShape_3      6982.8364   3021.993      2.311      0.021    1052.588    1.29e+04\n",
      "LandContour_0  -5350.1561   3063.660     -1.746      0.081   -1.14e+04     661.857\n",
      "LandContour_1  -5863.6874   3084.626     -1.901      0.058   -1.19e+04     189.470\n",
      "LandContour_2   1.275e+04   3152.403      4.045      0.000    6564.597    1.89e+04\n",
      "Utilities_0     6047.8498   3299.705      1.833      0.067    -427.370    1.25e+04\n",
      "Utilities_1     2.021e+04   3561.564      5.675      0.000    1.32e+04    2.72e+04\n",
      "LotConfig_0     1.623e+04   3661.487      4.434      0.000    9048.927    2.34e+04\n",
      "LotConfig_3    -1.164e+04   3862.129     -3.013      0.003   -1.92e+04   -4056.937\n",
      "LotConfig_4     7866.0664   3939.402      1.997      0.046     135.529    1.56e+04\n",
      "LandSlope_0     1.067e+04   4006.195      2.664      0.008    2810.150    1.85e+04\n",
      "LandSlope_2    -1.862e+04   4162.222     -4.474      0.000   -2.68e+04   -1.05e+04\n",
      "Neighborhood_1  8531.4166   4412.129      1.934      0.053    -126.783    1.72e+04\n",
      "==============================================================================\n",
      "Omnibus:                      419.317   Durbin-Watson:                   1.998\n",
      "Prob(Omnibus):                  0.000   Jarque-Bera (JB):            40327.404\n",
      "Skew:                          -0.912   Prob(JB):                         0.00\n",
      "Kurtosis:                      33.735   Cond. No.                         10.7\n",
      "==============================================================================\n",
      "\n",
      "Warnings:\n",
      "[1] Standard Errors assume that the covariance matrix of the errors is correctly specified.\n"
     ]
    }
   ],
   "source": [
    "dropFeature = getfeatureName_toDrop(True)\n",
    "print (\"Dropping Feature:\" +dropFeature)\n",
    "pca_train1.drop(columns=dropFeature, inplace=True, axis=0)\n",
    "col,lm=buildModel(pca_train1, y_train1, number_of_rfe_features=n,predict=False,train=True,rsquare_train=False)"
   ]
  },
  {
   "cell_type": "code",
   "execution_count": 162,
   "metadata": {},
   "outputs": [
    {
     "name": "stdout",
     "output_type": "stream",
     "text": [
      "Dropping Feature:MSZoning_4\n",
      "                            OLS Regression Results                            \n",
      "==============================================================================\n",
      "Dep. Variable:              SalePrice   R-squared:                       0.821\n",
      "Model:                            OLS   Adj. R-squared:                  0.816\n",
      "Method:                 Least Squares   F-statistic:                     151.4\n",
      "Date:                Mon, 09 Sep 2019   Prob (F-statistic):               0.00\n",
      "Time:                        22:42:34   Log-Likelihood:                -12127.\n",
      "No. Observations:                1021   AIC:                         2.432e+04\n",
      "Df Residuals:                     990   BIC:                         2.447e+04\n",
      "Df Model:                          30                                         \n",
      "Covariance Type:            nonrobust                                         \n",
      "==================================================================================\n",
      "                     coef    std err          t      P>|t|      [0.025      0.975]\n",
      "----------------------------------------------------------------------------------\n",
      "const           1.812e+05   1107.493    163.594      0.000    1.79e+05    1.83e+05\n",
      "MSSubClass      2.609e+04    409.287     63.755      0.000    2.53e+04    2.69e+04\n",
      "OverallQual     4120.9133    675.614      6.100      0.000    2795.113    5446.714\n",
      "OverallCond    -2794.4506    757.668     -3.688      0.000   -4281.270   -1307.631\n",
      "YearBuilt      -6003.3296    877.459     -6.842      0.000   -7725.223   -4281.436\n",
      "YearRemodAdd    3334.5942    988.449      3.374      0.001    1394.898    5274.290\n",
      "TotalBsmtSF     3338.6414   1067.949      3.126      0.002    1242.939    5434.344\n",
      "1stFlrSF       -4928.5898   1096.154     -4.496      0.000   -7079.643   -2777.537\n",
      "2ndFlrSF        3231.8564   1101.256      2.935      0.003    1070.792    5392.920\n",
      "BsmtFullBath   -3763.7373   1145.616     -3.285      0.001   -6011.851   -1515.623\n",
      "KitchenAbvGr   -3395.8178   1260.744     -2.694      0.007   -5869.854    -921.781\n",
      "Fireplaces      5320.7763   1437.837      3.701      0.000    2499.218    8142.335\n",
      "GarageArea     -7332.7841   1540.001     -4.762      0.000   -1.04e+04   -4310.743\n",
      "WoodDeckSF     -9385.8328   1717.081     -5.466      0.000   -1.28e+04   -6016.297\n",
      "3SsnPorch      -1.673e+04   1938.261     -8.634      0.000   -2.05e+04   -1.29e+04\n",
      "PoolArea        7200.7679   2074.991      3.470      0.001    3128.883    1.13e+04\n",
      "MiscVal         6925.7478   2105.980      3.289      0.001    2793.051    1.11e+04\n",
      "MSZoning_2      9077.3834   2415.019      3.759      0.000    4338.240    1.38e+04\n",
      "Street_0        5128.4616   2551.458      2.010      0.045     121.575    1.01e+04\n",
      "LotShape_3      6982.8364   3003.626      2.325      0.020    1088.632    1.29e+04\n",
      "LandContour_0  -5350.1561   3045.039     -1.757      0.079   -1.13e+04     625.316\n",
      "LandContour_1  -5863.6874   3065.878     -1.913      0.056   -1.19e+04     152.679\n",
      "LandContour_2   1.275e+04   3133.243      4.070      0.000    6602.196    1.89e+04\n",
      "Utilities_0     6047.8498   3279.650      1.844      0.065    -388.014    1.25e+04\n",
      "Utilities_1     2.021e+04   3539.916      5.710      0.000    1.33e+04    2.72e+04\n",
      "LotConfig_0     1.623e+04   3639.232      4.461      0.000    9092.598    2.34e+04\n",
      "LotConfig_3    -1.164e+04   3838.656     -3.031      0.002   -1.92e+04   -4103.001\n",
      "LotConfig_4     7866.0664   3915.459      2.009      0.045     182.515    1.55e+04\n",
      "LandSlope_0     1.067e+04   3981.846      2.680      0.007    2857.932    1.85e+04\n",
      "LandSlope_2    -1.862e+04   4136.924     -4.501      0.000   -2.67e+04   -1.05e+04\n",
      "Neighborhood_1  8531.4166   4385.312      1.945      0.052     -74.158    1.71e+04\n",
      "==============================================================================\n",
      "Omnibus:                      441.699   Durbin-Watson:                   2.004\n",
      "Prob(Omnibus):                  0.000   Jarque-Bera (JB):            45792.649\n",
      "Skew:                          -0.997   Prob(JB):                         0.00\n",
      "Kurtosis:                      35.748   Cond. No.                         10.7\n",
      "==============================================================================\n",
      "\n",
      "Warnings:\n",
      "[1] Standard Errors assume that the covariance matrix of the errors is correctly specified.\n"
     ]
    }
   ],
   "source": [
    "dropFeature = getfeatureName_toDrop(True)\n",
    "print (\"Dropping Feature:\" +dropFeature)\n",
    "pca_train1.drop(columns=dropFeature, inplace=True, axis=0)\n",
    "col,lm=buildModel(pca_train1, y_train1, number_of_rfe_features=n,predict=False,train=True,rsquare_train=False)"
   ]
  },
  {
   "cell_type": "code",
   "execution_count": 163,
   "metadata": {},
   "outputs": [
    {
     "name": "stdout",
     "output_type": "stream",
     "text": [
      "Dropping Feature:LandContour_0\n",
      "                            OLS Regression Results                            \n",
      "==============================================================================\n",
      "Dep. Variable:              SalePrice   R-squared:                       0.822\n",
      "Model:                            OLS   Adj. R-squared:                  0.816\n",
      "Method:                 Least Squares   F-statistic:                     152.2\n",
      "Date:                Mon, 09 Sep 2019   Prob (F-statistic):               0.00\n",
      "Time:                        22:42:35   Log-Likelihood:                -12125.\n",
      "No. Observations:                1021   AIC:                         2.431e+04\n",
      "Df Residuals:                     990   BIC:                         2.446e+04\n",
      "Df Model:                          30                                         \n",
      "Covariance Type:            nonrobust                                         \n",
      "==================================================================================\n",
      "                     coef    std err          t      P>|t|      [0.025      0.975]\n",
      "----------------------------------------------------------------------------------\n",
      "const           1.812e+05   1104.988    163.965      0.000    1.79e+05    1.83e+05\n",
      "MSSubClass      2.609e+04    408.361     63.900      0.000    2.53e+04    2.69e+04\n",
      "OverallQual     4120.9133    674.086      6.113      0.000    2798.112    5443.715\n",
      "OverallCond    -2794.4506    755.954     -3.697      0.000   -4277.907   -1310.994\n",
      "YearBuilt      -6003.3296    875.474     -6.857      0.000   -7721.328   -4285.331\n",
      "YearRemodAdd    3334.5942    986.213      3.381      0.001    1399.286    5269.903\n",
      "BsmtFinSF1     -2790.8062   1012.667     -2.756      0.006   -4778.027    -803.586\n",
      "TotalBsmtSF     3338.6414   1065.533      3.133      0.002    1247.679    5429.604\n",
      "1stFlrSF       -4928.5898   1093.675     -4.506      0.000   -7074.777   -2782.403\n",
      "2ndFlrSF        3231.8564   1098.765      2.941      0.003    1075.681    5388.032\n",
      "BsmtFullBath   -3763.7373   1143.024     -3.293      0.001   -6006.766   -1520.708\n",
      "KitchenAbvGr   -3395.8178   1257.892     -2.700      0.007   -5864.258    -927.377\n",
      "Fireplaces      5320.7763   1434.585      3.709      0.000    2505.600    8135.953\n",
      "GarageArea     -7332.7841   1536.517     -4.772      0.000   -1.03e+04   -4317.579\n",
      "WoodDeckSF     -9385.8328   1713.197     -5.479      0.000   -1.27e+04   -6023.918\n",
      "3SsnPorch      -1.673e+04   1933.876     -8.653      0.000   -2.05e+04   -1.29e+04\n",
      "PoolArea        7200.7679   2070.297      3.478      0.001    3138.093    1.13e+04\n",
      "MiscVal         6925.7478   2101.216      3.296      0.001    2802.398     1.1e+04\n",
      "MSZoning_2      9077.3834   2409.556      3.767      0.000    4348.960    1.38e+04\n",
      "Street_0        5128.4616   2545.686      2.015      0.044     132.901    1.01e+04\n",
      "LotShape_3      6982.8364   2996.832      2.330      0.020    1101.965    1.29e+04\n",
      "LandContour_1  -5863.6874   3058.943     -1.917      0.056   -1.19e+04     139.070\n",
      "LandContour_2   1.275e+04   3126.156      4.079      0.000    6616.104    1.89e+04\n",
      "Utilities_0     6047.8498   3272.231      1.848      0.065    -373.456    1.25e+04\n",
      "Utilities_1     2.021e+04   3531.909      5.723      0.000    1.33e+04    2.71e+04\n",
      "LotConfig_0     1.623e+04   3631.001      4.471      0.000    9108.752    2.34e+04\n",
      "LotConfig_3    -1.164e+04   3829.973     -3.038      0.002   -1.92e+04   -4120.040\n",
      "LotConfig_4     7866.0664   3906.602      2.014      0.044     199.894    1.55e+04\n",
      "LandSlope_0     1.067e+04   3972.839      2.686      0.007    2875.607    1.85e+04\n",
      "LandSlope_2    -1.862e+04   4127.566     -4.511      0.000   -2.67e+04   -1.05e+04\n",
      "Neighborhood_1  8531.4166   4375.393      1.950      0.051     -54.693    1.71e+04\n",
      "==============================================================================\n",
      "Omnibus:                      458.895   Durbin-Watson:                   1.992\n",
      "Prob(Omnibus):                  0.000   Jarque-Bera (JB):            49808.126\n",
      "Skew:                          -1.065   Prob(JB):                         0.00\n",
      "Kurtosis:                      37.151   Cond. No.                         10.7\n",
      "==============================================================================\n",
      "\n",
      "Warnings:\n",
      "[1] Standard Errors assume that the covariance matrix of the errors is correctly specified.\n"
     ]
    }
   ],
   "source": [
    "dropFeature = getfeatureName_toDrop(True)\n",
    "print (\"Dropping Feature:\" +dropFeature)\n",
    "pca_train1.drop(columns=dropFeature, inplace=True, axis=0)\n",
    "col,lm=buildModel(pca_train1, y_train1, number_of_rfe_features=n,predict=False,train=True,rsquare_train=False)"
   ]
  },
  {
   "cell_type": "code",
   "execution_count": 164,
   "metadata": {},
   "outputs": [
    {
     "name": "stdout",
     "output_type": "stream",
     "text": [
      "Dropping Feature:Utilities_0\n",
      "                            OLS Regression Results                            \n",
      "==============================================================================\n",
      "Dep. Variable:              SalePrice   R-squared:                       0.822\n",
      "Model:                            OLS   Adj. R-squared:                  0.816\n",
      "Method:                 Least Squares   F-statistic:                     152.0\n",
      "Date:                Mon, 09 Sep 2019   Prob (F-statistic):               0.00\n",
      "Time:                        22:42:36   Log-Likelihood:                -12125.\n",
      "No. Observations:                1021   AIC:                         2.431e+04\n",
      "Df Residuals:                     990   BIC:                         2.447e+04\n",
      "Df Model:                          30                                         \n",
      "Covariance Type:            nonrobust                                         \n",
      "==================================================================================\n",
      "                     coef    std err          t      P>|t|      [0.025      0.975]\n",
      "----------------------------------------------------------------------------------\n",
      "const           1.812e+05   1105.723    163.856      0.000    1.79e+05    1.83e+05\n",
      "MSSubClass      2.609e+04    408.632     63.857      0.000    2.53e+04    2.69e+04\n",
      "OverallQual     4120.9133    674.534      6.109      0.000    2797.232    5444.594\n",
      "OverallCond    -2794.4506    756.457     -3.694      0.000   -4278.894   -1310.008\n",
      "YearBuilt      -6003.3296    876.056     -6.853      0.000   -7722.470   -4284.189\n",
      "YearRemodAdd    3334.5942    986.869      3.379      0.001    1397.999    5271.189\n",
      "BsmtFinSF1     -2790.8062   1013.340     -2.754      0.006   -4779.348    -802.264\n",
      "TotalBsmtSF     3338.6414   1066.241      3.131      0.002    1246.289    5430.994\n",
      "1stFlrSF       -4928.5898   1094.402     -4.503      0.000   -7076.204   -2780.976\n",
      "2ndFlrSF        3231.8564   1099.495      2.939      0.003    1074.247    5389.466\n",
      "BsmtFullBath   -3763.7373   1143.784     -3.291      0.001   -6008.258   -1519.217\n",
      "KitchenAbvGr   -3395.8178   1258.728     -2.698      0.007   -5865.899    -925.736\n",
      "Fireplaces      5320.7763   1435.539      3.706      0.000    2503.728    8137.824\n",
      "GarageArea     -7332.7841   1537.539     -4.769      0.000   -1.03e+04   -4315.574\n",
      "WoodDeckSF     -9385.8328   1714.336     -5.475      0.000   -1.27e+04   -6021.683\n",
      "EnclosedPorch   2752.3659   1900.962      1.448      0.148    -978.012    6482.744\n",
      "3SsnPorch      -1.673e+04   1935.162     -8.647      0.000   -2.05e+04   -1.29e+04\n",
      "PoolArea        7200.7679   2071.674      3.476      0.001    3135.392    1.13e+04\n",
      "MiscVal         6925.7478   2102.613      3.294      0.001    2799.657    1.11e+04\n",
      "MSZoning_2      9077.3834   2411.158      3.765      0.000    4345.816    1.38e+04\n",
      "Street_0        5128.4616   2547.379      2.013      0.044     129.579    1.01e+04\n",
      "LotShape_3      6982.8364   2998.824      2.329      0.020    1098.055    1.29e+04\n",
      "LandContour_1  -5863.6874   3060.977     -1.916      0.056   -1.19e+04     143.061\n",
      "LandContour_2   1.275e+04   3128.234      4.076      0.000    6612.026    1.89e+04\n",
      "Utilities_1     2.021e+04   3534.258      5.719      0.000    1.33e+04    2.71e+04\n",
      "LotConfig_0     1.623e+04   3633.415      4.468      0.000    9104.014    2.34e+04\n",
      "LotConfig_3    -1.164e+04   3832.519     -3.036      0.002   -1.92e+04   -4115.043\n",
      "LotConfig_4     7866.0664   3909.200      2.012      0.044     194.797    1.55e+04\n",
      "LandSlope_0     1.067e+04   3975.480      2.684      0.007    2870.424    1.85e+04\n",
      "LandSlope_2    -1.862e+04   4130.311     -4.508      0.000   -2.67e+04   -1.05e+04\n",
      "Neighborhood_1  8531.4166   4378.302      1.949      0.052     -60.401    1.71e+04\n",
      "==============================================================================\n",
      "Omnibus:                      437.832   Durbin-Watson:                   1.984\n",
      "Prob(Omnibus):                  0.000   Jarque-Bera (JB):            45358.222\n",
      "Skew:                          -0.978   Prob(JB):                         0.00\n",
      "Kurtosis:                      35.594   Cond. No.                         10.7\n",
      "==============================================================================\n",
      "\n",
      "Warnings:\n",
      "[1] Standard Errors assume that the covariance matrix of the errors is correctly specified.\n"
     ]
    }
   ],
   "source": [
    "dropFeature = getfeatureName_toDrop(True)\n",
    "print (\"Dropping Feature:\" +dropFeature)\n",
    "pca_train1.drop(columns=dropFeature, inplace=True, axis=0)\n",
    "col,lm=buildModel(pca_train1, y_train1, number_of_rfe_features=n,predict=False,train=True,rsquare_train=False)"
   ]
  },
  {
   "cell_type": "code",
   "execution_count": 166,
   "metadata": {},
   "outputs": [
    {
     "name": "stdout",
     "output_type": "stream",
     "text": [
      "Dropping Feature:EnclosedPorch\n",
      "                            OLS Regression Results                            \n",
      "==============================================================================\n",
      "Dep. Variable:              SalePrice   R-squared:                       0.822\n",
      "Model:                            OLS   Adj. R-squared:                  0.816\n",
      "Method:                 Least Squares   F-statistic:                     152.2\n",
      "Date:                Mon, 09 Sep 2019   Prob (F-statistic):               0.00\n",
      "Time:                        22:43:02   Log-Likelihood:                -12125.\n",
      "No. Observations:                1021   AIC:                         2.431e+04\n",
      "Df Residuals:                     990   BIC:                         2.446e+04\n",
      "Df Model:                          30                                         \n",
      "Covariance Type:            nonrobust                                         \n",
      "==================================================================================\n",
      "                     coef    std err          t      P>|t|      [0.025      0.975]\n",
      "----------------------------------------------------------------------------------\n",
      "const           1.812e+05   1105.074    163.952      0.000    1.79e+05    1.83e+05\n",
      "MSSubClass      2.609e+04    408.393     63.895      0.000    2.53e+04    2.69e+04\n",
      "OverallQual     4120.9133    674.139      6.113      0.000    2798.008    5443.818\n",
      "OverallCond    -2794.4506    756.013     -3.696      0.000   -4278.023   -1310.878\n",
      "YearBuilt      -6003.3296    875.543     -6.857      0.000   -7721.462   -4285.197\n",
      "YearRemodAdd    3334.5942    986.290      3.381      0.001    1399.135    5270.054\n",
      "BsmtFinSF1     -2790.8062   1012.746     -2.756      0.006   -4778.182    -803.430\n",
      "TotalBsmtSF     3338.6414   1065.616      3.133      0.002    1247.516    5429.767\n",
      "1stFlrSF       -4928.5898   1093.760     -4.506      0.000   -7074.945   -2782.235\n",
      "2ndFlrSF        3231.8564   1098.851      2.941      0.003    1075.512    5388.200\n",
      "BsmtFullBath   -3763.7373   1143.114     -3.293      0.001   -6006.941   -1520.533\n",
      "KitchenAbvGr   -3395.8178   1257.990     -2.699      0.007   -5864.451    -927.185\n",
      "Fireplaces      5320.7763   1434.697      3.709      0.000    2505.380    8136.172\n",
      "GarageCars     -2679.9526   1484.086     -1.806      0.071   -5592.268     232.363\n",
      "GarageArea     -7332.7841   1536.637     -4.772      0.000   -1.03e+04   -4317.344\n",
      "WoodDeckSF     -9385.8328   1713.331     -5.478      0.000   -1.27e+04   -6023.656\n",
      "3SsnPorch      -1.673e+04   1934.027     -8.653      0.000   -2.05e+04   -1.29e+04\n",
      "PoolArea        7200.7679   2070.459      3.478      0.001    3137.776    1.13e+04\n",
      "MiscVal         6925.7478   2101.380      3.296      0.001    2802.077     1.1e+04\n",
      "MSZoning_2      9077.3834   2409.744      3.767      0.000    4348.590    1.38e+04\n",
      "Street_0        5128.4616   2545.885      2.014      0.044     132.511    1.01e+04\n",
      "LotShape_3      6982.8364   2997.066      2.330      0.020    1101.506    1.29e+04\n",
      "LandContour_1  -5863.6874   3059.182     -1.917      0.056   -1.19e+04     139.539\n",
      "LandContour_2   1.275e+04   3126.400      4.078      0.000    6615.625    1.89e+04\n",
      "Utilities_1     2.021e+04   3532.185      5.723      0.000    1.33e+04    2.71e+04\n",
      "LotConfig_0     1.623e+04   3631.284      4.471      0.000    9108.195    2.34e+04\n",
      "LotConfig_3    -1.164e+04   3830.272     -3.038      0.002   -1.92e+04   -4119.453\n",
      "LotConfig_4     7866.0664   3906.907      2.013      0.044     199.296    1.55e+04\n",
      "LandSlope_0     1.067e+04   3973.149      2.686      0.007    2874.998    1.85e+04\n",
      "LandSlope_2    -1.862e+04   4127.889     -4.511      0.000   -2.67e+04   -1.05e+04\n",
      "Neighborhood_1  8531.4166   4375.735      1.950      0.051     -55.363    1.71e+04\n",
      "==============================================================================\n",
      "Omnibus:                      439.313   Durbin-Watson:                   1.989\n",
      "Prob(Omnibus):                  0.000   Jarque-Bera (JB):            46288.558\n",
      "Skew:                          -0.981   Prob(JB):                         0.00\n",
      "Kurtosis:                      35.928   Cond. No.                         10.7\n",
      "==============================================================================\n",
      "\n",
      "Warnings:\n",
      "[1] Standard Errors assume that the covariance matrix of the errors is correctly specified.\n"
     ]
    }
   ],
   "source": [
    "dropFeature = getfeatureName_toDrop(True)\n",
    "print (\"Dropping Feature:\" +dropFeature)\n",
    "pca_train1.drop(columns=dropFeature, inplace=True, axis=0)\n",
    "col,lm=buildModel(pca_train1, y_train1, number_of_rfe_features=n,predict=False,train=True,rsquare_train=False)"
   ]
  },
  {
   "cell_type": "code",
   "execution_count": 167,
   "metadata": {},
   "outputs": [
    {
     "name": "stdout",
     "output_type": "stream",
     "text": [
      "Dropping Feature:GarageCars\n",
      "                            OLS Regression Results                            \n",
      "==============================================================================\n",
      "Dep. Variable:              SalePrice   R-squared:                       0.821\n",
      "Model:                            OLS   Adj. R-squared:                  0.816\n",
      "Method:                 Least Squares   F-statistic:                     151.8\n",
      "Date:                Mon, 09 Sep 2019   Prob (F-statistic):               0.00\n",
      "Time:                        22:43:17   Log-Likelihood:                -12126.\n",
      "No. Observations:                1021   AIC:                         2.431e+04\n",
      "Df Residuals:                     990   BIC:                         2.447e+04\n",
      "Df Model:                          30                                         \n",
      "Covariance Type:            nonrobust                                         \n",
      "==================================================================================\n",
      "                     coef    std err          t      P>|t|      [0.025      0.975]\n",
      "----------------------------------------------------------------------------------\n",
      "const           1.812e+05   1106.154    163.792      0.000    1.79e+05    1.83e+05\n",
      "MSSubClass      2.609e+04    408.792     63.832      0.000    2.53e+04    2.69e+04\n",
      "OverallQual     4120.9133    674.797      6.107      0.000    2796.716    5445.111\n",
      "OverallCond    -2794.4506    756.752     -3.693      0.000   -4279.473   -1309.428\n",
      "YearBuilt      -6003.3296    876.398     -6.850      0.000   -7723.141   -4283.518\n",
      "YearRemodAdd    3334.5942    987.254      3.378      0.001    1397.243    5271.945\n",
      "BsmtFinSF1     -2790.8062   1013.736     -2.753      0.006   -4780.124    -801.489\n",
      "TotalBsmtSF     3338.6414   1066.657      3.130      0.002    1245.472    5431.810\n",
      "1stFlrSF       -4928.5898   1094.829     -4.502      0.000   -7077.042   -2780.138\n",
      "2ndFlrSF        3231.8564   1099.924      2.938      0.003    1073.405    5390.307\n",
      "BsmtFullBath   -3763.7373   1144.231     -3.289      0.001   -6009.133   -1518.341\n",
      "KitchenAbvGr   -3395.8178   1259.219     -2.697      0.007   -5866.863    -924.773\n",
      "Fireplaces      5320.7763   1436.099      3.705      0.000    2502.629    8138.923\n",
      "GarageArea     -7332.7841   1538.139     -4.767      0.000   -1.04e+04   -4314.397\n",
      "WoodDeckSF     -9385.8328   1715.005     -5.473      0.000   -1.28e+04   -6020.371\n",
      "3SsnPorch      -1.673e+04   1935.917     -8.644      0.000   -2.05e+04   -1.29e+04\n",
      "PoolArea        7200.7679   2072.482      3.474      0.001    3133.806    1.13e+04\n",
      "MiscVal         6925.7478   2103.434      3.293      0.001    2798.047    1.11e+04\n",
      "MSZoning_1     -2665.0226   2317.297     -1.150      0.250   -7212.401    1882.356\n",
      "MSZoning_2      9077.3834   2412.099      3.763      0.000    4343.970    1.38e+04\n",
      "Street_0        5128.4616   2548.373      2.012      0.044     127.629    1.01e+04\n",
      "LotShape_3      6982.8364   2999.994      2.328      0.020    1095.759    1.29e+04\n",
      "LandContour_1  -5863.6874   3062.171     -1.915      0.056   -1.19e+04     145.405\n",
      "LandContour_2   1.275e+04   3129.455      4.074      0.000    6609.630    1.89e+04\n",
      "Utilities_1     2.021e+04   3535.637      5.717      0.000    1.33e+04    2.72e+04\n",
      "LotConfig_0     1.623e+04   3634.832      4.466      0.000    9101.232    2.34e+04\n",
      "LotConfig_3    -1.164e+04   3834.014     -3.035      0.002   -1.92e+04   -4112.109\n",
      "LotConfig_4     7866.0664   3910.725      2.011      0.045     191.804    1.55e+04\n",
      "LandSlope_0     1.067e+04   3977.031      2.683      0.007    2867.380    1.85e+04\n",
      "LandSlope_2    -1.862e+04   4131.922     -4.506      0.000   -2.67e+04   -1.05e+04\n",
      "Neighborhood_1  8531.4166   4380.010      1.948      0.052     -63.754    1.71e+04\n",
      "==============================================================================\n",
      "Omnibus:                      426.056   Durbin-Watson:                   1.991\n",
      "Prob(Omnibus):                  0.000   Jarque-Bera (JB):            44085.209\n",
      "Skew:                          -0.923   Prob(JB):                         0.00\n",
      "Kurtosis:                      35.138   Cond. No.                         10.7\n",
      "==============================================================================\n",
      "\n",
      "Warnings:\n",
      "[1] Standard Errors assume that the covariance matrix of the errors is correctly specified.\n"
     ]
    }
   ],
   "source": [
    "dropFeature = getfeatureName_toDrop(True)\n",
    "print (\"Dropping Feature:\" +dropFeature)\n",
    "pca_train1.drop(columns=dropFeature, inplace=True, axis=0)\n",
    "col,lm=buildModel(pca_train1, y_train1, number_of_rfe_features=n,predict=False,train=True,rsquare_train=False)"
   ]
  },
  {
   "cell_type": "code",
   "execution_count": 168,
   "metadata": {},
   "outputs": [
    {
     "name": "stdout",
     "output_type": "stream",
     "text": [
      "Dropping Feature:MSZoning_1\n",
      "                            OLS Regression Results                            \n",
      "==============================================================================\n",
      "Dep. Variable:              SalePrice   R-squared:                       0.821\n",
      "Model:                            OLS   Adj. R-squared:                  0.816\n",
      "Method:                 Least Squares   F-statistic:                     151.7\n",
      "Date:                Mon, 09 Sep 2019   Prob (F-statistic):               0.00\n",
      "Time:                        22:43:31   Log-Likelihood:                -12126.\n",
      "No. Observations:                1021   AIC:                         2.431e+04\n",
      "Df Residuals:                     990   BIC:                         2.447e+04\n",
      "Df Model:                          30                                         \n",
      "Covariance Type:            nonrobust                                         \n",
      "==================================================================================\n",
      "                     coef    std err          t      P>|t|      [0.025      0.975]\n",
      "----------------------------------------------------------------------------------\n",
      "const           1.812e+05   1106.608    163.725      0.000    1.79e+05    1.83e+05\n",
      "MSSubClass      2.609e+04    408.960     63.806      0.000    2.53e+04    2.69e+04\n",
      "OverallQual     4120.9133    675.074      6.104      0.000    2796.172    5445.654\n",
      "OverallCond    -2794.4506    757.062     -3.691      0.000   -4280.082   -1308.819\n",
      "YearBuilt      -6003.3296    876.758     -6.847      0.000   -7723.846   -4282.813\n",
      "YearRemodAdd    3334.5942    987.659      3.376      0.001    1396.449    5272.740\n",
      "BsmtFinSF1     -2790.8062   1014.152     -2.752      0.006   -4780.940    -800.672\n",
      "TotalBsmtSF     3338.6414   1067.095      3.129      0.002    1244.614    5432.669\n",
      "1stFlrSF       -4928.5898   1095.278     -4.500      0.000   -7077.923   -2779.256\n",
      "2ndFlrSF        3231.8564   1100.376      2.937      0.003    1072.520    5391.193\n",
      "BsmtFullBath   -3763.7373   1144.700     -3.288      0.001   -6010.055   -1517.420\n",
      "KitchenAbvGr   -3395.8178   1259.736     -2.696      0.007   -5867.877    -923.759\n",
      "Fireplaces      5320.7763   1436.688      3.704      0.000    2501.473    8140.080\n",
      "GarageArea     -7332.7841   1538.770     -4.765      0.000   -1.04e+04   -4313.159\n",
      "WoodDeckSF     -9385.8328   1715.708     -5.471      0.000   -1.28e+04   -6018.990\n",
      "3SsnPorch      -1.673e+04   1936.711     -8.641      0.000   -2.05e+04   -1.29e+04\n",
      "PoolArea        7200.7679   2073.332      3.473      0.001    3132.137    1.13e+04\n",
      "MiscVal         6925.7478   2104.297      3.291      0.001    2796.354    1.11e+04\n",
      "MSZoning_2      9077.3834   2413.088      3.762      0.000    4342.028    1.38e+04\n",
      "Street_0        5128.4616   2549.418      2.012      0.045     125.577    1.01e+04\n",
      "LotShape_3      6982.8364   3001.225      2.327      0.020    1093.343    1.29e+04\n",
      "LandContour_1  -5863.6874   3063.428     -1.914      0.056   -1.19e+04     147.870\n",
      "LandContour_2   1.275e+04   3130.739      4.073      0.000    6607.111    1.89e+04\n",
      "Utilities_1     2.021e+04   3537.087      5.715      0.000    1.33e+04    2.72e+04\n",
      "LotConfig_0     1.623e+04   3636.324      4.464      0.000    9098.306    2.34e+04\n",
      "LotConfig_1     2621.1954   3671.633      0.714      0.475   -4583.883    9826.273\n",
      "LotConfig_3    -1.164e+04   3835.588     -3.034      0.002   -1.92e+04   -4109.022\n",
      "LotConfig_4     7866.0664   3912.329      2.011      0.045     188.656    1.55e+04\n",
      "LandSlope_0     1.067e+04   3978.663      2.682      0.007    2864.178    1.85e+04\n",
      "LandSlope_2    -1.862e+04   4133.617     -4.505      0.000   -2.67e+04   -1.05e+04\n",
      "Neighborhood_1  8531.4166   4381.807      1.947      0.052     -67.280    1.71e+04\n",
      "==============================================================================\n",
      "Omnibus:                      429.919   Durbin-Watson:                   1.990\n",
      "Prob(Omnibus):                  0.000   Jarque-Bera (JB):            44829.225\n",
      "Skew:                          -0.939   Prob(JB):                         0.00\n",
      "Kurtosis:                      35.408   Cond. No.                         10.7\n",
      "==============================================================================\n",
      "\n",
      "Warnings:\n",
      "[1] Standard Errors assume that the covariance matrix of the errors is correctly specified.\n"
     ]
    }
   ],
   "source": [
    "dropFeature = getfeatureName_toDrop(True)\n",
    "print (\"Dropping Feature:\" +dropFeature)\n",
    "pca_train1.drop(columns=dropFeature, inplace=True, axis=0)\n",
    "col,lm=buildModel(pca_train1, y_train1, number_of_rfe_features=n,predict=False,train=True,rsquare_train=False)"
   ]
  },
  {
   "cell_type": "code",
   "execution_count": 169,
   "metadata": {},
   "outputs": [
    {
     "name": "stdout",
     "output_type": "stream",
     "text": [
      "Dropping Feature:LotConfig_1\n",
      "                            OLS Regression Results                            \n",
      "==============================================================================\n",
      "Dep. Variable:              SalePrice   R-squared:                       0.822\n",
      "Model:                            OLS   Adj. R-squared:                  0.817\n",
      "Method:                 Least Squares   F-statistic:                     152.4\n",
      "Date:                Mon, 09 Sep 2019   Prob (F-statistic):               0.00\n",
      "Time:                        22:43:46   Log-Likelihood:                -12124.\n",
      "No. Observations:                1021   AIC:                         2.431e+04\n",
      "Df Residuals:                     990   BIC:                         2.446e+04\n",
      "Df Model:                          30                                         \n",
      "Covariance Type:            nonrobust                                         \n",
      "==================================================================================\n",
      "                     coef    std err          t      P>|t|      [0.025      0.975]\n",
      "----------------------------------------------------------------------------------\n",
      "const           1.812e+05   1104.439    164.047      0.000    1.79e+05    1.83e+05\n",
      "MSSubClass      2.609e+04    408.158     63.932      0.000    2.53e+04    2.69e+04\n",
      "OverallQual     4120.9133    673.751      6.116      0.000    2798.769    5443.057\n",
      "OverallCond    -2794.4506    755.578     -3.698      0.000   -4277.170   -1311.732\n",
      "YearBuilt      -6003.3296    875.039     -6.861      0.000   -7720.474   -4286.186\n",
      "YearRemodAdd    3334.5942    985.723      3.383      0.001    1400.248    5268.940\n",
      "BsmtFinSF1     -2790.8062   1012.164     -2.757      0.006   -4777.039    -804.574\n",
      "TotalBsmtSF     3338.6414   1065.003      3.135      0.002    1248.719    5428.564\n",
      "1stFlrSF       -4928.5898   1093.131     -4.509      0.000   -7073.710   -2783.470\n",
      "2ndFlrSF        3231.8564   1098.219      2.943      0.003    1076.753    5386.960\n",
      "BsmtFullBath   -3763.7373   1142.456     -3.294      0.001   -6005.651   -1521.824\n",
      "HalfBath       -2539.5483   1210.041     -2.099      0.036   -4914.089    -165.008\n",
      "KitchenAbvGr   -3395.8178   1257.266     -2.701      0.007   -5863.031    -928.605\n",
      "Fireplaces      5320.7763   1433.871      3.711      0.000    2507.000    8134.553\n",
      "GarageArea     -7332.7841   1535.753     -4.775      0.000   -1.03e+04   -4319.078\n",
      "WoodDeckSF     -9385.8328   1712.345     -5.481      0.000   -1.27e+04   -6025.590\n",
      "3SsnPorch      -1.673e+04   1932.915     -8.658      0.000   -2.05e+04   -1.29e+04\n",
      "PoolArea        7200.7679   2069.268      3.480      0.001    3140.113    1.13e+04\n",
      "MiscVal         6925.7478   2100.172      3.298      0.001    2804.449     1.1e+04\n",
      "MSZoning_2      9077.3834   2408.358      3.769      0.000    4351.311    1.38e+04\n",
      "Street_0        5128.4616   2544.421      2.016      0.044     135.385    1.01e+04\n",
      "LotShape_3      6982.8364   2995.341      2.331      0.020    1104.889    1.29e+04\n",
      "LandContour_1  -5863.6874   3057.422     -1.918      0.055   -1.19e+04     136.085\n",
      "LandContour_2   1.275e+04   3124.601      4.081      0.000    6619.155    1.89e+04\n",
      "Utilities_1     2.021e+04   3530.153      5.726      0.000    1.33e+04    2.71e+04\n",
      "LotConfig_0     1.623e+04   3629.195      4.473      0.000    9112.295    2.34e+04\n",
      "LotConfig_3    -1.164e+04   3828.068     -3.040      0.002   -1.91e+04   -4123.777\n",
      "LotConfig_4     7866.0664   3904.660      2.015      0.044     203.706    1.55e+04\n",
      "LandSlope_0     1.067e+04   3970.863      2.688      0.007    2879.483    1.85e+04\n",
      "LandSlope_2    -1.862e+04   4125.514     -4.513      0.000   -2.67e+04   -1.05e+04\n",
      "Neighborhood_1  8531.4166   4373.217      1.951      0.051     -50.424    1.71e+04\n",
      "==============================================================================\n",
      "Omnibus:                      416.396   Durbin-Watson:                   1.990\n",
      "Prob(Omnibus):                  0.000   Jarque-Bera (JB):            44119.884\n",
      "Skew:                          -0.869   Prob(JB):                         0.00\n",
      "Kurtosis:                      35.157   Cond. No.                         10.7\n",
      "==============================================================================\n",
      "\n",
      "Warnings:\n",
      "[1] Standard Errors assume that the covariance matrix of the errors is correctly specified.\n"
     ]
    }
   ],
   "source": [
    "dropFeature = getfeatureName_toDrop(True)\n",
    "print (\"Dropping Feature:\" +dropFeature)\n",
    "pca_train1.drop(columns=dropFeature, inplace=True, axis=0)\n",
    "col,lm=buildModel(pca_train1, y_train1, number_of_rfe_features=n,predict=False,train=True,rsquare_train=False)"
   ]
  },
  {
   "cell_type": "code",
   "execution_count": 185,
   "metadata": {},
   "outputs": [
    {
     "data": {
      "text/plain": [
       "(1021, 47)"
      ]
     },
     "execution_count": 185,
     "metadata": {},
     "output_type": "execute_result"
    }
   ],
   "source": [
    "pca_train1.shape"
   ]
  },
  {
   "cell_type": "code",
   "execution_count": 170,
   "metadata": {},
   "outputs": [
    {
     "name": "stdout",
     "output_type": "stream",
     "text": [
      "          Features  VIF\n",
      "0       MSSubClass  1.0\n",
      "35      LotShape_3  1.0\n",
      "26     ScreenPorch  1.0\n",
      "27        PoolArea  1.0\n",
      "28         MiscVal  1.0\n",
      "29          MoSold  1.0\n",
      "30      MSZoning_2  1.0\n",
      "31      MSZoning_3  1.0\n",
      "32        Street_0  1.0\n",
      "33      LotShape_0  1.0\n",
      "34      LotShape_2  1.0\n",
      "36   LandContour_1  1.0\n",
      "24     OpenPorchSF  1.0\n",
      "37   LandContour_2  1.0\n",
      "38     Utilities_1  1.0\n",
      "39     LotConfig_0  1.0\n",
      "40     LotConfig_2  1.0\n",
      "41     LotConfig_3  1.0\n",
      "42     LotConfig_4  1.0\n",
      "43     LandSlope_0  1.0\n",
      "44     LandSlope_2  1.0\n",
      "45  Neighborhood_0  1.0\n",
      "25       3SsnPorch  1.0\n",
      "23      WoodDeckSF  1.0\n",
      "1          LotArea  1.0\n",
      "11        2ndFlrSF  1.0\n",
      "2      OverallQual  1.0\n",
      "3      OverallCond  1.0\n",
      "4        YearBuilt  1.0\n",
      "5     YearRemodAdd  1.0\n",
      "6       BsmtFinSF1  1.0\n",
      "7       BsmtFinSF2  1.0\n",
      "8        BsmtUnfSF  1.0\n",
      "9      TotalBsmtSF  1.0\n",
      "10        1stFlrSF  1.0\n",
      "12    LowQualFinSF  1.0\n",
      "22      GarageArea  1.0\n",
      "13       GrLivArea  1.0\n",
      "14    BsmtFullBath  1.0\n",
      "15    BsmtHalfBath  1.0\n",
      "16        FullBath  1.0\n",
      "17        HalfBath  1.0\n",
      "18    BedroomAbvGr  1.0\n",
      "19    KitchenAbvGr  1.0\n",
      "20    TotRmsAbvGrd  1.0\n",
      "21      Fireplaces  1.0\n",
      "46  Neighborhood_1  1.0\n"
     ]
    }
   ],
   "source": [
    "vif=getVIF(pca_train1)"
   ]
  },
  {
   "cell_type": "code",
   "execution_count": 171,
   "metadata": {},
   "outputs": [
    {
     "data": {
      "image/png": "[encoded data removed]",
      "text/plain": [
       "<Figure size 1080x360 with 2 Axes>"
      ]
     },
     "metadata": {
      "needs_background": "light"
     },
     "output_type": "display_data"
    }
   ],
   "source": [
    "lm=buildModel(pca_train1, y_train1, number_of_rfe_features=n,predict=True,train=True)\n",
    "#Errors are normally distributed equally around 0. It is little right tailed.\n",
    "#Erros are white noise.\n",
    "#Errors terms have homoscedastisity"
   ]
  },
  {
   "cell_type": "markdown",
   "metadata": {},
   "source": [
    "#### Test Model"
   ]
  },
  {
   "cell_type": "code",
   "execution_count": 172,
   "metadata": {},
   "outputs": [
    {
     "data": {
      "text/plain": [
       "(438, 215)"
      ]
     },
     "execution_count": 172,
     "metadata": {},
     "output_type": "execute_result"
    }
   ],
   "source": [
    "X_test1.shape"
   ]
  },
  {
   "cell_type": "code",
   "execution_count": 213,
   "metadata": {},
   "outputs": [],
   "source": [
    "cols_final = list(lm.params.index)\n",
    "cols_final.remove(\"const\")"
   ]
  },
  {
   "cell_type": "code",
   "execution_count": 214,
   "metadata": {},
   "outputs": [
    {
     "name": "stdout",
     "output_type": "stream",
     "text": [
      "(438, 215)\n",
      "(1021, 47)\n",
      "(438, 215)\n",
      "30\n"
     ]
    }
   ],
   "source": [
    "print (pca_test.shape)\n",
    "print (pca_train1.shape)\n",
    "print (X_test1.shape)\n",
    "print (len(cols_final))"
   ]
  },
  {
   "cell_type": "code",
   "execution_count": 215,
   "metadata": {},
   "outputs": [
    {
     "data": {
      "text/plain": [
       "(438, 30)"
      ]
     },
     "execution_count": 215,
     "metadata": {},
     "output_type": "execute_result"
    }
   ],
   "source": [
    "pca_Test1.shape"
   ]
  },
  {
   "cell_type": "code",
   "execution_count": 217,
   "metadata": {},
   "outputs": [
    {
     "data": {
      "text/plain": [
       "Text(0, 0.5, 'y_pred')"
      ]
     },
     "execution_count": 217,
     "metadata": {},
     "output_type": "execute_result"
    },
    {
     "data": {
      "image/png": "[encoded data removed]",
      "text/plain": [
       "<Figure size 432x288 with 1 Axes>"
      ]
     },
     "metadata": {
      "needs_background": "light"
     },
     "output_type": "display_data"
    }
   ],
   "source": [
    "# Making predictions\n",
    "xCols=X_test1.columns\n",
    "X_test1[col_num] = scaler.transform(X_test1[col_num])\n",
    "\n",
    "pca_test=pca.transform(X_test1)\n",
    "pca_test = pd.DataFrame(pca_test, columns=xCols, index=X_test1.index)\n",
    "pca_test1 = pca_test[cols_final]\n",
    "\n",
    "y_pred = lm.predict(  sm.add_constant(pca_test1))\n",
    "\n",
    "# Plotting y_test and y_pred to understand the spread.\n",
    "fig = plt.figure()\n",
    "plt.scatter(y_test1,y_pred)\n",
    "fig.suptitle('y_test vs y_pred', fontsize=20)              # Plot heading \n",
    "plt.xlabel('y_test', fontsize=18)                          # X-label\n",
    "plt.ylabel('y_pred', fontsize=16)   "
   ]
  },
  {
   "cell_type": "code",
   "execution_count": 218,
   "metadata": {},
   "outputs": [
    {
     "data": {
      "text/plain": [
       "0.4910161485018977"
      ]
     },
     "execution_count": 218,
     "metadata": {},
     "output_type": "execute_result"
    }
   ],
   "source": [
    "buildModel(X_test1, y_test1, number_of_rfe_features=n,predict=True,train=True, rsquare_train=True)"
   ]
  },
  {
   "cell_type": "code",
   "execution_count": 222,
   "metadata": {},
   "outputs": [
    {
     "data": {
      "text/plain": [
       "0.8567331034294389"
      ]
     },
     "execution_count": 222,
     "metadata": {},
     "output_type": "execute_result"
    }
   ],
   "source": [
    "from xgboost import XGBRegressor\n",
    "from sklearn.model_selection import KFold\n",
    "from sklearn.model_selection import cross_val_score\n",
    "\n",
    "xgb = XGBRegressor(n_estimators = 500, \n",
    "                   learning_rate=0.05, \n",
    "                   subsample= 0.75, \n",
    "                   colsample_bytree = 0.63\n",
    "                       )\n",
    "kf = KFold(n_splits=5)\n",
    "y_pred = cross_val_score(xgb, pca_train1, y_train1, cv=kf, n_jobs=-1)\n",
    "y_pred.mean()"
   ]
  },
  {
   "cell_type": "code",
   "execution_count": 223,
   "metadata": {},
   "outputs": [
    {
     "data": {
      "text/plain": [
       "0.6678839076737362"
      ]
     },
     "execution_count": 223,
     "metadata": {},
     "output_type": "execute_result"
    }
   ],
   "source": [
    "kf = KFold(n_splits=5)\n",
    "y_pred = cross_val_score(xgb, pca_test1, y_test1, cv=kf, n_jobs=-1)\n",
    "y_pred.mean()"
   ]
  },
  {
   "cell_type": "code",
   "execution_count": null,
   "metadata": {},
   "outputs": [],
   "source": []
  },
  {
   "cell_type": "code",
   "execution_count": null,
   "metadata": {},
   "outputs": [],
   "source": [
    "submission = pd.DataFrame({\n",
    "        \"PassengerId\": df_test[\"PassengerId\"],\n",
    "        \"Survived\": final_predictions\n",
    "    })\n",
    "submission.to_csv('submission.csv', index=False)"
   ]
  },
  {
   "cell_type": "code",
   "execution_count": null,
   "metadata": {},
   "outputs": [],
   "source": []
  },
  {
   "cell_type": "code",
   "execution_count": null,
   "metadata": {},
   "outputs": [],
   "source": []
  }
 ],
 "metadata": {
  "kernelspec": {
   "display_name": "myenv",
   "language": "python",
   "name": "python3"
  },
  "language_info": {
   "codemirror_mode": {
    "name": "ipython",
    "version": 3
   },
   "file_extension": ".py",
   "mimetype": "text/x-python",
   "name": "python",
   "nbconvert_exporter": "python",
   "pygments_lexer": "ipython3",
   "version": "3.8.16"
  },
  "vscode": {
   "interpreter": {
    "hash": "0c918640de65fa3d996813cefe6f3d40204108179ff288d56528f37872993c66"
   }
  }
 },
 "nbformat": 4,
 "nbformat_minor": 2
}
