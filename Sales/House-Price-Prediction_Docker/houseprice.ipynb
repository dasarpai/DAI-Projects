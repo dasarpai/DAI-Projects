{
 "cells": [
  {
   "cell_type": "code",
   "execution_count": 3,
   "metadata": {},
   "outputs": [
    {
     "data": {
      "text/plain": [
       "['model_houseprice.joblib']"
      ]
     },
     "execution_count": 3,
     "metadata": {},
     "output_type": "execute_result"
    }
   ],
   "source": [
    "import pandas as pd\n",
    "import numpy as np\n",
    "from sklearn.ensemble import GradientBoostingRegressor\n",
    "#import pickle\n",
    "import joblib \n",
    "\n",
    "data = pd.read_csv(\"kc_house_data.csv\")\n",
    "\n",
    "labels = data['price']\n",
    "conv_dates = [1 if values == 2014 else 0 for values in data.date ]\n",
    "data['date'] = conv_dates\n",
    "train1 = data.drop(['id', 'price'],axis=1)\n",
    "\n",
    "col_imp = [\"grade\", \"lat\", \"long\", \"sqft_living\", \"waterfront\", \"yr_built\"]\n",
    "\n",
    "model_houseprice = GradientBoostingRegressor(n_estimators = 400, max_depth = 5, min_samples_split = 2)\n",
    "model_houseprice.fit(train1[col_imp], labels)\n",
    "\n",
    "#Save the model\n",
    "#pickle.dump(model_houseprice, open('model_houseprice.pkl', 'wb'))\n",
    "joblib.dump(model_houseprice, \"model_houseprice.joblib\")"
   ]
  },
  {
   "cell_type": "code",
   "execution_count": 6,
   "metadata": {},
   "outputs": [
    {
     "name": "stdout",
     "output_type": "stream",
     "text": [
      "[837413.77737868]\n"
     ]
    },
    {
     "name": "stderr",
     "output_type": "stream",
     "text": [
      "c:\\Users\\hari_\\anaconda3\\envs\\myenv\\lib\\site-packages\\sklearn\\base.py:420: UserWarning: X does not have valid feature names, but GradientBoostingRegressor was fitted with feature names\n",
      "  warnings.warn(\n"
     ]
    }
   ],
   "source": [
    "#load the model\n",
    "#model_houseprice = pickle.load(open('model_houseprice.pkl', 'rb'))\n",
    "model_houseprice = joblib.load('model_houseprice.joblib')\n",
    "\n",
    "#[\"grade\", \"lat\", \"long\", \"sqft_living\", \"waterfront\", \"yr_built\"]\n",
    "print(model_houseprice.predict([[13,47.2559, -122.419, 1600, 1, 2000]]))"
   ]
  }
 ],
 "metadata": {
  "kernelspec": {
   "display_name": "Python ('houseprice')",
   "language": "python",
   "name": "python3"
  },
  "language_info": {
   "codemirror_mode": {
    "name": "ipython",
    "version": 3
   },
   "file_extension": ".py",
   "mimetype": "text/x-python",
   "name": "python",
   "nbconvert_exporter": "python",
   "pygments_lexer": "ipython3",
   "version": "3.10.9"
  },
  "orig_nbformat": 4,
  "vscode": {
   "interpreter": {
    "hash": "25a19fbe0a9132dfb9279d48d161753c6352f8f9478c2e74383d340069b907c3"
   }
  }
 },
 "nbformat": 4,
 "nbformat_minor": 2
}
