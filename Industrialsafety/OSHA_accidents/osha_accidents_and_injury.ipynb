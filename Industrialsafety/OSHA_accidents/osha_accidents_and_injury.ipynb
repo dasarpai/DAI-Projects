{
 "cells": [
  {
   "cell_type": "code",
   "execution_count": null,
   "metadata": {},
   "outputs": [],
   "source": [
    "!wget https://raw.githubusercontent.com/dasarpai/DAI-Datasets/main/OSHA_HSE_Data_All_Abstracts_15-17_FINAL.zip\n",
    "!mkdir tempdata\n",
    "!mv OSHA_HSE_Data_All_Abstracts_15-17_FINAL.zip tempdata\n",
    "!unzip tempdata/OSHA_HSE_Data_All_Abstracts_15-17_FINAL.zip tempdata"
   ]
  },
  {
   "cell_type": "code",
   "execution_count": null,
   "metadata": {},
   "outputs": [],
   "source": []
  }
 ],
 "metadata": {
  "language_info": {
   "name": "python"
  }
 },
 "nbformat": 4,
 "nbformat_minor": 2
}
