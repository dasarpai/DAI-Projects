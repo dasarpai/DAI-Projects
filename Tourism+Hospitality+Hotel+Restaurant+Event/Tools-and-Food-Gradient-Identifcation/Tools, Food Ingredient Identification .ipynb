{
 "cells": [
  {
   "cell_type": "markdown",
   "metadata": {},
   "source": [
    "# Fast Text Training with Sarcasm Data"
   ]
  },
  {
   "cell_type": "code",
   "execution_count": 26,
   "metadata": {},
   "outputs": [],
   "source": [
    "# https://fasttext.cc/docs/en/supervised-tutorial.html"
   ]
  },
  {
   "cell_type": "code",
   "execution_count": 2,
   "metadata": {},
   "outputs": [],
   "source": [
    "import fasttext\n",
    "import pandas as pd\n",
    "from sklearn.model_selection import train_test_split"
   ]
  },
  {
   "cell_type": "code",
   "execution_count": null,
   "metadata": {},
   "outputs": [],
   "source": [
    "file = 'D:\\18-DS\\github\\Project_NLP\\0SDSHL\\Hinglish_SarcasmCSV.csv'\n",
    "df = pd.read_csv(file)\n",
    "X_train1, X_test1 = train_test_split(df,stratify=y, test_size=0.2, random_state=53)\n",
    "X_train1['label'].value_counts(), X_test1['label'].value_counts()"
   ]
  },
  {
   "cell_type": "code",
   "execution_count": null,
   "metadata": {},
   "outputs": [],
   "source": [
    "X_train1.to_csv(\"Hinglish_SarcasmCSV-Train.csv\")\n",
    "X_test1.to_csv(\"Hinglish_SarcasmCSV-Test.csv\")"
   ]
  },
  {
   "cell_type": "code",
   "execution_count": 10,
   "metadata": {},
   "outputs": [],
   "source": [
    "train_file =r'D:\\18-DS\\github\\Project_NLP\\0SDSHL\\Hinglish_SarcasmCSV-train.txt'\n",
    "val_file  =r'D:\\18-DS\\github\\Project_NLP\\0SDSHL\\Hinglish_SarcasmCSV-test.txt'\n",
    "#model = fasttext.train_supervised(input=train_file, epoch=25)\n",
    "\n",
    "#model = fasttext.train_supervised(input=train_file, epoch=25, lr=1.0, \n",
    "#                                  wordNgrams=2, bucket=200000, dim=50, loss='hs')\n",
    "\n",
    "model = fasttext.train_supervised(input=train_file, lr=0.3, epoch=100, \n",
    "                                   wordNgrams=4, bucket=200000, dim=50, loss='ova')"
   ]
  },
  {
   "cell_type": "code",
   "execution_count": 13,
   "metadata": {},
   "outputs": [
    {
     "data": {
      "text/plain": [
       "(('__label__0',), array([0.98458546]))"
      ]
     },
     "execution_count": 13,
     "metadata": {},
     "output_type": "execute_result"
    }
   ],
   "source": [
    "#model.predict('वो लगा है देश का भविष्य और हिंदुओं की नस्ल बचाने में और कुछ मूर्ख हिन्दू व्यस्त है अपनी ही कब्र बनाने में')\n",
    "model.predict('पागल नीम की लकड़ी को चंदन समझता हैं नादान है जो दिल्ली को लंदन समझता हैं अरे कोई इस चाय वाले को समझाए ग़रीबो की कमाई को भी कालाधन समझता है।')\n",
    "#model.predict('ये सब किस्मत के चक्कर हैं बीए पास बेरोजगार हैं और बीए फेल मिनिस्टर हैं।')"
   ]
  },
  {
   "cell_type": "code",
   "execution_count": 14,
   "metadata": {},
   "outputs": [
    {
     "data": {
      "text/plain": [
       "(463, 0.7170626349892009, 0.7170626349892009)"
      ]
     },
     "execution_count": 14,
     "metadata": {},
     "output_type": "execute_result"
    }
   ],
   "source": [
    "model.test(val_file)"
   ]
  },
  {
   "cell_type": "markdown",
   "metadata": {},
   "source": [
    "# FastText"
   ]
  },
  {
   "cell_type": "code",
   "execution_count": null,
   "metadata": {},
   "outputs": [],
   "source": [
    "#https://fasttext.cc/docs/en/supervised-tutorial.html"
   ]
  },
  {
   "cell_type": "code",
   "execution_count": 2,
   "metadata": {},
   "outputs": [],
   "source": [
    "#import gensim.models #import Word2Vec\n",
    "import fasttext"
   ]
  },
  {
   "cell_type": "code",
   "execution_count": null,
   "metadata": {},
   "outputs": [],
   "source": [
    "#Download file from internet\n",
    "\n",
    "#!pip install wget\n",
    "#wget.download (r\"https://dl.fbaipublicfiles.com/fasttext/data/cooking.stackexchange.tar.gz\")\n",
    "\n",
    "#unzip file\n",
    "import os\n",
    "import tarfile\n",
    "#import zipfile\n",
    "\n",
    "file = tarfile.open(\"cooking.stackexchange.tar.gz\", \"r\")\n",
    "try: file.extractall()\n",
    "finally: file.close()"
   ]
  },
  {
   "cell_type": "code",
   "execution_count": 56,
   "metadata": {},
   "outputs": [],
   "source": [
    "# \"s/\\([.\\!?,'/()]\\)/ \\1 /g\"\n",
    "\n",
    "of = open(file,\"r\")\n",
    "train=[]\n",
    "test=[]\n",
    "i=0\n",
    "for ln in of.readlines():\n",
    "    if i<12000:\n",
    "        train.append(ln)\n",
    "    else:\n",
    "        test.append(ln)\n",
    "    i+=1\n",
    "    \n",
    "of.close()"
   ]
  },
  {
   "cell_type": "code",
   "execution_count": null,
   "metadata": {},
   "outputs": [],
   "source": []
  },
  {
   "cell_type": "code",
   "execution_count": 65,
   "metadata": {},
   "outputs": [],
   "source": [
    "of1 = open(\"cooking.train.txt\",\"w\")\n",
    "of1.write( \"\".join(train))\n",
    "of1.close()\n",
    "\n",
    "of1 = open(\"cooking.test.txt\",\"w\")\n",
    "of1.write( \"\".join(test))\n",
    "of1.close()"
   ]
  },
  {
   "cell_type": "code",
   "execution_count": 66,
   "metadata": {},
   "outputs": [],
   "source": [
    "#Train Model\n",
    "trainfile ='cooking.train.txt'\n",
    "model = fasttext.train_supervised(input=trainfile, epoch=25)"
   ]
  },
  {
   "cell_type": "code",
   "execution_count": null,
   "metadata": {},
   "outputs": [],
   "source": [
    "#model.get_words()"
   ]
  },
  {
   "cell_type": "code",
   "execution_count": 20,
   "metadata": {},
   "outputs": [],
   "source": [
    "#model.get_labels()\n",
    "#model.get_nearest_neighbors(\"guava\")\n",
    "#model.get_subwords(\"Manufacturing\")\n",
    "#model.get_analogies(\"apple\",\"orange\",\"guava\")\n",
    "#model.get_word_vector(\"guava\")\n",
    "#model.get_words()\n",
    "#model.get_nearest_neighbors(\"गांधी\")\n",
    "#model.get_subwords(\"मोदी\")\n",
    "#model.get_word_vector(\"मोदीजी\")"
   ]
  },
  {
   "cell_type": "code",
   "execution_count": 5,
   "metadata": {},
   "outputs": [],
   "source": [
    "#model.save_model(\"model_fasttext_sarcasm.bin\")"
   ]
  },
  {
   "cell_type": "code",
   "execution_count": 25,
   "metadata": {},
   "outputs": [
    {
     "data": {
      "text/plain": [
       "['__label__0', '__label__1']"
      ]
     },
     "execution_count": 25,
     "metadata": {},
     "output_type": "execute_result"
    }
   ],
   "source": [
    "model.get_labels()"
   ]
  },
  {
   "cell_type": "code",
   "execution_count": 19,
   "metadata": {},
   "outputs": [
    {
     "data": {
      "text/plain": [
       "(('__label__1',), array([0.96415198]))"
      ]
     },
     "execution_count": 19,
     "metadata": {},
     "output_type": "execute_result"
    }
   ],
   "source": [
    "#model.predict(\"मोहब्बत अंधी होती है\")\n",
    "model.predict(\"अगर मुलायम और अखिलेश चाहें तो UP में एक दंगा और करवा के बिल महेंद्र सिंह धोनी के नाम पे फाड़ सकते हैं।#IndvsEng\")\n",
    "#model.predict(\"जब तन्हा रातो में मोगैम्बो चिलाता है की मोगैम्बो खुश हुवा तो समझिये की मनमोहन सरकार के बुरे सपने याद आ गये\")\n",
    "#model.predict(\"खुदा को भूल उन्हीं के आगे दामन फैलाया जिनके मरने की दुआएं मांगी थी खुदा से\")"
   ]
  },
  {
   "cell_type": "code",
   "execution_count": 68,
   "metadata": {},
   "outputs": [
    {
     "data": {
      "text/plain": [
       "(3404, 0.17397179788484135, 0.37662172475197153)"
      ]
     },
     "execution_count": 68,
     "metadata": {},
     "output_type": "execute_result"
    }
   ],
   "source": [
    "valfile ='cooking.test.txt'\n",
    "model.test(valfile, k=5)"
   ]
  },
  {
   "cell_type": "markdown",
   "metadata": {},
   "source": [
    "# Pretrained FastText"
   ]
  },
  {
   "cell_type": "code",
   "execution_count": null,
   "metadata": {},
   "outputs": [],
   "source": []
  },
  {
   "cell_type": "code",
   "execution_count": 3,
   "metadata": {},
   "outputs": [],
   "source": [
    "file =r'D:\\18-DS\\Datasets-Large\\fasttext_wiki.hi\\wiki.hi.bin'\n",
    "\n",
    "model = fasttext.load_model(file)"
   ]
  },
  {
   "cell_type": "code",
   "execution_count": 4,
   "metadata": {},
   "outputs": [
    {
     "data": {
      "text/plain": [
       "[(0.718514621257782, 'शादीशुदा'),\n",
       " (0.6688109636306763, 'सगाई'),\n",
       " (0.6456683874130249, 'विवाह'),\n",
       " (0.6348897218704224, 'तलाक़शुदा'),\n",
       " (0.6263386011123657, 'तलाकशुदा'),\n",
       " (0.6250729560852051, 'शादि'),\n",
       " (0.6206449866294861, 'शाद'),\n",
       " (0.6134114861488342, 'विवाहेतर'),\n",
       " (0.6071416139602661, 'शादियां'),\n",
       " (0.6025992631912231, 'बेटी')]"
      ]
     },
     "execution_count": 4,
     "metadata": {},
     "output_type": "execute_result"
    }
   ],
   "source": [
    "#model.get_words(\"शादी\")\n",
    "#model.get_dimension([\"शादी\"])\n",
    "#model.get_labels()\n",
    "#model.get_label_id(\"शादी\")\n",
    "#model.get_line(\"शादी\")\n",
    "model.get_nearest_neighbors(\"शादी\")"
   ]
  },
  {
   "cell_type": "code",
   "execution_count": 5,
   "metadata": {},
   "outputs": [
    {
     "data": {
      "text/plain": [
       "(array([-0.00227758,  0.01097456, -0.07737385, -0.02347912,  0.06005901,\n",
       "         0.0144795 ,  0.0406533 , -0.02267742,  0.01217373,  0.00950788,\n",
       "         0.01198116, -0.00564187, -0.05343588, -0.03511612, -0.01282343,\n",
       "        -0.05271063, -0.02214506, -0.02547078,  0.01394134, -0.01298817,\n",
       "         0.02769364,  0.02664736,  0.05492869,  0.04814554,  0.0422672 ,\n",
       "        -0.02249513, -0.00941156,  0.01287222,  0.01378585,  0.0372394 ,\n",
       "         0.06224573,  0.02298802, -0.02649151,  0.01750188, -0.02570225,\n",
       "         0.00400785,  0.00483992,  0.04576728, -0.00473305, -0.01352604,\n",
       "        -0.02829821,  0.01252147, -0.02197489, -0.01090661,  0.01777159,\n",
       "        -0.01689216,  0.03851087, -0.03347773,  0.03956947, -0.04653547],\n",
       "       dtype=float32),\n",
       " array([ 0.0020149 ,  0.01844076, -0.05983507, -0.02923439,  0.04431307,\n",
       "         0.01904413,  0.03913547, -0.01414689,  0.01452725,  0.01320698,\n",
       "         0.00421942, -0.00768115, -0.05524324, -0.03895319, -0.0091482 ,\n",
       "        -0.05546552, -0.02794502, -0.01437523,  0.00943513, -0.01057347,\n",
       "         0.02272613,  0.0299565 ,  0.05554727,  0.05639094,  0.05438626,\n",
       "        -0.02038107, -0.01349496,  0.01586806,  0.02316906,  0.03580479,\n",
       "         0.05178191,  0.03182911, -0.03115526,  0.0236921 , -0.03144786,\n",
       "         0.00459149, -0.00496605,  0.04830526, -0.01712498, -0.01245883,\n",
       "        -0.02662685,  0.00419646, -0.02162941,  0.00610319,  0.02000245,\n",
       "        -0.01391533,  0.03912316, -0.0272947 ,  0.04453619, -0.03396471],\n",
       "       dtype=float32))"
      ]
     },
     "execution_count": 5,
     "metadata": {},
     "output_type": "execute_result"
    }
   ],
   "source": [
    "a= model.get_sentence_vector(\"सिद्दार्थ सन्यास लेने के लिए जंगल चले गये\")\n",
    "b= model.get_sentence_vector(\"सिद्दार्थ सन्यास लेने के लिए वन चले गये\")\n",
    "\n",
    "a[:50], b[:50]"
   ]
  },
  {
   "cell_type": "code",
   "execution_count": 6,
   "metadata": {},
   "outputs": [
    {
     "data": {
      "text/plain": [
       "(0.014516997965984046, 0.8257492945995182, 0.8112322961678728)"
      ]
     },
     "execution_count": 6,
     "metadata": {},
     "output_type": "execute_result"
    }
   ],
   "source": [
    "sum(a-b), sum(a), sum(b)"
   ]
  },
  {
   "cell_type": "code",
   "execution_count": null,
   "metadata": {},
   "outputs": [],
   "source": [
    "#model = Word2Vec.load_word2vec_format('GoogleNews-vectors-negative300.bin', binary=True, norm_only=True)\n",
    "#model = gensim.models.KeyedVectors.load_word2vec_format(file,)"
   ]
  },
  {
   "cell_type": "code",
   "execution_count": 9,
   "metadata": {},
   "outputs": [
    {
     "data": {
      "text/plain": [
       "['I', 'am', 'going', 'home']"
      ]
     },
     "execution_count": 9,
     "metadata": {},
     "output_type": "execute_result"
    }
   ],
   "source": [
    "fasttext.tokenize(\"I am going home\")"
   ]
  },
  {
   "cell_type": "code",
   "execution_count": null,
   "metadata": {},
   "outputs": [],
   "source": []
  }
 ],
 "metadata": {
  "kernelspec": {
   "display_name": "Python 3",
   "language": "python",
   "name": "python3"
  },
  "language_info": {
   "codemirror_mode": {
    "name": "ipython",
    "version": 3
   },
   "file_extension": ".py",
   "mimetype": "text/x-python",
   "name": "python",
   "nbconvert_exporter": "python",
   "pygments_lexer": "ipython3",
   "version": "3.8.8"
  }
 },
 "nbformat": 4,
 "nbformat_minor": 2
}
