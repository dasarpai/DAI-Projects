{
 "cells": [
  {
   "cell_type": "code",
   "execution_count": null,
   "metadata": {},
   "outputs": [],
   "source": [
    "# https://trigonaminima.github.io/2019/09/seq2seq-components/"
   ]
  },
  {
   "cell_type": "code",
   "execution_count": 1,
   "metadata": {},
   "outputs": [],
   "source": [
    "import torch\n",
    "\n",
    "from IPython.core.interactiveshell import InteractiveShell\n",
    "InteractiveShell.ast_node_interactivity = \"all\""
   ]
  },
  {
   "cell_type": "code",
   "execution_count": 2,
   "metadata": {},
   "outputs": [
    {
     "data": {
      "text/plain": [
       "Embedding(5, 20)"
      ]
     },
     "execution_count": 2,
     "metadata": {},
     "output_type": "execute_result"
    }
   ],
   "source": [
    "# Size of the dictionary\n",
    "input_vocab_dim = 5\n",
    "\n",
    "# Size of embedding\n",
    "embedding_dim = 20\n",
    "\n",
    "# Defining the embedding layer\n",
    "embedding_layer = torch.nn.Embedding(input_vocab_dim, embedding_dim)\n",
    "embedding_layer"
   ]
  },
  {
   "cell_type": "code",
   "execution_count": 8,
   "metadata": {},
   "outputs": [
    {
     "name": "stdout",
     "output_type": "stream",
     "text": [
      "input shape\t: torch.Size([5])\n",
      "output shape\t: torch.Size([5, 20])\n",
      "tensor([[-0.7936, -0.3694, -2.2462, -0.3501,  0.9411,  1.3482, -1.5945, -0.2848,\n",
      "         -1.5984,  1.8343, -0.7797,  2.4953, -1.8779,  0.5689,  0.5575,  0.0792,\n",
      "         -0.0257, -0.4618,  1.6969, -0.6920],\n",
      "        [-0.9275,  0.2314, -1.4752, -1.1058,  0.5318, -0.4890,  0.5484, -1.3808,\n",
      "          1.0538,  0.4202, -0.2142,  1.5913, -0.5671, -1.3922, -0.3418,  1.0664,\n",
      "          0.3447,  1.2613, -0.9995,  0.6171],\n",
      "        [-1.0413,  0.7199, -0.1844, -1.1252, -0.2217, -0.8503, -0.0885,  0.8040,\n",
      "          0.5471,  0.9756,  0.8319,  0.0699,  0.0464, -0.7719, -1.3616, -0.3536,\n",
      "          0.4984, -0.6923,  1.4699,  1.9522],\n",
      "        [-0.6724, -0.7200, -1.6976,  0.8381,  0.4968,  1.3045,  1.3786, -0.2442,\n",
      "          1.4999, -0.8292, -0.6534, -0.4635,  0.1908, -0.3466, -1.3314, -0.8776,\n",
      "         -0.1733, -0.2740,  0.9191, -0.2694],\n",
      "        [-2.2889, -0.0798, -0.3548, -0.4070, -0.5985, -0.1107,  0.9826, -1.8528,\n",
      "         -0.2400,  1.0320,  0.1228, -0.1151, -0.2855, -2.0071,  0.1859, -0.1307,\n",
      "         -1.7818, -0.9078,  1.8144, -0.6529]], grad_fn=<EmbeddingBackward>)\n"
     ]
    }
   ],
   "source": [
    "# A single sentence having 5 tokens\n",
    "inp = torch.tensor([1, 2, 3, 4, 0])\n",
    "print(\"input shape\\t:\", inp.shape)\n",
    "\n",
    "# getting the vector for each token using the embedding layer\n",
    "out = embedding_layer(inp)\n",
    "print(\"output shape\\t:\", out.shape)\n",
    "print(out)"
   ]
  },
  {
   "cell_type": "code",
   "execution_count": 32,
   "metadata": {},
   "outputs": [
    {
     "name": "stdout",
     "output_type": "stream",
     "text": [
      "tensor([[1, 1],\n",
      "        [2, 2],\n",
      "        [3, 3],\n",
      "        [4, 4],\n",
      "        [0, 0],\n",
      "        [1, 1],\n",
      "        [2, 2],\n",
      "        [3, 3],\n",
      "        [4, 4],\n",
      "        [0, 0]])\n"
     ]
    }
   ],
   "source": [
    "inp = torch.tensor([1, 2, 3, 4, 0])\n",
    "#inp = inp.unsqueeze(-2).repeat(1, 4)\n",
    "print (inp.unsqueeze(1).repeat(2, 2))\n",
    "# print (inp.unsqueeze(-1).repeat(1, 4))\n",
    "# print (inp.unsqueeze(-0).repeat(1, 4))\n",
    "# print (inp.unsqueeze(1).repeat(1, 4))"
   ]
  },
  {
   "cell_type": "code",
   "execution_count": 6,
   "metadata": {},
   "outputs": [
    {
     "name": "stdout",
     "output_type": "stream",
     "text": [
      "input shape\t: torch.Size([5, 4])\n",
      "output shape\t: torch.Size([5, 4, 20])\n",
      "tensor([[ 0.5190,  0.9007,  0.0715, -0.0533,  2.3561,  0.6038, -1.2878,  1.6617,\n",
      "          0.1116,  1.5356, -0.1048, -0.9026,  0.6697,  0.1896, -2.0719,  1.3996,\n",
      "         -1.7486,  0.2956,  0.5834,  1.5736],\n",
      "        [-1.0988,  1.5844,  0.8863,  1.2622, -2.4835,  0.4523, -0.2453, -0.1435,\n",
      "          0.2491,  1.9961,  0.5782,  0.4976,  0.0824, -1.4638, -0.8596, -1.4618,\n",
      "         -0.6942,  0.0220,  0.5505,  0.6522],\n",
      "        [ 0.2674, -0.5346,  0.4826, -0.0607,  1.0150, -0.3251, -1.7147, -1.1964,\n",
      "          0.3118, -1.6229,  1.7451,  0.2504, -2.1438,  1.7510, -0.0342,  0.4912,\n",
      "         -0.9735,  0.1809,  0.5701, -0.3027],\n",
      "        [ 1.6448, -0.4897, -3.0118, -0.7430,  0.5627, -0.3496, -0.7087, -0.6954,\n",
      "         -0.4083, -0.6753,  1.6638,  0.0630,  0.4756, -0.9732,  0.4381, -1.3869,\n",
      "          0.8934, -2.5852, -1.3451,  1.0392],\n",
      "        [ 0.0351,  1.2230, -0.6721, -1.5965,  0.0456, -0.2834,  0.1062,  1.5492,\n",
      "          1.1866,  0.7808, -0.3029,  1.0812, -1.3848, -0.1508, -1.7935, -0.2528,\n",
      "          1.9411,  1.5425, -0.0829,  0.9808]], grad_fn=<SliceBackward>)\n"
     ]
    }
   ],
   "source": [
    "# Batch of 4 sentences having 5 tokens each.\n",
    "# Batch size is 4. Max sentence len is 5\n",
    "inp = torch.tensor([1, 2, 3, 4, 0])\n",
    "inp = inp.unsqueeze(1).repeat(1, 4)\n",
    "print(\"input shape\\t:\", inp.shape)\n",
    "\n",
    "out = embedding_layer(inp)\n",
    "print(\"output shape\\t:\", out.shape)\n",
    "print(out[:, 0, :])"
   ]
  },
  {
   "cell_type": "code",
   "execution_count": 12,
   "metadata": {},
   "outputs": [
    {
     "data": {
      "text/plain": [
       "Dropout(p=0.5, inplace=False)"
      ]
     },
     "execution_count": 12,
     "metadata": {},
     "output_type": "execute_result"
    }
   ],
   "source": [
    "dropout_probab = 0.5\n",
    "dropout = torch.nn.Dropout(dropout_probab)\n",
    "dropout"
   ]
  },
  {
   "cell_type": "code",
   "execution_count": 13,
   "metadata": {},
   "outputs": [
    {
     "name": "stdout",
     "output_type": "stream",
     "text": [
      "input shape\t: torch.Size([8])\n",
      "input tensor\t: tensor([-1.0891, -0.3290,  0.3391,  0.2870,  0.7590,  0.9878,  1.2947,  0.1421])\n",
      "\n",
      "output shape\t: torch.Size([8])\n",
      "output tensor\t: tensor([-0.0000, -0.0000, 0.0000, 0.5740, 0.0000, 0.0000, 2.5893, 0.2841])\n"
     ]
    }
   ],
   "source": [
    "# A random tensor with 8 values\n",
    "inp = torch.randn(8)\n",
    "print(\"input shape\\t:\", inp.shape)\n",
    "print(\"input tensor\\t:\", inp)\n",
    "\n",
    "# getting the vector for each token using the embedding layer\n",
    "out = dropout(inp)\n",
    "print(\"\\noutput shape\\t:\", out.shape)\n",
    "print(\"output tensor\\t:\", out)"
   ]
  },
  {
   "cell_type": "code",
   "execution_count": 14,
   "metadata": {},
   "outputs": [
    {
     "name": "stdout",
     "output_type": "stream",
     "text": [
      "input shape\t: torch.Size([5, 4, 20])\n",
      "output shape\t: torch.Size([5, 4, 20])\n",
      "\n",
      "Total cells in input\t: 400\n",
      "Zero values in input\t: tensor(0)\n",
      "Zero values in output\t: tensor(206)\n"
     ]
    }
   ],
   "source": [
    "# a random tensor with 10 values\n",
    "inp = torch.randn(5, 4, 20)\n",
    "print(\"input shape\\t:\", inp.shape)\n",
    "\n",
    "# getting the vector for each token using the embedding layer\n",
    "out = dropout(inp)\n",
    "print(\"output shape\\t:\", out.shape)\n",
    "\n",
    "print(\"\\nTotal cells in input\\t:\", 5*4*20)\n",
    "print(\"Zero values in input\\t:\", torch.sum(inp==0.00))\n",
    "print(\"Zero values in output\\t:\", torch.sum(out==0.00))"
   ]
  },
  {
   "cell_type": "code",
   "execution_count": 15,
   "metadata": {},
   "outputs": [
    {
     "data": {
      "text/plain": [
       "LSTM(5, 15)"
      ]
     },
     "execution_count": 15,
     "metadata": {},
     "output_type": "execute_result"
    }
   ],
   "source": [
    "input_dim = 5\n",
    "hidden_dim = 15\n",
    "\n",
    "lstm = torch.nn.LSTM(input_dim, hidden_dim)\n",
    "lstm"
   ]
  },
  {
   "cell_type": "code",
   "execution_count": 16,
   "metadata": {},
   "outputs": [
    {
     "name": "stdout",
     "output_type": "stream",
     "text": [
      "input shape\t: torch.Size([1, 1, 5])\n",
      "output shape\t: torch.Size([1, 1, 15])\n",
      "hidden shape\t: torch.Size([1, 1, 15])\n",
      "cell shape\t: torch.Size([1, 1, 15])\n"
     ]
    }
   ],
   "source": [
    "# Random input with shape - (1, 1, 5)\n",
    "inp = torch.randn(1, 1, 5)\n",
    "print(\"input shape\\t:\", inp.shape)\n",
    "\n",
    "out, (hid, cell) = lstm(inp)\n",
    "print(\"output shape\\t:\", out.shape)\n",
    "print(\"hidden shape\\t:\", hid.shape)\n",
    "print(\"cell shape\\t:\", cell.shape)"
   ]
  },
  {
   "cell_type": "code",
   "execution_count": 17,
   "metadata": {},
   "outputs": [
    {
     "name": "stdout",
     "output_type": "stream",
     "text": [
      "input shape\t: torch.Size([4, 1, 5])\n",
      "output shape\t: torch.Size([4, 1, 15])\n",
      "hidden shape\t: torch.Size([1, 1, 15])\n",
      "cell shape\t: torch.Size([1, 1, 15])\n"
     ]
    }
   ],
   "source": [
    "# Random input with shape - (4, 1, 5)\n",
    "inp = torch.randn(4, 1, 5)\n",
    "print(\"input shape\\t:\", inp.shape)\n",
    "\n",
    "out, (hid, cell) = lstm(inp)\n",
    "print(\"output shape\\t:\", out.shape)\n",
    "print(\"hidden shape\\t:\", hid.shape)\n",
    "print(\"cell shape\\t:\", cell.shape)"
   ]
  },
  {
   "cell_type": "code",
   "execution_count": 18,
   "metadata": {},
   "outputs": [
    {
     "name": "stdout",
     "output_type": "stream",
     "text": [
      "input shape\t: torch.Size([4, 6, 5])\n",
      "output shape\t: torch.Size([4, 6, 15])\n",
      "hidden shape\t: torch.Size([1, 6, 15])\n",
      "cell shape\t: torch.Size([1, 6, 15])\n"
     ]
    }
   ],
   "source": [
    "# Random input with shape - (4, 6, 5)\n",
    "inp = torch.randn(4, 6, 5)\n",
    "print(\"input shape\\t:\", inp.shape)\n",
    "\n",
    "out, (hid, cell) = lstm(inp)\n",
    "print(\"output shape\\t:\", out.shape)\n",
    "print(\"hidden shape\\t:\", hid.shape)\n",
    "print(\"cell shape\\t:\", cell.shape)"
   ]
  },
  {
   "cell_type": "code",
   "execution_count": 20,
   "metadata": {},
   "outputs": [
    {
     "data": {
      "text/plain": [
       "LSTM(5, 15, num_layers=2, dropout=0.5)"
      ]
     },
     "execution_count": 20,
     "metadata": {},
     "output_type": "execute_result"
    }
   ],
   "source": [
    "input_dim = 5\n",
    "hidden_dim = 15\n",
    "num_layers = 2\n",
    "\n",
    "lstm = torch.nn.LSTM(input_dim, hidden_dim, num_layers=num_layers, dropout=0.5)\n",
    "lstm"
   ]
  },
  {
   "cell_type": "code",
   "execution_count": 21,
   "metadata": {},
   "outputs": [
    {
     "name": "stdout",
     "output_type": "stream",
     "text": [
      "input shape\t: torch.Size([1, 1, 5])\n",
      "output shape\t: torch.Size([1, 1, 15])\n",
      "hidden shape\t: torch.Size([2, 1, 15])\n",
      "cell shape\t: torch.Size([2, 1, 15])\n"
     ]
    }
   ],
   "source": [
    "# Random input with shape - (1, 1, 5)\n",
    "inp = torch.randn(1, 1, 5)\n",
    "print(\"input shape\\t:\", inp.shape)\n",
    "\n",
    "out, (hid, cell) = lstm(inp)\n",
    "print(\"output shape\\t:\", out.shape)\n",
    "print(\"hidden shape\\t:\", hid.shape)\n",
    "print(\"cell shape\\t:\", cell.shape)"
   ]
  },
  {
   "cell_type": "code",
   "execution_count": 22,
   "metadata": {},
   "outputs": [
    {
     "name": "stdout",
     "output_type": "stream",
     "text": [
      "input shape\t: torch.Size([4, 1, 5])\n",
      "output shape\t: torch.Size([4, 1, 15])\n",
      "hidden shape\t: torch.Size([2, 1, 15])\n",
      "cell shape\t: torch.Size([2, 1, 15])\n"
     ]
    }
   ],
   "source": [
    "# Random input with shape - (4, 1, 5)\n",
    "inp = torch.randn(4, 1, 5)\n",
    "print(\"input shape\\t:\", inp.shape)\n",
    "\n",
    "out, (hid, cell) = lstm(inp)\n",
    "print(\"output shape\\t:\", out.shape)\n",
    "print(\"hidden shape\\t:\", hid.shape)\n",
    "print(\"cell shape\\t:\", cell.shape)"
   ]
  },
  {
   "cell_type": "code",
   "execution_count": 23,
   "metadata": {},
   "outputs": [
    {
     "name": "stdout",
     "output_type": "stream",
     "text": [
      "input shape\t: torch.Size([4, 6, 5])\n",
      "output shape\t: torch.Size([4, 6, 15])\n",
      "hidden shape\t: torch.Size([2, 6, 15])\n",
      "cell shape\t: torch.Size([2, 6, 15])\n"
     ]
    }
   ],
   "source": [
    "# Random input with shape - (4, 6, 5)\n",
    "inp = torch.randn(4, 6, 5)\n",
    "print(\"input shape\\t:\", inp.shape)\n",
    "\n",
    "out, (hid, cell) = lstm(inp)\n",
    "print(\"output shape\\t:\", out.shape)\n",
    "print(\"hidden shape\\t:\", hid.shape)\n",
    "print(\"cell shape\\t:\", cell.shape)"
   ]
  },
  {
   "cell_type": "code",
   "execution_count": 24,
   "metadata": {},
   "outputs": [
    {
     "data": {
      "text/plain": [
       "LSTM(5, 15, bidirectional=True)"
      ]
     },
     "execution_count": 24,
     "metadata": {},
     "output_type": "execute_result"
    }
   ],
   "source": [
    "input_dim = 5\n",
    "hidden_dim = 15\n",
    "\n",
    "lstm = torch.nn.LSTM(input_dim, hidden_dim, bidirectional=True)\n",
    "lstm"
   ]
  },
  {
   "cell_type": "code",
   "execution_count": 25,
   "metadata": {},
   "outputs": [
    {
     "name": "stdout",
     "output_type": "stream",
     "text": [
      "input shape\t: torch.Size([1, 1, 5])\n",
      "output shape\t: torch.Size([1, 1, 30])\n",
      "hidden shape\t: torch.Size([2, 1, 15])\n",
      "cell shape\t: torch.Size([2, 1, 15])\n"
     ]
    }
   ],
   "source": [
    "# Random input with shape - (1, 1, 5)\n",
    "inp = torch.randn(1, 1, 5)\n",
    "print(\"input shape\\t:\", inp.shape)\n",
    "\n",
    "out, (hid, cell) = lstm(inp)\n",
    "\n",
    "print(\"output shape\\t:\", out.shape)\n",
    "print(\"hidden shape\\t:\", hid.shape)\n",
    "print(\"cell shape\\t:\", cell.shape)"
   ]
  },
  {
   "cell_type": "code",
   "execution_count": 26,
   "metadata": {},
   "outputs": [
    {
     "name": "stdout",
     "output_type": "stream",
     "text": [
      "input shape\t: torch.Size([4, 1, 5])\n",
      "output shape\t: torch.Size([4, 1, 30])\n",
      "hidden shape\t: torch.Size([2, 1, 15])\n",
      "cell shape\t: torch.Size([2, 1, 15])\n"
     ]
    }
   ],
   "source": [
    "# Random input with shape - (4, 1, 5)\n",
    "inp = torch.randn(4, 1, 5)\n",
    "print(\"input shape\\t:\", inp.shape)\n",
    "\n",
    "out, (hid, cell) = lstm(inp)\n",
    "print(\"output shape\\t:\", out.shape)\n",
    "print(\"hidden shape\\t:\", hid.shape)\n",
    "print(\"cell shape\\t:\", cell.shape)"
   ]
  },
  {
   "cell_type": "code",
   "execution_count": 27,
   "metadata": {},
   "outputs": [
    {
     "name": "stdout",
     "output_type": "stream",
     "text": [
      "input shape\t: torch.Size([4, 6, 5])\n",
      "output shape\t: torch.Size([4, 6, 30])\n",
      "hidden shape\t: torch.Size([2, 6, 15])\n",
      "cell shape\t: torch.Size([2, 6, 15])\n"
     ]
    }
   ],
   "source": [
    "# random input is of shape - (4, 6, 5)\n",
    "inp = torch.randn(4, 6, 5)\n",
    "print(\"input shape\\t:\", inp.shape)\n",
    "\n",
    "out, (hid, cell) = lstm(inp)\n",
    "print(\"output shape\\t:\", out.shape)\n",
    "print(\"hidden shape\\t:\", hid.shape)\n",
    "print(\"cell shape\\t:\", cell.shape)"
   ]
  },
  {
   "cell_type": "code",
   "execution_count": null,
   "metadata": {},
   "outputs": [],
   "source": []
  },
  {
   "cell_type": "code",
   "execution_count": 29,
   "metadata": {},
   "outputs": [
    {
     "data": {
      "text/plain": [
       "GRU(5, 15)"
      ]
     },
     "execution_count": 29,
     "metadata": {},
     "output_type": "execute_result"
    }
   ],
   "source": [
    "input_dim = 5\n",
    "hidden_dim = 15\n",
    "\n",
    "gru = torch.nn.GRU(input_dim, hidden_dim)\n",
    "gru"
   ]
  },
  {
   "cell_type": "code",
   "execution_count": 30,
   "metadata": {},
   "outputs": [
    {
     "name": "stdout",
     "output_type": "stream",
     "text": [
      "input shape\t: torch.Size([4, 6, 5])\n",
      "output shape\t: torch.Size([4, 6, 15])\n",
      "hidden shape\t: torch.Size([1, 6, 15])\n"
     ]
    }
   ],
   "source": [
    "# Random input with shape - (4, 6, 5)\n",
    "inp = torch.randn(4, 6, 5)\n",
    "print(\"input shape\\t:\", inp.shape)\n",
    "\n",
    "out, hid = gru(inp)\n",
    "print(\"output shape\\t:\", out.shape)\n",
    "print(\"hidden shape\\t:\", hid.shape)"
   ]
  },
  {
   "cell_type": "code",
   "execution_count": 32,
   "metadata": {},
   "outputs": [
    {
     "data": {
      "text/plain": [
       "Linear(in_features=5, out_features=15, bias=True)"
      ]
     },
     "execution_count": 32,
     "metadata": {},
     "output_type": "execute_result"
    }
   ],
   "source": [
    "input_dim = 5\n",
    "output_dim = 15\n",
    "\n",
    "linear_layer = torch.nn.Linear(input_dim, output_dim)\n",
    "linear_layer"
   ]
  },
  {
   "cell_type": "code",
   "execution_count": 35,
   "metadata": {},
   "outputs": [
    {
     "name": "stdout",
     "output_type": "stream",
     "text": [
      "input shape\t: torch.Size([5])\n",
      "output shape\t: torch.Size([15])\n"
     ]
    }
   ],
   "source": [
    "# Random input with shape - (5)\n",
    "inp = torch.randn(5)\n",
    "print(\"input shape\\t:\", inp.shape)\n",
    "\n",
    "out = linear_layer(inp)\n",
    "print(\"output shape\\t:\", out.shape)"
   ]
  },
  {
   "cell_type": "code",
   "execution_count": 36,
   "metadata": {},
   "outputs": [
    {
     "name": "stdout",
     "output_type": "stream",
     "text": [
      "input shape\t: torch.Size([1, 1, 5])\n",
      "output shape\t: torch.Size([1, 1, 15])\n"
     ]
    }
   ],
   "source": [
    "# Random input with shape - (1, 1, 5)\n",
    "inp = torch.randn(1, 1, 5)\n",
    "print(\"input shape\\t:\", inp.shape)\n",
    "\n",
    "out = linear_layer(inp)\n",
    "print(\"output shape\\t:\", out.shape)"
   ]
  },
  {
   "cell_type": "code",
   "execution_count": 37,
   "metadata": {},
   "outputs": [
    {
     "name": "stdout",
     "output_type": "stream",
     "text": [
      "input shape\t: torch.Size([4, 1, 5])\n",
      "output shape\t: torch.Size([4, 1, 15])\n"
     ]
    }
   ],
   "source": [
    "# Random input with shape - (4, 1, 5)\n",
    "inp = torch.randn(4, 1, 5)\n",
    "print(\"input shape\\t:\", inp.shape)\n",
    "\n",
    "out = linear_layer(inp)\n",
    "print(\"output shape\\t:\", out.shape)"
   ]
  },
  {
   "cell_type": "code",
   "execution_count": 38,
   "metadata": {},
   "outputs": [
    {
     "name": "stdout",
     "output_type": "stream",
     "text": [
      "input shape\t: torch.Size([4, 6, 5])\n",
      "output shape\t: torch.Size([4, 6, 15])\n"
     ]
    }
   ],
   "source": [
    "# Random input with shape - (4, 6, 5)\n",
    "inp = torch.randn(4, 6, 5)\n",
    "print(\"input shape\\t:\", inp.shape)\n",
    "\n",
    "out = linear_layer(inp)\n",
    "print(\"output shape\\t:\", out.shape)"
   ]
  },
  {
   "cell_type": "code",
   "execution_count": null,
   "metadata": {},
   "outputs": [],
   "source": []
  },
  {
   "cell_type": "code",
   "execution_count": null,
   "metadata": {},
   "outputs": [],
   "source": []
  }
 ],
 "metadata": {
  "kernelspec": {
   "display_name": "Python 3",
   "language": "python",
   "name": "python3"
  },
  "language_info": {
   "codemirror_mode": {
    "name": "ipython",
    "version": 3
   },
   "file_extension": ".py",
   "mimetype": "text/x-python",
   "name": "python",
   "nbconvert_exporter": "python",
   "pygments_lexer": "ipython3",
   "version": "3.8.8"
  }
 },
 "nbformat": 4,
 "nbformat_minor": 2
}
