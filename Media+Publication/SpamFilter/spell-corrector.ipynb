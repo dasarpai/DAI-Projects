{
 "cells": [
  {
   "cell_type": "code",
   "execution_count": 1,
   "metadata": {},
   "outputs": [],
   "source": [
    "import re\n",
    "from collections import Counter"
   ]
  },
  {
   "cell_type": "code",
   "execution_count": 2,
   "metadata": {},
   "outputs": [],
   "source": [
    "# function to tokenise words\n",
    "def words(document):\n",
    "    \"Convert text to lower case and tokenise the document\"\n",
    "    return re.findall(r'\\w+', document.lower())"
   ]
  },
  {
   "cell_type": "code",
   "execution_count": 4,
   "metadata": {},
   "outputs": [],
   "source": [
    "# create a frequency table of all the words of the document\n",
    "all_words = Counter(words(open('big.txt').read()))"
   ]
  },
  {
   "cell_type": "code",
   "execution_count": 5,
   "metadata": {},
   "outputs": [
    {
     "data": {
      "text/plain": [
       "135"
      ]
     },
     "execution_count": 5,
     "metadata": {},
     "output_type": "execute_result"
    }
   ],
   "source": [
    "# check frequency of a random word, say, 'chair'\n",
    "all_words['chair']"
   ]
  },
  {
   "cell_type": "code",
   "execution_count": 6,
   "metadata": {},
   "outputs": [
    {
     "data": {
      "text/plain": [
       "[('the', 79809),\n",
       " ('of', 40024),\n",
       " ('and', 38312),\n",
       " ('to', 28765),\n",
       " ('in', 22023),\n",
       " ('a', 21124),\n",
       " ('that', 12512),\n",
       " ('he', 12401),\n",
       " ('was', 11410),\n",
       " ('it', 10681)]"
      ]
     },
     "execution_count": 6,
     "metadata": {},
     "output_type": "execute_result"
    }
   ],
   "source": [
    "# look at top 10 frequent words\n",
    "all_words.most_common(10)"
   ]
  },
  {
   "cell_type": "code",
   "execution_count": 7,
   "metadata": {},
   "outputs": [],
   "source": [
    "def edits_one(word):\n",
    "    \"Create all edits that are one edit away from `word`.\"\n",
    "    alphabets    = 'abcdefghijklmnopqrstuvwxyz'\n",
    "    splits     = [(word[:i], word[i:])                   for i in range(len(word) + 1)]\n",
    "    deletes    = [left + right[1:]                       for left, right in splits if right]\n",
    "    inserts    = [left + c + right                       for left, right in splits for c in alphabets]\n",
    "    replaces   = [left + c + right[1:]                   for left, right in splits if right for c in alphabets]\n",
    "    transposes = [left + right[1] + right[0] + right[2:] for left, right in splits if len(right)>1]\n",
    "    return set(deletes + inserts + replaces + transposes)"
   ]
  },
  {
   "cell_type": "code",
   "execution_count": 8,
   "metadata": {},
   "outputs": [],
   "source": [
    "def edits_two(word):\n",
    "    \"Create all edits that are two edits away from `word`.\"\n",
    "    return (e2 for e1 in edits_one(word) for e2 in edits_one(e1))"
   ]
  },
  {
   "cell_type": "code",
   "execution_count": 9,
   "metadata": {},
   "outputs": [],
   "source": [
    "def known(words):\n",
    "    \"The subset of `words` that appear in the `all_words`.\"\n",
    "    return set(word for word in words if word in all_words)"
   ]
  },
  {
   "cell_type": "code",
   "execution_count": 10,
   "metadata": {},
   "outputs": [],
   "source": [
    "def possible_corrections(word):\n",
    "    \"Generate possible spelling corrections for word.\"\n",
    "    return (known([word]) or known(edits_one(word)) or known(edits_two(word)) or [word])"
   ]
  },
  {
   "cell_type": "code",
   "execution_count": 11,
   "metadata": {},
   "outputs": [],
   "source": [
    "def prob(word, N=sum(all_words.values())): \n",
    "    \"Probability of `word`: Number of appearances of 'word' / total number of tokens\"\n",
    "    return all_words[word] / N"
   ]
  },
  {
   "cell_type": "code",
   "execution_count": null,
   "metadata": {},
   "outputs": [],
   "source": [
    "print(len(set(edits_one(\"monney\"))))\n",
    "print(edits_one(\"monney\"))"
   ]
  },
  {
   "cell_type": "code",
   "execution_count": 13,
   "metadata": {},
   "outputs": [
    {
     "name": "stdout",
     "output_type": "stream",
     "text": [
      "442\n",
      "{'emfawize', 'fmfasize', 'qemfasize', 'emfasibze', 'emfuasize', 'emlfasize', 'umfasize', 'emfacize', 'emfasizem', 'emfasiza', 'ezfasize', 'emfasizeo', 'emfasjze', 'eamfasize', 'ebmfasize', 'emfadize', 'emfajsize', 'emjfasize', 'emfasizec', 'eimfasize', 'emfaszie', 'emfasgze', 'omfasize', 'emhfasize', 'ebfasize', 'emfasizm', 'emfasizbe', 'emfasizte', 'emfzsize', 'emfasizb', 'emfasitze', 'emfrasize', 'emfhasize', 'emfasizse', 'emgfasize', 'remfasize', 'vmfasize', 'emfasizu', 'emufasize', 'embfasize', 'emfaasize', 'emfasizce', 'emfasizt', 'dmfasize', 'eomfasize', 'mmfasize', 'emfasizne', 'emjasize', 'emfmasize', 'emfagsize', 'emrfasize', 'ermfasize', 'emfasisze', 'emfaspize', 'epfasize', 'pmfasize', 'emfssize', 'emfaskize', 'uemfasize', 'temfasize', 'emfhsize', 'emlasize', 'emfasizet', 'emfusize', 'ejfasize', 'emwfasize', 'emmasize', 'emeasize', 'emfasite', 'emfrsize', 'emfvsize', 'ejmfasize', 'emtasize', 'emfosize', 'emfasizef', 'emfayize', 'emfasbze', 'emfaside', 'lemfasize', 'emfaseize', 'bemfasize', 'emfwsize', 'emfasizex', 'emfisize', 'ewmfasize', 'emfasizep', 'emfsaize', 'emfaeize', 'emfnasize', 'emfasizk', 'emfadsize', 'emfawsize', 'emfnsize', 'emfsasize', 'cmfasize', 'edfasize', 'iemfasize', 'emfahize', 'emzfasize', 'lmfasize', 'eymfasize', 'exfasize', 'emfascize', 'emfasizie', 'emfazize', 'emfasizh', 'emfasizp', 'efasize', 'emfasiz', 'emfasizi', 'emfassze', 'emftsize', 'emfasice', 'emfasizei', 'emfasizle', 'emnfasize', 'emfbsize', 'ekmfasize', 'emcasize', 'emfastize', 'emfasbize', 'emfasiqe', 'gmfasize', 'emvasize', 'emfasizs', 'egfasize', 'emfausize', 'hmfasize', 'emfpasize', 'emfasikze', 'emfasizew', 'emfasiye', 'emfasizq', 'eofasize', 'xemfasize', 'emfasizw', 'emfauize', 'emfasieze', 'emsfasize', 'emfasyize', 'emfasixze', 'erfasize', 'eyfasize', 'emfaaize', 'egmfasize', 'emfasizc', 'rmfasize', 'epmfasize', 'emqfasize', 'kmfasize', 'nemfasize', 'emfdsize', 'emfasirze', 'eifasize', 'ekfasize', 'emfasipze', 'emfxsize', 'emfasiie', 'empasize', 'jmfasize', 'emfasizeg', 'emfatsize', 'emaasize', 'zmfasize', 'emfajize', 'emnasize', 'emfwasize', 'emfasiae', 'emfasizde', 'emfasnize', 'emyasize', 'xmfasize', 'emfasized', 'emfaspze', 'ewfasize', 'emfeasize', 'emfasizke', 'emyfasize', 'wmfasize', 'emfascze', 'emvfasize', 'emfaskze', 'emfasuize', 'emfaseze', 'emfaswize', 'emfasoze', 'emfyasize', 'pemfasize', 'emfasive', 'emafsize', 'esmfasize', 'emfasizxe', 'emfasqze', 'emfasfze', 'emftasize', 'jemfasize', 'emfasizue', 'emfasaize', 'emfasizhe', 'emafasize', 'ezmfasize', 'emfasidze', 'emfasibe', 'emfarsize', 'tmfasize', 'eufasize', 'emfasizoe', 'emfasihe', 'oemfasize', 'emfasizfe', 'emfasime', 'emdfasize', 'emfasizev', 'efmasize', 'emfakize', 'emfasise', 'emfaslize', 'emflasize', 'emrasize', 'wemfasize', 'emfasiqze', 'vemfasize', 'emfasmize', 'emfvasize', 'emfahsize', 'emfcasize', 'emmfasize', 'amfasize', 'esfasize', 'emfasdize', 'emfasije', 'emxasize', 'emfasyze', 'emfasizeb', 'emfysize', 'emfasrze', 'evfasize', 'emhasize', 'emfaslze', 'emfasihze', 'emfasizen', 'emfabize', 'elfasize', 'emasize', 'emfasizeh', 'emfasizd', 'emfasike', 'emfasizwe', 'emifasize', 'emfashize', 'emkfasize', 'emfasqize', 'etmfasize', 'emfiasize', 'emfasizo', 'emfasmze', 'emfatize', 'emffsize', 'aemfasize', 'emfasizme', 'emfamsize', 'emfqasize', 'emfaszize', 'emfaisize', 'emfasxize', 'emzasize', 'emfasdze', 'emfafsize', 'emfasizv', 'efmfasize', 'emofasize', 'emfsize', 'mefasize', 'emfesize', 'emfbasize', 'emfasizeu', 'emfasioze', 'emfasiee', 'emfgsize', 'emfaxize', 'emoasize', 'emfarize', 'emfanize', 'eqmfasize', 'emfasizze', 'emuasize', 'emfasizge', 'emfasiue', 'emfasiyze', 'emfasilze', 'emfaxsize', 'emfasize', 'emwasize', 'emfasizl', 'enfasize', 'emfasie', 'emfasiwe', 'emfasvize', 'emfasrize', 'emfasivze', 'nmfasize', 'emfasile', 'emqasize', 'eqfasize', 'emfansize', 'semfasize', 'emfasige', 'demfasize', 'emfxasize', 'emfaesize', 'emcfasize', 'emfasaze', 'emfasoize', 'exmfasize', 'embasize', 'emfasife', 'hemfasize', 'emfazsize', 'ehmfasize', 'emfasizee', 'cemfasize', 'emfasizje', 'emfaksize', 'emfasizek', 'eemfasize', 'elmfasize', 'emfasvze', 'emflsize', 'emfapsize', 'emtfasize', 'emfasiez', 'emfasizes', 'imfasize', 'emfasizz', 'emfasjize', 'emfavize', 'ecmfasize', 'smfasize', 'emfasizf', 'emfasnze', 'emfasine', 'emfasizn', 'emfasizez', 'emfasijze', 'emfapize', 'emfdasize', 'gemfasize', 'emfacsize', 'emgasize', 'bmfasize', 'emfaosize', 'emfasiaze', 'emfasizey', 'emfasizae', 'emfasizeq', 'emfasizye', 'emfasioe', 'emfzasize', 'ymfasize', 'effasize', 'empfasize', 'yemfasize', 'emfjsize', 'eafasize', 'emfasze', 'emfastze', 'emfaszze', 'emiasize', 'edmfasize', 'emfkasize', 'emfgasize', 'emfagize', 'etfasize', 'emfasuze', 'emfasizqe', 'emfasxze', 'emdasize', 'emfaize', 'emfasiwze', 'emfabsize', 'emfasizr', 'emfaoize', 'emfavsize', 'emfasizer', 'emfasizg', 'emfasizre', 'emfasipe', 'emfasizx', 'eefasize', 'emfasigze', 'qmfasize', 'emfqsize', 'emfashze', 'emfjasize', 'emfasfize', 'emfmsize', 'emfamize', 'kemfasize', 'evmfasize', 'emfasixe', 'emefasize', 'ecfasize', 'mfasize', 'enmfasize', 'emfasire', 'emsasize', 'emffasize', 'emfasizej', 'ehfasize', 'emxfasize', 'emfasimze', 'emfasifze', 'emfcsize', 'emfasizpe', 'emfasicze', 'emkasize', 'emfasizj', 'emfasizea', 'emfaqsize', 'femfasize', 'emfafize', 'emfasiize', 'emfasizy', 'emfalsize', 'emfaqize', 'emfasinze', 'emfaswze', 'emfasizel', 'emfksize', 'emfassize', 'emfalize', 'emfaisze', 'emfasiuze', 'emfpsize', 'emfaiize', 'emfoasize', 'eumfasize', 'emfasizve', 'memfasize', 'zemfasize', 'emfaysize', 'emfasgize'}\n"
     ]
    }
   ],
   "source": [
    "print(len(set(edits_one(\"emfasize\"))))\n",
    "print(edits_one(\"emfasize\"))"
   ]
  },
  {
   "cell_type": "code",
   "execution_count": null,
   "metadata": {},
   "outputs": [],
   "source": [
    "print(known(edits_one(\"monney\")))"
   ]
  },
  {
   "cell_type": "code",
   "execution_count": 15,
   "metadata": {},
   "outputs": [
    {
     "name": "stdout",
     "output_type": "stream",
     "text": [
      "51013\n",
      "{'money', 'monkey'}\n"
     ]
    }
   ],
   "source": [
    "# Let's look at words that are two edits away\n",
    "print(len(set(edits_two(\"monney\"))))\n",
    "print(known(edits_one(\"monney\")))"
   ]
  },
  {
   "cell_type": "code",
   "execution_count": 14,
   "metadata": {},
   "outputs": [
    {
     "name": "stdout",
     "output_type": "stream",
     "text": [
      "90902\n",
      "set()\n"
     ]
    }
   ],
   "source": [
    "# Let's look at words that are two edits away\n",
    "print(len(set(edits_two(\"emfasize\"))))\n",
    "print(known(edits_one(\"emfasize\")))"
   ]
  },
  {
   "cell_type": "code",
   "execution_count": 25,
   "metadata": {},
   "outputs": [
    {
     "name": "stdout",
     "output_type": "stream",
     "text": [
      "{'inkstand', 'understand'}\n"
     ]
    }
   ],
   "source": [
    "# Let's look at possible corrections of a word\n",
    "print(possible_corrections(\"unrstand\"))"
   ]
  },
  {
   "cell_type": "code",
   "execution_count": 18,
   "metadata": {},
   "outputs": [
    {
     "name": "stdout",
     "output_type": "stream",
     "text": [
      "{'money', 'monkey'}\n"
     ]
    }
   ],
   "source": [
    "# Let's look at possible corrections of a word\n",
    "print(possible_corrections(\"monney\"))"
   ]
  },
  {
   "cell_type": "code",
   "execution_count": 19,
   "metadata": {},
   "outputs": [
    {
     "name": "stdout",
     "output_type": "stream",
     "text": [
      "{'emphasize'}\n"
     ]
    }
   ],
   "source": [
    "# Let's look at possible corrections of a word\n",
    "print(possible_corrections(\"emfasize\"))"
   ]
  },
  {
   "cell_type": "code",
   "execution_count": 17,
   "metadata": {},
   "outputs": [
    {
     "name": "stdout",
     "output_type": "stream",
     "text": [
      "0.0002922233626303688\n",
      "5.378344097491451e-06\n"
     ]
    }
   ],
   "source": [
    "# Let's look at probability of a word\n",
    "print(prob(\"money\"))\n",
    "print(prob(\"monkey\"))"
   ]
  },
  {
   "cell_type": "code",
   "execution_count": null,
   "metadata": {},
   "outputs": [],
   "source": [
    "def spell_check(word):\n",
    "    \"Print the most probable spelling correction for `word` out of all the `possible_corrections`\"\n",
    "    correct_word = max(possible_corrections(word), key=prob)\n",
    "    if correct_word != word:\n",
    "        return \"Did you mean \" + correct_word + \"?\"\n",
    "    else:\n",
    "        return \"Correct spelling.\""
   ]
  },
  {
   "cell_type": "code",
   "execution_count": null,
   "metadata": {},
   "outputs": [],
   "source": [
    "# test spell check\n",
    "print(spell_check(\"monney\"))"
   ]
  }
 ],
 "metadata": {
  "kernelspec": {
   "display_name": "Python 3",
   "language": "python",
   "name": "python3"
  },
  "language_info": {
   "codemirror_mode": {
    "name": "ipython",
    "version": 3
   },
   "file_extension": ".py",
   "mimetype": "text/x-python",
   "name": "python",
   "nbconvert_exporter": "python",
   "pygments_lexer": "ipython3",
   "version": "3.7.1"
  }
 },
 "nbformat": 4,
 "nbformat_minor": 2
}
