{
 "cells": [
  {
   "cell_type": "code",
   "execution_count": 4,
   "id": "63521f97",
   "metadata": {},
   "outputs": [],
   "source": [
    "#Inspiration https://github.com/MariyaSha/SimpleSMSspamFilter_GUI"
   ]
  },
  {
   "cell_type": "code",
   "execution_count": 6,
   "id": "d5fb9e49",
   "metadata": {},
   "outputs": [
    {
     "name": "stderr",
     "output_type": "stream",
     "text": [
      "[nltk_data] Downloading package punkt to\n",
      "[nltk_data]     C:\\Users\\admin\\AppData\\Roaming\\nltk_data...\n",
      "[nltk_data]   Package punkt is already up-to-date!\n",
      "[nltk_data] Downloading package stopwords to\n",
      "[nltk_data]     C:\\Users\\admin\\AppData\\Roaming\\nltk_data...\n",
      "[nltk_data]   Package stopwords is already up-to-date!\n"
     ]
    }
   ],
   "source": [
    "#no need to change anything in this file!\n",
    "\n",
    "#SMS Spam Filter Imports\n",
    "import random\n",
    "import pandas as pd\n",
    "import string\n",
    "import nltk\n",
    "nltk.download('punkt')\n",
    "nltk.download('stopwords')\n",
    "\n",
    "def categorize_words():\n",
    "    '''\n",
    "    Catagorizes each spam/non-spam word into a corresponding list\n",
    "    Repeating words in each list will help with categorizing\n",
    "    '''\n",
    "    spam_words = []\n",
    "    ham_words = []\n",
    "    for sms in data['processed'][data['label'] == 'spam']:\n",
    "        for word in sms:\n",
    "            spam_words.append(word)\n",
    "    for sms in data['processed'][data['label'] == 'ham']:\n",
    "        for word in sms:\n",
    "            ham_words.append(word)\n",
    "    return spam_words, ham_words\n",
    "\n",
    "def predict(user_input):\n",
    "  spam_counter = 0\n",
    "  ham_counter = 0\n",
    "\n",
    "  #add text colour : ham is green, spam is red\n",
    "  red = [220,50,50]\n",
    "  green = [100,220,50]\n",
    "\n",
    "  for word in user_input:\n",
    "    spam_counter += spam_words.count(word)\n",
    "    ham_counter += ham_words.count(word)\n",
    "\n",
    "  if ham_counter > spam_counter:\n",
    "    #adding accuracy\n",
    "    certainty = round((ham_counter / (ham_counter + spam_counter)) * 100, 2)\n",
    "    return 'message is not spam, with {}% certainty'.format(certainty), green\n",
    "  elif spam_counter > ham_counter:\n",
    "    certainty = round((spam_counter / (ham_counter + spam_counter)) * 100, 2)\n",
    "    return 'message is spam, with {}% certainty'.format(certainty), red\n",
    "  else:\n",
    "    return 'message could be spam, with 50% certainty', [255,255,255]\n",
    "\n",
    "def pre_process(sms):\n",
    "    '''\n",
    "    Remove punctuation and stop words from the custom sms\n",
    "    '''\n",
    "    remove_punct = \"\".join([word.lower() for word in sms if word not in string.punctuation])\n",
    "    tokenize = nltk.tokenize.word_tokenize(remove_punct)\n",
    "    remove_stop_words = [word for word in tokenize if word not in nltk.corpus.stopwords.words('english')]\n",
    "    return remove_stop_words\n",
    "\n",
    "data = pd.read_csv('SMSSpamCollection.txt', sep = '\\t', header=None, names=[\"label\", \"sms\"])\n",
    "data['processed'] = data['sms'].apply(lambda x: pre_process(x))\n",
    "\n",
    "#creating lists to store spam/non-spam associated words and their instances\n",
    "spam_words, ham_words = categorize_words()"
   ]
  },
  {
   "cell_type": "code",
   "execution_count": 15,
   "id": "4c4a19d6",
   "metadata": {},
   "outputs": [
    {
     "name": "stdout",
     "output_type": "stream",
     "text": [
      "None\n"
     ]
    }
   ],
   "source": [
    "pred = []\n",
    "def check_spam(input_value):\n",
    "    pred_text, text_colour = predict(input_value)\n",
    "    pred.append(pred_text)\n",
    "\n",
    "print ( check_spam('Free entry in 2 a wkly comp to win FA Cup final tkts 21st May 2005. Text FA to 87121 to receive entry question(std txt rate)T&C'))"
   ]
  },
  {
   "cell_type": "code",
   "execution_count": 14,
   "id": "34d630d5",
   "metadata": {},
   "outputs": [
    {
     "name": "stdout",
     "output_type": "stream",
     "text": [
      "None\n"
     ]
    }
   ],
   "source": []
  },
  {
   "cell_type": "code",
   "execution_count": 7,
   "id": "9d9a429c",
   "metadata": {},
   "outputs": [],
   "source": [
    "#DearPyGUI Imports\n",
    "#from dearpygui.core import *\n",
    "#from dearpygui.simple import *\n",
    "\n",
    "#functions.py Imports\n",
    "# from functions import categorize_words, pre_process, predict\n",
    "\n",
    "# pred = []\n",
    "# #button callbak function\n",
    "# #runs each time when the \"Check\" button is clicked\n",
    "# def check_spam(pred):\n",
    "#     with window(\"Simple SMS Spam Filter\"):\n",
    "#         if pred == []:\n",
    "#             #runs only once - the the button is first clicked\n",
    "#             #and pred[-1] widget doesn't exist\n",
    "#             add_spacing(count=12)\n",
    "#             add_separator()\n",
    "#             add_spacing(count=12)\n",
    "#         else:\n",
    "#             #hide prediction widget\n",
    "#             hide_item(pred[-1])\n",
    "#         #collect input, pre-process and get prediction\n",
    "#         input_value = get_value(\"Input\")\n",
    "#         input_value = pre_process(input_value)\n",
    "#         pred_text, text_colour = predict(input_value)\n",
    "#         #store prediction inside the pred list\n",
    "#         pred.append(pred_text)\n",
    "#         #display prediction to user\n",
    "#         add_text(pred[-1], color=text_colour)\n",
    "\n",
    "# #window object settings\n",
    "# set_main_window_size(540, 720)\n",
    "# set_global_font_scale(1.25)\n",
    "# set_theme(\"Gold\")\n",
    "# set_style_window_padding(30,30)\n",
    "\n",
    "# with window(\"Simple SMS Spam Filter\", width=520, height=677):\n",
    "#     print(\"GUI is running...\")\n",
    "#     set_window_pos(\"Simple SMS Spam Filter\", 0, 0)\n",
    "\n",
    "#     #image logo\n",
    "#     add_drawing(\"logo\", width=520, height=290) #create some space for the image\n",
    "\n",
    "#     add_separator()\n",
    "#     add_spacing(count=12)\n",
    "#     #text instructions\n",
    "#     add_text(\"Please enter an SMS message of your choice to check if it's spam or not\",\n",
    "#     color=[232,163,33])\n",
    "#     add_spacing(count=12)\n",
    "#     #collect input\n",
    "#     add_input_text(\"Input\", width=415, default_value=\"type message here!\")\n",
    "#     add_spacing(count=12)\n",
    "#     #action button\n",
    "#     add_button(\"Check\", callback=lambda x,y:check_spam(pred))\n",
    "\n",
    "# #place the image inside the space\n",
    "# draw_image(\"logo\", \"logo_spamFilter.png\", [0, 240])\n",
    "\n",
    "# #IF THE PREVIOUS LINE OF CODE TRIGGERS AN ERRROR TRY\n",
    "# #draw_image(\"logo\", \"logo_spamFilter.png\", [0,0], [458,192])\n",
    "\n",
    "# start_dearpygui()\n",
    "# print(\"Bye Bye, GUI\")"
   ]
  },
  {
   "cell_type": "code",
   "execution_count": null,
   "id": "b45473d1",
   "metadata": {},
   "outputs": [],
   "source": []
  },
  {
   "cell_type": "code",
   "execution_count": 3,
   "id": "c714546d",
   "metadata": {},
   "outputs": [
    {
     "name": "stdout",
     "output_type": "stream",
     "text": [
      "Collecting deargui\n",
      "  Downloading deargui-0.1.5.tar.gz (410 kB)\n",
      "Building wheels for collected packages: deargui\n",
      "  Building wheel for deargui (setup.py): started\n",
      "  Building wheel for deargui (setup.py): finished with status 'error'\n",
      "  Running setup.py clean for deargui\n",
      "Failed to build deargui\n",
      "Installing collected packages: deargui"
     ]
    },
    {
     "name": "stderr",
     "output_type": "stream",
     "text": [
      "  ERROR: Command errored out with exit status 1:\n",
      "   command: 'D:\\Users\\admin\\anaconda3\\python.exe' -u -c 'import sys, setuptools, tokenize; sys.argv[0] = '\"'\"'C:\\\\Users\\\\admin\\\\AppData\\\\Local\\\\Temp\\\\pip-install-9ceg8mn9\\\\deargui_2d2b877a07a6487cb24338d68c1ae328\\\\setup.py'\"'\"'; __file__='\"'\"'C:\\\\Users\\\\admin\\\\AppData\\\\Local\\\\Temp\\\\pip-install-9ceg8mn9\\\\deargui_2d2b877a07a6487cb24338d68c1ae328\\\\setup.py'\"'\"';f=getattr(tokenize, '\"'\"'open'\"'\"', open)(__file__);code=f.read().replace('\"'\"'\\r\\n'\"'\"', '\"'\"'\\n'\"'\"');f.close();exec(compile(code, __file__, '\"'\"'exec'\"'\"'))' bdist_wheel -d 'C:\\Users\\admin\\AppData\\Local\\Temp\\pip-wheel-lku6r6gg'\n",
      "       cwd: C:\\Users\\admin\\AppData\\Local\\Temp\\pip-install-9ceg8mn9\\deargui_2d2b877a07a6487cb24338d68c1ae328\\\n",
      "  Complete output (5 lines):\n",
      "  running bdist_wheel\n",
      "  running build\n",
      "  running build_ext\n",
      "  building 'deargui' extension\n",
      "  error: Microsoft Visual C++ 14.0 or greater is required. Get it with \"Microsoft C++ Build Tools\": https://visualstudio.microsoft.com/visual-cpp-build-tools/\n",
      "  ----------------------------------------\n",
      "  ERROR: Failed building wheel for deargui\n",
      "    ERROR: Command errored out with exit status 1:\n",
      "     command: 'D:\\Users\\admin\\anaconda3\\python.exe' -u -c 'import sys, setuptools, tokenize; sys.argv[0] = '\"'\"'C:\\\\Users\\\\admin\\\\AppData\\\\Local\\\\Temp\\\\pip-install-9ceg8mn9\\\\deargui_2d2b877a07a6487cb24338d68c1ae328\\\\setup.py'\"'\"'; __file__='\"'\"'C:\\\\Users\\\\admin\\\\AppData\\\\Local\\\\Temp\\\\pip-install-9ceg8mn9\\\\deargui_2d2b877a07a6487cb24338d68c1ae328\\\\setup.py'\"'\"';f=getattr(tokenize, '\"'\"'open'\"'\"', open)(__file__);code=f.read().replace('\"'\"'\\r\\n'\"'\"', '\"'\"'\\n'\"'\"');f.close();exec(compile(code, __file__, '\"'\"'exec'\"'\"'))' install --record 'C:\\Users\\admin\\AppData\\Local\\Temp\\pip-record-q02inv9s\\install-record.txt' --single-version-externally-managed --compile --install-headers 'D:\\Users\\admin\\anaconda3\\Include\\deargui'\n",
      "         cwd: C:\\Users\\admin\\AppData\\Local\\Temp\\pip-install-9ceg8mn9\\deargui_2d2b877a07a6487cb24338d68c1ae328\\\n",
      "    Complete output (5 lines):\n",
      "    running install\n",
      "    running build\n",
      "    running build_ext\n",
      "    building 'deargui' extension\n",
      "    error: Microsoft Visual C++ 14.0 or greater is required. Get it with \"Microsoft C++ Build Tools\": https://visualstudio.microsoft.com/visual-cpp-build-tools/\n",
      "    ----------------------------------------\n",
      "ERROR: Command errored out with exit status 1: 'D:\\Users\\admin\\anaconda3\\python.exe' -u -c 'import sys, setuptools, tokenize; sys.argv[0] = '\"'\"'C:\\\\Users\\\\admin\\\\AppData\\\\Local\\\\Temp\\\\pip-install-9ceg8mn9\\\\deargui_2d2b877a07a6487cb24338d68c1ae328\\\\setup.py'\"'\"'; __file__='\"'\"'C:\\\\Users\\\\admin\\\\AppData\\\\Local\\\\Temp\\\\pip-install-9ceg8mn9\\\\deargui_2d2b877a07a6487cb24338d68c1ae328\\\\setup.py'\"'\"';f=getattr(tokenize, '\"'\"'open'\"'\"', open)(__file__);code=f.read().replace('\"'\"'\\r\\n'\"'\"', '\"'\"'\\n'\"'\"');f.close();exec(compile(code, __file__, '\"'\"'exec'\"'\"'))' install --record 'C:\\Users\\admin\\AppData\\Local\\Temp\\pip-record-q02inv9s\\install-record.txt' --single-version-externally-managed --compile --install-headers 'D:\\Users\\admin\\anaconda3\\Include\\deargui' Check the logs for full command output.\n"
     ]
    },
    {
     "name": "stdout",
     "output_type": "stream",
     "text": [
      "\n",
      "    Running setup.py install for deargui: started\n",
      "    Running setup.py install for deargui: finished with status 'error'\n"
     ]
    }
   ],
   "source": [
    "!pip install deargui"
   ]
  },
  {
   "cell_type": "code",
   "execution_count": null,
   "id": "f7e2b2ed",
   "metadata": {},
   "outputs": [],
   "source": []
  }
 ],
 "metadata": {
  "kernelspec": {
   "display_name": "Python 3",
   "language": "python",
   "name": "python3"
  },
  "language_info": {
   "codemirror_mode": {
    "name": "ipython",
    "version": 3
   },
   "file_extension": ".py",
   "mimetype": "text/x-python",
   "name": "python",
   "nbconvert_exporter": "python",
   "pygments_lexer": "ipython3",
   "version": "3.8.8"
  }
 },
 "nbformat": 4,
 "nbformat_minor": 5
}
