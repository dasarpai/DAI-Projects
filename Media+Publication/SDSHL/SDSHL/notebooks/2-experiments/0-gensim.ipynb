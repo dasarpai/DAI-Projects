{
 "cells": [
  {
   "cell_type": "code",
   "execution_count": null,
   "metadata": {},
   "outputs": [],
   "source": [
    "#paths required\n",
    "datafolder_p = r'D:\\18-DS\\github\\SDSHL\\data\\processed'\n",
    "datafolder_e = r'D:\\18-DS\\github\\SDSHL\\data\\external'\n",
    "datafolder_i = r'D:\\18-DS\\github\\SDSHL\\data\\internal'\n",
    "modelfolder  = r'D:\\18-DS\\data\\models'\n",
    "\n",
    "vectorfolder_bert = modelfolder + r'\\BERT'\n",
    "vectorfolder_ft   = modelfolder + r'\\fasttext_wiki.hi'\n",
    "\n",
    "train_datafile =datafolder_p+r'\\2-train.csv'\n",
    "test_datafile =datafolder_p+r'\\2-test.csv'"
   ]
  },
  {
   "cell_type": "code",
   "execution_count": 1,
   "metadata": {},
   "outputs": [],
   "source": [
    "#from __future__ import print_function\n",
    "\n",
    "import pandas as pd\n",
    "import nltk\n",
    "import numpy as np\n",
    "import re\n",
    "from sklearn.model_selection import train_test_split   "
   ]
  },
  {
   "cell_type": "code",
   "execution_count": 37,
   "metadata": {},
   "outputs": [],
   "source": [
    "# Set values for various parameters\n",
    "feature_size = 15    # Word vector dimensionality  \n",
    "window_context = 20  # Context window size                                                                                    \n",
    "min_word_count = 1   # Minimum word count                        \n",
    "sample = 1e-3        # Downsample setting for frequent words\n",
    "sg = 1               # skip-gram model"
   ]
  },
  {
   "cell_type": "code",
   "execution_count": 33,
   "metadata": {},
   "outputs": [],
   "source": [
    "df =pd.read_csv(train_datafile, sep=\"\\t\")\n",
    "corpus = list(df.sentence)\n",
    "tokenized_corpus = [nltk.word_tokenize(doc) for doc in corpus]\n",
    "df['sentence'] = tokenized_corpus\n",
    "\n",
    "# np.random.seed(100)\n",
    "# df_len = len(df)\n",
    "# train_len = int(df_len*.75)\n",
    "# train_idx = np.random.choice(range(df_len), train_len, replace=False)\n",
    "# test_idx = [i for i in range(0,df_len) if i not in train_idx]\n",
    "# train_idx.sort()\n",
    "# test_idx.sort()"
   ]
  },
  {
   "cell_type": "markdown",
   "metadata": {},
   "source": [
    "# fastText Embedding"
   ]
  },
  {
   "cell_type": "markdown",
   "metadata": {},
   "source": [
    "### Transfer Learning. Already done in embedding_fastText so not doing again using Gensim"
   ]
  },
  {
   "cell_type": "code",
   "execution_count": 4,
   "metadata": {},
   "outputs": [],
   "source": [
    "#Load vector as a model. With gensim framework\n",
    "\n",
    "#from gensim.models import KeyedVectors\n",
    "\n",
    "# Creating the model\n",
    "## Takes a lot of time depending on the vector file size \n",
    "\n",
    "#ft_model = KeyedVectors.load_word2vec_format(vectorfolder_ft+'\\wiki.hi.300.vec')\n"
   ]
  },
  {
   "cell_type": "markdown",
   "metadata": {},
   "source": [
    "### Create a fastText based model"
   ]
  },
  {
   "cell_type": "code",
   "execution_count": 38,
   "metadata": {},
   "outputs": [],
   "source": [
    "from gensim.models.fasttext import FastText\n",
    "ft_model = FastText(tokenized_corpus, size=feature_size, \n",
    "                          window=window_context, min_count = min_word_count,\n",
    "                          sg=sg, sample=sample, iter=5000)"
   ]
  },
  {
   "cell_type": "code",
   "execution_count": null,
   "metadata": {},
   "outputs": [],
   "source": [
    "ft_model.save( modelfolder + \"\\model_ft.bin\")"
   ]
  },
  {
   "cell_type": "markdown",
   "metadata": {},
   "source": [
    "### Create sentence embedding & save vector"
   ]
  },
  {
   "cell_type": "code",
   "execution_count": 5,
   "metadata": {},
   "outputs": [
    {
     "data": {
      "text/plain": [
       "0.83507514"
      ]
     },
     "execution_count": 5,
     "metadata": {},
     "output_type": "execute_result"
    }
   ],
   "source": [
    "hi_model.n_similarity('हम','मैं')"
   ]
  },
  {
   "cell_type": "code",
   "execution_count": 17,
   "metadata": {},
   "outputs": [],
   "source": [
    "#hi_model.wv.word_vec('हम')"
   ]
  },
  {
   "cell_type": "code",
   "execution_count": 18,
   "metadata": {},
   "outputs": [],
   "source": [
    "# hi_model.word_vec('हम')\n",
    "# hi_model.wv['हम']"
   ]
  },
  {
   "cell_type": "markdown",
   "metadata": {},
   "source": [
    "# GloVe Embedding"
   ]
  },
  {
   "cell_type": "markdown",
   "metadata": {},
   "source": [
    "### Glove Vector is available for English Language so ignoring this"
   ]
  },
  {
   "cell_type": "code",
   "execution_count": 39,
   "metadata": {},
   "outputs": [],
   "source": [
    "# #Load vector as a model. With gensim framework\n",
    "\n",
    "# from gensim.models import KeyedVectors\n",
    "\n",
    "# # Creating the model\n",
    "# ## Takes a lot of time depending on the vector file size \n",
    "# # English GloVe\n",
    "# glove_model = KeyedVectors.load_word2vec_format(vectorfolder_glove+'\\glove.6B.50d.txt')"
   ]
  },
  {
   "cell_type": "markdown",
   "metadata": {},
   "source": [
    "# Word2Vector Embedding"
   ]
  },
  {
   "cell_type": "code",
   "execution_count": 30,
   "metadata": {},
   "outputs": [],
   "source": [
    "#from gensim.test.utils import common_texts, get_tmpfile\n",
    "from gensim.models import Word2Vec\n",
    "\n",
    "#path = get_tmpfile(\"word2vec.model\")\n",
    "\n",
    "w2v_model = Word2Vec(tokenized_corpus, size=100, window=5, min_count=1, workers=4)\n",
    "w2v_model.save( modelfolder + \"\\model_w2v.bin\")"
   ]
  },
  {
   "cell_type": "markdown",
   "metadata": {},
   "source": [
    "### Create sentence embedding and save"
   ]
  },
  {
   "cell_type": "code",
   "execution_count": null,
   "metadata": {},
   "outputs": [],
   "source": []
  }
 ],
 "metadata": {
  "kernelspec": {
   "display_name": "Python 3",
   "language": "python",
   "name": "python3"
  },
  "language_info": {
   "codemirror_mode": {
    "name": "ipython",
    "version": 3
   },
   "file_extension": ".py",
   "mimetype": "text/x-python",
   "name": "python",
   "nbconvert_exporter": "python",
   "pygments_lexer": "ipython3",
   "version": "3.8.3"
  }
 },
 "nbformat": 4,
 "nbformat_minor": 4
}
