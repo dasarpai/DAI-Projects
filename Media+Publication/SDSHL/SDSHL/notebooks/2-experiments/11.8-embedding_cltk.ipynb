{
 "cells": [
  {
   "cell_type": "code",
   "execution_count": null,
   "metadata": {},
   "outputs": [],
   "source": []
  },
  {
   "cell_type": "code",
   "execution_count": null,
   "metadata": {},
   "outputs": [],
   "source": []
  },
  {
   "cell_type": "code",
   "execution_count": null,
   "metadata": {},
   "outputs": [],
   "source": [
    "from cltk.tokenize.sentence import TokenizeSentence\n",
    "\n",
    "from cltk.corpus.marathi.alphabet import DIGITS as marathi_digits\n",
    "import os\n",
    "root = os.path.expanduser('~')\n",
    "hindi_corpus = os.path.join(root,'cltk_data/hindi/text/hindi_text_ltrc')\n",
    "hindi_text_path = os.path.join(hindi_corpus, 'miscellaneous/gandhi/main.txt')\n",
    "#hindi_text_path = os.path.join(hindi_corpus, 'Kabeera/main.txt')\n",
    "hindi_text = open(hindi_text_path,'r', encoding=\"utf-8\").read()\n",
    "tokenizer = TokenizeSentence('hindi')\n",
    "hindi_text_tokenize = tokenizer.tokenize(hindi_text)\n",
    "print(hindi_text_tokenize[0:100])"
   ]
  },
  {
   "cell_type": "code",
   "execution_count": null,
   "metadata": {},
   "outputs": [],
   "source": []
  },
  {
   "cell_type": "code",
   "execution_count": null,
   "metadata": {},
   "outputs": [],
   "source": []
  }
 ],
 "metadata": {
  "kernelspec": {
   "display_name": "Python 3",
   "language": "python",
   "name": "python3"
  },
  "language_info": {
   "codemirror_mode": {
    "name": "ipython",
    "version": 3
   },
   "file_extension": ".py",
   "mimetype": "text/x-python",
   "name": "python",
   "nbconvert_exporter": "python",
   "pygments_lexer": "ipython3",
   "version": "3.8.3"
  }
 },
 "nbformat": 4,
 "nbformat_minor": 4
}
