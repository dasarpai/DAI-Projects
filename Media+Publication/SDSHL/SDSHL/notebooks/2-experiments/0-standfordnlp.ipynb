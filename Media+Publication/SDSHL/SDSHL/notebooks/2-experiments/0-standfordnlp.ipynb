{
 "cells": [
  {
   "cell_type": "code",
   "execution_count": 1,
   "metadata": {},
   "outputs": [],
   "source": [
    "#paths required\n",
    "datafolder_p = r'D:\\18-DS\\github\\SDSHL\\data\\processed'\n",
    "datafolder_e = r'D:\\18-DS\\github\\SDSHL\\data\\external'\n",
    "datafolder_i = r'D:\\18-DS\\github\\SDSHL\\data\\internal'\n",
    "modelfolder  = r'D:\\18-DS\\data\\models'\n",
    "\n",
    "vectorfolder_bert = modelfolder + r'\\BERT'\n",
    "vectorfolder_ft   = modelfolder + r'\\fasttext_wiki.hi'\n",
    "vectorfolder_standford = modelfolder + r'\\POS-Tagger-Hindi'\n",
    "\n",
    "train_datafile =datafolder_p+r'\\2-train.csv'\n",
    "test_datafile =datafolder_p+r'\\2-test.csv'\n",
    "\n",
    "file =datafolder_p+ r'\\2-Hinglish_Sarcasm_Clean.csv'"
   ]
  },
  {
   "cell_type": "code",
   "execution_count": null,
   "metadata": {},
   "outputs": [],
   "source": []
  },
  {
   "cell_type": "code",
   "execution_count": null,
   "metadata": {},
   "outputs": [],
   "source": [
    "import stanfordnlp\n",
    "\n",
    "MODELS_DIR = '.'\n",
    "stanfordnlp.download('hi', MODELS_DIR) # Download the English models"
   ]
  },
  {
   "cell_type": "code",
   "execution_count": 7,
   "metadata": {},
   "outputs": [
    {
     "name": "stdout",
     "output_type": "stream",
     "text": [
      "Use device: cpu\n",
      "---\n",
      "Loading: tokenize\n",
      "With settings: \n",
      "{'model_path': 'D:\\\\18-DS\\\\github\\\\0githubBranched\\\\POS-Tagger-Hindi\\\\hi_hdtb_models\\\\hi_hdtb_tokenizer.pt', 'lang': 'en', 'shorthand': 'hi_hdtb', 'mode': 'predict'}\n",
      "---\n",
      "Loading: pos\n",
      "With settings: \n",
      "{'model_path': 'D:\\\\18-DS\\\\github\\\\0githubBranched\\\\POS-Tagger-Hindi\\\\hi_hdtb_models\\\\hi_hdtb_tagger.pt', 'pretrain_path': 'D:\\\\18-DS\\\\github\\\\0githubBranched\\\\POS-Tagger-Hindi\\\\hi_hdtb_models\\\\hi_hdtb.pretrain.pt', 'batch_size': 3000, 'lang': 'en', 'shorthand': 'hi_hdtb', 'mode': 'predict'}\n",
      "Done loading processors!\n",
      "---\n",
      "<Token index=1;words=[<Word index=1;text=केंद्र;upos=PROPN;xpos=NNP;feats=Case=Acc|Gender=Masc|Number=Sing|Person=3>]>\n",
      "<Token index=2;words=[<Word index=2;text=की;upos=ADP;xpos=PSP;feats=AdpType=Post|Case=Acc|Gender=Fem|Number=Sing>]>\n",
      "<Token index=3;words=[<Word index=3;text=मोदी;upos=PROPN;xpos=NNP;feats=Case=Nom|Number=Sing|Person=3>]>\n",
      "<Token index=4;words=[<Word index=4;text=सरकार;upos=NOUN;xpos=NN;feats=Case=Acc|Gender=Fem|Number=Sing|Person=3>]>\n",
      "<Token index=5;words=[<Word index=5;text=ने;upos=ADP;xpos=PSP;feats=AdpType=Post>]>\n",
      "<Token index=6;words=[<Word index=6;text=शुक्रवार;upos=PROPN;xpos=NNP;feats=Case=Acc|Gender=Masc|Number=Sing|Person=3>]>\n",
      "<Token index=7;words=[<Word index=7;text=को;upos=ADP;xpos=PSP;feats=AdpType=Post>]>\n",
      "<Token index=8;words=[<Word index=8;text=अपना;upos=PRON;xpos=PRP;feats=Case=Nom|Gender=Masc|Number=Sing|PronType=Prs>]>\n",
      "<Token index=9;words=[<Word index=9;text=अंतरिम;upos=ADJ;xpos=JJ;feats=Case=Nom>]>\n",
      "<Token index=10;words=[<Word index=10;text=बजट;upos=NOUN;xpos=NN;feats=Case=Nom|Gender=Masc|Number=Sing|Person=3>]>\n",
      "<Token index=11;words=[<Word index=11;text=पेश;upos=ADJ;xpos=JJ;feats=_>]>\n",
      "<Token index=12;words=[<Word index=12;text=किया;upos=VERB;xpos=VM;feats=Aspect=Perf|Gender=Masc|Number=Sing|VerbForm=Part|Voice=Act>]>\n",
      "<Token index=13;words=[<Word index=13;text=.;upos=PUNCT;xpos=SYM;feats=_>]>\n"
     ]
    }
   ],
   "source": [
    "nlp = stanfordnlp.Pipeline(processors='tokenize,pos', models_dir=folder, treebank='hi_hdtb', use_gpu=True, pos_batch_size=3000) # Build the pipeline, specify part-of-speech processor's batch size\n",
    "doc = nlp(\"\"\"केंद्र की मोदी सरकार ने शुक्रवार को अपना अंतरिम बजट पेश किया. कार्यवाहक वित्त मंत्री पीयूष गोयल \\\n",
    "ने अपने बजट में किसान, मजदूर, करदाता, महिला वर्ग समेत हर किसी के लिए बंपर ऐलान किए. हालांकि, \\\n",
    "बजट के बाद भी टैक्स को लेकर काफी कन्फ्यूजन बना रहा. \\\n",
    "केंद्र सरकार के इस अंतरिम बजट क्या खास रहा और किसको क्या मिला, आसान भाषा में यहां समझें\"\"\")\n",
    "doc.sentences[0].print_tokens() # Look at the result"
   ]
  },
  {
   "cell_type": "code",
   "execution_count": 10,
   "metadata": {},
   "outputs": [
    {
     "name": "stdout",
     "output_type": "stream",
     "text": [
      "Use device: cpu\n",
      "---\n",
      "Loading: tokenize\n",
      "With settings: \n",
      "{'model_path': 'D:\\\\18-DS\\\\github\\\\0githubBranched\\\\POS-Tagger-Hindi\\\\hi_hdtb_models\\\\hi_hdtb_tokenizer.pt', 'lang': 'hi', 'shorthand': 'hi_hdtb', 'mode': 'predict'}\n",
      "---\n",
      "Loading: pos\n",
      "With settings: \n",
      "{'model_path': 'D:\\\\18-DS\\\\github\\\\0githubBranched\\\\POS-Tagger-Hindi\\\\hi_hdtb_models\\\\hi_hdtb_tagger.pt', 'pretrain_path': 'D:\\\\18-DS\\\\github\\\\0githubBranched\\\\POS-Tagger-Hindi\\\\hi_hdtb_models\\\\hi_hdtb.pretrain.pt', 'lang': 'hi', 'shorthand': 'hi_hdtb', 'mode': 'predict'}\n",
      "Done loading processors!\n",
      "---\n"
     ]
    }
   ],
   "source": [
    "nlp = stanfordnlp.Pipeline(processors = \"tokenize,pos\", lang=\"hi\", models_dir=folder, use_gpu=False)"
   ]
  },
  {
   "cell_type": "code",
   "execution_count": 3,
   "metadata": {},
   "outputs": [
    {
     "name": "stdout",
     "output_type": "stream",
     "text": [
      "Use device: cpu\n",
      "---\n",
      "Loading: tokenize\n",
      "With settings: \n",
      "{'model_path': 'C:\\\\Users\\\\admin\\\\stanfordnlp_resources\\\\hi_hdtb_models\\\\hi_hdtb_tokenizer.pt', 'pretokenized': True, 'lang': 'hi', 'shorthand': 'hi_hdtb', 'mode': 'predict'}\n",
      "---\n",
      "Loading: pos\n",
      "With settings: \n",
      "{'model_path': 'D:\\\\18-DS\\\\github\\\\0githubBranched\\\\POS-Tagger-Hindi\\\\hi_hdtb_models\\\\hi_hdtb_tagger.pt', 'pretrain_path': 'D:\\\\18-DS\\\\github\\\\0githubBranched\\\\POS-Tagger-Hindi\\\\hi_hdtb_models\\\\hi_hdtb.pretrain.pt', 'batch_size': 1000, 'lang': 'hi', 'shorthand': 'hi_hdtb', 'mode': 'predict'}\n",
      "Done loading processors!\n",
      "---\n",
      "1\tकेंद्र\t_\tPROPN\tNNP\tCase=Acc|Gender=Masc|Number=Sing|Person=3\t0\t_\t_\t_\n",
      "2\tकी\t_\tADP\tPSP\tAdpType=Post|Case=Acc|Gender=Fem|Number=Sing\t1\t_\t_\t_\n",
      "3\tमोदी\t_\tPROPN\tNNP\tCase=Nom|Number=Sing|Person=3\t2\t_\t_\t_\n",
      "4\tसरकार\t_\tNOUN\tNN\tCase=Acc|Gender=Fem|Number=Sing|Person=3\t3\t_\t_\t_\n",
      "5\tने\t_\tADP\tPSP\tAdpType=Post\t4\t_\t_\t_\n",
      "6\tशुक्रवार\t_\tPROPN\tNNP\tCase=Acc|Gender=Masc|Number=Sing|Person=3\t5\t_\t_\t_\n",
      "7\tको\t_\tADP\tPSP\tAdpType=Post\t6\t_\t_\t_\n",
      "8\tअपना\t_\tPRON\tPRP\tCase=Nom|Gender=Masc|Number=Sing|PronType=Prs\t7\t_\t_\t_\n",
      "9\tअंतरिम\t_\tADJ\tJJ\tCase=Nom\t8\t_\t_\t_\n",
      "10\tबजट\t_\tNOUN\tNN\tCase=Nom|Gender=Masc|Number=Sing|Person=3\t9\t_\t_\t_\n",
      "11\tपेश\t_\tADJ\tJJ\tCase=Acc\t10\t_\t_\t_\n",
      "12\tकिया.\t_\tPROPN\tNNP\tCase=Nom|Gender=Masc|Number=Sing|Person=3\t11\t_\t_\t_\n",
      "13\tकार्यवाहक\t_\tADJ\tJJ\tCase=Acc\t12\t_\t_\t_\n",
      "14\tवित्त\t_\tPROPN\tNNPC\tCase=Nom|Gender=Masc|Number=Sing|Person=3\t13\t_\t_\t_\n",
      "15\tमंत्री\t_\tPROPN\tNNP\tCase=Nom|Gender=Masc|Number=Sing|Person=3\t14\t_\t_\t_\n",
      "16\tपीयूष\t_\tPROPN\tNNPC\tCase=Nom|Gender=Fem|Number=Sing|Person=3\t15\t_\t_\t_\n",
      "17\tगोयल\t_\tPROPN\tNNP\tCase=Acc|Number=Sing|Person=3\t16\t_\t_\t_\n",
      "18\tने\t_\tADP\tPSP\tAdpType=Post\t17\t_\t_\t_\n",
      "19\tअपने\t_\tPRON\tPRP\tCase=Acc|Gender=Masc|PronType=Prs\t18\t_\t_\t_\n",
      "20\tबजट\t_\tNOUN\tNN\tCase=Acc|Gender=Masc|Number=Sing|Person=3\t19\t_\t_\t_\n",
      "21\tमें\t_\tADP\tPSP\tAdpType=Post\t20\t_\t_\t_\n",
      "22\tकिसान,\t_\tPROPN\tNNP\tCase=Nom|Gender=Masc|Number=Sing|Person=3\t21\t_\t_\t_\n",
      "23\tमजदूर,\t_\tPROPN\tNNPC\tCase=Nom|Gender=Masc|Number=Sing|Person=3\t22\t_\t_\t_\n",
      "24\tकरदाता,\t_\tPROPN\tNNPC\tCase=Nom|Gender=Masc|Number=Sing|Person=3\t23\t_\t_\t_\n",
      "25\tमहिला\t_\tNOUN\tNNC\tCase=Nom|Gender=Fem|Number=Sing|Person=3\t24\t_\t_\t_\n",
      "26\tवर्ग\t_\tNOUN\tNN\tCase=Acc|Gender=Masc|Number=Sing|Person=3\t25\t_\t_\t_\n",
      "27\tसमेत\t_\tADP\tPSP\tAdpType=Post\t26\t_\t_\t_\n",
      "28\tहर\t_\tDET\tQF\tPronType=Ind\t27\t_\t_\t_\n",
      "29\tकिसी\t_\tPRON\tPRP\tCase=Acc|Number=Sing|Person=3|PronType=Prs\t28\t_\t_\t_\n",
      "30\tके\t_\tADP\tPSP\tAdpType=Post\t29\t_\t_\t_\n",
      "31\tलिए\t_\tADP\tPSP\tAdpType=Post\t30\t_\t_\t_\n",
      "32\tबंपर\t_\tADJ\tJJ\tCase=Nom\t31\t_\t_\t_\n",
      "33\tऐलान\t_\tNOUN\tNN\tCase=Nom|Gender=Masc|Number=Sing|Person=3\t32\t_\t_\t_\n",
      "34\tकिए.\t_\tVERB\tVM\tAspect=Perf|Gender=Masc|Number=Sing|VerbForm=Part\t33\t_\t_\t_\n",
      "35\tहालांकि,\t_\tPROPN\tNNPC\tCase=Nom|Gender=Masc|Number=Sing|Person=3\t34\t_\t_\t_\n",
      "36\tबजट\t_\tNOUN\tNN\tCase=Acc|Gender=Masc|Number=Sing|Person=3\t35\t_\t_\t_\n",
      "37\tके\t_\tADP\tPSP\tAdpType=Post\t36\t_\t_\t_\n",
      "38\tबाद\t_\tADP\tNST\tAdpType=Post|Case=Nom|Gender=Masc|Number=Sing|Person=3\t37\t_\t_\t_\n",
      "39\tभी\t_\tPART\tRP\t_\t38\t_\t_\t_\n",
      "40\tटैक्स\t_\tNOUN\tNN\tCase=Acc|Gender=Masc|Number=Sing|Person=3\t39\t_\t_\t_\n",
      "41\tको\t_\tADP\tPSP\tAdpType=Post\t40\t_\t_\t_\n",
      "42\tलेकर\t_\tVERB\tVM\tVerbForm=Conv\t41\t_\t_\t_\n",
      "43\tकाफी\t_\tDET\tQF\tPronType=Ind\t42\t_\t_\t_\n",
      "44\tकन्फ्यूजन\t_\tNOUN\tNN\tCase=Nom|Gender=Masc|Number=Sing|Person=3\t43\t_\t_\t_\n",
      "45\tबना\t_\tVERB\tVM\tAspect=Perf|Gender=Masc|Number=Sing|VerbForm=Part|Voice=Act\t44\t_\t_\t_\n",
      "46\tरहा.\t_\tAUX\tVAUX\tNumber=Sing|VerbForm=Part\t45\t_\t_\t_\n",
      "47\tकेंद्र\t_\tPROPN\tNNPC\tCase=Nom|Gender=Masc|Number=Sing|Person=3\t46\t_\t_\t_\n",
      "48\tसरकार\t_\tPROPN\tNNP\tCase=Acc|Gender=Fem|Number=Sing|Person=3\t47\t_\t_\t_\n",
      "49\tके\t_\tADP\tPSP\tAdpType=Post|Case=Acc|Gender=Masc|Number=Sing\t48\t_\t_\t_\n",
      "50\tइस\t_\tDET\tDEM\tCase=Acc|Number=Sing|Person=3|PronType=Dem\t49\t_\t_\t_\n",
      "51\tअंतरिम\t_\tADJ\tJJ\tCase=Nom\t50\t_\t_\t_\n",
      "52\tबजट\t_\tNOUN\tNN\tCase=Nom|Gender=Masc|Number=Sing|Person=3\t51\t_\t_\t_\n",
      "53\tक्या\t_\tPRON\tWQ\tPronType=Int\t52\t_\t_\t_\n",
      "54\tखास\t_\tADJ\tJJ\t_\t53\t_\t_\t_\n",
      "55\tरहा\t_\tVERB\tVM\tAspect=Perf|Gender=Masc|Number=Sing|VerbForm=Part|Voice=Act\t54\t_\t_\t_\n",
      "56\tऔर\t_\tCCONJ\tCC\t_\t55\t_\t_\t_\n",
      "57\tकिसको\t_\tPRON\tPRP\tCase=Nom|Number=Sing|Person=3|PronType=Prs\t56\t_\t_\t_\n",
      "58\tक्या\t_\tPRON\tWQ\tPronType=Int\t57\t_\t_\t_\n",
      "59\tमिला,\t_\tPROPN\tNNP\tCase=Nom|Gender=Masc|Number=Sing|Person=3\t58\t_\t_\t_\n",
      "60\tआसान\t_\tADJ\tJJ\tCase=Acc\t59\t_\t_\t_\n",
      "61\tभाषा\t_\tNOUN\tNN\tCase=Acc|Gender=Fem|Number=Sing|Person=3\t60\t_\t_\t_\n",
      "62\tमें\t_\tADP\tPSP\tAdpType=Post\t61\t_\t_\t_\n",
      "63\tयहां\t_\tPRON\tPRP\tCase=Nom|PronType=Prs\t62\t_\t_\t_\n",
      "64\tसमझें\t_\tVERB\tVM\tGender=Masc|Mood=Sub|Number=Sing|Person=3|VerbForm=Fin|Voice=Act\t63\t_\t_\t_\n",
      "\n",
      "\n"
     ]
    }
   ],
   "source": [
    "import stanfordnlp\n",
    "\n",
    "#tag = r'D:\\18-DS\\github\\0githubBranched\\hindi-pos-tagger\\HMM\\Code\\hi_hdtb_models\\hi_hdtb_tagger.pt'\n",
    "#pret = r'D:\\18-DS\\github\\0githubBranched\\hindi-pos-tagger\\HMM\\Code\\hi_hdtb_models\\hi_hdtb.pretrain.pt'\n",
    "\n",
    "\n",
    "tag = folder+r'\\hi_hdtb_models\\hi_hdtb_tagger.pt'\n",
    "pret = folder+r'\\hi_hdtb_models\\hi_hdtb.pretrain.pt'\n",
    "\n",
    "\n",
    "#'pos_model_path': './en_ewt_models/en_ewt_tagger.pt',\n",
    "#'pos_pretrain_path': './en_ewt_models/en_ewt.pretrain.pt',\n",
    "            \n",
    "\n",
    "config = {\n",
    "        'processors': 'tokenize,pos',\n",
    "        'tokenize_pretokenized': True,\n",
    "        'pos_model_path': tag,\n",
    "        'pos_pretrain_path': pret,\n",
    "        'pos_batch_size': 1000,\n",
    "        'lang':'hi'\n",
    "         }\n",
    "nlp = stanfordnlp.Pipeline(**config)\n",
    "doc = nlp(\"\"\"केंद्र की मोदी सरकार ने शुक्रवार को अपना अंतरिम बजट पेश किया. कार्यवाहक वित्त मंत्री पीयूष गोयल \\\n",
    "ने अपने बजट में किसान, मजदूर, करदाता, महिला वर्ग समेत हर किसी के लिए बंपर ऐलान किए. हालांकि, \\\n",
    "बजट के बाद भी टैक्स को लेकर काफी कन्फ्यूजन बना रहा. \\\n",
    "केंद्र सरकार के इस अंतरिम बजट क्या खास रहा और किसको क्या मिला, आसान भाषा में यहां समझें\"\"\")\n",
    "print(doc.conll_file.conll_as_string())"
   ]
  },
  {
   "cell_type": "code",
   "execution_count": 4,
   "metadata": {},
   "outputs": [
    {
     "name": "stdout",
     "output_type": "stream",
     "text": [
      "Use device: cpu\n",
      "---\n",
      "Loading: tokenize\n",
      "With settings: \n",
      "{'model_path': 'C:\\\\Users\\\\admin\\\\stanfordnlp_resources\\\\en_ewt_models\\\\en_ewt_tokenizer.pt', 'lang': 'en', 'shorthand': 'en_ewt', 'mode': 'predict'}\n",
      "---\n",
      "Loading: pos\n",
      "With settings: \n",
      "{'model_path': 'C:\\\\Users\\\\admin\\\\stanfordnlp_resources\\\\en_ewt_models\\\\en_ewt_tagger.pt', 'pretrain_path': 'C:\\\\Users\\\\admin\\\\stanfordnlp_resources\\\\en_ewt_models\\\\en_ewt.pretrain.pt', 'lang': 'en', 'shorthand': 'en_ewt', 'mode': 'predict'}\n",
      "---\n",
      "Loading: lemma\n",
      "With settings: \n",
      "{'model_path': 'C:\\\\Users\\\\admin\\\\stanfordnlp_resources\\\\en_ewt_models\\\\en_ewt_lemmatizer.pt', 'lang': 'en', 'shorthand': 'en_ewt', 'mode': 'predict'}\n",
      "Building an attentional Seq2Seq model...\n",
      "Using a Bi-LSTM encoder\n",
      "Using soft attention for LSTM.\n",
      "Finetune all embeddings.\n",
      "[Running seq2seq lemmatizer with edit classifier]\n",
      "---\n",
      "Loading: depparse\n",
      "With settings: \n",
      "{'model_path': 'C:\\\\Users\\\\admin\\\\stanfordnlp_resources\\\\en_ewt_models\\\\en_ewt_parser.pt', 'pretrain_path': 'C:\\\\Users\\\\admin\\\\stanfordnlp_resources\\\\en_ewt_models\\\\en_ewt.pretrain.pt', 'lang': 'en', 'shorthand': 'en_ewt', 'mode': 'predict'}\n",
      "Done loading processors!\n",
      "---\n",
      "text: Barack \tlemma: Barack\tupos:         PROPN\txpos: NNP\n",
      "text: Obama \tlemma: Obama\tupos:         PROPN\txpos: NNP\n",
      "text: was \tlemma: be\tupos:         AUX\txpos: VBD\n",
      "text: born \tlemma: bear\tupos:         VERB\txpos: VBN\n",
      "text: in \tlemma: in\tupos:         ADP\txpos: IN\n",
      "text: Hawaii \tlemma: Hawaii\tupos:         PROPN\txpos: NNP\n",
      "text: . \tlemma: .\tupos:         PUNCT\txpos: .\n"
     ]
    },
    {
     "name": "stderr",
     "output_type": "stream",
     "text": [
      "..\\aten\\src\\ATen\\native\\LegacyDefinitions.cpp:19: UserWarning: masked_fill_ received a mask with dtype torch.uint8, this behavior is now deprecated,please use a mask with dtype torch.bool instead.\n"
     ]
    }
   ],
   "source": [
    "import stanfordnlp\n",
    "\n",
    "nlp = stanfordnlp.Pipeline()\n",
    "doc = nlp(\"Barack Obama was born in Hawaii.\")\n",
    "print(*[f'text: {word.text+\" \"}\\tlemma: {word.lemma}\\tupos: \\\n",
    "        {word.upos}\\txpos: {word.xpos}' for sent in doc.sentences for word in sent.words], sep='\\n')"
   ]
  }
 ],
 "metadata": {
  "kernelspec": {
   "display_name": "Python 3",
   "language": "python",
   "name": "python3"
  },
  "language_info": {
   "codemirror_mode": {
    "name": "ipython",
    "version": 3
   },
   "file_extension": ".py",
   "mimetype": "text/x-python",
   "name": "python",
   "nbconvert_exporter": "python",
   "pygments_lexer": "ipython3",
   "version": "3.8.3"
  }
 },
 "nbformat": 4,
 "nbformat_minor": 4
}
