{
 "cells": [
  {
   "cell_type": "code",
   "execution_count": 1,
   "metadata": {},
   "outputs": [],
   "source": [
    "#paths required\n",
    "datafolder_p = r'D:\\18-DS\\github\\SDSHL\\data\\processed'\n",
    "datafolder_e = r'D:\\18-DS\\github\\SDSHL\\data\\external'\n",
    "datafolder_i = r'D:\\18-DS\\github\\SDSHL\\data\\internal'\n",
    "modelfolder  = r'D:\\18-DS\\data\\models'\n",
    "\n",
    "modelfolder_w2v = modelfolder + r'\\word2vec'\n",
    "\n",
    "filepath_train  = datafolder_p+ r'\\2-train.csv'\n",
    "filepath_fulldata = datafolder_p+ r'\\2-Hinglish_Sarcasm_Clean.csv'"
   ]
  },
  {
   "cell_type": "code",
   "execution_count": 2,
   "metadata": {},
   "outputs": [],
   "source": [
    "from gensim.models import Word2Vec\n",
    "import pandas as pd\n",
    "import nltk\n",
    "import numpy as np"
   ]
  },
  {
   "cell_type": "code",
   "execution_count": 3,
   "metadata": {},
   "outputs": [],
   "source": [
    "# Set values for various parameters\n",
    "feature_size = 15    # Word vector dimensionality  \n",
    "window_context = 20  # Context window size                                                                                    \n",
    "min_word_count = 1   # Minimum word count                        \n",
    "sample = 1e-3        # Downsample setting for frequent words\n",
    "sg = 1               # skip-gram model"
   ]
  },
  {
   "cell_type": "code",
   "execution_count": null,
   "metadata": {},
   "outputs": [],
   "source": []
  },
  {
   "cell_type": "code",
   "execution_count": 4,
   "metadata": {},
   "outputs": [],
   "source": [
    "df= pd.read_csv(filepath_train, sep='\\t')\n",
    "corpus = list(df['sentence'])\n",
    "tokenized_corpus = [nltk.word_tokenize(doc) for doc in corpus]\n",
    "df['sentence_tkn'] = tokenized_corpus\n",
    "\n",
    "\n",
    "#This is required to create word embedding of full dataset\n",
    "df_full =pd.read_csv(filepath_fulldata, usecols=['ID','label','sentence'], sep=\"\\t\", index_col=\"ID\")\n",
    "corpus_full = list(df_full['sentence'])\n",
    "tokenized_corpus_full = [nltk.word_tokenize(doc) for doc in corpus_full]\n",
    "df_full['sentence_tkn'] = tokenized_corpus_full"
   ]
  },
  {
   "cell_type": "code",
   "execution_count": null,
   "metadata": {},
   "outputs": [],
   "source": []
  },
  {
   "cell_type": "code",
   "execution_count": 5,
   "metadata": {},
   "outputs": [
    {
     "data": {
      "text/plain": [
       "(1800, 5)"
      ]
     },
     "execution_count": 5,
     "metadata": {},
     "output_type": "execute_result"
    }
   ],
   "source": [
    "df.shape"
   ]
  },
  {
   "cell_type": "code",
   "execution_count": 6,
   "metadata": {},
   "outputs": [],
   "source": [
    "#THIS STEP TAKS TOO MUCH TIME.\n",
    "\n",
    "embedding_model = Word2Vec(tokenized_corpus, size=feature_size, \n",
    "                                  window=window_context, min_count = min_word_count,\n",
    "                                  sg=sg, sample=sample, iter=5000)"
   ]
  },
  {
   "cell_type": "code",
   "execution_count": 7,
   "metadata": {},
   "outputs": [],
   "source": [
    "embedding_model.save(modelfolder_w2v + r'\\model_w2v.bin')"
   ]
  },
  {
   "cell_type": "code",
   "execution_count": 8,
   "metadata": {},
   "outputs": [],
   "source": [
    "def average_word_vectors(words, model, vocabulary, num_features):\n",
    "    feature_vector = np.zeros((num_features,),dtype=\"float64\")\n",
    "    nwords = 0.\n",
    "    for word in words:\n",
    "        if word in vocabulary: \n",
    "            nwords = nwords + 1.\n",
    "            feature_vector = np.add(feature_vector, model.wv[word])\n",
    "    if nwords:\n",
    "        feature_vector = np.divide(feature_vector, nwords)\n",
    "    return feature_vector\n",
    "\n",
    "def averaged_word_vectorizer(corpus, model, num_features):\n",
    "    vocabulary = set(model.wv.index2word)\n",
    "    features = [average_word_vectors(tokenized_sentence, model, vocabulary, num_features)\n",
    "                    for tokenized_sentence in corpus]\n",
    "    return np.array(features)"
   ]
  },
  {
   "cell_type": "code",
   "execution_count": null,
   "metadata": {},
   "outputs": [],
   "source": []
  },
  {
   "cell_type": "code",
   "execution_count": 9,
   "metadata": {},
   "outputs": [],
   "source": [
    "# get document level embeddings\n",
    "w2v_doc_features = averaged_word_vectorizer(corpus=tokenized_corpus_full, model=embedding_model,\n",
    "                                             num_features=feature_size)\n",
    "df_w2v = pd.DataFrame(w2v_doc_features)"
   ]
  },
  {
   "cell_type": "code",
   "execution_count": 18,
   "metadata": {},
   "outputs": [],
   "source": [
    "df_w2v['label']=df_full['label']\n",
    "df_w2v = df_w2v.set_index( df_full.index)"
   ]
  },
  {
   "cell_type": "code",
   "execution_count": null,
   "metadata": {},
   "outputs": [],
   "source": []
  },
  {
   "cell_type": "code",
   "execution_count": 26,
   "metadata": {},
   "outputs": [],
   "source": [
    "df_w2v.to_csv(datafolder_p+r'\\embedding_w2v.csv')"
   ]
  },
  {
   "cell_type": "code",
   "execution_count": 27,
   "metadata": {},
   "outputs": [
    {
     "data": {
      "text/html": [
       "<div>\n",
       "<style scoped>\n",
       "    .dataframe tbody tr th:only-of-type {\n",
       "        vertical-align: middle;\n",
       "    }\n",
       "\n",
       "    .dataframe tbody tr th {\n",
       "        vertical-align: top;\n",
       "    }\n",
       "\n",
       "    .dataframe thead th {\n",
       "        text-align: right;\n",
       "    }\n",
       "</style>\n",
       "<table border=\"1\" class=\"dataframe\">\n",
       "  <thead>\n",
       "    <tr style=\"text-align: right;\">\n",
       "      <th></th>\n",
       "      <th>0</th>\n",
       "      <th>1</th>\n",
       "      <th>2</th>\n",
       "      <th>3</th>\n",
       "      <th>4</th>\n",
       "      <th>5</th>\n",
       "      <th>6</th>\n",
       "      <th>7</th>\n",
       "      <th>8</th>\n",
       "      <th>9</th>\n",
       "      <th>10</th>\n",
       "      <th>11</th>\n",
       "      <th>12</th>\n",
       "      <th>13</th>\n",
       "      <th>14</th>\n",
       "      <th>label</th>\n",
       "    </tr>\n",
       "    <tr>\n",
       "      <th>ID</th>\n",
       "      <th></th>\n",
       "      <th></th>\n",
       "      <th></th>\n",
       "      <th></th>\n",
       "      <th></th>\n",
       "      <th></th>\n",
       "      <th></th>\n",
       "      <th></th>\n",
       "      <th></th>\n",
       "      <th></th>\n",
       "      <th></th>\n",
       "      <th></th>\n",
       "      <th></th>\n",
       "      <th></th>\n",
       "      <th></th>\n",
       "      <th></th>\n",
       "    </tr>\n",
       "  </thead>\n",
       "  <tbody>\n",
       "    <tr>\n",
       "      <th>1</th>\n",
       "      <td>0.610926</td>\n",
       "      <td>-0.033076</td>\n",
       "      <td>-0.560991</td>\n",
       "      <td>-0.024154</td>\n",
       "      <td>0.549569</td>\n",
       "      <td>-0.205838</td>\n",
       "      <td>-0.835064</td>\n",
       "      <td>-0.144946</td>\n",
       "      <td>0.297129</td>\n",
       "      <td>-0.394314</td>\n",
       "      <td>-0.094137</td>\n",
       "      <td>-0.215634</td>\n",
       "      <td>-0.954738</td>\n",
       "      <td>-0.810391</td>\n",
       "      <td>0.284191</td>\n",
       "      <td>1</td>\n",
       "    </tr>\n",
       "    <tr>\n",
       "      <th>5</th>\n",
       "      <td>0.528000</td>\n",
       "      <td>-0.354342</td>\n",
       "      <td>-0.392159</td>\n",
       "      <td>0.871123</td>\n",
       "      <td>0.113215</td>\n",
       "      <td>-0.329450</td>\n",
       "      <td>-0.937927</td>\n",
       "      <td>-0.194318</td>\n",
       "      <td>-0.193804</td>\n",
       "      <td>-0.373432</td>\n",
       "      <td>-0.287409</td>\n",
       "      <td>0.114795</td>\n",
       "      <td>-0.260780</td>\n",
       "      <td>0.347092</td>\n",
       "      <td>0.232011</td>\n",
       "      <td>1</td>\n",
       "    </tr>\n",
       "    <tr>\n",
       "      <th>12</th>\n",
       "      <td>0.043671</td>\n",
       "      <td>-0.084298</td>\n",
       "      <td>-0.007432</td>\n",
       "      <td>1.241895</td>\n",
       "      <td>-0.034132</td>\n",
       "      <td>0.022502</td>\n",
       "      <td>-0.566449</td>\n",
       "      <td>0.583137</td>\n",
       "      <td>0.276687</td>\n",
       "      <td>-0.005595</td>\n",
       "      <td>-0.764145</td>\n",
       "      <td>-0.599398</td>\n",
       "      <td>-1.002398</td>\n",
       "      <td>-0.902235</td>\n",
       "      <td>0.000543</td>\n",
       "      <td>1</td>\n",
       "    </tr>\n",
       "    <tr>\n",
       "      <th>13</th>\n",
       "      <td>1.063604</td>\n",
       "      <td>-0.658784</td>\n",
       "      <td>-0.246466</td>\n",
       "      <td>0.083243</td>\n",
       "      <td>1.599032</td>\n",
       "      <td>0.469778</td>\n",
       "      <td>-1.082058</td>\n",
       "      <td>-0.378334</td>\n",
       "      <td>-0.136459</td>\n",
       "      <td>-0.245181</td>\n",
       "      <td>0.148344</td>\n",
       "      <td>-0.633841</td>\n",
       "      <td>-0.914052</td>\n",
       "      <td>-1.454631</td>\n",
       "      <td>-0.173933</td>\n",
       "      <td>1</td>\n",
       "    </tr>\n",
       "    <tr>\n",
       "      <th>26</th>\n",
       "      <td>0.059589</td>\n",
       "      <td>-1.227684</td>\n",
       "      <td>-0.239895</td>\n",
       "      <td>0.450532</td>\n",
       "      <td>-0.584627</td>\n",
       "      <td>-0.945401</td>\n",
       "      <td>-1.297013</td>\n",
       "      <td>1.301371</td>\n",
       "      <td>-0.310257</td>\n",
       "      <td>-2.060586</td>\n",
       "      <td>-1.337901</td>\n",
       "      <td>0.038378</td>\n",
       "      <td>-0.314948</td>\n",
       "      <td>-0.546724</td>\n",
       "      <td>0.425531</td>\n",
       "      <td>1</td>\n",
       "    </tr>\n",
       "    <tr>\n",
       "      <th>...</th>\n",
       "      <td>...</td>\n",
       "      <td>...</td>\n",
       "      <td>...</td>\n",
       "      <td>...</td>\n",
       "      <td>...</td>\n",
       "      <td>...</td>\n",
       "      <td>...</td>\n",
       "      <td>...</td>\n",
       "      <td>...</td>\n",
       "      <td>...</td>\n",
       "      <td>...</td>\n",
       "      <td>...</td>\n",
       "      <td>...</td>\n",
       "      <td>...</td>\n",
       "      <td>...</td>\n",
       "      <td>...</td>\n",
       "    </tr>\n",
       "    <tr>\n",
       "      <th>9347</th>\n",
       "      <td>-0.236982</td>\n",
       "      <td>-0.220310</td>\n",
       "      <td>-0.759061</td>\n",
       "      <td>0.423561</td>\n",
       "      <td>-0.111851</td>\n",
       "      <td>-0.018247</td>\n",
       "      <td>-0.855448</td>\n",
       "      <td>-0.039831</td>\n",
       "      <td>0.705891</td>\n",
       "      <td>-0.787966</td>\n",
       "      <td>0.034041</td>\n",
       "      <td>-0.658152</td>\n",
       "      <td>-0.046181</td>\n",
       "      <td>-0.569668</td>\n",
       "      <td>0.462961</td>\n",
       "      <td>1</td>\n",
       "    </tr>\n",
       "    <tr>\n",
       "      <th>9348</th>\n",
       "      <td>0.287712</td>\n",
       "      <td>-0.629669</td>\n",
       "      <td>-0.517868</td>\n",
       "      <td>1.148785</td>\n",
       "      <td>0.374133</td>\n",
       "      <td>-1.200779</td>\n",
       "      <td>-0.890466</td>\n",
       "      <td>-0.037295</td>\n",
       "      <td>1.113050</td>\n",
       "      <td>-0.247304</td>\n",
       "      <td>0.300192</td>\n",
       "      <td>-1.095296</td>\n",
       "      <td>-1.383915</td>\n",
       "      <td>0.008150</td>\n",
       "      <td>0.313038</td>\n",
       "      <td>1</td>\n",
       "    </tr>\n",
       "    <tr>\n",
       "      <th>9349</th>\n",
       "      <td>0.435490</td>\n",
       "      <td>-0.930899</td>\n",
       "      <td>-0.452073</td>\n",
       "      <td>0.827819</td>\n",
       "      <td>0.460287</td>\n",
       "      <td>-0.376886</td>\n",
       "      <td>-0.837968</td>\n",
       "      <td>-0.351987</td>\n",
       "      <td>-0.779221</td>\n",
       "      <td>-1.034075</td>\n",
       "      <td>-0.438819</td>\n",
       "      <td>-1.994503</td>\n",
       "      <td>-1.401430</td>\n",
       "      <td>-0.119565</td>\n",
       "      <td>0.097246</td>\n",
       "      <td>1</td>\n",
       "    </tr>\n",
       "    <tr>\n",
       "      <th>9350</th>\n",
       "      <td>0.040061</td>\n",
       "      <td>-0.652874</td>\n",
       "      <td>-0.613584</td>\n",
       "      <td>0.557634</td>\n",
       "      <td>-0.128579</td>\n",
       "      <td>-0.201627</td>\n",
       "      <td>-1.086223</td>\n",
       "      <td>0.171734</td>\n",
       "      <td>0.593007</td>\n",
       "      <td>-0.458081</td>\n",
       "      <td>-0.121293</td>\n",
       "      <td>-0.448787</td>\n",
       "      <td>-0.125429</td>\n",
       "      <td>-0.748576</td>\n",
       "      <td>0.058663</td>\n",
       "      <td>1</td>\n",
       "    </tr>\n",
       "    <tr>\n",
       "      <th>9351</th>\n",
       "      <td>0.243432</td>\n",
       "      <td>-0.809141</td>\n",
       "      <td>-0.583476</td>\n",
       "      <td>1.933183</td>\n",
       "      <td>-0.258590</td>\n",
       "      <td>0.688433</td>\n",
       "      <td>-0.882493</td>\n",
       "      <td>-0.009413</td>\n",
       "      <td>0.800611</td>\n",
       "      <td>-1.022148</td>\n",
       "      <td>0.910372</td>\n",
       "      <td>0.906543</td>\n",
       "      <td>-0.726701</td>\n",
       "      <td>-1.341747</td>\n",
       "      <td>-0.443919</td>\n",
       "      <td>1</td>\n",
       "    </tr>\n",
       "  </tbody>\n",
       "</table>\n",
       "<p>2000 rows × 16 columns</p>\n",
       "</div>"
      ],
      "text/plain": [
       "             0         1         2         3         4         5         6  \\\n",
       "ID                                                                           \n",
       "1     0.610926 -0.033076 -0.560991 -0.024154  0.549569 -0.205838 -0.835064   \n",
       "5     0.528000 -0.354342 -0.392159  0.871123  0.113215 -0.329450 -0.937927   \n",
       "12    0.043671 -0.084298 -0.007432  1.241895 -0.034132  0.022502 -0.566449   \n",
       "13    1.063604 -0.658784 -0.246466  0.083243  1.599032  0.469778 -1.082058   \n",
       "26    0.059589 -1.227684 -0.239895  0.450532 -0.584627 -0.945401 -1.297013   \n",
       "...        ...       ...       ...       ...       ...       ...       ...   \n",
       "9347 -0.236982 -0.220310 -0.759061  0.423561 -0.111851 -0.018247 -0.855448   \n",
       "9348  0.287712 -0.629669 -0.517868  1.148785  0.374133 -1.200779 -0.890466   \n",
       "9349  0.435490 -0.930899 -0.452073  0.827819  0.460287 -0.376886 -0.837968   \n",
       "9350  0.040061 -0.652874 -0.613584  0.557634 -0.128579 -0.201627 -1.086223   \n",
       "9351  0.243432 -0.809141 -0.583476  1.933183 -0.258590  0.688433 -0.882493   \n",
       "\n",
       "             7         8         9        10        11        12        13  \\\n",
       "ID                                                                           \n",
       "1    -0.144946  0.297129 -0.394314 -0.094137 -0.215634 -0.954738 -0.810391   \n",
       "5    -0.194318 -0.193804 -0.373432 -0.287409  0.114795 -0.260780  0.347092   \n",
       "12    0.583137  0.276687 -0.005595 -0.764145 -0.599398 -1.002398 -0.902235   \n",
       "13   -0.378334 -0.136459 -0.245181  0.148344 -0.633841 -0.914052 -1.454631   \n",
       "26    1.301371 -0.310257 -2.060586 -1.337901  0.038378 -0.314948 -0.546724   \n",
       "...        ...       ...       ...       ...       ...       ...       ...   \n",
       "9347 -0.039831  0.705891 -0.787966  0.034041 -0.658152 -0.046181 -0.569668   \n",
       "9348 -0.037295  1.113050 -0.247304  0.300192 -1.095296 -1.383915  0.008150   \n",
       "9349 -0.351987 -0.779221 -1.034075 -0.438819 -1.994503 -1.401430 -0.119565   \n",
       "9350  0.171734  0.593007 -0.458081 -0.121293 -0.448787 -0.125429 -0.748576   \n",
       "9351 -0.009413  0.800611 -1.022148  0.910372  0.906543 -0.726701 -1.341747   \n",
       "\n",
       "            14  label  \n",
       "ID                     \n",
       "1     0.284191      1  \n",
       "5     0.232011      1  \n",
       "12    0.000543      1  \n",
       "13   -0.173933      1  \n",
       "26    0.425531      1  \n",
       "...        ...    ...  \n",
       "9347  0.462961      1  \n",
       "9348  0.313038      1  \n",
       "9349  0.097246      1  \n",
       "9350  0.058663      1  \n",
       "9351 -0.443919      1  \n",
       "\n",
       "[2000 rows x 16 columns]"
      ]
     },
     "execution_count": 27,
     "metadata": {},
     "output_type": "execute_result"
    }
   ],
   "source": [
    "df_w2v"
   ]
  },
  {
   "cell_type": "markdown",
   "metadata": {},
   "source": [
    "# Experiment Area"
   ]
  },
  {
   "cell_type": "code",
   "execution_count": null,
   "metadata": {},
   "outputs": [],
   "source": [
    "%lsmagic"
   ]
  },
  {
   "cell_type": "code",
   "execution_count": null,
   "metadata": {},
   "outputs": [],
   "source": [
    "%alias"
   ]
  },
  {
   "cell_type": "code",
   "execution_count": null,
   "metadata": {},
   "outputs": [],
   "source": [
    "%time"
   ]
  },
  {
   "cell_type": "code",
   "execution_count": null,
   "metadata": {},
   "outputs": [],
   "source": [
    "%pwd"
   ]
  },
  {
   "cell_type": "code",
   "execution_count": null,
   "metadata": {},
   "outputs": [],
   "source": [
    "%set_env"
   ]
  },
  {
   "cell_type": "code",
   "execution_count": null,
   "metadata": {},
   "outputs": [],
   "source": [
    "%pip"
   ]
  },
  {
   "cell_type": "code",
   "execution_count": null,
   "metadata": {},
   "outputs": [],
   "source": [
    "!pip list"
   ]
  },
  {
   "cell_type": "code",
   "execution_count": null,
   "metadata": {},
   "outputs": [],
   "source": [
    "!pip wheel pandas"
   ]
  },
  {
   "cell_type": "code",
   "execution_count": null,
   "metadata": {},
   "outputs": [],
   "source": [
    "%env"
   ]
  },
  {
   "cell_type": "code",
   "execution_count": null,
   "metadata": {},
   "outputs": [],
   "source": [
    "%timeit"
   ]
  },
  {
   "cell_type": "code",
   "execution_count": null,
   "metadata": {},
   "outputs": [],
   "source": [
    " %who"
   ]
  },
  {
   "cell_type": "code",
   "execution_count": null,
   "metadata": {},
   "outputs": [],
   "source": [
    "type(embedding_model)"
   ]
  },
  {
   "cell_type": "code",
   "execution_count": null,
   "metadata": {},
   "outputs": [],
   "source": []
  }
 ],
 "metadata": {
  "kernelspec": {
   "display_name": "Python 3.9.7 ('base')",
   "language": "python",
   "name": "python3"
  },
  "language_info": {
   "codemirror_mode": {
    "name": "ipython",
    "version": 3
   },
   "file_extension": ".py",
   "mimetype": "text/x-python",
   "name": "python",
   "nbconvert_exporter": "python",
   "pygments_lexer": "ipython3",
   "version": "3.9.7"
  },
  "vscode": {
   "interpreter": {
    "hash": "9d785f3f579c7eb8deb3f390d635ecfac50be31d8c8ecf5dadb6e3b07ee4bc1d"
   }
  }
 },
 "nbformat": 4,
 "nbformat_minor": 4
}
