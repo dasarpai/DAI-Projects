{
 "cells": [
  {
   "cell_type": "markdown",
   "metadata": {},
   "source": [
    "# Embedding for Language Modeles"
   ]
  },
  {
   "cell_type": "code",
   "execution_count": null,
   "metadata": {},
   "outputs": [],
   "source": [
    "import pandas as pd"
   ]
  },
  {
   "cell_type": "code",
   "execution_count": null,
   "metadata": {},
   "outputs": [],
   "source": [
    "datafolder = r'../../data/processed/'\n",
    "df= pd.read_csv(datafolder+\"Hinglish_SarcasmCSV.csv\")\n",
    "sentences = list(df.sentence)"
   ]
  },
  {
   "cell_type": "code",
   "execution_count": null,
   "metadata": {},
   "outputs": [],
   "source": [
    "#!pip install pytorch\n",
    "\n",
    "!pip install ELMoForManyLangs"
   ]
  },
  {
   "cell_type": "code",
   "execution_count": null,
   "metadata": {},
   "outputs": [],
   "source": [
    "from elmoformanylangs import Embedder"
   ]
  },
  {
   "cell_type": "code",
   "execution_count": null,
   "metadata": {},
   "outputs": [],
   "source": [
    "def sents2elmo(sents, output_layer=-1):\n",
    "class Embedder(model_dir='/path/to/your/model/', batch_size=64):\n",
    "\n",
    "modelpath = r'D:\\18-DS\\data\\Datasets_nlp\\ELMo-Hindi'\n",
    "#/token_embedder.pkl\n",
    "e = Embedder(modelpath)\n",
    "\n",
    "\n",
    "#e = Embedder('/path/to/your/model/')\n",
    "\n",
    "# sents = [['今', '天', '天氣', '真', '好', '阿'],\n",
    "# ['潮水', '退', '了', '就', '知道', '誰', '沒', '穿', '褲子'],\n",
    "#         ['भैया','लोगों','को','कोन','समझाए','तुमने']]\n",
    "\n",
    "#sets = [['भैया','लोगों','को','कोन','समझाए','तुमने'],['शांति','और','दोस्ती','की','मे']]\n",
    "# the list of lists which store the sentences \n",
    "# after segment if necessary.\n",
    "\n",
    "sents = sentences\n",
    "emb= e.sents2elmo(sents)\n",
    "# will return a list of numpy arrays \n",
    "# each with the shape=(seq_len, embedding_size)"
   ]
  },
  {
   "cell_type": "markdown",
   "metadata": {},
   "source": [
    "# Conclusion it is not working for our dataset"
   ]
  },
  {
   "cell_type": "code",
   "execution_count": null,
   "metadata": {},
   "outputs": [],
   "source": []
  }
 ],
 "metadata": {
  "kernelspec": {
   "display_name": "Python 3",
   "language": "python",
   "name": "python3"
  },
  "language_info": {
   "codemirror_mode": {
    "name": "ipython",
    "version": 3
   },
   "file_extension": ".py",
   "mimetype": "text/x-python",
   "name": "python",
   "nbconvert_exporter": "python",
   "pygments_lexer": "ipython3",
   "version": "3.8.3"
  }
 },
 "nbformat": 4,
 "nbformat_minor": 4
}
