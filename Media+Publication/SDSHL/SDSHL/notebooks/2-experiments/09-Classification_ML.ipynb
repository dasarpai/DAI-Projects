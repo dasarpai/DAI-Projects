{
 "cells": [
  {
   "cell_type": "markdown",
   "metadata": {},
   "source": [
    "# Hinglish Sarcasm Detection System"
   ]
  },
  {
   "cell_type": "code",
   "execution_count": null,
   "metadata": {},
   "outputs": [],
   "source": [
    "#!pip install fasttext\n",
    "#!pip install FastText\n",
    "#!pip install imblearn\n",
    "# import fasttext.util\n",
    "# import fasttext\n",
    "# from imblearn import over_sampling\n",
    "# from nltk.tokenize import word_tokenize\n"
   ]
  },
  {
   "cell_type": "code",
   "execution_count": 1,
   "metadata": {},
   "outputs": [],
   "source": [
    "import numpy as np\n",
    "import pandas as pd\n",
    "from timeit import default_timer as timer\n",
    "import itertools\n",
    "\n",
    "#To Try different various hyptermeters\n",
    "from sklearn.model_selection import StratifiedKFold,KFold\n",
    "from sklearn.model_selection import GridSearchCV\n",
    "\n",
    "#Algo to use for modelling\n",
    "from sklearn.linear_model import LogisticRegression\n",
    "import lightgbm as lgbm\n",
    "from sklearn.naive_bayes import GaussianNB\n",
    "from sklearn.svm import SVC\n",
    "from sklearn.ensemble import AdaBoostClassifier,  GradientBoostingClassifier, RandomForestClassifier\n",
    "from sklearn.feature_selection import RFE\n",
    "#from sklearn.tree import DecisionTreeClassifier\n",
    "\n",
    "\n",
    "#To Mearure Performance of Model\n",
    "from sklearn.metrics import f1_score, precision_score, recall_score, roc_auc_score\n",
    "from sklearn.metrics import accuracy_score,classification_report,confusion_matrix\n",
    "import  sklearn.metrics as metrics\n",
    "\n",
    "run_cv=False \n",
    "folds = StratifiedKFold(n_splits=10, shuffle=True, random_state=100)"
   ]
  },
  {
   "cell_type": "markdown",
   "metadata": {},
   "source": [
    "# A- Create Embedding\n",
    "Different embedding are created in different programs"
   ]
  },
  {
   "cell_type": "markdown",
   "metadata": {},
   "source": [
    "# B- Read an Emebedding for Modelling"
   ]
  },
  {
   "cell_type": "code",
   "execution_count": null,
   "metadata": {},
   "outputs": [],
   "source": []
  },
  {
   "cell_type": "code",
   "execution_count": 49,
   "metadata": {},
   "outputs": [],
   "source": [
    "#paths required\n",
    "datafolder_p = r'D:\\18-DS\\github\\SDSHL\\data\\processed'\n",
    "datafolder_e = r'D:\\18-DS\\github\\SDSHL\\data\\external'\n",
    "datafolder_i = r'D:\\18-DS\\github\\SDSHL\\data\\internal'\n",
    "modelfolder  = r'D:\\18-DS\\data\\models'\n",
    "\n",
    "file_train = datafolder_p + r'\\2-train.csv'\n",
    "file_test = datafolder_p + r'\\2-test.csv'\n",
    "\n",
    "embed_name={\n",
    "1: 'tfidf'             ,\n",
    "2: 'word2vec'          ,\n",
    "3: 'bow'               ,\n",
    "4: 'bert_indicnlp'     ,\n",
    "5: 'bert_multiling'    ,\n",
    "6: 'fasttext'          ,\n",
    "7: 'fasttext_indicnlp' ,\n",
    "8: 'fastext_wiki'      ,\n",
    "}\n",
    "\n",
    "#These file names without end train & test and .csv (extention)\n",
    "embed_file={\n",
    "'tfidf'             : r'\\embedding_tfidf.csv',\n",
    "'word2vec'          : r'\\embedding_w2v.csv',\n",
    "'bow'               : r'\\embedding_bow.csv',\n",
    "'bert_indicnlp'     : r'\\embedding_bert768_indicnlp_pretrained.csv',\n",
    "'bert_multiling'    : r'\\embedding_bert768_mbert_pretrained.csv',\n",
    "'fasttext'          : r'\\embedding_ft_local.csv',\n",
    "'fasttext_indicnlp' : r'\\embedding_ft300_indicnlp_pretrained.csv',\n",
    "'fastext_wiki'      : r'\\embedding_ft300_wiki_pretrained.csv'\n",
    "}\n",
    "\n",
    "prediction={}"
   ]
  },
  {
   "cell_type": "markdown",
   "metadata": {},
   "source": [
    "### <font color=red> Choose Embedding Number</font>"
   ]
  },
  {
   "cell_type": "code",
   "execution_count": 66,
   "metadata": {},
   "outputs": [
    {
     "name": "stdout",
     "output_type": "stream",
     "text": [
      "fastext_wiki\n"
     ]
    }
   ],
   "source": [
    "embed_number=8\n",
    "print (embed_name[embed_number])\n",
    "\n",
    "file_data = datafolder_p +  embed_file[ embed_name[embed_number] ]\n",
    "df = pd.read_csv(file_data, index_col=\"ID\")"
   ]
  },
  {
   "cell_type": "markdown",
   "metadata": {},
   "source": [
    "# C- Test Train Split"
   ]
  },
  {
   "cell_type": "code",
   "execution_count": null,
   "metadata": {},
   "outputs": [],
   "source": []
  },
  {
   "cell_type": "code",
   "execution_count": 67,
   "metadata": {},
   "outputs": [
    {
     "name": "stdout",
     "output_type": "stream",
     "text": [
      "(2083, 300) (232, 300) (2083,) (232,)\n"
     ]
    }
   ],
   "source": [
    "#This strategy of test train split is taken to ensure that all embedding has same set of records\n",
    "df_train =  pd.read_csv(file_train, index_col=\"ID\", sep='\\t')\n",
    "df_test  =  pd.read_csv(file_test, index_col=\"ID\", sep='\\t')\n",
    "idx_train = list(df_train.index)\n",
    "idx_test  = list(df_test.index)\n",
    "\n",
    "X_train = df.loc[ idx_train,]\n",
    "X_val  = df.loc[ idx_test,]\n",
    "\n",
    "y_train1 = X_train['label']\n",
    "y_val1   = X_val['label']\n",
    "X_train1 = X_train.drop(columns=['label'])\n",
    "X_val1  = X_val.drop(columns=['label'])\n",
    "\n",
    "print( X_train1.shape, X_val1.shape, y_train1.shape, y_val1.shape)"
   ]
  },
  {
   "cell_type": "markdown",
   "metadata": {},
   "source": [
    "### <font color=red> Oversampling causing index identification problem for predicted records</font>"
   ]
  },
  {
   "cell_type": "code",
   "execution_count": 84,
   "metadata": {},
   "outputs": [
    {
     "data": {
      "text/plain": [
       "'Normal'"
      ]
     },
     "execution_count": 84,
     "metadata": {},
     "output_type": "execute_result"
    }
   ],
   "source": [
    "model_with_data_list=['Normal','RandomOverSampler','Smote','AdaSyn']\n",
    "# option=-1\n",
    "# while not (option>=0 and option<=3):\n",
    "#     i = input('0-Normal, 1-RandomOverSampler, 2-Smote, 3-AdaSyn ')\n",
    "#     try:\n",
    "#         option=int(i)\n",
    "#     except:\n",
    "#         option=-1    \n",
    "\n",
    "option = 0\n",
    "\n",
    "if option==1:\n",
    "    ros = over_sampling.RandomOverSampler(random_state=100)\n",
    "    X_train_ros, y_train_ros       = ros.fit_resample(X_train1, y_train1)\n",
    "    X_val_ros,  y_val_ros        = ros.fit_resample(X_val1, y_val1)\n",
    "elseif option==2:\n",
    "    smt = over_sampling.SMOTE(random_state=100)\n",
    "    X_train_smote, y_train_smote   = smt.fit_resample(X_train1, y_train1)\n",
    "    X_val_smote,  y_val_smote    = smt.fit_resample(X_val1, y_val1)\n",
    "elseif option==3:\n",
    "    ada = over_sampling.ADASYN(random_state=100)\n",
    "    X_train_adasyn, y_train_adasyn = ada.fit_resample(X_train1, y_train1)\n",
    "    X_val_adasyn,  y_val_adasyn  = ada.fit_resample(X_val1, y_val1)"
   ]
  },
  {
   "cell_type": "code",
   "execution_count": 68,
   "metadata": {},
   "outputs": [
    {
     "name": "stdout",
     "output_type": "stream",
     "text": [
      "Oversampling Technique Used: Option 0: Without Oversampling\n",
      "(2083, 300) (232, 300) (2083,) (232,)\n"
     ]
    }
   ],
   "source": [
    "if option==0:\n",
    "    X_train, X_val, y_train, y_val = X_train1, X_val1, y_train1, y_val1\n",
    "elif option==1:\n",
    "    X_train, X_val, y_train, y_val = X_train_ros, X_val_ros, y_train_ros , y_val_ros\n",
    "elif option==2:\n",
    "    X_train, X_val, y_train, y_val = X_train_smote, X_val_smote, y_train_smote , y_val_smote\n",
    "elif option==3:\n",
    "    X_train, X_val, y_train, y_val = X_train_adasyn, X_val_adasyn, y_train_adasyn , y_val_adasyn\n",
    "    \n",
    "print ( 'Oversampling Technique Used:' + model_with_data_list[option])\n",
    "print( X_train.shape, X_val.shape, y_train.shape, y_val.shape)"
   ]
  },
  {
   "cell_type": "markdown",
   "metadata": {},
   "source": [
    "# D- Common Function for Classification Model"
   ]
  },
  {
   "cell_type": "markdown",
   "metadata": {},
   "source": [
    "### Confusion Matrix Plotting"
   ]
  },
  {
   "cell_type": "code",
   "execution_count": 6,
   "metadata": {},
   "outputs": [],
   "source": [
    "import matplotlib.pyplot as plt\n",
    "def plot_confusion_matrix(cm, classes,\n",
    "                          normalize=False,\n",
    "                          title='Confusion matrix',\n",
    "                          cmap=plt.cm.Blues):\n",
    "    \"\"\"\n",
    "    See full source and example: \n",
    "    http://scikit-learn.org/stable/auto_examples/model_selection/plot_confusion_matrix.html\n",
    "    \n",
    "    This function prints and plots the confusion matrix.\n",
    "    Normalization can be applied by setting `normalize=True`.\n",
    "    \"\"\"\n",
    "    plt.imshow(cm, interpolation='nearest', cmap=cmap)\n",
    "    plt.title(title)\n",
    "    plt.colorbar()\n",
    "    tick_marks = np.arange(len(classes))\n",
    "    plt.xticks(tick_marks, classes, rotation=45)\n",
    "    plt.yticks(tick_marks, classes)\n",
    "\n",
    "    if normalize:\n",
    "        cm = cm.astype('float') / cm.sum(axis=1)[:, np.newaxis]\n",
    "        print(\"Normalized confusion matrix\")\n",
    "    else:\n",
    "        print('Confusion matrix, without normalization')\n",
    "\n",
    "    thresh = cm.max() / 2.\n",
    "    for i, j in itertools.product(range(cm.shape[0]), range(cm.shape[1])):\n",
    "        plt.text(j, i, cm[i, j],\n",
    "                 horizontalalignment=\"center\",\n",
    "                 color=\"white\" if cm[i, j] > thresh else \"black\")\n",
    "\n",
    "    plt.tight_layout()\n",
    "    plt.ylabel('True label')\n",
    "    plt.xlabel('Predicted label')"
   ]
  },
  {
   "cell_type": "markdown",
   "metadata": {},
   "source": [
    "### draw_cv_results"
   ]
  },
  {
   "cell_type": "code",
   "execution_count": 7,
   "metadata": {},
   "outputs": [],
   "source": [
    "# Plotting cv results\n",
    "def draw_cv_results(cv_df, param_name, metric_name, title_name, log_true):\n",
    "    plt.figure(figsize=(10,4))\n",
    "    \n",
    "    if log_true:\n",
    "        x_axis= np.log10( list(cv_df[param_name]))\n",
    "        x_axis_title = \"Log Value \"+param_name\n",
    "    else:\n",
    "        x_axis = list(cv_df[param_name])\n",
    "        x_axis_title = param_name\n",
    "        \n",
    "    plt.plot( x_axis, cv_df['mean_train_score'] )\n",
    "    plt.plot( x_axis, cv_df['mean_test_score'] )\n",
    "    plt.xlabel(x_axis_title)\n",
    "    plt.ylabel(metric_name)\n",
    "    plt.title(title_name)\n",
    "    plt.legend(['Train ' + metric_name +' score', 'Test ' +metric_name+' score'], loc='upper left')\n"
   ]
  },
  {
   "cell_type": "markdown",
   "metadata": {},
   "source": [
    "### draw_confusion_matrix"
   ]
  },
  {
   "cell_type": "code",
   "execution_count": 8,
   "metadata": {},
   "outputs": [],
   "source": [
    "# Function to plot the confusion Matrix\n",
    "def draw_confusion_matrix(cm, classes, title='Confusion matrix', cmap=plt.cm.tab10):\n",
    "    \n",
    "    plt.imshow(cm, interpolation='nearest', cmap=cmap)\n",
    "    plt.title(title, fontsize=20)\n",
    "   \n",
    "    tick_marks = np.arange(len(classes))\n",
    "    plt.xticks(tick_marks, classes, rotation=0, fontsize=20)\n",
    "    plt.yticks(tick_marks, classes, fontsize=20)\n",
    "\n",
    "    fmt = 'd' \n",
    "    thresh = cm.max() / 2.\n",
    "    \n",
    "    for i, j in itertools.product(range(cm.shape[0]), range(cm.shape[1])):\n",
    "        plt.fill(j,i,facecolor=\"red\" if cm[i, j] < thresh else \"blue\", edgecolor='b', linewidth=2)\n",
    "        #plt.Rectangle((0, 0), 1, 0, linewidth=1, edgecolor='b', facecolor='none')\n",
    "        \n",
    "        plt.text(j, i, format(cm[i, j], fmt), fontsize=20, weight=\"bold\", \n",
    "                 verticalalignment='center',\n",
    "                 horizontalalignment=\"center\",\n",
    "                 color=\"white\", \n",
    "                 \n",
    "                bbox=dict(facecolor='red', alpha=0.8))\n",
    "\n",
    "    plt.tight_layout()\n",
    "    plt.ylabel('True label',fontsize=18)\n",
    "    plt.xlabel('Predicted label', fontsize=18)"
   ]
  },
  {
   "cell_type": "markdown",
   "metadata": {},
   "source": [
    "### draw_roc"
   ]
  },
  {
   "cell_type": "code",
   "execution_count": 9,
   "metadata": {},
   "outputs": [],
   "source": [
    "class_names=[0,1]\n",
    "\n",
    "def draw_roc( actual, probs, prob_values=True, Threshold_limit=0.4, pred_colname='Unknown' ):\n",
    "  \n",
    "    print (pred_colname)\n",
    "    fpr, tpr, thresholds = metrics.roc_curve( actual, probs,\n",
    "                                          drop_intermediate = False )\n",
    "    \n",
    "    threshold = thresholds[np.argmax(tpr-fpr)]\n",
    "\n",
    "    if prob_values:\n",
    "        pred= probs.map(lambda x: 1 if x > threshold else 0)\n",
    "    else:\n",
    "        pred= probs\n",
    "    \n",
    "    prediction[ pred_colname ] = probs\n",
    "    \n",
    "    auc_score = round( metrics.roc_auc_score( actual, probs) ,2)\n",
    "    \n",
    "    recall    = round( metrics.recall_score(actual,pred),2)\n",
    "    precision = round(metrics.precision_score(actual, pred),2)\n",
    "    accuracy  = round(metrics.accuracy_score(actual,pred),2)\n",
    "    f1= round(metrics.f1_score(actual,pred),2)\n",
    "    \n",
    "\n",
    "    plt.figure(figsize=(20, 5))\n",
    "    plt.subplot(1,2,1)\n",
    "    plt.plot( fpr, tpr, label='ROC curve (area = %0.2f)' % auc_score )\n",
    "    plt.plot([0, 1], [0, 1], 'k--')\n",
    "    plt.xlim([0.0, 1.0])\n",
    "    plt.ylim([0.0, 1.05])\n",
    "    plt.xlabel('False Positive Rate or [1 - True Negative Rate]',fontsize=16)\n",
    "    plt.ylabel('True Positive Rate', fontsize=16)\n",
    "    plt.title('Receiver operating characteristic example',fontsize=20)\n",
    "    plt.legend(loc=\"lower right\")\n",
    "    \n",
    "    plt.subplot(1,2,2)\n",
    "    cm = confusion_matrix(actual, pred)\n",
    "    draw_confusion_matrix(cm,class_names)\n",
    "    plt.show()\n",
    "    \n",
    "    print (\"This Model Result is for \", model_with_data_list[option], \" Data\")\n",
    "    print (\"ROC AUC Score on Test:\",auc_score,\" Threshold:{:.5f}\".format(threshold))\n",
    "    print (\"Accuracy\",accuracy,\"AUC:\",auc_score,\"Recall:\",recall,\"Precision:\",precision,\"F1:\",f1)\n",
    "    return accuracy,auc_score,recall,precision,f1"
   ]
  },
  {
   "cell_type": "markdown",
   "metadata": {},
   "source": [
    "# E- Create Classification Model"
   ]
  },
  {
   "cell_type": "code",
   "execution_count": 10,
   "metadata": {},
   "outputs": [
    {
     "name": "stdout",
     "output_type": "stream",
     "text": [
      "(2083, 15) (232, 15) (2083,) (232,)\n"
     ]
    }
   ],
   "source": [
    "print( X_train.shape, X_val.shape, y_train.shape, y_val.shape)"
   ]
  },
  {
   "cell_type": "markdown",
   "metadata": {},
   "source": [
    "## 1- LogisticRegression Model"
   ]
  },
  {
   "cell_type": "code",
   "execution_count": null,
   "metadata": {},
   "outputs": [],
   "source": [
    "run_cv=False\n",
    "X_train.shape,y_train.shape"
   ]
  },
  {
   "cell_type": "code",
   "execution_count": null,
   "metadata": {},
   "outputs": [],
   "source": [
    "# Cross validation using different values of C. Let's check which value of C gives best result\n",
    "start=timer()\n",
    "if run_cv:\n",
    "    hyper_params = [{'C': [0.001, 0.01, 0.1, 1, 10, 100, 1000] }]\n",
    "\n",
    "    lr = LogisticRegression(max_iter=1000, random_state=100)\n",
    "    lr.fit(X_train, y_train)      \n",
    "\n",
    "    model_cv_logistic = GridSearchCV(estimator=lr, param_grid=hyper_params, \\\n",
    "                            cv=folds, scoring=\"roc_auc\", return_train_score=True, verbose=True)\n",
    "    model_cv_logistic.fit(X_train,  y_train)\n",
    "\n",
    "    cv_results_lr = pd.DataFrame(model_cv_logistic.cv_results_)\n",
    "    print(cv_results_lr)\n",
    "    \n",
    "end = timer()\n",
    "print(\"Duration \",end - start)"
   ]
  },
  {
   "cell_type": "code",
   "execution_count": null,
   "metadata": {},
   "outputs": [],
   "source": []
  },
  {
   "cell_type": "code",
   "execution_count": null,
   "metadata": {},
   "outputs": [],
   "source": [
    "if run_cv:\n",
    "    draw_cv_results(cv_results_lr, 'param_C', 'ROC AUC', 'Optimal C', True)\n",
    "    \n",
    "if run_cv:\n",
    "    model_cv_logistic.best_estimator_"
   ]
  },
  {
   "cell_type": "code",
   "execution_count": null,
   "metadata": {},
   "outputs": [],
   "source": []
  },
  {
   "cell_type": "code",
   "execution_count": 11,
   "metadata": {},
   "outputs": [],
   "source": [
    "def process_model_LR(pred_colname):\n",
    "#     #There are 29 variables in X_train. Let's see can we manage good result with lessor variables.\n",
    "#     if option==0 or option==1:\n",
    "#         lr = LogisticRegression(C=.1,max_iter=1000, random_state=100) #Value of C & max_iter from earlier steps #for normal\n",
    "#     elif option==2:\n",
    "#         lr = LogisticRegression(C=10,max_iter=1000, random_state=100) #Value of C & max_iter from earlier steps #for smote\n",
    "#     else:\n",
    "#         lr = LogisticRegression(C=100,max_iter=1000, random_state=100) #Value of C & max_iter from earlier steps #for adasyn\n",
    "#     rfe = RFE(lr,15) #Identify top 15 important variables\n",
    "#     rfe.fit(X_train,y_train)\n",
    "#     useful_cols = X_train.columns[rfe.support_]\n",
    "#     #print (\"Useful Columns: \" ,useful_cols)\n",
    "\n",
    "\n",
    "#     #Hyperparameter Turning of LogisticRegression\n",
    "#     #Train the model with only 15 variables (identified in earlier step)\n",
    "\n",
    "#     X_train_= X_train[useful_cols]\n",
    "#     X_val_ = X_val[useful_cols]\n",
    "    \n",
    "    lr = LogisticRegression(C=.01,max_iter=1000, random_state=100)\n",
    "    print(X_train.shape, y_train.shape)\n",
    "    lr.fit(X_train,y_train)\n",
    "\n",
    "    y_val_pred_logistic = lr.predict_proba(X_val)\n",
    "    y_val_pred_logistic = pd.DataFrame({'Class':y_val.values, 'Class_Prob':y_val_pred_logistic[:,1:2].reshape(-1) })\n",
    "\n",
    "    #check ROC_AUC Score on Test\n",
    "    logistic_acc, logistic_auc_val, logistic_recall_val, logistic_precision_val, logistic_f1_val = \\\n",
    "                            draw_roc(y_val_pred_logistic.Class, y_val_pred_logistic.Class_Prob, True, 0.4, pred_colname)\n"
   ]
  },
  {
   "cell_type": "code",
   "execution_count": null,
   "metadata": {},
   "outputs": [],
   "source": []
  },
  {
   "cell_type": "code",
   "execution_count": null,
   "metadata": {},
   "outputs": [],
   "source": [
    "process_model_LR( embed_name[embed_number]+'_LR')"
   ]
  },
  {
   "cell_type": "markdown",
   "metadata": {},
   "source": [
    "## 2- Light GradientBoost Classifier"
   ]
  },
  {
   "cell_type": "code",
   "execution_count": null,
   "metadata": {},
   "outputs": [],
   "source": [
    "# Cross validation using different values of n_estimators.\n",
    "start=timer()\n",
    "if run_cv:\n",
    "    hyper_params=[{  'n_estimators': range(10,110,10)  }]\n",
    "\n",
    "    lgbm_clf = lgbm.LGBMClassifier(random_state=100)\n",
    "    model_cv_lgbm = GridSearchCV(estimator=lgbm_clf, param_grid=hyper_params,\n",
    "                            cv=folds, scoring=\"roc_auc\", return_train_score=True, verbose=True)\n",
    "    model_cv_lgbm.fit(X_train,  y_train)\n",
    "\n",
    "    cv_results_lbgm = pd.DataFrame(model_cv_lgbm.cv_results_)\n",
    "    cv_results_lbgm.sort_values('rank_test_score')\n",
    "\n",
    "end = timer()\n",
    "print(\"Duration \",end - start)"
   ]
  },
  {
   "cell_type": "code",
   "execution_count": null,
   "metadata": {},
   "outputs": [],
   "source": [
    "if run_cv:\n",
    "    draw_cv_results(cv_results_lbgm, 'param_n_estimators', 'ROC AUC', 'Optimal n_estimator', False)"
   ]
  },
  {
   "cell_type": "code",
   "execution_count": null,
   "metadata": {},
   "outputs": [],
   "source": [
    "if run_cv:\n",
    "    print(model_cv_lgbm.best_estimator_)"
   ]
  },
  {
   "cell_type": "code",
   "execution_count": null,
   "metadata": {},
   "outputs": [],
   "source": [
    "#!pip install lightgbm "
   ]
  },
  {
   "cell_type": "code",
   "execution_count": 12,
   "metadata": {},
   "outputs": [],
   "source": [
    "def process_model_LGBM(pred_colname):\n",
    "#Hyperparamter Tuning\n",
    "    #lgbmc = lgbm.LGBMClassifier(n_estimators=100, random_state = 42)\n",
    "    lgbmc = lgbm.LGBMClassifier(colsample_bytree=1.0,\n",
    "                   importance_type='split', learning_rate=0.1, max_depth=-1,\n",
    "                   min_child_samples=20, min_child_weight=0.001, min_split_gain=0.0,\n",
    "                   n_estimators=100, n_jobs=-1, num_leaves=31, objective=None,\n",
    "                   random_state=100, reg_alpha=0.0, reg_lambda=0.0, silent=True,\n",
    "                   subsample=1.0, subsample_for_bin=200000, subsample_freq=0)\n",
    "\n",
    "    lgbmc.fit(X_train, y_train) \n",
    "\n",
    "    y_val_pred_lgbmc = lgbmc.predict_proba(X_val)[:,1:2].reshape(-1)\n",
    "    y_val_pred_lgbmc = pd.DataFrame({'Class':y_val.values, 'Class_Prob':y_val_pred_lgbmc  }) #.reshape(-1)\n",
    "\n",
    "    lgbmc_accuracy_val, lgbmc_auc_val, lgbmc_recall_val, lgbmc_precision_val, lgbmc_f1_val = \\\n",
    "                            draw_roc(y_val_pred_lgbmc.Class, y_val_pred_lgbmc.Class_Prob,True,.5,pred_colname)"
   ]
  },
  {
   "cell_type": "code",
   "execution_count": null,
   "metadata": {},
   "outputs": [],
   "source": []
  },
  {
   "cell_type": "code",
   "execution_count": null,
   "metadata": {},
   "outputs": [],
   "source": [
    "process_model_LGBM( embed_name[embed_number]+'_LGBM')"
   ]
  },
  {
   "cell_type": "markdown",
   "metadata": {},
   "source": [
    "## 3-Naive Bayesian Model"
   ]
  },
  {
   "cell_type": "code",
   "execution_count": 13,
   "metadata": {},
   "outputs": [],
   "source": [
    "def process_model_NB(pred_colname):\n",
    "    #Hyperparamter Tuning\n",
    "    #lgbmc = lgbm.LGBMClassifier(n_estimators=100, random_state = 42)\n",
    "    nb = GaussianNB()\n",
    "\n",
    "    nb.fit(X_train, y_train) \n",
    "\n",
    "    y_val_pred_nb = nb.predict_proba(X_val)[:,1:2].reshape(-1)\n",
    "    y_val_pred_nb = pd.DataFrame({'Class':y_val.values, 'Class_Prob':y_val_pred_nb  }) #.reshape(-1)\n",
    "\n",
    "    nb_accuracy_val, nb_auc_val, nb_recall_val, nb_precision_val, nb_f1_val = \\\n",
    "                            draw_roc(y_val_pred_nb.Class, y_val_pred_nb.Class_Prob,True,.5,pred_colname)"
   ]
  },
  {
   "cell_type": "code",
   "execution_count": null,
   "metadata": {},
   "outputs": [],
   "source": []
  },
  {
   "cell_type": "code",
   "execution_count": null,
   "metadata": {},
   "outputs": [],
   "source": [
    "process_model_NB( embed_name[embed_number]+'_LB')"
   ]
  },
  {
   "cell_type": "markdown",
   "metadata": {},
   "source": [
    "## 4-GradientBoosting Model"
   ]
  },
  {
   "cell_type": "code",
   "execution_count": null,
   "metadata": {},
   "outputs": [],
   "source": [
    "# Cross validation using different values of n_estimators.\n",
    "start=timer()\n",
    "if run_cv:\n",
    "    hyper_params=[{  'n_estimators': range(10,110,10)  }]\n",
    "\n",
    "    gbc = GradientBoostingClassifier(random_state=100)\n",
    "    model_cv_gbc = GridSearchCV(estimator=gbc, param_grid=hyper_params,\n",
    "                            cv=folds, scoring=\"roc_auc\", return_train_score=True, verbose=True)\n",
    "    model_cv_gbc.fit(X_train,  y_train)\n",
    "\n",
    "    cv_results_gbc = pd.DataFrame(model_cv_gbc.cv_results_)\n",
    "    cv_results_gbc.sort_values('rank_test_score')\n",
    "\n",
    "end = timer()\n",
    "print(\"Duration \",end - start)"
   ]
  },
  {
   "cell_type": "code",
   "execution_count": null,
   "metadata": {},
   "outputs": [],
   "source": [
    "if run_cv:\n",
    "    draw_cv_results(cv_results_gbc, 'param_n_estimators', 'ROC AUC', 'Optimal n_estimator', False)"
   ]
  },
  {
   "cell_type": "code",
   "execution_count": null,
   "metadata": {},
   "outputs": [],
   "source": []
  },
  {
   "cell_type": "code",
   "execution_count": null,
   "metadata": {},
   "outputs": [],
   "source": [
    "if run_cv:\n",
    "    print(model_cv_gbc.best_estimator_)"
   ]
  },
  {
   "cell_type": "code",
   "execution_count": 14,
   "metadata": {},
   "outputs": [],
   "source": [
    "def process_model_GBC(pred_colname):\n",
    "    gbc = GradientBoostingClassifier() \n",
    "\n",
    "\n",
    "    #Hyperparamter Tuning\n",
    "    #gbc = GradientBoostingClassifier( random_state=100)\n",
    "    gbc = GradientBoostingClassifier(ccp_alpha=0.0, criterion='friedman_mse', init=None,\n",
    "                               learning_rate=0.1, loss='deviance', max_depth=3,\n",
    "                               max_features=None, max_leaf_nodes=None,\n",
    "                               min_impurity_decrease=0.0, min_impurity_split=None,\n",
    "                               min_samples_leaf=1, min_samples_split=2,\n",
    "                               min_weight_fraction_leaf=0.0, n_estimators=100,\n",
    "                               n_iter_no_change=None, presort='deprecated',\n",
    "                               random_state=100, subsample=1.0, tol=0.0001,\n",
    "                               validation_fraction=0.1, verbose=0,\n",
    "                               warm_start=False)\n",
    "\n",
    "    gbc.fit(X_train, y_train) \n",
    "\n",
    "    y_val_pred_gbc = gbc.predict_proba(X_val)[:,1:2].reshape(-1)\n",
    "    y_val_pred_gbc = pd.DataFrame({'Class':y_val.values, 'Class_Prob':y_val_pred_gbc  }) #.reshape(-1)\n",
    "\n",
    "    gbc_accuracy_val, gbc_auc_val, gbc_recall_val, gbc_precision_val, gbc_f1_val = \\\n",
    "                            draw_roc(y_val_pred_gbc.Class, y_val_pred_gbc.Class_Prob,True, .5, pred_colname)"
   ]
  },
  {
   "cell_type": "code",
   "execution_count": null,
   "metadata": {},
   "outputs": [],
   "source": [
    "process_model_GBC( embed_name[embed_number]+'_GBC')"
   ]
  },
  {
   "cell_type": "markdown",
   "metadata": {},
   "source": [
    "## 5-RandomForest Model"
   ]
  },
  {
   "cell_type": "code",
   "execution_count": 15,
   "metadata": {},
   "outputs": [],
   "source": [
    "def process_model_RFC(pred_colname):\n",
    "    rfc = RandomForestClassifier() \n",
    "\n",
    "    #Hyperparamter Tuning\n",
    "    rfc = RandomForestClassifier( random_state=100)\n",
    "    rfc.fit(X_train, y_train) \n",
    "\n",
    "    y_val_pred_rfc = rfc.predict_proba(X_val)[:,1:2].reshape(-1)\n",
    "    y_val_pred_rfc = pd.DataFrame({'Class':y_val.values, 'Class_Prob':y_val_pred_rfc  }) #.reshape(-1)\n",
    "\n",
    "    rfc_accuracy_val, rfc_auc_val, rfc_recall_val, rfc_precision_val, rfc_f1_val = \\\n",
    "                            draw_roc(y_val_pred_rfc.Class, y_val_pred_rfc.Class_Prob,True,.5, pred_colname)"
   ]
  },
  {
   "cell_type": "code",
   "execution_count": null,
   "metadata": {},
   "outputs": [],
   "source": [
    "process_model_RFC( embed_name[embed_number]+'_RFC')"
   ]
  },
  {
   "cell_type": "markdown",
   "metadata": {},
   "source": [
    "## 6-AdaBoost Model"
   ]
  },
  {
   "cell_type": "code",
   "execution_count": 16,
   "metadata": {},
   "outputs": [],
   "source": [
    "def process_model_ADB(pred_colname):\n",
    "\n",
    "    #Hyperparamter Tuning\n",
    "    adbc = AdaBoostClassifier( random_state=100)\n",
    "    adbc.fit(X_train, y_train) \n",
    "\n",
    "    y_val_pred_adbc = adbc.predict_proba(X_val)[:,1:2].reshape(-1)\n",
    "    y_val_pred_adbc = pd.DataFrame({'Class':y_val.values, 'Class_Prob':y_val_pred_adbc  }) #.reshape(-1)\n",
    "\n",
    "    adbc_accuracy_val, adbc_auc_val, adbc_recall_val, adbc_precision_val, adbc_f1_val = \\\n",
    "                            draw_roc(y_val_pred_adbc.Class, y_val_pred_adbc.Class_Prob,True,.5,pred_colname)"
   ]
  },
  {
   "cell_type": "code",
   "execution_count": null,
   "metadata": {},
   "outputs": [],
   "source": [
    "process_model_ADB( embed_name[embed_number]+'_ADB')"
   ]
  },
  {
   "cell_type": "markdown",
   "metadata": {},
   "source": [
    "## 7-SVC Model"
   ]
  },
  {
   "cell_type": "code",
   "execution_count": 17,
   "metadata": {},
   "outputs": [],
   "source": [
    "def process_model_SVC(pred_colname):\n",
    "    svc = SVC()\n",
    "\n",
    "    #Hyperparamter Tuning\n",
    "    svc = SVC( random_state=100, probability=True)\n",
    "    svc.fit(X_train, y_train) \n",
    "\n",
    "    y_val_pred_svc = svc.predict_proba(X_val)[:,1:2].reshape(-1)\n",
    "    y_val_pred_svc = pd.DataFrame({'Class':y_val.values, 'Class_Prob':y_val_pred_svc  }) #.reshape(-1)\n",
    "\n",
    "    svc_accuracy_val, svc_auc_val, svc_recall_val, svc_precision_val, svc_f1_val = \\\n",
    "                            draw_roc(y_val_pred_svc.Class, y_val_pred_svc.Class_Prob,True, .5, pred_colname)"
   ]
  },
  {
   "cell_type": "code",
   "execution_count": null,
   "metadata": {},
   "outputs": [],
   "source": [
    "process_model_SVC( embed_name[embed_number]+'_SVC')"
   ]
  },
  {
   "cell_type": "markdown",
   "metadata": {},
   "source": [
    "# <font color=red> Process All Models </font>"
   ]
  },
  {
   "cell_type": "code",
   "execution_count": 69,
   "metadata": {},
   "outputs": [
    {
     "name": "stdout",
     "output_type": "stream",
     "text": [
      "(2083, 300) (2083,)\n",
      "fastext_wiki_LR\n"
     ]
    },
    {
     "data": {
      "image/png": "[encoded data removed]",
      "text/plain": [
       "<Figure size 1440x360 with 2 Axes>"
      ]
     },
     "metadata": {
      "needs_background": "light"
     },
     "output_type": "display_data"
    },
    {
     "name": "stdout",
     "output_type": "stream",
     "text": [
      "This Model Result is for  Normal  Data\n",
      "ROC AUC Score on Test: 0.75  Threshold:0.34412\n",
      "Accuracy 0.65 AUC: 0.75 Recall: 0.88 Precision: 0.52 F1: 0.65\n",
      "fastext_wiki_LGBM\n"
     ]
    },
    {
     "data": {
      "image/png": "[encoded data removed]",
      "text/plain": [
       "<Figure size 1440x360 with 2 Axes>"
      ]
     },
     "metadata": {
      "needs_background": "light"
     },
     "output_type": "display_data"
    },
    {
     "name": "stdout",
     "output_type": "stream",
     "text": [
      "This Model Result is for  Normal  Data\n",
      "ROC AUC Score on Test: 0.76  Threshold:0.06920\n",
      "Accuracy 0.7 AUC: 0.76 Recall: 0.78 Precision: 0.57 F1: 0.66\n",
      "fastext_wiki_NB\n"
     ]
    },
    {
     "data": {
      "image/png": "[encoded data removed]",
      "text/plain": [
       "<Figure size 1440x360 with 2 Axes>"
      ]
     },
     "metadata": {
      "needs_background": "light"
     },
     "output_type": "display_data"
    },
    {
     "name": "stdout",
     "output_type": "stream",
     "text": [
      "This Model Result is for  Normal  Data\n",
      "ROC AUC Score on Test: 0.75  Threshold:0.00763\n",
      "Accuracy 0.7 AUC: 0.75 Recall: 0.81 Precision: 0.57 F1: 0.67\n",
      "fastext_wiki_SVC\n"
     ]
    },
    {
     "data": {
      "image/png": "[encoded data removed]",
      "text/plain": [
       "<Figure size 1440x360 with 2 Axes>"
      ]
     },
     "metadata": {
      "needs_background": "light"
     },
     "output_type": "display_data"
    },
    {
     "name": "stdout",
     "output_type": "stream",
     "text": [
      "This Model Result is for  Normal  Data\n",
      "ROC AUC Score on Test: 0.76  Threshold:0.07539\n",
      "Accuracy 0.66 AUC: 0.76 Recall: 0.83 Precision: 0.53 F1: 0.65\n",
      "fastext_wiki_ADB\n"
     ]
    },
    {
     "data": {
      "image/png": "[encoded data removed]",
      "text/plain": [
       "<Figure size 1440x360 with 2 Axes>"
      ]
     },
     "metadata": {
      "needs_background": "light"
     },
     "output_type": "display_data"
    },
    {
     "name": "stdout",
     "output_type": "stream",
     "text": [
      "This Model Result is for  Normal  Data\n",
      "ROC AUC Score on Test: 0.74  Threshold:0.47934\n",
      "Accuracy 0.66 AUC: 0.74 Recall: 0.85 Precision: 0.52 F1: 0.65\n",
      "fastext_wiki_GBC\n"
     ]
    },
    {
     "data": {
      "image/png": "[encoded data removed]",
      "text/plain": [
       "<Figure size 1440x360 with 2 Axes>"
      ]
     },
     "metadata": {
      "needs_background": "light"
     },
     "output_type": "display_data"
    },
    {
     "name": "stdout",
     "output_type": "stream",
     "text": [
      "This Model Result is for  Normal  Data\n",
      "ROC AUC Score on Test: 0.76  Threshold:0.21680\n",
      "Accuracy 0.7 AUC: 0.76 Recall: 0.74 Precision: 0.57 F1: 0.65\n",
      "fastext_wiki_RFC\n"
     ]
    },
    {
     "data": {
      "image/png": "[encoded data removed]",
      "text/plain": [
       "<Figure size 1440x360 with 2 Axes>"
      ]
     },
     "metadata": {
      "needs_background": "light"
     },
     "output_type": "display_data"
    },
    {
     "name": "stdout",
     "output_type": "stream",
     "text": [
      "This Model Result is for  Normal  Data\n",
      "ROC AUC Score on Test: 0.74  Threshold:0.39000\n",
      "Accuracy 0.69 AUC: 0.74 Recall: 0.65 Precision: 0.57 F1: 0.61\n"
     ]
    }
   ],
   "source": [
    "process_model_LR( embed_name[embed_number]+'_LR')\n",
    "process_model_LGBM( embed_name[embed_number]+'_LGBM')\n",
    "process_model_NB( embed_name[embed_number]+'_NB')\n",
    "process_model_SVC( embed_name[embed_number]+'_SVC')\n",
    "process_model_ADB( embed_name[embed_number]+'_ADB')\n",
    "process_model_GBC( embed_name[embed_number]+'_GBC')\n",
    "process_model_RFC( embed_name[embed_number]+'_RFC')"
   ]
  },
  {
   "cell_type": "code",
   "execution_count": null,
   "metadata": {},
   "outputs": [],
   "source": []
  },
  {
   "cell_type": "code",
   "execution_count": 70,
   "metadata": {},
   "outputs": [],
   "source": [
    "df_prediction = pd.DataFrame(prediction)\n",
    "#df_prediction.shape\n",
    "df_prediction = df_prediction.set_index(X_val.index)\n",
    "df_prediction['label'] = y_val\n",
    "#y_val"
   ]
  },
  {
   "cell_type": "code",
   "execution_count": 71,
   "metadata": {},
   "outputs": [],
   "source": [
    "df_prediction.to_csv(datafolder_p + r'\\model_predictions_'+model_with_data_list[0]+'.csv', sep=\"\\t\")"
   ]
  },
  {
   "cell_type": "code",
   "execution_count": 72,
   "metadata": {},
   "outputs": [
    {
     "data": {
      "text/html": [
       "<div>\n",
       "<style scoped>\n",
       "    .dataframe tbody tr th:only-of-type {\n",
       "        vertical-align: middle;\n",
       "    }\n",
       "\n",
       "    .dataframe tbody tr th {\n",
       "        vertical-align: top;\n",
       "    }\n",
       "\n",
       "    .dataframe thead th {\n",
       "        text-align: right;\n",
       "    }\n",
       "</style>\n",
       "<table border=\"1\" class=\"dataframe\">\n",
       "  <thead>\n",
       "    <tr style=\"text-align: right;\">\n",
       "      <th></th>\n",
       "      <th>tfidf_LR</th>\n",
       "      <th>tfidf_LGBM</th>\n",
       "      <th>tfidf_NB</th>\n",
       "      <th>tfidf_SVC</th>\n",
       "      <th>tfidf_ADB</th>\n",
       "      <th>tfidf_GBC</th>\n",
       "      <th>tfidf_RFC</th>\n",
       "      <th>word2vec_LR</th>\n",
       "      <th>word2vec_LGBM</th>\n",
       "      <th>word2vec_NB</th>\n",
       "      <th>...</th>\n",
       "      <th>fasttext_indicnlp_GBC</th>\n",
       "      <th>fasttext_indicnlp_RFC</th>\n",
       "      <th>fastext_wiki_LR</th>\n",
       "      <th>fastext_wiki_LGBM</th>\n",
       "      <th>fastext_wiki_NB</th>\n",
       "      <th>fastext_wiki_SVC</th>\n",
       "      <th>fastext_wiki_ADB</th>\n",
       "      <th>fastext_wiki_GBC</th>\n",
       "      <th>fastext_wiki_RFC</th>\n",
       "      <th>label</th>\n",
       "    </tr>\n",
       "    <tr>\n",
       "      <th>ID</th>\n",
       "      <th></th>\n",
       "      <th></th>\n",
       "      <th></th>\n",
       "      <th></th>\n",
       "      <th></th>\n",
       "      <th></th>\n",
       "      <th></th>\n",
       "      <th></th>\n",
       "      <th></th>\n",
       "      <th></th>\n",
       "      <th></th>\n",
       "      <th></th>\n",
       "      <th></th>\n",
       "      <th></th>\n",
       "      <th></th>\n",
       "      <th></th>\n",
       "      <th></th>\n",
       "      <th></th>\n",
       "      <th></th>\n",
       "      <th></th>\n",
       "      <th></th>\n",
       "    </tr>\n",
       "  </thead>\n",
       "  <tbody>\n",
       "    <tr>\n",
       "      <th>5673</th>\n",
       "      <td>0.370863</td>\n",
       "      <td>0.347355</td>\n",
       "      <td>0.207820</td>\n",
       "      <td>0.405578</td>\n",
       "      <td>0.508991</td>\n",
       "      <td>0.819995</td>\n",
       "      <td>0.47</td>\n",
       "      <td>0.269828</td>\n",
       "      <td>0.090677</td>\n",
       "      <td>0.399866</td>\n",
       "      <td>...</td>\n",
       "      <td>0.036022</td>\n",
       "      <td>0.15</td>\n",
       "      <td>0.287408</td>\n",
       "      <td>0.004159</td>\n",
       "      <td>3.953982e-31</td>\n",
       "      <td>0.010474</td>\n",
       "      <td>0.426969</td>\n",
       "      <td>0.037505</td>\n",
       "      <td>0.23</td>\n",
       "      <td>0</td>\n",
       "    </tr>\n",
       "    <tr>\n",
       "      <th>6034</th>\n",
       "      <td>0.360636</td>\n",
       "      <td>0.475587</td>\n",
       "      <td>0.103582</td>\n",
       "      <td>0.380381</td>\n",
       "      <td>0.495742</td>\n",
       "      <td>0.574792</td>\n",
       "      <td>0.42</td>\n",
       "      <td>0.301897</td>\n",
       "      <td>0.177571</td>\n",
       "      <td>0.401967</td>\n",
       "      <td>...</td>\n",
       "      <td>0.079750</td>\n",
       "      <td>0.22</td>\n",
       "      <td>0.302914</td>\n",
       "      <td>0.002783</td>\n",
       "      <td>4.853890e-23</td>\n",
       "      <td>0.005371</td>\n",
       "      <td>0.452769</td>\n",
       "      <td>0.020732</td>\n",
       "      <td>0.21</td>\n",
       "      <td>0</td>\n",
       "    </tr>\n",
       "    <tr>\n",
       "      <th>81</th>\n",
       "      <td>0.367120</td>\n",
       "      <td>0.262047</td>\n",
       "      <td>0.327713</td>\n",
       "      <td>0.335283</td>\n",
       "      <td>0.495345</td>\n",
       "      <td>0.414293</td>\n",
       "      <td>0.31</td>\n",
       "      <td>0.326833</td>\n",
       "      <td>0.217676</td>\n",
       "      <td>0.000016</td>\n",
       "      <td>...</td>\n",
       "      <td>0.904780</td>\n",
       "      <td>0.59</td>\n",
       "      <td>0.393457</td>\n",
       "      <td>0.062523</td>\n",
       "      <td>1.066054e-13</td>\n",
       "      <td>0.146710</td>\n",
       "      <td>0.494194</td>\n",
       "      <td>0.279452</td>\n",
       "      <td>0.35</td>\n",
       "      <td>0</td>\n",
       "    </tr>\n",
       "    <tr>\n",
       "      <th>2554</th>\n",
       "      <td>0.357199</td>\n",
       "      <td>0.123473</td>\n",
       "      <td>0.078301</td>\n",
       "      <td>0.369529</td>\n",
       "      <td>0.499464</td>\n",
       "      <td>0.481535</td>\n",
       "      <td>0.31</td>\n",
       "      <td>0.221807</td>\n",
       "      <td>0.027685</td>\n",
       "      <td>0.067445</td>\n",
       "      <td>...</td>\n",
       "      <td>0.003965</td>\n",
       "      <td>0.05</td>\n",
       "      <td>0.230754</td>\n",
       "      <td>0.000162</td>\n",
       "      <td>2.602910e-37</td>\n",
       "      <td>0.000028</td>\n",
       "      <td>0.425867</td>\n",
       "      <td>0.002986</td>\n",
       "      <td>0.03</td>\n",
       "      <td>0</td>\n",
       "    </tr>\n",
       "    <tr>\n",
       "      <th>2784</th>\n",
       "      <td>0.373346</td>\n",
       "      <td>0.385736</td>\n",
       "      <td>0.431804</td>\n",
       "      <td>0.415590</td>\n",
       "      <td>0.496688</td>\n",
       "      <td>0.409598</td>\n",
       "      <td>0.49</td>\n",
       "      <td>0.295592</td>\n",
       "      <td>0.069086</td>\n",
       "      <td>0.535445</td>\n",
       "      <td>...</td>\n",
       "      <td>0.055741</td>\n",
       "      <td>0.22</td>\n",
       "      <td>0.326163</td>\n",
       "      <td>0.001300</td>\n",
       "      <td>1.036924e-09</td>\n",
       "      <td>0.026609</td>\n",
       "      <td>0.476663</td>\n",
       "      <td>0.030728</td>\n",
       "      <td>0.13</td>\n",
       "      <td>0</td>\n",
       "    </tr>\n",
       "    <tr>\n",
       "      <th>...</th>\n",
       "      <td>...</td>\n",
       "      <td>...</td>\n",
       "      <td>...</td>\n",
       "      <td>...</td>\n",
       "      <td>...</td>\n",
       "      <td>...</td>\n",
       "      <td>...</td>\n",
       "      <td>...</td>\n",
       "      <td>...</td>\n",
       "      <td>...</td>\n",
       "      <td>...</td>\n",
       "      <td>...</td>\n",
       "      <td>...</td>\n",
       "      <td>...</td>\n",
       "      <td>...</td>\n",
       "      <td>...</td>\n",
       "      <td>...</td>\n",
       "      <td>...</td>\n",
       "      <td>...</td>\n",
       "      <td>...</td>\n",
       "      <td>...</td>\n",
       "    </tr>\n",
       "    <tr>\n",
       "      <th>8779</th>\n",
       "      <td>0.363162</td>\n",
       "      <td>0.122906</td>\n",
       "      <td>0.199241</td>\n",
       "      <td>0.338171</td>\n",
       "      <td>0.495147</td>\n",
       "      <td>0.253858</td>\n",
       "      <td>0.22</td>\n",
       "      <td>0.314509</td>\n",
       "      <td>0.193663</td>\n",
       "      <td>0.012609</td>\n",
       "      <td>...</td>\n",
       "      <td>0.726900</td>\n",
       "      <td>0.38</td>\n",
       "      <td>0.324444</td>\n",
       "      <td>0.021595</td>\n",
       "      <td>5.237976e-14</td>\n",
       "      <td>0.006201</td>\n",
       "      <td>0.470826</td>\n",
       "      <td>0.065137</td>\n",
       "      <td>0.33</td>\n",
       "      <td>0</td>\n",
       "    </tr>\n",
       "    <tr>\n",
       "      <th>8866</th>\n",
       "      <td>0.376158</td>\n",
       "      <td>0.519512</td>\n",
       "      <td>0.587946</td>\n",
       "      <td>0.524961</td>\n",
       "      <td>0.493384</td>\n",
       "      <td>0.459416</td>\n",
       "      <td>0.56</td>\n",
       "      <td>0.428664</td>\n",
       "      <td>0.387553</td>\n",
       "      <td>0.076685</td>\n",
       "      <td>...</td>\n",
       "      <td>0.941318</td>\n",
       "      <td>0.72</td>\n",
       "      <td>0.481311</td>\n",
       "      <td>0.986924</td>\n",
       "      <td>1.000000e+00</td>\n",
       "      <td>0.999984</td>\n",
       "      <td>0.537673</td>\n",
       "      <td>0.958809</td>\n",
       "      <td>0.71</td>\n",
       "      <td>1</td>\n",
       "    </tr>\n",
       "    <tr>\n",
       "      <th>6478</th>\n",
       "      <td>0.377467</td>\n",
       "      <td>0.155748</td>\n",
       "      <td>0.772926</td>\n",
       "      <td>0.434591</td>\n",
       "      <td>0.496287</td>\n",
       "      <td>0.688201</td>\n",
       "      <td>0.44</td>\n",
       "      <td>0.388742</td>\n",
       "      <td>0.543689</td>\n",
       "      <td>0.717763</td>\n",
       "      <td>...</td>\n",
       "      <td>0.034392</td>\n",
       "      <td>0.08</td>\n",
       "      <td>0.316524</td>\n",
       "      <td>0.000826</td>\n",
       "      <td>1.253839e-06</td>\n",
       "      <td>0.005065</td>\n",
       "      <td>0.450825</td>\n",
       "      <td>0.013137</td>\n",
       "      <td>0.12</td>\n",
       "      <td>0</td>\n",
       "    </tr>\n",
       "    <tr>\n",
       "      <th>5250</th>\n",
       "      <td>0.368522</td>\n",
       "      <td>0.178134</td>\n",
       "      <td>0.295756</td>\n",
       "      <td>0.338990</td>\n",
       "      <td>0.497506</td>\n",
       "      <td>0.263355</td>\n",
       "      <td>0.32</td>\n",
       "      <td>0.227383</td>\n",
       "      <td>0.020951</td>\n",
       "      <td>0.003739</td>\n",
       "      <td>...</td>\n",
       "      <td>0.007470</td>\n",
       "      <td>0.07</td>\n",
       "      <td>0.272834</td>\n",
       "      <td>0.001126</td>\n",
       "      <td>1.371563e-35</td>\n",
       "      <td>0.000536</td>\n",
       "      <td>0.423433</td>\n",
       "      <td>0.007123</td>\n",
       "      <td>0.08</td>\n",
       "      <td>0</td>\n",
       "    </tr>\n",
       "    <tr>\n",
       "      <th>8373</th>\n",
       "      <td>0.365411</td>\n",
       "      <td>0.177042</td>\n",
       "      <td>0.207089</td>\n",
       "      <td>0.355656</td>\n",
       "      <td>0.493697</td>\n",
       "      <td>0.344204</td>\n",
       "      <td>0.44</td>\n",
       "      <td>0.463165</td>\n",
       "      <td>0.449614</td>\n",
       "      <td>0.001564</td>\n",
       "      <td>...</td>\n",
       "      <td>0.052860</td>\n",
       "      <td>0.41</td>\n",
       "      <td>0.392969</td>\n",
       "      <td>0.068436</td>\n",
       "      <td>1.008549e-14</td>\n",
       "      <td>0.284383</td>\n",
       "      <td>0.514509</td>\n",
       "      <td>0.379993</td>\n",
       "      <td>0.30</td>\n",
       "      <td>0</td>\n",
       "    </tr>\n",
       "  </tbody>\n",
       "</table>\n",
       "<p>232 rows × 57 columns</p>\n",
       "</div>"
      ],
      "text/plain": [
       "      tfidf_LR  tfidf_LGBM  tfidf_NB  tfidf_SVC  tfidf_ADB  tfidf_GBC  \\\n",
       "ID                                                                      \n",
       "5673  0.370863    0.347355  0.207820   0.405578   0.508991   0.819995   \n",
       "6034  0.360636    0.475587  0.103582   0.380381   0.495742   0.574792   \n",
       "81    0.367120    0.262047  0.327713   0.335283   0.495345   0.414293   \n",
       "2554  0.357199    0.123473  0.078301   0.369529   0.499464   0.481535   \n",
       "2784  0.373346    0.385736  0.431804   0.415590   0.496688   0.409598   \n",
       "...        ...         ...       ...        ...        ...        ...   \n",
       "8779  0.363162    0.122906  0.199241   0.338171   0.495147   0.253858   \n",
       "8866  0.376158    0.519512  0.587946   0.524961   0.493384   0.459416   \n",
       "6478  0.377467    0.155748  0.772926   0.434591   0.496287   0.688201   \n",
       "5250  0.368522    0.178134  0.295756   0.338990   0.497506   0.263355   \n",
       "8373  0.365411    0.177042  0.207089   0.355656   0.493697   0.344204   \n",
       "\n",
       "      tfidf_RFC  word2vec_LR  word2vec_LGBM  word2vec_NB  ...  \\\n",
       "ID                                                        ...   \n",
       "5673       0.47     0.269828       0.090677     0.399866  ...   \n",
       "6034       0.42     0.301897       0.177571     0.401967  ...   \n",
       "81         0.31     0.326833       0.217676     0.000016  ...   \n",
       "2554       0.31     0.221807       0.027685     0.067445  ...   \n",
       "2784       0.49     0.295592       0.069086     0.535445  ...   \n",
       "...         ...          ...            ...          ...  ...   \n",
       "8779       0.22     0.314509       0.193663     0.012609  ...   \n",
       "8866       0.56     0.428664       0.387553     0.076685  ...   \n",
       "6478       0.44     0.388742       0.543689     0.717763  ...   \n",
       "5250       0.32     0.227383       0.020951     0.003739  ...   \n",
       "8373       0.44     0.463165       0.449614     0.001564  ...   \n",
       "\n",
       "      fasttext_indicnlp_GBC  fasttext_indicnlp_RFC  fastext_wiki_LR  \\\n",
       "ID                                                                    \n",
       "5673               0.036022                   0.15         0.287408   \n",
       "6034               0.079750                   0.22         0.302914   \n",
       "81                 0.904780                   0.59         0.393457   \n",
       "2554               0.003965                   0.05         0.230754   \n",
       "2784               0.055741                   0.22         0.326163   \n",
       "...                     ...                    ...              ...   \n",
       "8779               0.726900                   0.38         0.324444   \n",
       "8866               0.941318                   0.72         0.481311   \n",
       "6478               0.034392                   0.08         0.316524   \n",
       "5250               0.007470                   0.07         0.272834   \n",
       "8373               0.052860                   0.41         0.392969   \n",
       "\n",
       "      fastext_wiki_LGBM  fastext_wiki_NB  fastext_wiki_SVC  fastext_wiki_ADB  \\\n",
       "ID                                                                             \n",
       "5673           0.004159     3.953982e-31          0.010474          0.426969   \n",
       "6034           0.002783     4.853890e-23          0.005371          0.452769   \n",
       "81             0.062523     1.066054e-13          0.146710          0.494194   \n",
       "2554           0.000162     2.602910e-37          0.000028          0.425867   \n",
       "2784           0.001300     1.036924e-09          0.026609          0.476663   \n",
       "...                 ...              ...               ...               ...   \n",
       "8779           0.021595     5.237976e-14          0.006201          0.470826   \n",
       "8866           0.986924     1.000000e+00          0.999984          0.537673   \n",
       "6478           0.000826     1.253839e-06          0.005065          0.450825   \n",
       "5250           0.001126     1.371563e-35          0.000536          0.423433   \n",
       "8373           0.068436     1.008549e-14          0.284383          0.514509   \n",
       "\n",
       "      fastext_wiki_GBC  fastext_wiki_RFC  label  \n",
       "ID                                               \n",
       "5673          0.037505              0.23      0  \n",
       "6034          0.020732              0.21      0  \n",
       "81            0.279452              0.35      0  \n",
       "2554          0.002986              0.03      0  \n",
       "2784          0.030728              0.13      0  \n",
       "...                ...               ...    ...  \n",
       "8779          0.065137              0.33      0  \n",
       "8866          0.958809              0.71      1  \n",
       "6478          0.013137              0.12      0  \n",
       "5250          0.007123              0.08      0  \n",
       "8373          0.379993              0.30      0  \n",
       "\n",
       "[232 rows x 57 columns]"
      ]
     },
     "execution_count": 72,
     "metadata": {},
     "output_type": "execute_result"
    }
   ],
   "source": [
    "df_prediction"
   ]
  },
  {
   "cell_type": "code",
   "execution_count": 3,
   "metadata": {},
   "outputs": [],
   "source": [
    "#df_prediction.shape[1]-1"
   ]
  },
  {
   "cell_type": "code",
   "execution_count": 80,
   "metadata": {},
   "outputs": [
    {
     "data": {
      "text/plain": [
       "56"
      ]
     },
     "execution_count": 80,
     "metadata": {},
     "output_type": "execute_result"
    }
   ],
   "source": [
    "tot_models"
   ]
  },
  {
   "cell_type": "code",
   "execution_count": 81,
   "metadata": {},
   "outputs": [
    {
     "name": "stderr",
     "output_type": "stream",
     "text": [
      "D:\\Users\\admin\\anaconda3\\lib\\site-packages\\sklearn\\metrics\\_classification.py:1221: UndefinedMetricWarning: Precision is ill-defined and being set to 0.0 due to no predicted samples. Use `zero_division` parameter to control this behavior.\n",
      "  _warn_prf(average, modifier, msg_start, len(result))\n",
      "D:\\Users\\admin\\anaconda3\\lib\\site-packages\\sklearn\\metrics\\_classification.py:1221: UndefinedMetricWarning: Precision is ill-defined and being set to 0.0 due to no predicted samples. Use `zero_division` parameter to control this behavior.\n",
      "  _warn_prf(average, modifier, msg_start, len(result))\n"
     ]
    }
   ],
   "source": [
    "tot_models=df_prediction.shape[1]-1\n",
    "results = np.zeros( (tot_models,5) )\n",
    "\n",
    "threshold= 0.5\n",
    "final_label = lambda x: 1 if x>threshold else 0\n",
    "\n",
    "y_act= df_prediction.iloc[:, tot_models]\n",
    "model_name=[]\n",
    "for i in range(tot_models):\n",
    "    model_name.append( df_prediction.columns[i])\n",
    "    y_pre= df_prediction.iloc[:,i].apply(final_label)\n",
    "    \n",
    "    results[i][0] = np.round( metrics.accuracy_score(y_act,y_pre), 2)\n",
    "    results[i][1] = np.round( metrics.recall_score(y_act,y_pre), 2)\n",
    "    results[i][2] = np.round( metrics.precision_score(y_act,y_pre), 2)\n",
    "    results[i][3] = np.round( metrics.f1_score(y_act,y_pre), 2)\n",
    "    results[i][4] = np.round( metrics.roc_auc_score(y_act,y_pre), 2)"
   ]
  },
  {
   "cell_type": "code",
   "execution_count": null,
   "metadata": {},
   "outputs": [],
   "source": []
  },
  {
   "cell_type": "code",
   "execution_count": 82,
   "metadata": {},
   "outputs": [],
   "source": [
    "results1 = pd.DataFrame(results,columns=['Accuracy','Recall','Precision','F1','AUC'], index=model_name)"
   ]
  },
  {
   "cell_type": "code",
   "execution_count": 83,
   "metadata": {},
   "outputs": [
    {
     "data": {
      "text/html": [
       "<div>\n",
       "<style scoped>\n",
       "    .dataframe tbody tr th:only-of-type {\n",
       "        vertical-align: middle;\n",
       "    }\n",
       "\n",
       "    .dataframe tbody tr th {\n",
       "        vertical-align: top;\n",
       "    }\n",
       "\n",
       "    .dataframe thead th {\n",
       "        text-align: right;\n",
       "    }\n",
       "</style>\n",
       "<table border=\"1\" class=\"dataframe\">\n",
       "  <thead>\n",
       "    <tr style=\"text-align: right;\">\n",
       "      <th></th>\n",
       "      <th>Accuracy</th>\n",
       "      <th>Recall</th>\n",
       "      <th>Precision</th>\n",
       "      <th>F1</th>\n",
       "      <th>AUC</th>\n",
       "    </tr>\n",
       "  </thead>\n",
       "  <tbody>\n",
       "    <tr>\n",
       "      <th>tfidf_LR</th>\n",
       "      <td>0.63</td>\n",
       "      <td>0.00</td>\n",
       "      <td>0.00</td>\n",
       "      <td>0.00</td>\n",
       "      <td>0.50</td>\n",
       "    </tr>\n",
       "    <tr>\n",
       "      <th>tfidf_LGBM</th>\n",
       "      <td>0.62</td>\n",
       "      <td>0.30</td>\n",
       "      <td>0.49</td>\n",
       "      <td>0.37</td>\n",
       "      <td>0.56</td>\n",
       "    </tr>\n",
       "    <tr>\n",
       "      <th>tfidf_NB</th>\n",
       "      <td>0.64</td>\n",
       "      <td>0.16</td>\n",
       "      <td>0.56</td>\n",
       "      <td>0.25</td>\n",
       "      <td>0.54</td>\n",
       "    </tr>\n",
       "    <tr>\n",
       "      <th>tfidf_SVC</th>\n",
       "      <td>0.64</td>\n",
       "      <td>0.03</td>\n",
       "      <td>0.75</td>\n",
       "      <td>0.07</td>\n",
       "      <td>0.51</td>\n",
       "    </tr>\n",
       "    <tr>\n",
       "      <th>tfidf_ADB</th>\n",
       "      <td>0.62</td>\n",
       "      <td>0.20</td>\n",
       "      <td>0.49</td>\n",
       "      <td>0.28</td>\n",
       "      <td>0.54</td>\n",
       "    </tr>\n",
       "    <tr>\n",
       "      <th>tfidf_GBC</th>\n",
       "      <td>0.61</td>\n",
       "      <td>0.14</td>\n",
       "      <td>0.43</td>\n",
       "      <td>0.21</td>\n",
       "      <td>0.51</td>\n",
       "    </tr>\n",
       "    <tr>\n",
       "      <th>tfidf_RFC</th>\n",
       "      <td>0.63</td>\n",
       "      <td>0.21</td>\n",
       "      <td>0.50</td>\n",
       "      <td>0.30</td>\n",
       "      <td>0.54</td>\n",
       "    </tr>\n",
       "    <tr>\n",
       "      <th>word2vec_LR</th>\n",
       "      <td>0.65</td>\n",
       "      <td>0.12</td>\n",
       "      <td>0.62</td>\n",
       "      <td>0.20</td>\n",
       "      <td>0.54</td>\n",
       "    </tr>\n",
       "    <tr>\n",
       "      <th>word2vec_LGBM</th>\n",
       "      <td>0.69</td>\n",
       "      <td>0.51</td>\n",
       "      <td>0.59</td>\n",
       "      <td>0.55</td>\n",
       "      <td>0.65</td>\n",
       "    </tr>\n",
       "    <tr>\n",
       "      <th>word2vec_NB</th>\n",
       "      <td>0.60</td>\n",
       "      <td>0.69</td>\n",
       "      <td>0.47</td>\n",
       "      <td>0.56</td>\n",
       "      <td>0.62</td>\n",
       "    </tr>\n",
       "    <tr>\n",
       "      <th>word2vec_SVC</th>\n",
       "      <td>0.70</td>\n",
       "      <td>0.43</td>\n",
       "      <td>0.64</td>\n",
       "      <td>0.51</td>\n",
       "      <td>0.64</td>\n",
       "    </tr>\n",
       "    <tr>\n",
       "      <th>word2vec_ADB</th>\n",
       "      <td>0.64</td>\n",
       "      <td>0.43</td>\n",
       "      <td>0.52</td>\n",
       "      <td>0.47</td>\n",
       "      <td>0.60</td>\n",
       "    </tr>\n",
       "    <tr>\n",
       "      <th>word2vec_GBC</th>\n",
       "      <td>0.67</td>\n",
       "      <td>0.48</td>\n",
       "      <td>0.57</td>\n",
       "      <td>0.52</td>\n",
       "      <td>0.63</td>\n",
       "    </tr>\n",
       "    <tr>\n",
       "      <th>word2vec_RFC</th>\n",
       "      <td>0.69</td>\n",
       "      <td>0.42</td>\n",
       "      <td>0.62</td>\n",
       "      <td>0.50</td>\n",
       "      <td>0.63</td>\n",
       "    </tr>\n",
       "    <tr>\n",
       "      <th>bert_indicnlp_LR</th>\n",
       "      <td>0.63</td>\n",
       "      <td>0.00</td>\n",
       "      <td>0.00</td>\n",
       "      <td>0.00</td>\n",
       "      <td>0.50</td>\n",
       "    </tr>\n",
       "    <tr>\n",
       "      <th>bert_indicnlp_LGBM</th>\n",
       "      <td>0.64</td>\n",
       "      <td>0.40</td>\n",
       "      <td>0.52</td>\n",
       "      <td>0.45</td>\n",
       "      <td>0.59</td>\n",
       "    </tr>\n",
       "    <tr>\n",
       "      <th>bert_indicnlp_NB</th>\n",
       "      <td>0.59</td>\n",
       "      <td>0.69</td>\n",
       "      <td>0.47</td>\n",
       "      <td>0.56</td>\n",
       "      <td>0.61</td>\n",
       "    </tr>\n",
       "    <tr>\n",
       "      <th>bert_indicnlp_SVC</th>\n",
       "      <td>0.65</td>\n",
       "      <td>0.40</td>\n",
       "      <td>0.54</td>\n",
       "      <td>0.46</td>\n",
       "      <td>0.60</td>\n",
       "    </tr>\n",
       "    <tr>\n",
       "      <th>bert_indicnlp_ADB</th>\n",
       "      <td>0.66</td>\n",
       "      <td>0.50</td>\n",
       "      <td>0.55</td>\n",
       "      <td>0.52</td>\n",
       "      <td>0.63</td>\n",
       "    </tr>\n",
       "    <tr>\n",
       "      <th>bert_indicnlp_GBC</th>\n",
       "      <td>0.65</td>\n",
       "      <td>0.40</td>\n",
       "      <td>0.54</td>\n",
       "      <td>0.46</td>\n",
       "      <td>0.60</td>\n",
       "    </tr>\n",
       "    <tr>\n",
       "      <th>bert_indicnlp_RFC</th>\n",
       "      <td>0.64</td>\n",
       "      <td>0.23</td>\n",
       "      <td>0.54</td>\n",
       "      <td>0.33</td>\n",
       "      <td>0.56</td>\n",
       "    </tr>\n",
       "    <tr>\n",
       "      <th>bert_multiling_LR</th>\n",
       "      <td>0.63</td>\n",
       "      <td>0.07</td>\n",
       "      <td>0.55</td>\n",
       "      <td>0.12</td>\n",
       "      <td>0.52</td>\n",
       "    </tr>\n",
       "    <tr>\n",
       "      <th>bert_multiling_LGBM</th>\n",
       "      <td>0.64</td>\n",
       "      <td>0.36</td>\n",
       "      <td>0.53</td>\n",
       "      <td>0.43</td>\n",
       "      <td>0.58</td>\n",
       "    </tr>\n",
       "    <tr>\n",
       "      <th>bert_multiling_NB</th>\n",
       "      <td>0.56</td>\n",
       "      <td>0.74</td>\n",
       "      <td>0.44</td>\n",
       "      <td>0.56</td>\n",
       "      <td>0.60</td>\n",
       "    </tr>\n",
       "    <tr>\n",
       "      <th>bert_multiling_SVC</th>\n",
       "      <td>0.65</td>\n",
       "      <td>0.37</td>\n",
       "      <td>0.54</td>\n",
       "      <td>0.44</td>\n",
       "      <td>0.59</td>\n",
       "    </tr>\n",
       "    <tr>\n",
       "      <th>bert_multiling_ADB</th>\n",
       "      <td>0.62</td>\n",
       "      <td>0.43</td>\n",
       "      <td>0.48</td>\n",
       "      <td>0.45</td>\n",
       "      <td>0.58</td>\n",
       "    </tr>\n",
       "    <tr>\n",
       "      <th>bert_multiling_GBC</th>\n",
       "      <td>0.62</td>\n",
       "      <td>0.28</td>\n",
       "      <td>0.49</td>\n",
       "      <td>0.36</td>\n",
       "      <td>0.55</td>\n",
       "    </tr>\n",
       "    <tr>\n",
       "      <th>bert_multiling_RFC</th>\n",
       "      <td>0.63</td>\n",
       "      <td>0.12</td>\n",
       "      <td>0.50</td>\n",
       "      <td>0.19</td>\n",
       "      <td>0.52</td>\n",
       "    </tr>\n",
       "    <tr>\n",
       "      <th>bow_LR</th>\n",
       "      <td>0.64</td>\n",
       "      <td>0.03</td>\n",
       "      <td>1.00</td>\n",
       "      <td>0.07</td>\n",
       "      <td>0.52</td>\n",
       "    </tr>\n",
       "    <tr>\n",
       "      <th>bow_LGBM</th>\n",
       "      <td>0.63</td>\n",
       "      <td>0.29</td>\n",
       "      <td>0.50</td>\n",
       "      <td>0.37</td>\n",
       "      <td>0.56</td>\n",
       "    </tr>\n",
       "    <tr>\n",
       "      <th>bow_NB</th>\n",
       "      <td>0.60</td>\n",
       "      <td>0.19</td>\n",
       "      <td>0.41</td>\n",
       "      <td>0.26</td>\n",
       "      <td>0.51</td>\n",
       "    </tr>\n",
       "    <tr>\n",
       "      <th>bow_SVC</th>\n",
       "      <td>0.63</td>\n",
       "      <td>0.03</td>\n",
       "      <td>0.60</td>\n",
       "      <td>0.07</td>\n",
       "      <td>0.51</td>\n",
       "    </tr>\n",
       "    <tr>\n",
       "      <th>bow_ADB</th>\n",
       "      <td>0.65</td>\n",
       "      <td>0.28</td>\n",
       "      <td>0.55</td>\n",
       "      <td>0.37</td>\n",
       "      <td>0.57</td>\n",
       "    </tr>\n",
       "    <tr>\n",
       "      <th>bow_GBC</th>\n",
       "      <td>0.63</td>\n",
       "      <td>0.22</td>\n",
       "      <td>0.50</td>\n",
       "      <td>0.31</td>\n",
       "      <td>0.55</td>\n",
       "    </tr>\n",
       "    <tr>\n",
       "      <th>bow_RFC</th>\n",
       "      <td>0.63</td>\n",
       "      <td>0.24</td>\n",
       "      <td>0.51</td>\n",
       "      <td>0.33</td>\n",
       "      <td>0.55</td>\n",
       "    </tr>\n",
       "    <tr>\n",
       "      <th>fasttext_LR</th>\n",
       "      <td>0.62</td>\n",
       "      <td>0.01</td>\n",
       "      <td>0.33</td>\n",
       "      <td>0.02</td>\n",
       "      <td>0.50</td>\n",
       "    </tr>\n",
       "    <tr>\n",
       "      <th>fasttext_LGBM</th>\n",
       "      <td>0.68</td>\n",
       "      <td>0.60</td>\n",
       "      <td>0.57</td>\n",
       "      <td>0.58</td>\n",
       "      <td>0.67</td>\n",
       "    </tr>\n",
       "    <tr>\n",
       "      <th>fasttext_NB</th>\n",
       "      <td>0.39</td>\n",
       "      <td>0.97</td>\n",
       "      <td>0.37</td>\n",
       "      <td>0.54</td>\n",
       "      <td>0.51</td>\n",
       "    </tr>\n",
       "    <tr>\n",
       "      <th>fasttext_SVC</th>\n",
       "      <td>0.70</td>\n",
       "      <td>0.42</td>\n",
       "      <td>0.65</td>\n",
       "      <td>0.51</td>\n",
       "      <td>0.64</td>\n",
       "    </tr>\n",
       "    <tr>\n",
       "      <th>fasttext_ADB</th>\n",
       "      <td>0.62</td>\n",
       "      <td>0.51</td>\n",
       "      <td>0.49</td>\n",
       "      <td>0.50</td>\n",
       "      <td>0.60</td>\n",
       "    </tr>\n",
       "    <tr>\n",
       "      <th>fasttext_GBC</th>\n",
       "      <td>0.64</td>\n",
       "      <td>0.47</td>\n",
       "      <td>0.52</td>\n",
       "      <td>0.49</td>\n",
       "      <td>0.61</td>\n",
       "    </tr>\n",
       "    <tr>\n",
       "      <th>fasttext_RFC</th>\n",
       "      <td>0.67</td>\n",
       "      <td>0.47</td>\n",
       "      <td>0.57</td>\n",
       "      <td>0.51</td>\n",
       "      <td>0.63</td>\n",
       "    </tr>\n",
       "    <tr>\n",
       "      <th>fasttext_indicnlp_LR</th>\n",
       "      <td>0.65</td>\n",
       "      <td>0.09</td>\n",
       "      <td>0.67</td>\n",
       "      <td>0.16</td>\n",
       "      <td>0.53</td>\n",
       "    </tr>\n",
       "    <tr>\n",
       "      <th>fasttext_indicnlp_LGBM</th>\n",
       "      <td>0.69</td>\n",
       "      <td>0.55</td>\n",
       "      <td>0.59</td>\n",
       "      <td>0.57</td>\n",
       "      <td>0.66</td>\n",
       "    </tr>\n",
       "    <tr>\n",
       "      <th>fasttext_indicnlp_NB</th>\n",
       "      <td>0.69</td>\n",
       "      <td>0.74</td>\n",
       "      <td>0.56</td>\n",
       "      <td>0.64</td>\n",
       "      <td>0.70</td>\n",
       "    </tr>\n",
       "    <tr>\n",
       "      <th>fasttext_indicnlp_SVC</th>\n",
       "      <td>0.72</td>\n",
       "      <td>0.62</td>\n",
       "      <td>0.62</td>\n",
       "      <td>0.62</td>\n",
       "      <td>0.70</td>\n",
       "    </tr>\n",
       "    <tr>\n",
       "      <th>fasttext_indicnlp_ADB</th>\n",
       "      <td>0.71</td>\n",
       "      <td>0.60</td>\n",
       "      <td>0.60</td>\n",
       "      <td>0.60</td>\n",
       "      <td>0.69</td>\n",
       "    </tr>\n",
       "    <tr>\n",
       "      <th>fasttext_indicnlp_GBC</th>\n",
       "      <td>0.70</td>\n",
       "      <td>0.57</td>\n",
       "      <td>0.60</td>\n",
       "      <td>0.58</td>\n",
       "      <td>0.67</td>\n",
       "    </tr>\n",
       "    <tr>\n",
       "      <th>fasttext_indicnlp_RFC</th>\n",
       "      <td>0.69</td>\n",
       "      <td>0.49</td>\n",
       "      <td>0.60</td>\n",
       "      <td>0.54</td>\n",
       "      <td>0.65</td>\n",
       "    </tr>\n",
       "    <tr>\n",
       "      <th>fastext_wiki_LR</th>\n",
       "      <td>0.63</td>\n",
       "      <td>0.06</td>\n",
       "      <td>0.56</td>\n",
       "      <td>0.11</td>\n",
       "      <td>0.52</td>\n",
       "    </tr>\n",
       "    <tr>\n",
       "      <th>fastext_wiki_LGBM</th>\n",
       "      <td>0.70</td>\n",
       "      <td>0.55</td>\n",
       "      <td>0.60</td>\n",
       "      <td>0.57</td>\n",
       "      <td>0.67</td>\n",
       "    </tr>\n",
       "    <tr>\n",
       "      <th>fastext_wiki_NB</th>\n",
       "      <td>0.70</td>\n",
       "      <td>0.77</td>\n",
       "      <td>0.57</td>\n",
       "      <td>0.65</td>\n",
       "      <td>0.71</td>\n",
       "    </tr>\n",
       "    <tr>\n",
       "      <th>fastext_wiki_SVC</th>\n",
       "      <td>0.72</td>\n",
       "      <td>0.58</td>\n",
       "      <td>0.62</td>\n",
       "      <td>0.60</td>\n",
       "      <td>0.69</td>\n",
       "    </tr>\n",
       "    <tr>\n",
       "      <th>fastext_wiki_ADB</th>\n",
       "      <td>0.68</td>\n",
       "      <td>0.58</td>\n",
       "      <td>0.56</td>\n",
       "      <td>0.57</td>\n",
       "      <td>0.66</td>\n",
       "    </tr>\n",
       "    <tr>\n",
       "      <th>fastext_wiki_GBC</th>\n",
       "      <td>0.72</td>\n",
       "      <td>0.58</td>\n",
       "      <td>0.62</td>\n",
       "      <td>0.60</td>\n",
       "      <td>0.69</td>\n",
       "    </tr>\n",
       "    <tr>\n",
       "      <th>fastext_wiki_RFC</th>\n",
       "      <td>0.69</td>\n",
       "      <td>0.47</td>\n",
       "      <td>0.62</td>\n",
       "      <td>0.53</td>\n",
       "      <td>0.65</td>\n",
       "    </tr>\n",
       "  </tbody>\n",
       "</table>\n",
       "</div>"
      ],
      "text/plain": [
       "                        Accuracy  Recall  Precision    F1   AUC\n",
       "tfidf_LR                    0.63    0.00       0.00  0.00  0.50\n",
       "tfidf_LGBM                  0.62    0.30       0.49  0.37  0.56\n",
       "tfidf_NB                    0.64    0.16       0.56  0.25  0.54\n",
       "tfidf_SVC                   0.64    0.03       0.75  0.07  0.51\n",
       "tfidf_ADB                   0.62    0.20       0.49  0.28  0.54\n",
       "tfidf_GBC                   0.61    0.14       0.43  0.21  0.51\n",
       "tfidf_RFC                   0.63    0.21       0.50  0.30  0.54\n",
       "word2vec_LR                 0.65    0.12       0.62  0.20  0.54\n",
       "word2vec_LGBM               0.69    0.51       0.59  0.55  0.65\n",
       "word2vec_NB                 0.60    0.69       0.47  0.56  0.62\n",
       "word2vec_SVC                0.70    0.43       0.64  0.51  0.64\n",
       "word2vec_ADB                0.64    0.43       0.52  0.47  0.60\n",
       "word2vec_GBC                0.67    0.48       0.57  0.52  0.63\n",
       "word2vec_RFC                0.69    0.42       0.62  0.50  0.63\n",
       "bert_indicnlp_LR            0.63    0.00       0.00  0.00  0.50\n",
       "bert_indicnlp_LGBM          0.64    0.40       0.52  0.45  0.59\n",
       "bert_indicnlp_NB            0.59    0.69       0.47  0.56  0.61\n",
       "bert_indicnlp_SVC           0.65    0.40       0.54  0.46  0.60\n",
       "bert_indicnlp_ADB           0.66    0.50       0.55  0.52  0.63\n",
       "bert_indicnlp_GBC           0.65    0.40       0.54  0.46  0.60\n",
       "bert_indicnlp_RFC           0.64    0.23       0.54  0.33  0.56\n",
       "bert_multiling_LR           0.63    0.07       0.55  0.12  0.52\n",
       "bert_multiling_LGBM         0.64    0.36       0.53  0.43  0.58\n",
       "bert_multiling_NB           0.56    0.74       0.44  0.56  0.60\n",
       "bert_multiling_SVC          0.65    0.37       0.54  0.44  0.59\n",
       "bert_multiling_ADB          0.62    0.43       0.48  0.45  0.58\n",
       "bert_multiling_GBC          0.62    0.28       0.49  0.36  0.55\n",
       "bert_multiling_RFC          0.63    0.12       0.50  0.19  0.52\n",
       "bow_LR                      0.64    0.03       1.00  0.07  0.52\n",
       "bow_LGBM                    0.63    0.29       0.50  0.37  0.56\n",
       "bow_NB                      0.60    0.19       0.41  0.26  0.51\n",
       "bow_SVC                     0.63    0.03       0.60  0.07  0.51\n",
       "bow_ADB                     0.65    0.28       0.55  0.37  0.57\n",
       "bow_GBC                     0.63    0.22       0.50  0.31  0.55\n",
       "bow_RFC                     0.63    0.24       0.51  0.33  0.55\n",
       "fasttext_LR                 0.62    0.01       0.33  0.02  0.50\n",
       "fasttext_LGBM               0.68    0.60       0.57  0.58  0.67\n",
       "fasttext_NB                 0.39    0.97       0.37  0.54  0.51\n",
       "fasttext_SVC                0.70    0.42       0.65  0.51  0.64\n",
       "fasttext_ADB                0.62    0.51       0.49  0.50  0.60\n",
       "fasttext_GBC                0.64    0.47       0.52  0.49  0.61\n",
       "fasttext_RFC                0.67    0.47       0.57  0.51  0.63\n",
       "fasttext_indicnlp_LR        0.65    0.09       0.67  0.16  0.53\n",
       "fasttext_indicnlp_LGBM      0.69    0.55       0.59  0.57  0.66\n",
       "fasttext_indicnlp_NB        0.69    0.74       0.56  0.64  0.70\n",
       "fasttext_indicnlp_SVC       0.72    0.62       0.62  0.62  0.70\n",
       "fasttext_indicnlp_ADB       0.71    0.60       0.60  0.60  0.69\n",
       "fasttext_indicnlp_GBC       0.70    0.57       0.60  0.58  0.67\n",
       "fasttext_indicnlp_RFC       0.69    0.49       0.60  0.54  0.65\n",
       "fastext_wiki_LR             0.63    0.06       0.56  0.11  0.52\n",
       "fastext_wiki_LGBM           0.70    0.55       0.60  0.57  0.67\n",
       "fastext_wiki_NB             0.70    0.77       0.57  0.65  0.71\n",
       "fastext_wiki_SVC            0.72    0.58       0.62  0.60  0.69\n",
       "fastext_wiki_ADB            0.68    0.58       0.56  0.57  0.66\n",
       "fastext_wiki_GBC            0.72    0.58       0.62  0.60  0.69\n",
       "fastext_wiki_RFC            0.69    0.47       0.62  0.53  0.65"
      ]
     },
     "execution_count": 83,
     "metadata": {},
     "output_type": "execute_result"
    }
   ],
   "source": [
    "results1.to_csv(datafolder_p + r'\\model_results_'+model_with_data_list[0]+'.csv', sep=\"\\t\")\n",
    "results1"
   ]
  },
  {
   "cell_type": "code",
   "execution_count": null,
   "metadata": {},
   "outputs": [],
   "source": []
  },
  {
   "cell_type": "code",
   "execution_count": null,
   "metadata": {},
   "outputs": [],
   "source": []
  }
 ],
 "metadata": {
  "kernelspec": {
   "display_name": "Python 3",
   "language": "python",
   "name": "python3"
  },
  "language_info": {
   "codemirror_mode": {
    "name": "ipython",
    "version": 3
   },
   "file_extension": ".py",
   "mimetype": "text/x-python",
   "name": "python",
   "nbconvert_exporter": "python",
   "pygments_lexer": "ipython3",
   "version": "3.8.3"
  }
 },
 "nbformat": 4,
 "nbformat_minor": 2
}
