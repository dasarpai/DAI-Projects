{
 "cells": [
  {
   "cell_type": "code",
   "execution_count": 1,
   "metadata": {},
   "outputs": [],
   "source": [
    "#paths required\n",
    "datafolder_p = r'D:\\18-DS\\github\\SDSHL\\data\\processed'\n",
    "datafolder_e = r'D:\\18-DS\\github\\SDSHL\\data\\external'\n",
    "datafolder_i = r'D:\\18-DS\\github\\SDSHL\\data\\internal'\n",
    "modelfolder  = r'D:\\18-DS\\data\\models'\n",
    "\n",
    "vectorfolder_bert = modelfolder + r'\\BERT'\n",
    "vectorfolder_ft   = modelfolder + r'\\fasttext_wiki.hi'\n",
    "vectorfolder_standford = modelfolder + r'\\POS-Tagger-Hindi'\n",
    "\n",
    "file           = datafolder_p + r'\\1-Hinglish_SarcasmCSV.csv'\n",
    "file_clean     = datafolder_p + r\"\\2-Hinglish_Sarcasm_Clean.csv\"\n",
    "file_FE        = datafolder_p + r\"\\3-features_pos.csv\"\n",
    "\n",
    "file_ft        = datafolder_p + r\"\\2-Hinglish_Sarcasm_Clean-fasttext.csv\"\n",
    "train_datafile = datafolder_p + r'\\2-train.csv'\n",
    "test_datafile  = datafolder_p + r'\\2-test.csv'"
   ]
  },
  {
   "cell_type": "code",
   "execution_count": 2,
   "metadata": {},
   "outputs": [],
   "source": [
    "#libraries required\n",
    "import pandas as pd\n",
    "import nltk\n",
    "import re\n",
    "import numpy as np"
   ]
  },
  {
   "cell_type": "code",
   "execution_count": null,
   "metadata": {},
   "outputs": [],
   "source": []
  },
  {
   "cell_type": "code",
   "execution_count": 60,
   "metadata": {},
   "outputs": [
    {
     "name": "stderr",
     "output_type": "stream",
     "text": [
      "[nltk_data] Downloading package punkt to\n",
      "[nltk_data]     C:\\Users\\admin\\AppData\\Roaming\\nltk_data...\n",
      "[nltk_data]   Package punkt is already up-to-date!\n"
     ]
    },
    {
     "data": {
      "text/plain": [
       "True"
      ]
     },
     "execution_count": 60,
     "metadata": {},
     "output_type": "execute_result"
    }
   ],
   "source": [
    "nltk.download('punkt')"
   ]
  },
  {
   "cell_type": "code",
   "execution_count": 18,
   "metadata": {},
   "outputs": [],
   "source": [
    "#Loadfiles in memory\n",
    "\n",
    "#Load Hindi stopwords\n",
    "df_stopwords = pd.read_csv(datafolder_e + \"\\Stopword_Hindi.csv\")\n",
    "stop_words= list(df_stopwords['words'])\n",
    "stop_words=[] #don't do anything with stopwords\n",
    "\n",
    "#Load 1-Hinglish_SarcasmCSV file\n",
    "df= pd.read_csv(file, sep=\"\\t\")"
   ]
  },
  {
   "cell_type": "code",
   "execution_count": 19,
   "metadata": {},
   "outputs": [],
   "source": [
    "#remove following characters from text '[—\\-`\":“”~]'\n",
    "def normalize_document(doc):\n",
    "    \n",
    "    #pattern = r'[.,;?।:-—”`~“]@#।'\n",
    "    #pattern = r'[!.,?#।)()@:\"]'\n",
    "    pattern_sc = r'[,;‘’—\\-`\":“”~)(}{*/]' #remplace these special characters with single space\n",
    "    pattern_url = r'^(http|href|ftp|file)s?:\\/\\/.*[\\r\\n]*' #remove any url with null space\n",
    "    pattern_at = r'@*' #remove @\n",
    "    pattern_hash = '#[\\s]*' #remove space after hashtag\n",
    "    pattern_emo = '[\\u210d-\\U0001F9FF]' #emoticon identification\n",
    "    pattern_amp =  '[\\s]+&[\\s]+' #'[\\s][&][\\s]'\n",
    "    \n",
    "    # lower case and remove special characters\\whitespaces.\n",
    "    #doc = re.sub(r'[^a-zA-Z\\s]', '', doc, re.I|re.A) #not required for Hindi script\n",
    "    \n",
    "    #replace any character which has pattern with blank\n",
    "    doc = re.sub( pattern_sc,' ',doc)\n",
    "    doc = re.sub( pattern_url,'',doc)\n",
    "    doc = re.sub( pattern_at,'',doc)\n",
    "\n",
    "    doc = re.sub( '|', \"\",doc)         #sometimes | is used as sentence marker\n",
    "    doc = re.sub( '।।', \"\", doc)       #this is fullstop marker in Devanagari\n",
    "    doc = re.sub( '।', \"\", doc)        #this is fullstop marker in Devanagari\n",
    "    doc = re.sub ('[.]*', \"\", doc)       #sometimes . is fullstop marker by people\n",
    "    doc = re.sub ('[?]+', \"?\", doc)\n",
    "    doc = re.sub ('[!]+', \"!\", doc)\n",
    "    \n",
    "    \n",
    "    #doc = re.sub (' +',' ', doc) #any extra space - No required here. Doing it later.\n",
    "    doc = re.sub ('…','', doc)   #special character\n",
    "    doc = re.sub ('_','', doc)   #Arvind_Kejriwal/ धन्य_है_भारत_भूमि _ should be removed \n",
    "\n",
    "    #Loop not working for this for some unknown reasons\n",
    "    doc = re.sub ('०','0', doc)\n",
    "    doc = re.sub ('१','1', doc)\n",
    "    doc = re.sub ('२','2', doc)\n",
    "    doc = re.sub ('३','3', doc)\n",
    "    doc = re.sub ('४','4', doc)\n",
    "    doc = re.sub ('५','5', doc)\n",
    "    doc = re.sub ('६','6', doc)\n",
    "    doc = re.sub ('७','7', doc)\n",
    "    doc = re.sub ('८','8', doc)\n",
    "    doc = re.sub ('९','9', doc)\n",
    "    \n",
    "    \n",
    "    doc = doc.lower() #convert text to lower case.\n",
    "    doc = doc.strip()\n",
    "    \n",
    "    #sometmes emoji and normal text is without space. To create a space between normal word and emoji. \n",
    "    #Otherwise it will tokenization problem.\n",
    "    emo_pos=re.finditer(pattern_emo , doc)\n",
    "\n",
    "    i=0\n",
    "    j=0\n",
    "    doc1=[]\n",
    "    for pos in emo_pos:\n",
    "        j=pos.end()\n",
    "        if j<0:\n",
    "            j=0\n",
    "        doc1.append(doc[i:j-1]+\" \"+doc[j-1]+\" \" )\n",
    "\n",
    "        i=pos.end()\n",
    "\n",
    "    doc1.append( doc[j:]+\" \" )\n",
    "  \n",
    "    if len(doc1)>0: doc=\"\".join(doc1) #use emoticon process text only if text contained any emoticon else leave.\n",
    "\n",
    "    # tokenize document\n",
    "    tokens = nltk.word_tokenize(doc)\n",
    "    \n",
    "    # filter stopwords out of document\n",
    "    filtered_tokens = [token for token in tokens if token not in stop_words]\n",
    "    \n",
    "    # re-create document from filtered tokens\n",
    "    doc = ' '.join(filtered_tokens)\n",
    "    doc = re.sub( pattern_hash,'#',doc)\n",
    "    doc = re.sub( pattern_amp,'&',doc) #remove spaces around &. J & K, A & N, Modi & Shah\n",
    "    \n",
    "    return doc"
   ]
  },
  {
   "cell_type": "code",
   "execution_count": null,
   "metadata": {},
   "outputs": [],
   "source": []
  },
  {
   "cell_type": "code",
   "execution_count": 20,
   "metadata": {},
   "outputs": [],
   "source": [
    "#Clean the dataset\n",
    "corpus = list(df.sentence)\n",
    "\n",
    "normalize_corpus = np.vectorize(normalize_document)\n",
    "norm_corpus = normalize_corpus(corpus)\n",
    "\n",
    "df.sentence=norm_corpus\n",
    "\n",
    "df.sentence=df.sentence.str.replace('\\u200d','') #This is special character comes in Hindi words.\n",
    "\n",
    "df.sentence=df.sentence.str.replace(' 🇮 🇳 ',' IN ') #In is indian flag while creating space \n",
    "#between emoticon and normal word it is getting split, we need to unite this back.\n",
    "\n",
    "df['sentence'] = df['sentence'].str.replace(' +',' ')  # remove any extra space\n",
    "    \n",
    "df['sentence_wo_emo'] = df['sentence'].str.replace(r'[\\u210d-\\U0001F9FF]','') # Remove emoticon. It does not help in POS tagging.\n",
    "\n",
    "df['sentence_wo_emo'] = df['sentence_wo_emo'].str.replace(' +',' ')  # remove any extra space"
   ]
  },
  {
   "cell_type": "code",
   "execution_count": null,
   "metadata": {},
   "outputs": [],
   "source": []
  },
  {
   "cell_type": "code",
   "execution_count": null,
   "metadata": {},
   "outputs": [],
   "source": [
    "def tranlit2dev(doc, translit_hashtag=False):\n",
    "    from indicnlp.transliterate import acronym_transliterator\n",
    "    from indic_transliteration.sanscript import transliterate \n",
    "    from indic_transliteration import sanscript\n",
    "    import re\n",
    "\n",
    "    ack_transliterator=acronym_transliterator.LatinToIndicAcronymTransliterator()\n",
    "\n",
    "    words=re.split(r' ',doc) #break sentence on space\n",
    "    sent = []\n",
    "    for w in words:\n",
    "        \n",
    "        #if first letter is not # then Translit is True.\n",
    "        #if first Letter is # and tranlit_hastag=True then Translit is True\n",
    "        #else Translit is false.\n",
    "        Translit = (translit_hashtag and w[0]=='#') or (w[0]!='#')                                                      \n",
    "                                                        \n",
    "        \n",
    "        if Translit:\n",
    "            w1 = re.findall(r'[A-z]+',w) ##is  word Latin word?\n",
    "            if len(w1)>0: #Found english word\n",
    "                w2=w1[0]\n",
    "                pat = re.compile(r'([A-Z][a-z]+)') #English word with camel case. Break camel case into different words\n",
    "                w2= pat.split(w2)\n",
    "                w4=[]\n",
    "                for w3 in w2:\n",
    "                    if len(w3)>0:    \n",
    "                        if w3.upper()==w3: # all letters are capital in the word\n",
    "                            w4.append( ack_transliterator.transliterate(w3,lang='hi') )\n",
    "                        else:\n",
    "                            w3=w3.lower()\n",
    "                            w4.append( transliterate(w3, sanscript.ITRANS, sanscript.DEVANAGARI) )\n",
    "                    else:\n",
    "                        pass\n",
    "                    #print (w4)\n",
    "                w5=\"_\".join(w4)\n",
    "\n",
    "            else:\n",
    "                w5=w\n",
    "        else:\n",
    "            w5=w\n",
    "\n",
    "        sent.append(w5)\n",
    "    return \" \".join(sent)                                                                                                             "
   ]
  },
  {
   "cell_type": "code",
   "execution_count": null,
   "metadata": {},
   "outputs": [],
   "source": [
    "docs = ['जेहादी यासिन Malik और आजाद Kashmir चिलाने वाले कश्मीर को बचाने आगे नहीं आएंगे #JammuKashmirFloods #KashmirFloods',\n",
    "       'सरिया कानून के हिसाब से अब WIFE IS MOTHER',\n",
    "       'अँधेरी रातों में सुनसान TL पर एक अश्लील लौंडा निकलता है उसे लोग Hawashmi कहते है',\n",
    "       'DMK ने सरकार को आधा तलाक़ दिया SP&BSP ने सरकार से आधा विवाह किया पर चाहा कर भी Honeymoon नहीं मना सकते अपवित्र रिश्तों में ऐसा ही होता है .',\n",
    "       'दिल्ली में शिला सरकार ने जो जनता पर बर्बरता से टियर गैस और डंडे बरसाए थे उसके पीछे कहीं वह 14 लाख फर्जी वोट तो प्रेरणा के श्रोत नहीं थे AAP',\n",
    "       'अगर मुलायम और अखिलेश चाहें तो UP में एक दंगा और करवा के बिल महेंद्र सिंह धोनी के नाम पे फाड़ सकते हैं. #IndvsEng',\n",
    "       'दिल बहुत ही हरामी कामिनी चीज़ होती है अच्छे खासे हस्ते खेलते आदमी को सेंटियापा का एडमिन बना देती है #SadStoriesOfTwitter',\n",
    "       'NIA की गिरफ्त में तानिया परवीन हाफिज सईद को करती थी रिपोर्ट , हथियारों की ट्रेनिंग लेने जाना था पाकिस्तान',\n",
    "      'मिग से F16 उड़ाऊँ ! चिड़िया से में बाज गिराऊँ ! फिर दुश्मन घर में चाय पी आऊँ ! मैं अभिनन्दन नाम कहाऊँ !',\n",
    "      'और भी बहुत पत्रकारों पर F I R हुई थी वह तो तुमको नहीं दिखी अक्ल के अंधे नाम नयनसुख']\n",
    "\n",
    "for doc in docs:\n",
    "    print( tranlit2dev(doc, translit_hashtag=True) )\n",
    "                                                                            \n",
    "\n",
    "print ('='*20)                                                                            \n",
    "for doc in docs:\n",
    "    print( tranlit2dev(doc, translit_hashtag=False) )     "
   ]
  },
  {
   "cell_type": "markdown",
   "metadata": {},
   "source": [
    "### <font color=red> Seeing above results of transliteration I am deciding not to do any transliteration</font>"
   ]
  },
  {
   "cell_type": "code",
   "execution_count": null,
   "metadata": {},
   "outputs": [],
   "source": []
  },
  {
   "cell_type": "code",
   "execution_count": 21,
   "metadata": {},
   "outputs": [],
   "source": [
    "df=df.set_index('ID')\n",
    "df['sentence_org']= df.sentence\n",
    "\n",
    "#remove # from the hashtag, else it will create word dic problem.\n",
    "df['sentence'] = df.sentence.str.replace(\"#\",\"\")\n",
    "df['sentence_wo_emo'] = df.sentence_wo_emo.str.replace(\"#\",\"\")\n",
    "\n",
    "\n",
    "df = df[['label','sentence','sentence_org','sentence_wo_emo']]\n",
    "\n",
    "#save file for transliteration\n",
    "df.to_csv(file_clean,sep=\"\\t\",encoding='utf-8')"
   ]
  },
  {
   "cell_type": "code",
   "execution_count": 22,
   "metadata": {},
   "outputs": [
    {
     "data": {
      "text/plain": [
       "'D:\\\\18-DS\\\\github\\\\SDSHL\\\\data\\\\processed\\\\2-Hinglish_Sarcasm_Clean.csv'"
      ]
     },
     "execution_count": 22,
     "metadata": {},
     "output_type": "execute_result"
    }
   ],
   "source": [
    "file_clean"
   ]
  },
  {
   "cell_type": "code",
   "execution_count": null,
   "metadata": {},
   "outputs": [],
   "source": []
  },
  {
   "cell_type": "markdown",
   "metadata": {},
   "source": [
    "# Experiment Area"
   ]
  },
  {
   "cell_type": "code",
   "execution_count": null,
   "metadata": {},
   "outputs": [],
   "source": [
    "import unicodedata\n",
    "def splitclusters(s):\n",
    "    \"\"\"Generate the grapheme clusters for the string s. (Not the full\n",
    "    Unicode text segmentation algorithm, but probably good enough for\n",
    "    Devanagari.)\n",
    "\n",
    "    \"\"\"\n",
    "    virama = u'\\N{DEVANAGARI SIGN VIRAMA}'\n",
    "    cluster = u''\n",
    "    last = None\n",
    "    for c in s:\n",
    "        cat = unicodedata.category(c)[0]\n",
    "        if cat == 'M' or cat == 'L' and last == virama:\n",
    "            cluster += c\n",
    "        else:\n",
    "            if cluster:\n",
    "                yield cluster\n",
    "            cluster = c\n",
    "        last = c\n",
    "    if cluster:\n",
    "        yield cluster"
   ]
  },
  {
   "cell_type": "code",
   "execution_count": null,
   "metadata": {},
   "outputs": [],
   "source": [
    "a=\"मेरा नाम हरी थप्लियाल है\"\n",
    "a=\"संयुक्त राज्य अमेरिका\"\n",
    "list(splitclusters(a))"
   ]
  },
  {
   "cell_type": "code",
   "execution_count": null,
   "metadata": {},
   "outputs": [],
   "source": []
  },
  {
   "cell_type": "code",
   "execution_count": null,
   "metadata": {},
   "outputs": [],
   "source": []
  },
  {
   "cell_type": "code",
   "execution_count": null,
   "metadata": {},
   "outputs": [],
   "source": [
    "# re.sub('[—\\-`\":“”~]',' ','h~a  t—ha-pliyal”ri@pra`\"s“a:d')\n",
    "# re.sub('#[\\s]*','$',\"s # KashmirFloods\")\n",
    "\n",
    "# #re.sub(r'^(http|href|ftp|file)s?:\\/\\/.*[\\r\\n]*', '', 'file://pmlogy.com')\n",
    "\n",
    "\n",
    "# #re.sub(, '', 'hari @prasad')"
   ]
  },
  {
   "cell_type": "code",
   "execution_count": null,
   "metadata": {},
   "outputs": [],
   "source": [
    "# pattern_extraspace= \"\\s+\"\n",
    "# doc='💙ख़ूबसूरती हमेशा आपके 💙 ❣️चेहरे पर सजती रहे ❣️ 💙ख़ुशी हमेशा आपकी जिन्दगी 💙 ❣️ में महकती रहे।❣️ 💟 .'\n",
    "# doc='कुछ ऐसे भी हादसे होते है जिंदगी में इंसान बच तो जाता है पर ज़िंदा नहीं रहता शुभ रात्रि मित्रों'\n",
    "# #sometmes emoji and normal text is without space. To create a space between normal word and emoji. \n",
    "# #Otherwise it will tokenization problem.\n",
    "# pattern_emo = '[\\u210d-\\U0001F900]'\n",
    "# emo_pos=re.finditer(pattern_emo , doc)\n",
    "# i=0\n",
    "# doc1=[]\n",
    "# for pos in emo_pos:\n",
    "#     print (pos)\n",
    "#     j=pos.end()-2\n",
    "#     if j<0:\n",
    "#         j=0\n",
    "#     doc1.append(doc[i:j]+\" \" )\n",
    "#     doc1.append( doc[pos.end()-1]+\" \" )\n",
    "#     #print (j,txt1[i:j],txt1[b.end()-1])\n",
    "#     i=pos.end()\n",
    "\n",
    "# if len(doc1)>0: doc=\"\".join(doc1)\n",
    "# #doc = re.sub( pattern_extraspace,' ',doc) #remove extra space\n",
    "\n",
    "# # tokenize document\n",
    "# tokens = nltk.word_tokenize(doc)\n",
    "# tokens"
   ]
  },
  {
   "cell_type": "code",
   "execution_count": null,
   "metadata": {},
   "outputs": [],
   "source": [
    "import re\n",
    "pattern_emo = '[\\u210d-\\U0001F9FF]'\n",
    "#pattern_emo = '[\\u210d-\\U0001F1F3]'\n",
    "#pattern_emo = '[\\u1F1E6-\\U0001F43B]'\n",
    "#pattern_emo = '[\\u1F600-\\U0001F6FA]'\n",
    "#[\\u263a-\\U0001f645]\n",
    "\n",
    "\n",
    "\n",
    "#a=re.search('\\u270d',a)\n",
    "txt='तेरे चेहरे पर जो मक्कारी है उसे छिपाएगा कैसे मुल्क से गद्दारी तेरे खून में है उसे मिटाएगा कैसे ✍क्या करेगा \\\n",
    "जानकर अगर मुल्क के लिए कुछ 😀 करना ही था अच्छा तो पहले जा कर अब्दुल कलाम जी जैसा देश भक्त बनकर दिखता टुच्चे आदमी'\n",
    "txt='इस उठाईगिरे आदमी की ऐसी ओछी हरकत के लिए ट्रेंड नही एफआईआर होनी चाहिए और दूसरी बात कल ही में प्रिंटिंग प्रेस पर जाकर इसके ट्वीट 👇का प्रिंटआउट निकलबा कर पूरे जिले के एक एक घर में बटवाउगा ताकि लोगों को पता चले कांग्रेस के नेता की सोच कितनी गिरी हुई और घटिया है #अरेस्ट_पंकज_पूनिया'\n",
    "txt='मेरे देश के नौजवानों उठो और जल्दी Fb खोलो ललकियाँ 😍ऑनलाइन रही है। 😉😜'\n",
    "txt='आज जो ट्वीट कर रही हूं वो ट्वीट अब तक का बेस्ट ट्वीट होने वाला है। अपने अपने एक देश भक्त हीरो का नाम 👇कमेंट बॉक्स में लिखे मेरे तो है चंद्रशेखर आजाद। और आपके ?'\n",
    "txt='रहने दे मुझे #अँधेरे में ए ग़ालिब , 😒 उजालो में मुझे 🤗अपनों के #असली चेहरे नज़र 👀आ जाते है। ! 😓 #GoodMorningTwitte।'\n",
    "#txt='फ्री की रोटी तो कुत्ते भी खाते हैं , भूख तो राष्ट्रवाद की होनी चाहिए । जयहिंद 🇮🇳 🚩🙏 🙏जय सनातन धर्म 🙏🏻'\n",
    "#txt='🙋बेटी बीमार हो तो बड़ा दुख होता है बहू बीमार हो तो ड्रामा लगता है 😊😊'\n",
    "#txt='OMG💙ख़ूबसूरती हमेशा आपके 💙 ❣️चेहरे पर सजती रहे ❣️ 💙ख़ुशी हमेशा आपकी जिन्दगी 💙 ❣️ में महकती रहे।❣️ 💟 . लगता है'\n",
    "#txt='OMG😳ये है इस्लामी साँप मदरसों मे पढ़े हुए सपोले अगर मदरसे बंद नही हुए तो भारत मे आप के साथ यही होगा'\n",
    "txt=\"सब गए ना 2019 में 👇 कोई छूटा तो नहीं 2018 में 😝 😅 😂 😆 #2018 #2019 #HappyNewYear2019 #HappyNewYear #नववर्षकीशुभकामनाएँ #नववर्ष\"\n",
    "txt1=txt\n",
    "a=re.finditer(pattern_emo , txt)\n",
    "\n",
    "i=0\n",
    "txt2=[]\n",
    "for b in a:\n",
    "    j=b.end()\n",
    "    if j<0:\n",
    "        j=0\n",
    "    print (j, txt1[i:j-1]+\" \"+txt1[j-1]+ \" \")\n",
    "    txt2.append(txt1[i:j-1]+\" \"+txt1[j-1]+ \" \" )\n",
    "    #txt2.append( txt1[j:]+\" \" )\n",
    "\n",
    "    i=b.end()\n",
    "\n",
    "txt2.append( txt1[j:]+\" \" )\n",
    "txt2=\"\".join(txt2)\n",
    "txt2"
   ]
  },
  {
   "cell_type": "code",
   "execution_count": null,
   "metadata": {},
   "outputs": [],
   "source": [
    "txt1"
   ]
  },
  {
   "cell_type": "code",
   "execution_count": 14,
   "metadata": {},
   "outputs": [
    {
     "data": {
      "text/plain": [
       "'Hari Hello. What happened'"
      ]
     },
     "execution_count": 14,
     "metadata": {},
     "output_type": "execute_result"
    }
   ],
   "source": [
    "import re\n",
    "a='Hari????? He*llo. What? /happened'\n",
    "re.sub('[,;‘’—?\\-`\":“”~)(}{*/]','', a)"
   ]
  },
  {
   "cell_type": "code",
   "execution_count": null,
   "metadata": {},
   "outputs": [],
   "source": [
    "\n",
    "\n",
    "txt = ' १ साँप २ मदरसों ३ मे ४ पढ़े ५५ हुए ६७ सपोले अगर मदरसे बंद'\n",
    "print( dev2engNumeric(txt) )"
   ]
  },
  {
   "cell_type": "code",
   "execution_count": 25,
   "metadata": {},
   "outputs": [
    {
     "data": {
      "text/plain": [
       "re.compile(r'hello', re.UNICODE)"
      ]
     },
     "execution_count": 25,
     "metadata": {},
     "output_type": "execute_result"
    }
   ],
   "source": [
    "the_list = re.compile(r'hello')\n",
    "the_list"
   ]
  },
  {
   "cell_type": "code",
   "execution_count": 26,
   "metadata": {},
   "outputs": [
    {
     "data": {
      "text/plain": [
       "re.compile(r'[a-z][A-Z]hello', re.UNICODE)"
      ]
     },
     "execution_count": 26,
     "metadata": {},
     "output_type": "execute_result"
    }
   ],
   "source": [
    "the_list = re.compile(r'[a-z][A-Z]hello')\n",
    "the_list"
   ]
  },
  {
   "cell_type": "code",
   "execution_count": 13,
   "metadata": {},
   "outputs": [
    {
     "data": {
      "text/plain": [
       "'dmk ने सरकार को आधा तलाक़ दिया sp&bsp ने सरकार से आधा विवाह किया पर चाहा कर भी सुहाग रात नहीं मना सकते अपवित्र रिश्तों में ऐसा ही होता है'"
      ]
     },
     "execution_count": 13,
     "metadata": {},
     "output_type": "execute_result"
    }
   ],
   "source": [
    "a='dmk ने सरकार को आधा तलाक़ दिया sp & bsp ने सरकार से आधा विवाह किया पर चाहा कर भी सुहाग रात नहीं मना सकते अपवित्र रिश्तों में ऐसा ही होता है'\n",
    "re.sub('[\\s]+&[\\s]+','&',a)"
   ]
  },
  {
   "cell_type": "code",
   "execution_count": null,
   "metadata": {},
   "outputs": [],
   "source": []
  }
 ],
 "metadata": {
  "kernelspec": {
   "display_name": "Python 3",
   "language": "python",
   "name": "python3"
  },
  "language_info": {
   "codemirror_mode": {
    "name": "ipython",
    "version": 3
   },
   "file_extension": ".py",
   "mimetype": "text/x-python",
   "name": "python",
   "nbconvert_exporter": "python",
   "pygments_lexer": "ipython3",
   "version": "3.8.3"
  }
 },
 "nbformat": 4,
 "nbformat_minor": 4
}
