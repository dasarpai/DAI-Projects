{
 "cells": [
  {
   "cell_type": "code",
   "execution_count": null,
   "metadata": {},
   "outputs": [],
   "source": []
  },
  {
   "cell_type": "code",
   "execution_count": 1,
   "metadata": {},
   "outputs": [],
   "source": [
    "#paths required\n",
    "datafolder_p = r'D:\\18-DS\\github\\SDSHL\\data\\processed'\n",
    "datafolder_e = r'D:\\18-DS\\github\\SDSHL\\data\\external'\n",
    "datafolder_i = r'D:\\18-DS\\github\\SDSHL\\data\\internal'\n",
    "modelfolder  = r'D:\\18-DS\\data\\models'\n",
    "\n",
    "modelfolder_w2v = modelfolder + r'\\word2vec'\n",
    "\n",
    "filepath_train  = datafolder_p+ r'\\2-train.csv'\n",
    "filepath_fulldata = datafolder_p+ r'\\2-Hinglish_Sarcasm_Clean.csv'"
   ]
  },
  {
   "cell_type": "code",
   "execution_count": 2,
   "metadata": {},
   "outputs": [],
   "source": [
    "from sklearn.feature_extraction.text import CountVectorizer, TfidfVectorizer\n",
    "import pandas as pd\n",
    "from sklearn.decomposition import PCA"
   ]
  },
  {
   "cell_type": "code",
   "execution_count": 16,
   "metadata": {},
   "outputs": [],
   "source": []
  },
  {
   "cell_type": "code",
   "execution_count": 21,
   "metadata": {},
   "outputs": [],
   "source": []
  },
  {
   "cell_type": "code",
   "execution_count": null,
   "metadata": {},
   "outputs": [],
   "source": []
  },
  {
   "cell_type": "code",
   "execution_count": 3,
   "metadata": {},
   "outputs": [],
   "source": [
    "def tfidf_vec(data):\n",
    "    tfidf_vectorizer = TfidfVectorizer(max_features=300, ngram_range=(1,2) )\n",
    "\n",
    "    emb = tfidf_vectorizer.fit_transform(data)\n",
    "\n",
    "    return emb, tfidf_vectorizer"
   ]
  },
  {
   "cell_type": "code",
   "execution_count": 4,
   "metadata": {},
   "outputs": [],
   "source": [
    "def bow_vec(data):\n",
    "    count_vectorizer = CountVectorizer(max_features=300, ngram_range=(1,2) )\n",
    "\n",
    "    emb = count_vectorizer.fit_transform(data, )\n",
    "\n",
    "    return emb, count_vectorizer\n"
   ]
  },
  {
   "cell_type": "code",
   "execution_count": 5,
   "metadata": {},
   "outputs": [],
   "source": [
    "df      = pd.read_csv(filepath_train, sep='\\t', index_col='ID')\n",
    "df_full = pd.read_csv(filepath_fulldata, sep='\\t', index_col='ID')\n",
    "\n",
    "list_corpus      = df[\"sentence\"].tolist()\n",
    "list_corpus_full = df_full[\"sentence\"].tolist()"
   ]
  },
  {
   "cell_type": "markdown",
   "metadata": {},
   "source": [
    "## TFIDF Vector"
   ]
  },
  {
   "cell_type": "code",
   "execution_count": null,
   "metadata": {},
   "outputs": [],
   "source": []
  },
  {
   "cell_type": "code",
   "execution_count": 19,
   "metadata": {},
   "outputs": [],
   "source": [
    "#fit and get embedding using training data\n",
    "embed_tfidf, vec_tfidf   = tfidf_vec(list_corpus)\n",
    "\n",
    "#get embedding of full dataset\n",
    "embed_tfidf = vec_tfidf.transform(list_corpus_full)\n",
    "\n",
    "embed_tfidf  = embed_tfidf.todense()\n",
    "\n",
    "pca = PCA(n_components=200)\n",
    "embed_tfidf  = pca.fit_transform(embed_tfidf)\n",
    "\n",
    "embed_tfidf          = pd.DataFrame(embed_tfidf, index=df_full.index)\n",
    "embed_tfidf['label'] = df_full['label']"
   ]
  },
  {
   "cell_type": "code",
   "execution_count": null,
   "metadata": {},
   "outputs": [],
   "source": []
  },
  {
   "cell_type": "code",
   "execution_count": 20,
   "metadata": {},
   "outputs": [
    {
     "data": {
      "text/plain": [
       "(2000, 201)"
      ]
     },
     "execution_count": 20,
     "metadata": {},
     "output_type": "execute_result"
    }
   ],
   "source": [
    "embed_tfidf.shape"
   ]
  },
  {
   "cell_type": "code",
   "execution_count": 21,
   "metadata": {},
   "outputs": [],
   "source": [
    "embed_tfidf.to_csv(datafolder_p+ r\"\\embedding_tfidf.csv\")"
   ]
  },
  {
   "cell_type": "markdown",
   "metadata": {},
   "source": [
    "## BOW Vector"
   ]
  },
  {
   "cell_type": "code",
   "execution_count": 14,
   "metadata": {},
   "outputs": [],
   "source": [
    "#fit and get embedding using training data\n",
    "embed_bow, vec_bow = bow_vec(list_corpus)\n",
    "\n",
    "#get embedding of full dataset\n",
    "embed_bow = vec_bow.transform(list_corpus_full)\n",
    "\n",
    "embed_bow = embed_bow.todense()\n",
    "\n",
    "pca = PCA(n_components=200)\n",
    "embed_bow = pca.fit_transform(embed_bow)\n",
    "\n",
    "embed_bow = pd.DataFrame(embed_bow, index=df_full.index)\n",
    "embed_bow['label'] = df_full['label']"
   ]
  },
  {
   "cell_type": "code",
   "execution_count": 17,
   "metadata": {},
   "outputs": [
    {
     "data": {
      "text/plain": [
       "(2000, 201)"
      ]
     },
     "execution_count": 17,
     "metadata": {},
     "output_type": "execute_result"
    }
   ],
   "source": [
    "embed_bow.shape"
   ]
  },
  {
   "cell_type": "code",
   "execution_count": 15,
   "metadata": {},
   "outputs": [],
   "source": [
    "embed_bow.to_csv(datafolder_p+ r\"\\embedding_bow.csv\")"
   ]
  }
 ],
 "metadata": {
  "kernelspec": {
   "display_name": "Python 3",
   "language": "python",
   "name": "python3"
  },
  "language_info": {
   "codemirror_mode": {
    "name": "ipython",
    "version": 3
   },
   "file_extension": ".py",
   "mimetype": "text/x-python",
   "name": "python",
   "nbconvert_exporter": "python",
   "pygments_lexer": "ipython3",
   "version": "3.8.3"
  }
 },
 "nbformat": 4,
 "nbformat_minor": 4
}
