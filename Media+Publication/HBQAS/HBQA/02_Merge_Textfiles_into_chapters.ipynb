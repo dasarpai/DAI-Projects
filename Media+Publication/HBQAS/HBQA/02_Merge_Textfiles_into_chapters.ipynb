{
 "cells": [
  {
   "cell_type": "code",
   "execution_count": 1,
   "metadata": {},
   "outputs": [],
   "source": [
    "# from google.colab import drive\n",
    "# drive.mount('/content/drive')"
   ]
  },
  {
   "cell_type": "code",
   "execution_count": 1,
   "metadata": {},
   "outputs": [],
   "source": [
    "# @title Load Configuraiton \n",
    "import hbqaconfig\n",
    "conf = hbqaconfig.setEnv('local')\n",
    " "
   ]
  },
  {
   "cell_type": "code",
   "execution_count": 16,
   "metadata": {},
   "outputs": [
    {
     "name": "stdout",
     "output_type": "stream",
     "text": [
      "Writing mahabharata_01.txt\n",
      "Writing mahabharata_02.txt\n",
      "Writing mahabharata_03.txt\n",
      "Writing mahabharata_04.txt\n",
      "Writing mahabharata_05.txt\n",
      "Writing mahabharata_06.txt\n",
      "Writing mahabharata_07.txt\n",
      "Writing mahabharata_08.txt\n",
      "Writing mahabharata_09.txt\n",
      "Writing mahabharata_10.txt\n",
      "Writing mahabharata_11.txt\n",
      "Writing mahabharata_12.txt\n",
      "Writing mahabharata_13.txt\n",
      "Writing mahabharata_14.txt\n",
      "Writing mahabharata_15.txt\n",
      "Writing mahabharata_16.txt\n",
      "Writing mahabharata_17.txt\n",
      "Writing mahabharata_18.txt\n"
     ]
    }
   ],
   "source": [
    "txt=[]\n",
    "filename=\"\"\n",
    "for f in os.listdir(conf['CORPUS_SECTIONS_FOLDER']):\n",
    "    if filename!=f[:14]+\".txt\": #it is a different chapter.\n",
    "        #print (f, f[:14]+\".txt\")\n",
    "        if filename!=\"\":\n",
    "            print(\"Writing \"+filename)\n",
    "            with open(conf['CORPUS_SECTIONS_FOLDER']+\"/\"+filename,\"w\") as fname1:\n",
    "                fname1.write(\"\\n\\n\".join(txt))\n",
    "                txt=[]\n",
    "\n",
    "        filename=f[:14]+'.txt'\n",
    "        with open(conf['CORPUS_SECTIONS_FOLDER']+\"/\"+f,\"r\") as fname:\n",
    "            txt.append( \" \".join(fname.readlines()) )\n",
    "    else: #Section of same chapter\n",
    "        with open(conf['CORPUS_SECTIONS_FOLDER']+\"/\"+f,\"r\") as fname:\n",
    "            txt.append( \" \".join(fname.readlines()) )\n",
    "\n",
    "with open(conf['CORPUS_SECTIONS_FOLDER']+\"/\"+filename,\"w\") as fname1:\n",
    "                fname1.write(\"\\n\\n\".join(txt))"
   ]
  },
  {
   "cell_type": "code",
   "execution_count": null,
   "metadata": {},
   "outputs": [],
   "source": []
  }
 ],
 "metadata": {
  "kernelspec": {
   "display_name": "myenv",
   "language": "python",
   "name": "python3"
  },
  "language_info": {
   "codemirror_mode": {
    "name": "ipython",
    "version": 3
   },
   "file_extension": ".py",
   "mimetype": "text/x-python",
   "name": "python",
   "nbconvert_exporter": "python",
   "pygments_lexer": "ipython3",
   "version": "3.9.17"
  },
  "orig_nbformat": 4
 },
 "nbformat": 4,
 "nbformat_minor": 2
}
