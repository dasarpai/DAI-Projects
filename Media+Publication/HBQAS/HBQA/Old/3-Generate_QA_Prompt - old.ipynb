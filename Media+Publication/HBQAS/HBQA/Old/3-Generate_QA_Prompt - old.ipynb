{
 "cells": [
  {
   "cell_type": "code",
   "execution_count": 4,
   "metadata": {},
   "outputs": [],
   "source": [
    "import openai \n",
    "from langchain.text_splitter import CharacterTextSplitter\n"
   ]
  },
  {
   "cell_type": "code",
   "execution_count": 60,
   "metadata": {},
   "outputs": [
    {
     "data": {
      "text/html": [
       "<div>\n",
       "<style scoped>\n",
       "    .dataframe tbody tr th:only-of-type {\n",
       "        vertical-align: middle;\n",
       "    }\n",
       "\n",
       "    .dataframe tbody tr th {\n",
       "        vertical-align: top;\n",
       "    }\n",
       "\n",
       "    .dataframe thead th {\n",
       "        text-align: right;\n",
       "    }\n",
       "</style>\n",
       "<table border=\"1\" class=\"dataframe\">\n",
       "  <thead>\n",
       "    <tr style=\"text-align: right;\">\n",
       "      <th></th>\n",
       "      <th>Id</th>\n",
       "      <th>Book</th>\n",
       "      <th>Section_Id</th>\n",
       "      <th>File_Name</th>\n",
       "      <th>URL</th>\n",
       "      <th>Section_Roman</th>\n",
       "      <th>Word_Count</th>\n",
       "      <th>Char_Count</th>\n",
       "      <th>Para_Count</th>\n",
       "      <th>Word_Len</th>\n",
       "    </tr>\n",
       "  </thead>\n",
       "  <tbody>\n",
       "    <tr>\n",
       "      <th>0</th>\n",
       "      <td>1</td>\n",
       "      <td>Book 1: Adi Parva</td>\n",
       "      <td>Book01_01</td>\n",
       "      <td>mahabharata_01002.txt</td>\n",
       "      <td>https://www.mahabharataonline.com/translation/...</td>\n",
       "      <td>Section I</td>\n",
       "      <td>7464</td>\n",
       "      <td>44206</td>\n",
       "      <td>45</td>\n",
       "      <td>5.92</td>\n",
       "    </tr>\n",
       "    <tr>\n",
       "      <th>1</th>\n",
       "      <td>2</td>\n",
       "      <td>Book 1: Adi Parva</td>\n",
       "      <td>Book01_02</td>\n",
       "      <td>mahabharata_01003.txt</td>\n",
       "      <td>https://www.mahabharataonline.com/translation/...</td>\n",
       "      <td>Section II</td>\n",
       "      <td>8608</td>\n",
       "      <td>52123</td>\n",
       "      <td>33</td>\n",
       "      <td>6.06</td>\n",
       "    </tr>\n",
       "    <tr>\n",
       "      <th>2</th>\n",
       "      <td>3</td>\n",
       "      <td>Book 1: Adi Parva</td>\n",
       "      <td>Book01_03</td>\n",
       "      <td>mahabharata_01004.txt</td>\n",
       "      <td>https://www.mahabharataonline.com/translation/...</td>\n",
       "      <td>Section III</td>\n",
       "      <td>6089</td>\n",
       "      <td>35041</td>\n",
       "      <td>48</td>\n",
       "      <td>5.75</td>\n",
       "    </tr>\n",
       "    <tr>\n",
       "      <th>3</th>\n",
       "      <td>4</td>\n",
       "      <td>Book 1: Adi Parva</td>\n",
       "      <td>Book01_04</td>\n",
       "      <td>mahabharata_01005.txt</td>\n",
       "      <td>https://www.mahabharataonline.com/translation/...</td>\n",
       "      <td>Section IV</td>\n",
       "      <td>341</td>\n",
       "      <td>1991</td>\n",
       "      <td>4</td>\n",
       "      <td>5.84</td>\n",
       "    </tr>\n",
       "    <tr>\n",
       "      <th>4</th>\n",
       "      <td>5</td>\n",
       "      <td>Book 1: Adi Parva</td>\n",
       "      <td>Book01_05</td>\n",
       "      <td>mahabharata_01006.txt</td>\n",
       "      <td>https://www.mahabharataonline.com/translation/...</td>\n",
       "      <td>Section V</td>\n",
       "      <td>876</td>\n",
       "      <td>5068</td>\n",
       "      <td>11</td>\n",
       "      <td>5.79</td>\n",
       "    </tr>\n",
       "    <tr>\n",
       "      <th>...</th>\n",
       "      <td>...</td>\n",
       "      <td>...</td>\n",
       "      <td>...</td>\n",
       "      <td>...</td>\n",
       "      <td>...</td>\n",
       "      <td>...</td>\n",
       "      <td>...</td>\n",
       "      <td>...</td>\n",
       "      <td>...</td>\n",
       "      <td>...</td>\n",
       "    </tr>\n",
       "    <tr>\n",
       "      <th>2095</th>\n",
       "      <td>2102</td>\n",
       "      <td>Book 18: Svargarohanika Parva</td>\n",
       "      <td>Book18_02</td>\n",
       "      <td>mahabharata_18002.txt</td>\n",
       "      <td>https://www.mahabharataonline.com/translation/...</td>\n",
       "      <td>Section 2</td>\n",
       "      <td>1410</td>\n",
       "      <td>8312</td>\n",
       "      <td>13</td>\n",
       "      <td>5.90</td>\n",
       "    </tr>\n",
       "    <tr>\n",
       "      <th>2096</th>\n",
       "      <td>2103</td>\n",
       "      <td>Book 18: Svargarohanika Parva</td>\n",
       "      <td>Book18_03</td>\n",
       "      <td>mahabharata_18003.txt</td>\n",
       "      <td>https://www.mahabharataonline.com/translation/...</td>\n",
       "      <td>Section 3</td>\n",
       "      <td>1164</td>\n",
       "      <td>6676</td>\n",
       "      <td>7</td>\n",
       "      <td>5.74</td>\n",
       "    </tr>\n",
       "    <tr>\n",
       "      <th>2097</th>\n",
       "      <td>2104</td>\n",
       "      <td>Book 18: Svargarohanika Parva</td>\n",
       "      <td>Book18_04</td>\n",
       "      <td>mahabharata_18004.txt</td>\n",
       "      <td>https://www.mahabharataonline.com/translation/...</td>\n",
       "      <td>Section 4</td>\n",
       "      <td>608</td>\n",
       "      <td>3519</td>\n",
       "      <td>5</td>\n",
       "      <td>5.79</td>\n",
       "    </tr>\n",
       "    <tr>\n",
       "      <th>2098</th>\n",
       "      <td>2105</td>\n",
       "      <td>Book 18: Svargarohanika Parva</td>\n",
       "      <td>Book18_05</td>\n",
       "      <td>mahabharata_18005.txt</td>\n",
       "      <td>https://www.mahabharataonline.com/translation/...</td>\n",
       "      <td>Section 5</td>\n",
       "      <td>1668</td>\n",
       "      <td>10059</td>\n",
       "      <td>13</td>\n",
       "      <td>6.03</td>\n",
       "    </tr>\n",
       "    <tr>\n",
       "      <th>2099</th>\n",
       "      <td>2106</td>\n",
       "      <td>Book 18: Svargarohanika Parva</td>\n",
       "      <td>Book18_06</td>\n",
       "      <td>mahabharata_18006.txt</td>\n",
       "      <td>https://www.mahabharataonline.com/translation/...</td>\n",
       "      <td>Section 6</td>\n",
       "      <td>2941</td>\n",
       "      <td>17656</td>\n",
       "      <td>38</td>\n",
       "      <td>6.00</td>\n",
       "    </tr>\n",
       "  </tbody>\n",
       "</table>\n",
       "<p>2100 rows × 10 columns</p>\n",
       "</div>"
      ],
      "text/plain": [
       "        Id                           Book Section_Id              File_Name  \\\n",
       "0        1              Book 1: Adi Parva  Book01_01  mahabharata_01002.txt   \n",
       "1        2              Book 1: Adi Parva  Book01_02  mahabharata_01003.txt   \n",
       "2        3              Book 1: Adi Parva  Book01_03  mahabharata_01004.txt   \n",
       "3        4              Book 1: Adi Parva  Book01_04  mahabharata_01005.txt   \n",
       "4        5              Book 1: Adi Parva  Book01_05  mahabharata_01006.txt   \n",
       "...    ...                            ...        ...                    ...   \n",
       "2095  2102  Book 18: Svargarohanika Parva  Book18_02  mahabharata_18002.txt   \n",
       "2096  2103  Book 18: Svargarohanika Parva  Book18_03  mahabharata_18003.txt   \n",
       "2097  2104  Book 18: Svargarohanika Parva  Book18_04  mahabharata_18004.txt   \n",
       "2098  2105  Book 18: Svargarohanika Parva  Book18_05  mahabharata_18005.txt   \n",
       "2099  2106  Book 18: Svargarohanika Parva  Book18_06  mahabharata_18006.txt   \n",
       "\n",
       "                                                    URL Section_Roman  \\\n",
       "0     https://www.mahabharataonline.com/translation/...     Section I   \n",
       "1     https://www.mahabharataonline.com/translation/...    Section II   \n",
       "2     https://www.mahabharataonline.com/translation/...   Section III   \n",
       "3     https://www.mahabharataonline.com/translation/...    Section IV   \n",
       "4     https://www.mahabharataonline.com/translation/...     Section V   \n",
       "...                                                 ...           ...   \n",
       "2095  https://www.mahabharataonline.com/translation/...     Section 2   \n",
       "2096  https://www.mahabharataonline.com/translation/...     Section 3   \n",
       "2097  https://www.mahabharataonline.com/translation/...     Section 4   \n",
       "2098  https://www.mahabharataonline.com/translation/...     Section 5   \n",
       "2099  https://www.mahabharataonline.com/translation/...     Section 6   \n",
       "\n",
       "      Word_Count  Char_Count  Para_Count  Word_Len  \n",
       "0           7464       44206          45      5.92  \n",
       "1           8608       52123          33      6.06  \n",
       "2           6089       35041          48      5.75  \n",
       "3            341        1991           4      5.84  \n",
       "4            876        5068          11      5.79  \n",
       "...          ...         ...         ...       ...  \n",
       "2095        1410        8312          13      5.90  \n",
       "2096        1164        6676           7      5.74  \n",
       "2097         608        3519           5      5.79  \n",
       "2098        1668       10059          13      6.03  \n",
       "2099        2941       17656          38      6.00  \n",
       "\n",
       "[2100 rows x 10 columns]"
      ]
     },
     "execution_count": 60,
     "metadata": {},
     "output_type": "execute_result"
    }
   ],
   "source": [
    "import pandas as pd \n",
    "df = pd.read_csv('Mahabharat_Metadata.csv')\n",
    "df"
   ]
  },
  {
   "cell_type": "markdown",
   "metadata": {},
   "source": [
    "# Create Question\n",
    "\n",
    "- This is very expensive stuff for 29 mn tokens of Mahabharat. Which will cost around $250 just fow question creation. So droping this idea."
   ]
  },
  {
   "cell_type": "code",
   "execution_count": 57,
   "metadata": {},
   "outputs": [],
   "source": [
    "# import openai\n",
    "# from langchain.callbacks import get_openai_callback\n",
    "# openai.api_key = secret_key\n",
    "\n",
    "# qtn_info={}\n",
    "\n",
    "# # Generate questions based on the context supplied. Multiple contexts are created from section text.\n",
    "# def get_questions(context_id, no_of_questions, context):\n",
    "#     # try:\n",
    "#     prompt_ = f\"\"\"Write {no_of_questions} questions and their corresponding answers based on the text below\\n\\n\n",
    "#     Text: {context}\\n\\n\n",
    "#     Questions: \\n\\n\n",
    "#     Answer:\\n\"\"\"\n",
    "#     print(prompt_)\n",
    "\n",
    "#     with get_openai_callback() as cb:\n",
    "#         response = openai.Completion.create(\n",
    "#             engine=\"davinci-instruct-beta-v3\",\n",
    "#             prompt=prompt_,\n",
    "#             temperature=0,\n",
    "#             max_tokens=257,\n",
    "#             top_p=1,\n",
    "#             frequency_penalty=0,\n",
    "#             presence_penalty=0,\n",
    "#             stop=[\"\\n\\n\"]\n",
    "#         )\n",
    "\n",
    "#         # Get the number of tokens used\n",
    "#         prompt_tokens_ = cb.prompt_tokens\n",
    "#         completion_tokens_ = cb.completion_tokens\n",
    "\n",
    "#         # Get the total cost of the API call\n",
    "#         total_cost_ = cb.total_cost\n",
    "        \n",
    "#         print(f\"ContextId: {context_id}, PToken: {prompt_tokens_}, CToken: {completion_tokens_}, Cost: {total_cost_}\")\n",
    "#         qtn_info[context_id] = f\"PToken: {prompt_tokens_}, CToken: {completion_tokens_}, Cost: {total_cost_}\"\n",
    "\n",
    "#         questions =  response  #\"1.\" + response['choices'][0]['text']\n",
    "#     # except:\n",
    "#     #     questions= \"\"\n",
    "\n",
    "#     return questions, cb"
   ]
  },
  {
   "cell_type": "markdown",
   "metadata": {},
   "source": [
    "# Create Chunk and Prompt for Questions Generation\n",
    "\n",
    "- Book 8,9,10,11, 16,17,18 Don't have chapters. They are being handled differently."
   ]
  },
  {
   "cell_type": "code",
   "execution_count": 78,
   "metadata": {},
   "outputs": [],
   "source": [
    "\n",
    "def Generate_QA_Prompt(df1, df_prompts, idx_of_files, context_id):\n",
    "    for i in idx_of_files:\n",
    "        section_file_name = df1.loc[i,\"File_Name\"]\n",
    "        section_id = df1.loc[i, \"Section_Id\"]\n",
    "        words_in_section = df1.loc[i, \"Word_Count\"] \n",
    "        chars_in_section = df1.loc[i,\"Char_Count\"]\n",
    "        #question_to_generate = df1.loc[i,\"Questions\"]\n",
    "\n",
    "        print (\"File:\",section_file_name,\n",
    "                '| Sectionid:', section_id,\n",
    "                \"| Words:\", words_in_section, \n",
    "                \"| CharCount:\",chars_in_section,\n",
    "                #'| Questions:',question_to_generate\n",
    "                )\n",
    "            \n",
    "            \n",
    "        section_file_path = r\"MBBook-Txt/\"+ section_file_name\n",
    "        with open(section_file_path, \"r\") as file_section:\n",
    "            text = file_section.readlines()\n",
    "            text = \"\\n\".join(text)\n",
    "            # text = text.replace('\\n\\n \\n\\n', '\\n')\n",
    "\n",
    "        # split into chunks\n",
    "        text_splitter = CharacterTextSplitter(\n",
    "            separator=\"\\n\",\n",
    "            chunk_size=1800,\n",
    "            chunk_overlap=200,\n",
    "            length_function=len\n",
    "        )\n",
    "                        \n",
    "        chunks = text_splitter.split_text(text)\n",
    "        for chunk in chunks:\n",
    "            # prompt_ = f\"\"\"Write 1 question, corresponding answer, and their reference from the context based on the text below\\n\\nText: {chunk}\\n\\nQuestions: \\n\\nAnswer: \\n\\nReference:\\n\\n\"\"\"\n",
    "\n",
    "            prompt_ = f\"\"\"Write 1 question, corresponding answer, and their reference from the context based on the text below (do not repeat the context in your response)\\n\\nText: {chunk}\\n\\n\"\"\"\n",
    "\n",
    "            new_row = section_id, context_id, prompt_ \n",
    "            df_prompts.loc[context_id] = new_row\n",
    "            context_id = context_id +1\n",
    "\n",
    "    return context_id, df_prompts\n"
   ]
  },
  {
   "cell_type": "code",
   "execution_count": null,
   "metadata": {},
   "outputs": [],
   "source": [
    "# Initialize dataset for prompt \n",
    "df_prompts = pd.DataFrame(columns=['Section_Id','Context_Id','Prompt'])\n",
    "# Initialize context_id\n",
    "context_id = 1 \n",
    "\n",
    "# Generate Questions & Answers for Sections.\n",
    "idx_of_files = df.index\n",
    "context_id, df_prompts = Generate_QA_Prompt(df, df_prompts, idx_of_files, context_id)\n",
    "print(f\"{context_id} Contexts Generated\")\n"
   ]
  },
  {
   "cell_type": "code",
   "execution_count": 80,
   "metadata": {},
   "outputs": [
    {
     "data": {
      "text/plain": [
       "7363"
      ]
     },
     "execution_count": 80,
     "metadata": {},
     "output_type": "execute_result"
    }
   ],
   "source": [
    "context_id"
   ]
  },
  {
   "cell_type": "code",
   "execution_count": 75,
   "metadata": {},
   "outputs": [],
   "source": [
    "df_prompts.to_csv('Question_Prompts-2000char-Context.csv',index=None)"
   ]
  },
  {
   "cell_type": "code",
   "execution_count": 72,
   "metadata": {},
   "outputs": [],
   "source": [
    "df_prompts.groupby('Section_Id').count()['Prompt'].reset_index().to_csv('Number_of_QA_Prompts.csv', index=None)"
   ]
  },
  {
   "cell_type": "markdown",
   "metadata": {},
   "source": [
    "# Ignore the Code Below"
   ]
  },
  {
   "cell_type": "code",
   "execution_count": null,
   "metadata": {},
   "outputs": [],
   "source": [
    "# # Initialize dataset for prompt \n",
    "# df_prompts = pd.DataFrame(columns=['SectionId','ContextId','Prompt'])\n",
    "# # Initialize context_id\n",
    "# context_id = 1 \n",
    "\n",
    "# # Generate Questions & Answers for Sections.\n",
    "# df1 = df[df['SectionName'].str.contains('Mahabharata')]\n",
    "# idx_of_files = df1.index\n",
    "# context_id, df_prompts = Generate_QA_Prompt(df1, df_prompts, idx_of_files, context_id)\n",
    "# print(f\"{context_id} Contexts Generated\")\n",
    "\n",
    "# # Generate Questions & Answers for those Books which does not have Sections.\n",
    "# df1 = df[df['id'].isin(['08', '09', '10','11', '16','17','18'])]\n",
    "# idx_of_files = df1.index\n",
    "# context_id, df_prompts = Generate_QA_Prompt(df1, df_prompts, idx_of_files, context_id)\n",
    "# print(f\"{context_id} Contexts Generated\")"
   ]
  },
  {
   "cell_type": "code",
   "execution_count": 58,
   "metadata": {},
   "outputs": [
    {
     "name": "stdout",
     "output_type": "stream",
     "text": [
      "('Write 5 questions and their corresponding answers based on the text below\\n\\n\\nText: The son of Satyavati having, by penance and meditation, analysed the eternal Veda, afterwards composed this holy history, when that learned Brahmarshi of strict vows, the noble Dwaipayana Vyasa, offspring of Parasara, had finished this greatest of narrations, he began to consider how he might teach it to his disciples. And the possessor of the six attributes, Brahma, the world\\'s preceptor, knowing of the anxiety of the Rishi Dwaipayana, came in person to the place where the latter was, for gratifying the saint, and benefiting the people. And when Vyasa, surrounded by all the tribes of Munis, saw him, he was surprised; and, standing with joined palms, he bowed and ordered a seat to be brought. And Vyasa having gone round him who is called Hiranyagarbha seated on that distinguished seat stood near it; and being commanded by Brahma Parameshthi, he sat down near the seat, full of affection and smiling in joy. Then the greatly glorious Vyasa, addressing Brahma Parameshthi, said, \"O divine Brahma, by me a poem hath been composed which is greatly respected. The mystery of the Veda, and what other subjects have been explained by me; the various rituals of the Upanishads with the Angas; the compilation of the Puranas and history formed by me and named after the three divisions of time, past, present, and future; the determination of the nature of decay, fear, disease, existence, and non-existence, a description of creeds and of the various modes of life; rule for the four castes, and the import of all the Puranas; an account of asceticism and of the duties of a religious student; the dimensions of the sun and moon, the planets, constellations, and stars, together with the duration of the four ages; the Rik, Sama and Yajur Vedas; also the Adhyatma; the sciences called Nyaya, Orthoephy and Treatment of diseases; charity and Pasupatadharma; birth celestial and human, for particular purposes; also a description of places of pilgrimage and other holy places of rivers, mountains, forests, the ocean, of heavenly cities and the kalpas; the art of war; the different kinds of nations and languages: the nature of the manners of the people; and the all-pervading spirit;--all these have been represented. But, after all, no writer of this work is to be found on earth.\\' \\n \\n \\n \\n \"Brahma said. \\'I esteem thee for thy knowledge of divine mysteries, before the whole body of celebrated Munis distinguished for the sanctity of their lives. I know thou hast revealed the divine word, even from its first utterance, in the language of truth. Thou hast called thy present work a poem, wherefore it shall be a poem. There shall be no poets whose works may equal the descriptions of this poem, even, as the three other modes called Asrama are ever unequal in merit to the domestic Asrama. Let Ganesa be thought of, O Muni, for the purpose of writing the poem.\\' \\n \\n \\n \\n \"Sauti said, \\'Brahma having thus spoken to Vyasa, retired to his own abode. Then Vyasa began to call to mind Ganesa. And Ganesa, obviator of obstacles, ready to fulfil the desires of his votaries, was no sooner thought of, than he repaired to the place where Vyasa was seated. And when he had been saluted, and was seated, Vyasa addressed him thus, \\'O guide of the Ganas! be thou the writer of the Bharata which I have formed in my imagination, and which I am about to repeat.\" \\n \\n \\n \\n \"Ganesa, upon hearing this address, thus answered, \\'I will become the writer of thy work, provided my pen do not for a moment cease writing.\" And Vyasa said unto that divinity, \\'Wherever there be anything thou dost not comprehend, cease to continue writing.\\' Ganesa having signified his assent, by repeating the word Om! proceeded to write; and Vyasa began; and by way of diversion, he knit the knots of composition exceeding close; by doing which, he dictated this work according to his engagement. \\n \\n \\n \\n I am (continued Sauti) acquainted with eight thousand and eight hundred verses, and so is Suka, and perhaps Sanjaya. From the mysteriousness of their meaning, O Muni, no one is able, to this day, to penetrate those closely knit difficult slokas. Even the omniscient Ganesa took a moment to consider; while Vyasa, however, continued to compose other verses in great abundance. \\n \\n \\n \\n The wisdom of this work, like unto an instrument of applying collyrium, hath opened the eyes of the inquisitive world blinded by the darkness of ignorance. As the sun dispelleth the darkness, so doth the Bharata by its discourses on religion, profit, pleasure and final release, dispel the ignorance of men. As the full-moon by its mild light expandeth the buds of the water-lily, so this Purana, by exposing the light of the Sruti hath expanded the human intellect. By the lamp of history, which destroyeth the darkness of ignorance, the whole mansion of nature is properly and completely illuminated.\\n\\n\\nQuestions: \\n\\n\\nAnswer:\\n',)\n"
     ]
    },
    {
     "name": "stdout",
     "output_type": "stream",
     "text": [
      "ContextId: 1, PToken: 0, CToken: 0, Cost: 0.0\n"
     ]
    }
   ],
   "source": [
    "section_id = 1\n",
    "context_id = 1\n",
    "text = chunks[2]\n",
    "questions, cb = get_questions(context_id, 5, text)\n",
    "\n",
    "# #df['questions']= df.context.apply(get_questions)"
   ]
  },
  {
   "cell_type": "code",
   "execution_count": 59,
   "metadata": {},
   "outputs": [
    {
     "data": {
      "text/plain": [
       "Tokens Used: 0\n",
       "\tPrompt Tokens: 0\n",
       "\tCompletion Tokens: 0\n",
       "Successful Requests: 0\n",
       "Total Cost (USD): $0.0"
      ]
     },
     "execution_count": 59,
     "metadata": {},
     "output_type": "execute_result"
    }
   ],
   "source": [
    "cb"
   ]
  },
  {
   "cell_type": "code",
   "execution_count": 60,
   "metadata": {},
   "outputs": [
    {
     "data": {
      "text/plain": [
       "<OpenAIObject text_completion id=cmpl-7bSpghAWj3ySAPyaFBJUGWOruyOFk at 0x1f8bd3f6d40> JSON: {\n",
       "  \"id\": \"cmpl-7bSpghAWj3ySAPyaFBJUGWOruyOFk\",\n",
       "  \"object\": \"text_completion\",\n",
       "  \"created\": 1689163324,\n",
       "  \"model\": \"davinci-instruct-beta-v3\",\n",
       "  \"choices\": [\n",
       "    {\n",
       "      \"text\": \"\\n1. What did Vyasa ask Ganesa to do?\\n2. What did Ganesa agree to do?\\n3. What did Vyasa say to Ganesa about his writing?\\n4. How many verses does Sauti know?\\n5. What does the wisdom of the Bharata do?\",\n",
       "      \"index\": 0,\n",
       "      \"logprobs\": null,\n",
       "      \"finish_reason\": \"stop\"\n",
       "    }\n",
       "  ],\n",
       "  \"usage\": {\n",
       "    \"prompt_tokens\": 1202,\n",
       "    \"completion_tokens\": 69,\n",
       "    \"total_tokens\": 1271\n",
       "  }\n",
       "}"
      ]
     },
     "execution_count": 60,
     "metadata": {},
     "output_type": "execute_result"
    }
   ],
   "source": [
    "questions"
   ]
  },
  {
   "cell_type": "code",
   "execution_count": 46,
   "metadata": {},
   "outputs": [
    {
     "name": "stdout",
     "output_type": "stream",
     "text": [
      "1. Who is the author of the text?\n",
      "2. What is the tree of the Bharata?\n",
      "3. What is the Bharata?\n",
      "4. What is the significance of the Bharata?\n",
      "5. Who are the Pandavas?\n"
     ]
    }
   ],
   "source": [
    "for q in questions.split('\\n'):\n",
    "    print (q)"
   ]
  },
  {
   "cell_type": "code",
   "execution_count": null,
   "metadata": {},
   "outputs": [],
   "source": [
    "i=1\n",
    "for chunk in chunks:\n",
    "    print (i,'----\\n',chunk)\n",
    "    i+=1"
   ]
  },
  {
   "cell_type": "code",
   "execution_count": null,
   "metadata": {},
   "outputs": [],
   "source": [
    "dirname = r'D:\\github\\1-Projects\\Research\\SSBM\\Booksummarization\\Mahabharat\\MBBook-Sections'\n",
    "for f in os.listdir(dirname):\n",
    "    newname = f.replace(\"-\",\"_\")\n",
    "    oldname = f \n",
    "    os.rename( os.path.join(dirname,oldname), os.path.join(dirname,newname))\n",
    "    print(newname)\n"
   ]
  },
  {
   "cell_type": "code",
   "execution_count": null,
   "metadata": {},
   "outputs": [],
   "source": [
    "df_questions = pd.DataFrame(columns=['Question_Id', 'Context_Id', 'Section_Id', 'Question'])\n",
    "\n",
    "section_id = '01_001'\n",
    "context_id = 1\n",
    "qid=1\n",
    "for question in questions.split('\\n'):\n",
    "    new_row = qid, context_id, section_id, question \n",
    "    df_questions.loc[qid] = new_row\n",
    "    qid = qid +1\n",
    "\n",
    "df_questions"
   ]
  },
  {
   "cell_type": "code",
   "execution_count": null,
   "metadata": {},
   "outputs": [],
   "source": [
    "from langchain.callbacks import get_openai_callback\n",
    "\n",
    "with get_openai_callback() as cb:\n",
    "    # Your OpenAI API call here\n",
    "    response = openai.Completion.create(\n",
    "        engine=\"davinci\",\n",
    "        prompt=\"Hello, world!\",\n",
    "        max_tokens=5,\n",
    "        n=1,\n",
    "        stop=None,\n",
    "        temperature=0.5,\n",
    "    )\n",
    "\n",
    "    # Get the number of tokens used\n",
    "    prompt_tokens = cb.prompt_tokens\n",
    "    completion_tokens = cb.completion_tokens\n",
    "\n",
    "    # Get the total cost of the API call\n",
    "    total_cost = cb.total_cost\n",
    "\n",
    "    print(f\"Prompt Tokens: {prompt_tokens}\")\n",
    "    print(f\"Completion Tokens: {completion_tokens}\")\n",
    "    print(f\"Total Cost (USD): $ {total_cost}\")\n"
   ]
  },
  {
   "cell_type": "code",
   "execution_count": 22,
   "metadata": {},
   "outputs": [],
   "source": []
  },
  {
   "cell_type": "code",
   "execution_count": null,
   "metadata": {},
   "outputs": [],
   "source": [
    "def getChunks(text):\n",
    "  # split into chunks\n",
    "  text_splitter = CharacterTextSplitter(\n",
    "    separator=\"\\n\",\n",
    "    chunk_size=1000,\n",
    "    chunk_overlap=200,\n",
    "    length_function=len\n",
    "  )\n",
    "  chunks = text_splitter.split_text(text)\n",
    "  return chunks \n",
    "\n",
    "def getText(filename):\n",
    "  with open(filename, \"r\") as file:\n",
    "    text = \"\\n\".join(file.readlines())\n",
    "    return text "
   ]
  },
  {
   "cell_type": "code",
   "execution_count": 18,
   "metadata": {},
   "outputs": [],
   "source": []
  },
  {
   "cell_type": "code",
   "execution_count": 19,
   "metadata": {},
   "outputs": [],
   "source": [
    "\n",
    "\n",
    "def get_questions(context, n):\n",
    "    #return (\"First Question\")\n",
    "    try:\n",
    "      prompt = PromptTemplate(\n",
    "        input_variables=[\"context\", \"qtn_numbers\"],\n",
    "        template= \"Write {qtn_numbers} unique questions based on the text below\\n\\nText: {context}\\n\\nQuestions:\\n1.\",\n",
    "\n",
    "      llm = OpenAI(engine=\"davinci-instruct-beta-v3\",\n",
    "          temperature=0.1,\n",
    "          max_tokens=257,\n",
    "          top_p=1,\n",
    "          frequency_penalty=0,\n",
    "          presence_penalty=0,\n",
    "          stop=[\"\\n\\n\"])\n",
    "      \n",
    "    #   chain = LLMChain(llm=llm, chain_type=\"stuff\", prompt=prompt)\n",
    "      chain = load_qa_chain(llm, chain_type=\"stuff\", prompt=prompt)\n",
    "\n",
    "      with get_openai_callback() as cb:\n",
    "          response = chain.run(context=context, qtn_numbers=n)\n",
    "          print(cb.tot)\n",
    "          \n",
    "      return response['choices'][0]['text']\n",
    "    except:\n",
    "        return \"\""
   ]
  },
  {
   "cell_type": "code",
   "execution_count": null,
   "metadata": {},
   "outputs": [],
   "source": [
    "def get_questions(context):\n",
    "    try:\n",
    "      response = openai.Completion.create(\n",
    "          engine=\"davinci-instruct-beta-v3\",\n",
    "          prompt=f\"Write questions based on the text below\\n\\nText: {context}\\n\\nQuestions:\\n1.\",\n",
    "          temperature=0,\n",
    "          max_tokens=257,\n",
    "          top_p=1,\n",
    "          frequency_penalty=0,\n",
    "          presence_penalty=0,\n",
    "          stop=[\"\\n\\n\"]\n",
    "      )\n",
    "      return response['choices'][0]['text']\n",
    "    except:\n",
    "        return \"\""
   ]
  },
  {
   "cell_type": "code",
   "execution_count": 28,
   "metadata": {},
   "outputs": [
    {
     "name": "stderr",
     "output_type": "stream",
     "text": [
      "Created a chunk of size 10833, which is longer than the specified 4000\n"
     ]
    },
    {
     "name": "stdout",
     "output_type": "stream",
     "text": [
      "File: Mahabharata_BOOK_01_ADI_PARVA_SECTION_001-I.txt Words: 7882 CharCount: 44701 Questions: 5.0\n"
     ]
    }
   ],
   "source": []
  },
  {
   "cell_type": "code",
   "execution_count": 30,
   "metadata": {},
   "outputs": [],
   "source": []
  },
  {
   "cell_type": "code",
   "execution_count": null,
   "metadata": {},
   "outputs": [],
   "source": [
    "\n",
    "\n",
    "        # create embeddings\n",
    "        embeddings = OpenAIEmbeddings()\n",
    "        knowledge_base = FAISS.from_texts(chunks, embeddings)\n",
    "        \n",
    "        # show user input\n",
    "        user_question = st.text_input(\"Ask a question about your PDF:\")\n",
    "        if user_question:\n",
    "            docs = knowledge_base.similarity_search(user_question)\n",
    "            \n",
    "            llm = OpenAI()\n",
    "            chain = load_qa_chain(llm, chain_type=\"stuff\")\n",
    "            with get_openai_callback() as cb:\n",
    "                response = chain.run(input_documents=docs, question=user_question)\n",
    "                print(cb)\n",
    "            \n",
    "            st.write(response)"
   ]
  },
  {
   "cell_type": "markdown",
   "metadata": {},
   "source": [
    "# Get Answers"
   ]
  },
  {
   "cell_type": "code",
   "execution_count": 38,
   "metadata": {},
   "outputs": [
    {
     "data": {
      "text/plain": [
       "'module\\\\chapter'"
      ]
     },
     "execution_count": 38,
     "metadata": {},
     "output_type": "execute_result"
    }
   ],
   "source": [
    "import os "
   ]
  },
  {
   "cell_type": "code",
   "execution_count": null,
   "metadata": {},
   "outputs": [],
   "source": [
    "# %%writefile app.py\n",
    "\n",
    "\n",
    "\n",
    "def getAnswer(fileName, Question):\n",
    "    load_dotenv()\n",
    "\n",
    "  \n",
    "    filename = os.path.join(\"MBBook-Sections\",filename)\n",
    "    text = getText(filename)\n",
    "        \n",
    "    chunks = getChunks(text)\n",
    "      \n",
    "    # create embeddings\n",
    "    embeddings = OpenAIEmbeddings()\n",
    "    knowledge_base = FAISS.from_texts(chunks, embeddings)\n",
    "      \n",
    "      # show user input\n",
    "      user_question = \n",
    "      if user_question:\n",
    "        docs = knowledge_base.similarity_search(user_question)\n",
    "        \n",
    "        llm = OpenAI()\n",
    "        chain = load_qa_chain(llm, chain_type=\"stuff\")\n",
    "        with get_openai_callback() as cb:\n",
    "          response = chain.run(input_documents=docs, question=user_question)\n",
    "          print(cb)\n",
    "           \n",
    "        st.write(response)\n",
    "\n",
    "def generateAnswers():\n",
    "  for i in df:\n",
    "    if df.loc[i, \"Type\"] != \"Book\": #Get Questions only from Sections.\n",
    "        print (\"File:\",df.loc[i,\"SectionName\"],\n",
    "                'id:', df.loc[i, \"id\"],\n",
    "                \"Words:\", df.loc[i, \"WordCount\"], \n",
    "                \"CharCount:\",df.loc[i,\"CharCount\"],\n",
    "                'Questions:',df.loc[i,\"Questions\"])\n",
    "        \n",
    "        NumOfQuestions = df.loc[i,\"Questions\"]\n",
    "        fname = r\"MBBook-Sections/\"+ df.loc[i,\"SectionName\"]\n",
    "        id = df.loc[i, \"id\"]\n",
    "\n",
    "        # filename = 'Mahabharata_BOOK_01_ADI_PARVA_SECTION_001-I.txt\n",
    "        # question = 3\n",
    "        # id = '01_001'\n",
    "        # getAnswer(fname,NumOfQuestions,id)\n",
    "\n",
    "generateAnswers()\n"
   ]
  },
  {
   "cell_type": "markdown",
   "metadata": {},
   "source": [
    "# Experiments"
   ]
  },
  {
   "cell_type": "code",
   "execution_count": null,
   "metadata": {},
   "outputs": [
    {
     "name": "stdout",
     "output_type": "stream",
     "text": [
      "\n",
      "\n",
      "Soxariety.\n"
     ]
    }
   ],
   "source": [
    "from langchain.llms import OpenAI\n",
    "from langchain.prompts import PromptTemplate\n",
    "\n",
    "llm = OpenAI(engine=\"davinci-instruct-beta-v3\", temperature=0.1, max_tokens=257,\n",
    "          top_p=1,\n",
    "          frequency_penalty=0,\n",
    "          presence_penalty=0)\n",
    "\n",
    "prompt = PromptTemplate(\n",
    "    input_variables=[\"product\"],\n",
    "    template=\"What is a good name for a company that makes {product}?\",\n",
    ")\n",
    "\n",
    "from langchain.chains import LLMChain\n",
    "chain = LLMChain(llm=llm, prompt=prompt)\n",
    "\n",
    "# Run the chain only specifying the input variable.\n",
    "print(chain.run(\"colorful socks\"))\n",
    "\n"
   ]
  },
  {
   "cell_type": "code",
   "execution_count": null,
   "metadata": {},
   "outputs": [
    {
     "name": "stdout",
     "output_type": "stream",
     "text": [
      "\n",
      "\n",
      "Fancy Footwear.\n"
     ]
    }
   ],
   "source": [
    "prompt = PromptTemplate(\n",
    "    input_variables=[\"company\", \"product\"],\n",
    "    template=\"What is a good name for {company} that makes {product}?\",\n",
    ")\n",
    "chain = LLMChain(llm=llm, prompt=prompt)\n",
    "print(chain.run({\n",
    "    'company': \"ABC Startup\",\n",
    "    'product': \"colorful socks\"\n",
    "    }))"
   ]
  },
  {
   "cell_type": "code",
   "execution_count": null,
   "metadata": {},
   "outputs": [],
   "source": []
  },
  {
   "cell_type": "code",
   "execution_count": null,
   "metadata": {},
   "outputs": [],
   "source": [
    "import openai\n",
    "\n",
    "# Set up your OpenAI API credentials\n",
    "openai.api_key = secret_key #'YOUR_API_KEY'\n",
    "\n",
    "# Step 1: Generate a set of prompts or instructions for Langchain\n",
    "context_document = text\n",
    "\n",
    "langchain_prompts = [\n",
    "    \"Generate question based on the given context.\",\n",
    "    \"Please provide a question that relates to the provided context.\",\n",
    "    #\"Inquiry: Generate a question based on the provided information.\",\n",
    "    # Add more prompts as desired\n",
    "]\n",
    "\n",
    "# Step 2: Use Langchain to generate questions based on the context\n",
    "generated_questions = []\n",
    "\n",
    "for prompt in langchain_prompts:\n",
    "    response = openai.Completion.create(\n",
    "        engine='text-davinci-003',  # Choose the appropriate language model\n",
    "        prompt=f\"{context_document}\\n\\nPrompt: {prompt}\",\n",
    "        max_tokens=50,  # Set the desired length for generated questions\n",
    "        n = 3,  # Number of questions to generate per prompt (adjust as needed)\n",
    "        stop=None,  # Optional: Specify a stop sequence to end the question generation\n",
    "        temperature=0.7,  # Adjust the temperature parameter as desired\n",
    "        echo=True  # Set to True for interactive conversations\n",
    "    )\n",
    "\n",
    "    for choice in response.choices:\n",
    "        generated_questions.append(choice.text.strip())\n",
    "\n",
    "# Step 3: Display the generated questions\n",
    "for i, question in enumerate(generated_questions, 1):\n",
    "    print(f\"Question {i}: {question}\")\n"
   ]
  },
  {
   "cell_type": "code",
   "execution_count": 32,
   "metadata": {},
   "outputs": [],
   "source": [
    "text = \"\"\"  SECTION I\n",
    "\n",
    " Om! Having bowed down to Narayana and Nara, the most exalted male being, and also to the goddess Saraswati, must the word Jaya be uttered.\n",
    "\n",
    " Ugrasrava, the son of Lomaharshana, surnamed Sauti, well-versed in the Puranas, bending with humility, one day approached the great sages of rigid vows, sitting at their ease, who had attended the twelve years' sacrifice of Saunaka, surnamed Kulapati, in the forest of Naimisha. Those ascetics, wishing to hear his wonderful narrations, presently began to address him who had thus arrived at that recluse abode of the inhabitants of the forest of Naimisha. Having been entertained with due respect by those holy men, he saluted those Munis (sages) with joined palms, even all of them, and inquired about the progress of their asceticism. Then all the ascetics being again seated, the son of Lomaharshana humbly occupied the seat that was assigned to him. Seeing that he was comfortably seated, and recovered from fatigue, one of the Rishis beginning the conversation, asked him, 'Whence comest thou, O lotus-eyed Sauti, and where hast thou spent the time? Tell me, who ask thee, in detail.'\n",
    "\n",
    " Accomplished in speech, Sauti, thus questioned, gave in the midst of that big assemblage of contemplative Munis a full and proper answer in words consonant with their mode of life.\n",
    "\n",
    " \"Sauti said, 'Having heard the diverse sacred and wonderful stories which were composed in his Mahabharata by Krishna- Dwaipayana, and which were recited in full by Vaisampayana at the Snake-sacrifice of the high-souled royal sage Janamejaya and in the presence also of that chief of Princes, the son of Parikshit, and having wandered about, visiting many sacred waters and holy shrines, I journeyed to the country venerated by the Dwijas (twice-born) and called Samantapanchaka where formerly was fought the battle between the children of Kuru and Pandu, and all the chiefs of the land ranged on either side. Thence, anxious to see you, I am come into your presence. Ye reverend sages, all of whom are to me as Brahma; ye greatly blessed who shine in this place of sacrifice with the splendour of the solar fire: ye who have concluded the silent meditations and have fed the holy fire; and yet who are sitting--without care, what, O ye Dwijas (twice-born), shall I repeat, shall I recount the sacred stories collected in the Puranas containing precepts of religious duty and of worldly profit, or the acts of illustrious saints and sovereigns of mankind?\"\n",
    "\n",
    " \"The Rishi replied, 'The Purana, first promulgated by the great Rishi Dwaipayana, and which after having been heard both by the gods and the Brahmarshis was highly esteemed, being the most eminent narrative that exists, diversified both in diction and division, possessing subtile meanings logically combined, and gleaned from the Vedas, is a sacred work. Composed in elegant language, it includeth the subjects of other books. It is elucidated by other Shastras, and comprehendeth the sense of the four Vedas. We are desirous of hearing that history also called Bharata, the holy composition of the wonderful Vyasa, which dispelleth the fear of evil, just as it was cheerfully recited by the Rishi Vaisampayana, under the direction of Dwaipayana himself, at the snake-sacrifice of Raja Janamejaya?'\n",
    "\n",
    " \"Sauti then said, 'Having bowed down to the primordial being Isana, to whom multitudes make offerings, and who is adored by the multitude; who is the true incorruptible one, Brahma, perceptible, imperceptible, eternal; who is both a non-existing and an existing-non-existing being; who is the universe and also distinct from the existing and non-existing universe; who is the creator of high and low; the ancient, exalted, inexhaustible one; who is Vishnu, beneficent and the beneficence itself, worthy of all preference, pure and immaculate; who is Hari, the ruler of the faculties, the guide of all things moveable and immoveable; I will declare the sacred thoughts of the illustrious sage Vyasa, of marvelous deeds and worshipped here by all. Some bards have already published this history, some are now teaching it, and others, in like manner, will hereafter promulgate it upon the earth. It is a great source of knowledge, established throughout the three regions of the world. It is possessed by the twice-born both in detailed and compendious forms. It is the delight of the learned for being embellished with elegant expressions, conversations human and divine, and a variety of poetical measures.\n",
    "\n",
    " In this world, when it was destitute of brightness and light, and enveloped all around in total darkness, there came into being, as the primal cause of creation, a mighty egg, the one inexhaustible seed of all created beings. It is called Mahadivya, and was formed at the beginning of the Yuga, in which we are told, was the true light Brahma, the eternal one, the wonderful and inconceivable being present alike in all places; the invisible and subtile cause, whose nature partaketh of entity and non-entity. From this egg came out the lord Pitamaha Brahma, the one only Prajapati; with Suraguru and Sthanu. Then appeared the twenty-one Prajapatis, viz., Manu, Vasishtha and Parameshthi; ten Prachetas, Daksha, and the seven sons of Daksha. Then appeared the man of inconceivable nature whom all the Rishis know and so the Viswe-devas, the Adityas, the Vasus, and the twin Aswins; the Yakshas, the Sadhyas, the Pisachas, the Guhyakas, and the Pitris. After these were produced the wise and most holy Brahmarshis, and the numerous Rajarshis distinguished by every noble quality. So the water, the heavens, the earth, the air, the sky, the points of the heavens, the years, the seasons, the months, the fortnights, called Pakshas, with day and night in due succession. And thus were produced all things which are known to mankind.\n",
    " \"\"\""
   ]
  },
  {
   "cell_type": "code",
   "execution_count": 43,
   "metadata": {},
   "outputs": [
    {
     "name": "stdout",
     "output_type": "stream",
     "text": [
      "50\n"
     ]
    }
   ],
   "source": [
    "with get_openai_callback() as cb:\n",
    "    result = llm(\"Tell me a joke\")\n",
    "    result2 = llm(\"Tell me a joke\")\n",
    "    print(cb.total_tokens)"
   ]
  },
  {
   "cell_type": "code",
   "execution_count": 44,
   "metadata": {},
   "outputs": [
    {
     "data": {
      "text/plain": [
       "'\\n\\nQ: What did the fish say when it hit a concrete wall? \\nA: Dam!'"
      ]
     },
     "execution_count": 44,
     "metadata": {},
     "output_type": "execute_result"
    }
   ],
   "source": [
    "result"
   ]
  },
  {
   "cell_type": "code",
   "execution_count": 45,
   "metadata": {},
   "outputs": [
    {
     "data": {
      "text/plain": [
       "'\\n\\nQ: What did the fish say when it hit the wall?\\nA: Dam!'"
      ]
     },
     "execution_count": 45,
     "metadata": {},
     "output_type": "execute_result"
    }
   ],
   "source": [
    "result2"
   ]
  },
  {
   "cell_type": "code",
   "execution_count": 46,
   "metadata": {},
   "outputs": [
    {
     "data": {
      "text/plain": [
       "0.001"
      ]
     },
     "execution_count": 46,
     "metadata": {},
     "output_type": "execute_result"
    }
   ],
   "source": [
    "cb.total_cost"
   ]
  },
  {
   "cell_type": "code",
   "execution_count": 47,
   "metadata": {},
   "outputs": [
    {
     "data": {
      "text/plain": [
       "Tokens Used: 50\n",
       "\tPrompt Tokens: 8\n",
       "\tCompletion Tokens: 42\n",
       "Successful Requests: 2\n",
       "Total Cost (USD): $0.001"
      ]
     },
     "execution_count": 47,
     "metadata": {},
     "output_type": "execute_result"
    }
   ],
   "source": [
    "cb"
   ]
  },
  {
   "cell_type": "code",
   "execution_count": null,
   "metadata": {},
   "outputs": [],
   "source": []
  }
 ],
 "metadata": {
  "kernelspec": {
   "display_name": "myenv",
   "language": "python",
   "name": "python3"
  },
  "language_info": {
   "codemirror_mode": {
    "name": "ipython",
    "version": 3
   },
   "file_extension": ".py",
   "mimetype": "text/x-python",
   "name": "python",
   "nbconvert_exporter": "python",
   "pygments_lexer": "ipython3",
   "version": "3.9.17"
  },
  "orig_nbformat": 4
 },
 "nbformat": 4,
 "nbformat_minor": 2
}
